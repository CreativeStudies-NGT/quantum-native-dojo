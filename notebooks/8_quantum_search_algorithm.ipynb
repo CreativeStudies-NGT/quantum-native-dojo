{
 "cells": [
  {
   "cell_type": "markdown",
   "metadata": {},
   "source": [
    "# 第8章 量子探索アルゴリズム\n",
    "\n",
    "第8章ではデータベース探索など、いわゆる探索問題を解くアルゴリズムを紹介する。量子探索アルゴリズムは古典の探索アルゴリズムと比較して高速化を実現すると言われているが、ここでいう計算量とはある関数にアクセスする回数で比較されている。本章ではこれを理解するために必要な概念であるオラクルや、量子加速を実現するために重要な量子振幅増幅のアイデア、またそれを用いた重要なとしてグローバーアルゴリズムについての詳細な説明を行う。\n",
    "\n",
    "- [8-1. 量子探索アルゴリズム](8.1_quantum_search_algorithm.ipynb)\n",
    "- [8-2. グローバーアルゴリズム](8.2_Grovers_algorithm.ipynb)"
   ]
  },
  {
   "cell_type": "code",
   "execution_count": null,
   "metadata": {},
   "outputs": [],
   "source": []
  }
 ],
 "metadata": {
  "kernelspec": {
   "display_name": "Python 3",
   "language": "python",
   "name": "python3"
  },
  "language_info": {
   "codemirror_mode": {
    "name": "ipython",
    "version": 3
   },
   "file_extension": ".py",
   "mimetype": "text/x-python",
   "name": "python",
   "nbconvert_exporter": "python",
   "pygments_lexer": "ipython3",
   "version": "3.7.5"
  }
 },
 "nbformat": 4,
 "nbformat_minor": 2
}
