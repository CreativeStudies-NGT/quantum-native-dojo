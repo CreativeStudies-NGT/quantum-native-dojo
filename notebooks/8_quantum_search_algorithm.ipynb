{
 "cells": [
  {
   "cell_type": "markdown",
   "metadata": {},
   "source": [
    "# 第8章 量子探索アルゴリズム\n",
    "\n",
    "第8章ではデータベース探索など、いわゆる探索問題を解く量子アルゴリズムを紹介する。\n",
    "量子探索アルゴリズムは古典の探索アルゴリズムより計算量が少なくて高速であると言われているが、ここでいう計算量とはオラクルという関数にアクセスする回数で定義されている。\n",
    "本章ではまずオラクルの説明を行い、その後に量子探索アルゴリズムの最も重要な例の一つであるグローバーのアルゴリズムについての詳細な説明を行う。"
   ]
  },
  {
   "cell_type": "markdown",
   "metadata": {
    "nbsphinx-toctree": {}
   },
   "source": [
    "- [8-1. オラクル](8.1_oracle.ipynb)\n",
    "- [8-2. グローバーのアルゴリズム](8.2_Grovers_algorithm.ipynb)"
   ]
  }
 ],
 "metadata": {
  "kernelspec": {
   "display_name": "Python 3",
   "language": "python",
   "name": "python3"
  },
  "language_info": {
   "codemirror_mode": {
    "name": "ipython",
    "version": 3
   },
   "file_extension": ".py",
   "mimetype": "text/x-python",
   "name": "python",
   "nbconvert_exporter": "python",
   "pygments_lexer": "ipython3",
   "version": "3.7.5"
  }
 },
 "nbformat": 4,
 "nbformat_minor": 2
}
