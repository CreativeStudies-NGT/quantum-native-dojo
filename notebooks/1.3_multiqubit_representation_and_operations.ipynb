{
 "cells": [
  {
   "cell_type": "markdown",
   "metadata": {
    "colab_type": "text",
    "id": "S5qw4OA_jDj9"
   },
   "source": [
    "## 1-3. 複数量子ビットの記述"
   ]
  },
  {
   "cell_type": "markdown",
   "metadata": {
    "colab_type": "text",
    "id": "zZZSlrM5jDj-"
   },
   "source": [
    "ここまでは１量子ビットの状態とその操作（演算）の記述について学んできた。この章の締めくくりとして、$n$個の量子ビットがある場合の状態の記述について学んでいこう。テンソル積がたくさん出てきてややこしいが、コードをいじりながら身につけていってほしい。\n",
    "\n",
    "$n$個の_古典_ビットの状態は$n$個の$0,1$の数字によって表現され、そのパターンの総数は$2^n$個ある。\n",
    "量子力学では、これらすべてのパターンの重ね合わせ状態が許されているので、$n$個の_量子_ビットの状態$|\\psi \\rangle$はどのビット列がどのような重みで重ね合わせになっているかという$2^n$個の複素確率振幅で記述される：\n",
    "$$\n",
    "\\begin{eqnarray}\n",
    "|\\psi \\rangle &= & \n",
    "c_{00...0} |00...0\\rangle +\n",
    "c_{00...1} |00...1\\rangle + \\cdots +\n",
    "c_{11...1} |11...1\\rangle =\n",
    "\\left(\n",
    "\\begin{array}{c}\n",
    "c_{00...0}\n",
    "\\\\\n",
    "c_{00...1}\n",
    "\\\\\n",
    "\\vdots\n",
    "\\\\\n",
    "c_{11...1}\n",
    "\\end{array}\n",
    "\\right).\n",
    "\\end{eqnarray}\n",
    "$$\n",
    "ただし、\n",
    "複素確率振幅は規格化\n",
    "$\\sum _{i_1,..., i_n} |c_{i_1...i_n}|^2=1$\n",
    "されているものとする。  \n",
    "そして、この$n$量子ビットの量子状態を測定すると\n",
    "ビット列$i_1 ... i_n$が確率\n",
    "$$\n",
    "\\begin{eqnarray}\n",
    "p_{i_1 ... i_n} &=&|c_{i_1 ... i_n}|^2\n",
    "\\label{eq02}\n",
    "\\end{eqnarray}\n",
    "$$\n",
    "でランダムに得られ、測定後の状態は$|i_1 \\dotsc i_n\\rangle$となる。\n",
    "\n",
    "\n",
    "**このように$n$量子ビットの状態は、\n",
    "$n$に対して指数的に大きい$2^n$次元の\n",
    "複素ベクトルで記述する必要があり、\n",
    "ここに古典ビットと量子ビットの違いが顕著に現れる**。\n",
    "そして、$n$量子ビット系に対する操作は$2^n \\times 2^n$次元のユニタリ行列として表される。   \n",
    "言ってしまえば、量子コンピュータとは、量子ビット数に対して指数的なサイズの複素ベクトルを、物理法則に従ってユニタリ変換するコンピュータのことなのである。\n",
    "\n",
    "※ここで、複数量子ビットの順番と表記の関係について注意しておく。状態をケットで記述する際に、「1番目」の量子ビット、「2番目」の量子ビット、……の状態に対応する0と1を左から順番に並べて表記した。例えば$|011\\rangle$と書けば、1番目の量子ビットが0、2番目の量子ビットが1、3番目の量子ビットが1である状態を表す。一方、例えば011を2進数の表記と見た場合、上位ビットが左、下位ビットが右となることに注意しよう。すなわち、一番左の0は最上位ビットであって$2^2$の位に対応し、真ん中の1は$2^1$の位、一番右の1は最下位ビットであって$2^0=1$の位に対応する。つまり、「$i$番目」の量子ビットは、$n$桁の2進数表記の$n-i+1$桁目に対応している。このことは、SymPyなどのパッケージで複数量子ビットを扱う際に気を付ける必要がある（下記「SymPyを用いた演算子のテンソル積」も参照）。\n",
    "\n",
    "(詳細は Nielsen-Chuang の `1.2.1 Multiple qbits` を参照)"
   ]
  },
  {
   "cell_type": "markdown",
   "metadata": {
    "colab_type": "text",
    "id": "SYOr7Bq6jDj-"
   },
   "source": [
    "### 例：2量子ビットの場合\n",
    "2量子ビットの場合は、 00, 01, 10, 11 の４通りの状態の重ね合わせをとりうるので、その状態は一般的に\n",
    "$$\n",
    "c_{00} |00\\rangle + c_{01} |01\\rangle + c_{10}|10\\rangle + c_{11} |11\\rangle  = \n",
    "\\left( \n",
    "\\begin{array}{c}\n",
    "c_{00}\n",
    "\\\\\n",
    "c_{01}\n",
    "\\\\\n",
    "c_{10}\n",
    "\\\\\n",
    "c_{11}\n",
    "\\end{array}\n",
    "\\right)\n",
    "$$\n",
    "とかける。"
   ]
  },
  {
   "cell_type": "markdown",
   "metadata": {
    "colab_type": "text",
    "id": "4y2RvAV_jDj_"
   },
   "source": [
    "一方、2量子ビットに対する演算は$4 \\times 4$行列で書け、4行4列の行列成分はそれぞれ$|00\\rangle,|01\\rangle,|10\\rangle, |01\\rangle$に対応する。    \n",
    "このような2量子ビットに作用する演算としてもっとも重要なのが**制御NOT演算（CNOT演算）**であり、\n",
    "行列表示では\n",
    "$$\n",
    "\\begin{eqnarray}\n",
    "\\Lambda(X) =\n",
    "\\left(\n",
    "\\begin{array}{cccc}\n",
    "1 & 0 & 0& 0\n",
    "\\\\\n",
    "0 & 1 & 0& 0\n",
    "\\\\\n",
    "0 & 0 & 0 & 1\n",
    "\\\\\n",
    "0 & 0 & 1& 0\n",
    "\\end{array}\n",
    "\\right)\n",
    "\\end{eqnarray}\n",
    "$$\n",
    "となる。    \n",
    "CNOT演算が2つの量子ビットにどのように作用するか見てみよう。まず、1つ目の量子ビットが$|0\\rangle$の場合、$c_{10} = c_{11} = 0$なので、\n",
    "$$\n",
    "\\Lambda(X)\n",
    "\\left(\n",
    "\\begin{array}{c}\n",
    "c_{00}\\\\\n",
    "c_{01}\\\\\n",
    "0\\\\\n",
    "0\n",
    "\\end{array}\n",
    "\\right) =\n",
    "\\left(\n",
    "\\begin{array}{c}\n",
    "c_{00}\\\\\n",
    "c_{01}\\\\\n",
    "0\\\\\n",
    "0\n",
    "\\end{array}\n",
    "\\right)\n",
    "$$\n",
    "となり、状態は変化しない。一方、1つ目の量子ビットが$|1\\rangle$の場合、$c_{00} = c_{01} = 0$なので、\n",
    "$$\n",
    "\\Lambda(X)\n",
    "\\left(\n",
    "\\begin{array}{c}\n",
    "0\\\\\n",
    "0\\\\\n",
    "c_{10}\\\\\n",
    "c_{11}\n",
    "\\end{array}\n",
    "\\right) =\n",
    "\\left(\n",
    "\\begin{array}{c}\n",
    "0\\\\\n",
    "0\\\\\n",
    "c_{11}\\\\\n",
    "c_{10}\n",
    "\\end{array}\n",
    "\\right)\n",
    "$$\n",
    "となり、$|10\\rangle$と$|11\\rangle$の確率振幅が入れ替わる。すなわち、2つ目の量子ビットが反転している。\n",
    "\n",
    "つまり、CNOT演算は１つ目の量子ビットをそのままに保ちつつ、\n",
    "\n",
    "- １つ目の量子ビットが$|0\\rangle$の場合は、２つ目の量子ビットにも何もしない（恒等演算$I$が作用）\n",
    "- １つ目の量子ビットが$|1\\rangle$の場合は、２つ目の量子ビットを反転させる（$X$が作用）\n",
    "\n",
    "という効果を持つ。\n",
    "そこで、１つ目の量子ビットを**制御量子ビット**、２つ目の量子ビットを**ターゲット量子ビット**と呼ぶ。\n",
    "\n",
    "このCNOT演算の作用は、$\\oplus$を mod 2の足し算、つまり古典計算における排他的論理和（XOR）とすると、\n",
    "$$\n",
    "\\begin{eqnarray}\n",
    "\\Lambda(X) |ij \\rangle = |i \\;\\; (i\\oplus j)\\rangle \\:\\:\\: (i,j=0,1)\n",
    "\\end{eqnarray}\n",
    "$$\n",
    "とも書ける。よって、CNOT演算は古典計算でのXORを可逆にしたものとみなせる\n",
    "（ユニタリー行列は定義$U^\\dagger U = U U^\\dagger = I $より可逆であることに注意）。\n",
    "例えば、１つ目の量子ビットを$|0\\rangle$と$|1\\rangle$の\n",
    "重ね合わせ状態にし、２つ目の量子ビットを$|0\\rangle$として\n",
    "$$\n",
    "\\begin{eqnarray}\n",
    "\\frac{1}{\\sqrt{2}}(|0\\rangle + |1\\rangle )\\otimes |0\\rangle =\n",
    "\\frac{1}{\\sqrt{2}}\n",
    "\\left(\n",
    "\\begin{array}{c}\n",
    "1\n",
    "\\\\\n",
    "0\n",
    "\\\\\n",
    "1\n",
    "\\\\\n",
    "0\n",
    "\\end{array}\n",
    "\\right)\n",
    "\\end{eqnarray}\n",
    "$$\n",
    "にCNOTを作用させると、\n",
    "$$\n",
    "\\begin{eqnarray}\n",
    "\\frac{1}{\\sqrt{2}}( |00\\rangle + |11\\rangle ) =\n",
    "\\frac{1}{\\sqrt{2}}\n",
    "\\left(\n",
    "\\begin{array}{c}\n",
    "1\n",
    "\\\\\n",
    "0\n",
    "\\\\\n",
    "0\n",
    "\\\\\n",
    "1\n",
    "\\end{array}\n",
    "\\right)\n",
    "\\end{eqnarray}\n",
    "$$\n",
    "が得られ、2つ目の量子ビットがそのままである状態$|00\\rangle$と反転された状態$|11\\rangle$の重ね合わせになる。（記号$\\otimes$については次節参照）\n",
    "\n",
    "さらに、CNOT ゲートを組み合わせることで重要な2量子ビットゲートである**SWAP ゲート**を作ることができる。\n",
    "$$\\Lambda(X)_{i,j}$$ を$i$番目の量子ビットを制御、$j$番目の量子ビットをターゲットとするCNOT ゲートとして、\n",
    "$$\n",
    "\\begin{align}\n",
    "\\mathrm{SWAP} &= \\Lambda(X)_{1,2} \\Lambda(X)_{2,1} \\Lambda(X)_{1,2}\\\\\n",
    "&=\n",
    "\\left(\n",
    "\\begin{array}{cccc}\n",
    "1 & 0 & 0 & 0 \\\\\n",
    "0 & 1 & 0 & 0 \\\\\n",
    "0 & 0 & 0 & 1 \\\\\n",
    "0 & 0 & 1 & 0\n",
    "\\end{array}\n",
    "\\right)\n",
    "\\left(\n",
    "\\begin{array}{cccc}\n",
    "1 & 0 & 0 & 0 \\\\\n",
    "0 & 0 & 0 & 1 \\\\\n",
    "0 & 0 & 1 & 0 \\\\\n",
    "0 & 1 & 0 & 0\n",
    "\\end{array}\n",
    "\\right)\n",
    "\\left(\n",
    "\\begin{array}{cccc}\n",
    "1 & 0 & 0 & 0 \\\\\n",
    "0 & 1 & 0 & 0 \\\\\n",
    "0 & 0 & 0 & 1 \\\\\n",
    "0 & 0 & 1 & 0\n",
    "\\end{array}\n",
    "\\right)\\\\\n",
    "&=\n",
    "\\left(\n",
    "\\begin{array}{cccc}\n",
    "1 & 0 & 0 & 0 \\\\\n",
    "0 & 0 & 1 & 0 \\\\\n",
    "0 & 1 & 0 & 0 \\\\\n",
    "0 & 0 & 0 & 1\n",
    "\\end{array}\n",
    "\\right)\n",
    "\\end{align}\n",
    "$$\n",
    "のように書ける。これは1 番目の量子ビットと2 番目の量子ビットが交換するゲートであることが分かる。\n",
    "\n",
    "このことは、上記のmod 2の足し算$\\oplus$を使った表記で簡単に確かめることができる。3つのCNOTゲート$\\Lambda(X)_{1,2} \\Lambda(X)_{2,1} \\Lambda(X)_{1,2}$の$|ij\\rangle$への作用を1ステップずつ書くと、$i \\oplus (i \\oplus j) = (i \\oplus i) \\oplus j = 0 \\oplus j = j$であることを使って、\n",
    "$$\n",
    "\\begin{align}\n",
    "|ij\\rangle &\\longrightarrow\n",
    "|i \\;\\; (i\\oplus j)\\rangle\\\\\n",
    "&\\longrightarrow\n",
    "|(i\\oplus (i\\oplus j)) \\;\\; (i\\oplus j)\\rangle =\n",
    "|j \\;\\; (i\\oplus j)\\rangle\\\\\n",
    "&\\longrightarrow\n",
    "|j \\;\\; (j\\oplus (i\\oplus j))\\rangle =\n",
    "|ji\\rangle\n",
    "\\end{align}\n",
    "$$\n",
    "となり、2つの量子ビットが交換されていることが分かる。\n",
    "\n",
    "(詳細は Nielsen-Chuang の `1.3.2 Multiple qbit gates` を参照)"
   ]
  },
  {
   "cell_type": "markdown",
   "metadata": {
    "colab_type": "text",
    "id": "0Sy1atIsjDkA"
   },
   "source": [
    "### テンソル積の計算\n",
    "手計算や解析計算で威力を発揮するのは、**テンソル積**（$\\otimes$）である。\n",
    "これは、複数の量子ビットがある場合に、それをどのようにして、上で見た大きな一つのベクトルへと変換するのか？という計算のルールを与えてくれる。\n",
    "\n",
    "量子力学の世界では、２つの量子系があってそれぞれの状態が$|\\psi \\rangle$と$|\\phi \\rangle$のとき、\n",
    "$$\n",
    "|\\psi \\rangle \\otimes |\\phi\\rangle\n",
    "$$\n",
    "とテンソル積 $\\otimes$ を用いて書く。このような複数の量子系からなる系のことを**複合系**と呼ぶ。例えば２量子ビット系は複合系である。\n",
    "\n",
    "基本的にはテンソル積は、**多項式と同じような計算ルール**で計算してよい。\n",
    "例えば、\n",
    "$$ \n",
    "(\\alpha |0\\rangle + \\beta |1\\rangle )\\otimes (\\gamma |0\\rangle + \\delta |1\\rangle )\n",
    "= \\alpha \\gamma |0\\rangle |0\\rangle + \\alpha \\delta |0\\rangle |1\\rangle + \\beta \\gamma |1 \\rangle | 0\\rangle + \\beta \\delta |1\\rangle |1\\rangle \n",
    "$$\n",
    "のように計算する。列ベクトル表示すると、$|00\\rangle$, $|01\\rangle$, $|10\\rangle$, $|11\\rangle$に対応する4次元ベクトル、\n",
    "$$\n",
    "\\left(\n",
    "\\begin{array}{c}\n",
    "\\alpha\n",
    "\\\\\n",
    "\\beta\n",
    "\\end{array}\n",
    "\\right)\n",
    "\\otimes \n",
    "\\left(\n",
    "\\begin{array}{c}\n",
    "\\gamma\n",
    "\\\\\n",
    "\\delta\n",
    "\\end{array}\n",
    "\\right) =\n",
    "\\left(\n",
    "\\begin{array}{c}\n",
    "\\alpha \\gamma\n",
    "\\\\\n",
    "\\alpha \\delta\n",
    "\\\\\n",
    "\\beta \\gamma\n",
    "\\\\\n",
    "\\beta \\delta\n",
    "\\end{array}\n",
    "\\right)\n",
    "$$\n",
    "を得る計算になっている。\n"
   ]
  },
  {
   "cell_type": "markdown",
   "metadata": {
    "colab_type": "text",
    "id": "E0nP2YUBjDkA"
   },
   "source": [
    "### SymPyを用いたテンソル積の計算\n"
   ]
  },
  {
   "cell_type": "code",
   "execution_count": 1,
   "metadata": {
    "colab": {},
    "colab_type": "code",
    "id": "U-NFd2sGjDi-"
   },
   "outputs": [],
   "source": [
    "from IPython.display import Image, display_png\n",
    "from sympy import *\n",
    "from sympy.physics.quantum import *\n",
    "from sympy.physics.quantum.qubit import Qubit,QubitBra\n",
    "init_printing() # ベクトルや行列を綺麗に表示するため"
   ]
  },
  {
   "cell_type": "code",
   "execution_count": 2,
   "metadata": {},
   "outputs": [],
   "source": [
    "# Google Colaboratory上でのみ実行してください\n",
    "from IPython.display import HTML\n",
    "def setup_mathjax():\n",
    "    display(HTML('''\n",
    "    <script>\n",
    "        if (!window.MathJax) {\n",
    "            window.MathJax = {\n",
    "                'tex2jax': {\n",
    "                    'inlineMath': [['$', '$'], ['\\\\(', '\\\\)']],\n",
    "                    'displayMath': [['$$', '$$'], ['\\\\[', '\\\\]']],\n",
    "                    'processEscapes': true,\n",
    "                    'processEnvironments': true,\n",
    "                    'skipTags': ['script', 'noscript', 'style', 'textarea', 'code'],\n",
    "                    'displayAlign': 'center',\n",
    "                },\n",
    "                'HTML-CSS': {\n",
    "                    'styles': {'.MathJax_Display': {'margin': 0}},\n",
    "                    'linebreaks': {'automatic': true},\n",
    "                    // Disable to prevent OTF font loading, which aren't part of our\n",
    "                    // distribution.\n",
    "                    'imageFont': null,\n",
    "                },\n",
    "               'messageStyle': 'none'\n",
    "            };\n",
    "            var script = document.createElement(\"script\");\n",
    "            script.src = \"https://colab.research.google.com/static/mathjax/MathJax.js?config=TeX-AMS_HTML-full,Safe\";\n",
    "            document.head.appendChild(script);\n",
    "        }\n",
    "    </script>\n",
    "    '''))\n",
    "get_ipython().events.register('pre_run_cell', setup_mathjax)"
   ]
  },
  {
   "cell_type": "code",
   "execution_count": 18,
   "metadata": {
    "colab": {},
    "colab_type": "code",
    "id": "Zn8MxcqwjDkB"
   },
   "outputs": [
    {
     "data": {
      "text/html": [
       "\n",
       "    <script>\n",
       "        if (!window.MathJax) {\n",
       "            window.MathJax = {\n",
       "                'tex2jax': {\n",
       "                    'inlineMath': [['$', '$'], ['\\(', '\\)']],\n",
       "                    'displayMath': [['$$', '$$'], ['\\[', '\\]']],\n",
       "                    'processEscapes': true,\n",
       "                    'processEnvironments': true,\n",
       "                    'skipTags': ['script', 'noscript', 'style', 'textarea', 'code'],\n",
       "                    'displayAlign': 'center',\n",
       "                },\n",
       "                'HTML-CSS': {\n",
       "                    'styles': {'.MathJax_Display': {'margin': 0}},\n",
       "                    'linebreaks': {'automatic': true},\n",
       "                    // Disable to prevent OTF font loading, which aren't part of our\n",
       "                    // distribution.\n",
       "                    'imageFont': null,\n",
       "                },\n",
       "               'messageStyle': 'none'\n",
       "            };\n",
       "            var script = document.createElement(\"script\");\n",
       "            script.src = \"https://colab.research.google.com/static/mathjax/MathJax.js?config=TeX-AMS_HTML-full,Safe\";\n",
       "            document.head.appendChild(script);\n",
       "        }\n",
       "    </script>\n",
       "    "
      ],
      "text/plain": [
       "<IPython.core.display.HTML object>"
      ]
     },
     "metadata": {},
     "output_type": "display_data"
    }
   ],
   "source": [
    "a,b,c,d = symbols('alpha,beta,gamma,delta')\n",
    "psi = a*Qubit('0')+b*Qubit('1')\n",
    "phi = c*Qubit('0')+d*Qubit('1')"
   ]
  },
  {
   "cell_type": "code",
   "execution_count": 19,
   "metadata": {
    "colab": {},
    "colab_type": "code",
    "id": "5H9b5lxXjDkD",
    "outputId": "e3b6bf9f-74ab-40cd-aa79-c95401c3d585"
   },
   "outputs": [
    {
     "data": {
      "text/html": [
       "\n",
       "    <script>\n",
       "        if (!window.MathJax) {\n",
       "            window.MathJax = {\n",
       "                'tex2jax': {\n",
       "                    'inlineMath': [['$', '$'], ['\\(', '\\)']],\n",
       "                    'displayMath': [['$$', '$$'], ['\\[', '\\]']],\n",
       "                    'processEscapes': true,\n",
       "                    'processEnvironments': true,\n",
       "                    'skipTags': ['script', 'noscript', 'style', 'textarea', 'code'],\n",
       "                    'displayAlign': 'center',\n",
       "                },\n",
       "                'HTML-CSS': {\n",
       "                    'styles': {'.MathJax_Display': {'margin': 0}},\n",
       "                    'linebreaks': {'automatic': true},\n",
       "                    // Disable to prevent OTF font loading, which aren't part of our\n",
       "                    // distribution.\n",
       "                    'imageFont': null,\n",
       "                },\n",
       "               'messageStyle': 'none'\n",
       "            };\n",
       "            var script = document.createElement(\"script\");\n",
       "            script.src = \"https://colab.research.google.com/static/mathjax/MathJax.js?config=TeX-AMS_HTML-full,Safe\";\n",
       "            document.head.appendChild(script);\n",
       "        }\n",
       "    </script>\n",
       "    "
      ],
      "text/plain": [
       "<IPython.core.display.HTML object>"
      ]
     },
     "metadata": {},
     "output_type": "display_data"
    },
    {
     "data": {
      "image/png": "[encoded data removed]",
      "text/latex": [
       "$$\\left({\\alpha {\\left|0\\right\\rangle } + \\beta {\\left|1\\right\\rangle }}\\right)\\otimes \\left({\\delta {\\left|1\\right\\rangle } + \\gamma {\\left|0\\right\\rangle }}\\right)$$"
      ],
      "text/plain": [
       "(α⋅❘0⟩ + β⋅❘1⟩)⨂ (δ⋅❘1⟩ + γ⋅❘0⟩)"
      ]
     },
     "execution_count": 19,
     "metadata": {},
     "output_type": "execute_result"
    }
   ],
   "source": [
    "TensorProduct(psi, phi) #テンソル積"
   ]
  },
  {
   "cell_type": "code",
   "execution_count": 20,
   "metadata": {
    "colab": {},
    "colab_type": "code",
    "id": "4PLJcjG9jDkE",
    "outputId": "a5cac454-2a76-405e-e406-68291f1aa704"
   },
   "outputs": [
    {
     "data": {
      "text/html": [
       "\n",
       "    <script>\n",
       "        if (!window.MathJax) {\n",
       "            window.MathJax = {\n",
       "                'tex2jax': {\n",
       "                    'inlineMath': [['$', '$'], ['\\(', '\\)']],\n",
       "                    'displayMath': [['$$', '$$'], ['\\[', '\\]']],\n",
       "                    'processEscapes': true,\n",
       "                    'processEnvironments': true,\n",
       "                    'skipTags': ['script', 'noscript', 'style', 'textarea', 'code'],\n",
       "                    'displayAlign': 'center',\n",
       "                },\n",
       "                'HTML-CSS': {\n",
       "                    'styles': {'.MathJax_Display': {'margin': 0}},\n",
       "                    'linebreaks': {'automatic': true},\n",
       "                    // Disable to prevent OTF font loading, which aren't part of our\n",
       "                    // distribution.\n",
       "                    'imageFont': null,\n",
       "                },\n",
       "               'messageStyle': 'none'\n",
       "            };\n",
       "            var script = document.createElement(\"script\");\n",
       "            script.src = \"https://colab.research.google.com/static/mathjax/MathJax.js?config=TeX-AMS_HTML-full,Safe\";\n",
       "            document.head.appendChild(script);\n",
       "        }\n",
       "    </script>\n",
       "    "
      ],
      "text/plain": [
       "<IPython.core.display.HTML object>"
      ]
     },
     "metadata": {},
     "output_type": "display_data"
    },
    {
     "data": {
      "image/png": "[encoded data removed]",
      "text/latex": [
       "$$\\left[\\begin{matrix}\\alpha \\gamma\\\\\\alpha \\delta\\\\\\beta \\gamma\\\\\\beta \\delta\\end{matrix}\\right]$$"
      ],
      "text/plain": [
       "⎡α⋅γ⎤\n",
       "⎢   ⎥\n",
       "⎢α⋅δ⎥\n",
       "⎢   ⎥\n",
       "⎢β⋅γ⎥\n",
       "⎢   ⎥\n",
       "⎣β⋅δ⎦"
      ]
     },
     "execution_count": 20,
     "metadata": {},
     "output_type": "execute_result"
    }
   ],
   "source": [
    "represent(TensorProduct(psi, phi))"
   ]
  },
  {
   "cell_type": "markdown",
   "metadata": {
    "colab_type": "text",
    "id": "qub7RTm2jDkG"
   },
   "source": [
    "さらに$|\\psi\\rangle$とのテンソル積をとると８次元のベクトルになる：\n"
   ]
  },
  {
   "cell_type": "code",
   "execution_count": 21,
   "metadata": {
    "colab": {},
    "colab_type": "code",
    "id": "sVC53glUjDkG",
    "outputId": "0a8e037b-4e03-4c13-aa0a-c9eda2dd139a"
   },
   "outputs": [
    {
     "data": {
      "text/html": [
       "\n",
       "    <script>\n",
       "        if (!window.MathJax) {\n",
       "            window.MathJax = {\n",
       "                'tex2jax': {\n",
       "                    'inlineMath': [['$', '$'], ['\\(', '\\)']],\n",
       "                    'displayMath': [['$$', '$$'], ['\\[', '\\]']],\n",
       "                    'processEscapes': true,\n",
       "                    'processEnvironments': true,\n",
       "                    'skipTags': ['script', 'noscript', 'style', 'textarea', 'code'],\n",
       "                    'displayAlign': 'center',\n",
       "                },\n",
       "                'HTML-CSS': {\n",
       "                    'styles': {'.MathJax_Display': {'margin': 0}},\n",
       "                    'linebreaks': {'automatic': true},\n",
       "                    // Disable to prevent OTF font loading, which aren't part of our\n",
       "                    // distribution.\n",
       "                    'imageFont': null,\n",
       "                },\n",
       "               'messageStyle': 'none'\n",
       "            };\n",
       "            var script = document.createElement(\"script\");\n",
       "            script.src = \"https://colab.research.google.com/static/mathjax/MathJax.js?config=TeX-AMS_HTML-full,Safe\";\n",
       "            document.head.appendChild(script);\n",
       "        }\n",
       "    </script>\n",
       "    "
      ],
      "text/plain": [
       "<IPython.core.display.HTML object>"
      ]
     },
     "metadata": {},
     "output_type": "display_data"
    },
    {
     "data": {
      "image/png": "[encoded data removed]",
      "text/latex": [
       "$$\\left[\\begin{matrix}\\alpha^{2} \\gamma\\\\\\alpha^{2} \\delta\\\\\\alpha \\beta \\gamma\\\\\\alpha \\beta \\delta\\\\\\alpha \\beta \\gamma\\\\\\alpha \\beta \\delta\\\\\\beta^{2} \\gamma\\\\\\beta^{2} \\delta\\end{matrix}\\right]$$"
      ],
      "text/plain": [
       "⎡ 2   ⎤\n",
       "⎢α ⋅γ ⎥\n",
       "⎢     ⎥\n",
       "⎢ 2   ⎥\n",
       "⎢α ⋅δ ⎥\n",
       "⎢     ⎥\n",
       "⎢α⋅β⋅γ⎥\n",
       "⎢     ⎥\n",
       "⎢α⋅β⋅δ⎥\n",
       "⎢     ⎥\n",
       "⎢α⋅β⋅γ⎥\n",
       "⎢     ⎥\n",
       "⎢α⋅β⋅δ⎥\n",
       "⎢     ⎥\n",
       "⎢ 2   ⎥\n",
       "⎢β ⋅γ ⎥\n",
       "⎢     ⎥\n",
       "⎢ 2   ⎥\n",
       "⎣β ⋅δ ⎦"
      ]
     },
     "execution_count": 21,
     "metadata": {},
     "output_type": "execute_result"
    }
   ],
   "source": [
    "represent(TensorProduct(psi,TensorProduct(psi, phi)))"
   ]
  },
  {
   "cell_type": "markdown",
   "metadata": {
    "colab_type": "text",
    "id": "XFioeA99jDkJ"
   },
   "source": [
    "### 演算子のテンソル積\n",
    "演算子についても何番目の量子ビットに作用するのか、というのをテンソル積をもちいて表現することができる。たとえば、１つめの量子ビットには$A$という演算子、2つめの演算子には$B$を作用させるという場合には、\n",
    "$$ A \\otimes B$$\n",
    "としてテンソル積演算子が与えられる。\n",
    "$A$と$B$をそれぞれ、2×2の行列とすると、$A\\otimes B$は4×4の行列として\n",
    "$$\n",
    "\\left(\n",
    "\\begin{array}{cc}\n",
    "a_{11} & a_{12}\n",
    "\\\\\n",
    "a_{21} & a_{22}\n",
    "\\end{array}\n",
    "\\right)\n",
    "\\otimes \n",
    "\\left(\n",
    "\\begin{array}{cc}\n",
    "b_{11} & b_{12}\n",
    "\\\\\n",
    "b_{21} & b_{22}\n",
    "\\end{array}\n",
    "\\right) =\n",
    "\\left(\n",
    "\\begin{array}{cccc}\n",
    "a_{11} b_{11} & a_{11} b_{12} & a_{12} b_{11} & a_{12} b_{12}\n",
    "\\\\\n",
    "a_{11} b_{21} & a_{11} b_{22} & a_{12} b_{21} & a_{12} b_{22}\n",
    "\\\\\n",
    "a_{21} b_{11} & a_{21} b_{12} & a_{22} b_{11} & a_{22} b_{12}\n",
    "\\\\\n",
    "a_{21} b_{21} & a_{21} b_{22} & a_{22} b_{21} & a_{22} b_{22}\n",
    "\\end{array}\n",
    "\\right)\n",
    "$$\n",
    "のように計算される。\n",
    "\n",
    "\n",
    "\n",
    "テンソル積状態 \n",
    "$$|\\psi \\rangle \\otimes | \\phi \\rangle $$ \n",
    "に対する作用は、\n",
    "$$ (A|\\psi \\rangle ) \\otimes (B |\\phi \\rangle )$$\n",
    "となり、それぞれの部分系$|\\psi \\rangle$と$|\\phi\\rangle$に$A$と$B$が作用する。\n",
    "足し算に対しては、多項式のように展開してそれぞれの項を作用させればよい。\n",
    "$$\n",
    "(A+C)\\otimes (B+D) |\\psi \\rangle \\otimes | \\phi \\rangle =\n",
    "(A \\otimes B +A \\otimes D + C \\otimes B + C \\otimes D) |\\psi \\rangle \\otimes | \\phi \\rangle\\\\ =\n",
    "(A|\\psi \\rangle) \\otimes (B| \\phi \\rangle)\n",
    "+(A|\\psi \\rangle) \\otimes (D| \\phi \\rangle)\n",
    "+(C|\\psi \\rangle) \\otimes (B| \\phi \\rangle)\n",
    "+(C|\\psi \\rangle) \\otimes (D| \\phi \\rangle)\n",
    "$$\n",
    "\n",
    "\n",
    "テンソル積やテンソル積演算子は左右横並びで書いているが、本当は\n",
    "$$\n",
    "\\left(\n",
    "\\begin{array}{c}\n",
    "A\n",
    "\\\\\n",
    "\\otimes \n",
    "\\\\\n",
    "B\n",
    "\\end{array}\n",
    "\\right)\n",
    "\\begin{array}{c}\n",
    "|\\psi \\rangle \n",
    "\\\\\n",
    "\\otimes \n",
    "\\\\\n",
    "|\\phi\\rangle\n",
    "\\end{array}\n",
    "$$\n",
    "のように縦に並べた方がその作用の仕方わかりやすいのかもしれない。\n",
    "\n",
    "例えば、CNOT演算を用いて作られるエンタングル状態は、\n",
    "$$\n",
    "\\left(\n",
    "\\begin{array}{c}\n",
    "|0\\rangle \\langle 0|\n",
    "\\\\\n",
    "\\otimes \n",
    "\\\\\n",
    "I\n",
    "\\end{array}\n",
    "+\n",
    "\\begin{array}{c}\n",
    "|1\\rangle \\langle 1|\n",
    "\\\\\n",
    "\\otimes \n",
    "\\\\\n",
    "X\n",
    "\\end{array}\n",
    "\\right)\n",
    "\\left(\n",
    "\\begin{array}{c}\n",
    "\\frac{1}{\\sqrt{2}}(|0\\rangle + |1\\rangle)\n",
    "\\\\\n",
    "\\otimes \n",
    "\\\\\n",
    "|0\\rangle\n",
    "\\end{array}\n",
    "\\right) =\n",
    "\\frac{1}{\\sqrt{2}}\\left(\n",
    "\\begin{array}{c}\n",
    "|0 \\rangle \n",
    "\\\\\n",
    "\\otimes \n",
    "\\\\\n",
    "|0\\rangle\n",
    "\\end{array}\n",
    "+\n",
    "\\begin{array}{c}\n",
    "|1 \\rangle \n",
    "\\\\\n",
    "\\otimes \n",
    "\\\\\n",
    "|1\\rangle\n",
    "\\end{array}\n",
    "\\right)\n",
    "$$\n",
    "のようになる。"
   ]
  },
  {
   "cell_type": "markdown",
   "metadata": {
    "colab_type": "text",
    "id": "MYxxEJ8ejDkJ"
   },
   "source": [
    "### SymPyを用いた演算子のテンソル積\n",
    "SymPyで演算子を使用する時は、何桁目の量子ビットに作用する演算子かを常に指定する。「何_番目_」ではなく2進数表記の「何_桁目_」であることに注意しよう。$n$量子ビットのうちの左から$i$番目の量子ビットを指定する場合、SymPyのコードでは`n-i`を指定する（0を基点とするインデックス）。"
   ]
  },
  {
   "cell_type": "markdown",
   "metadata": {
    "colab_type": "text",
    "id": "t3L4MWITjDkL"
   },
   "source": [
    "`H(0)` は、1量子ビット空間で表示すると"
   ]
  },
  {
   "cell_type": "code",
   "execution_count": 22,
   "metadata": {
    "colab": {},
    "colab_type": "code",
    "id": "GQcwyGq3jDkL",
    "outputId": "2f4f2189-906a-44ba-8eb4-8560895bea53"
   },
   "outputs": [
    {
     "data": {
      "text/html": [
       "\n",
       "    <script>\n",
       "        if (!window.MathJax) {\n",
       "            window.MathJax = {\n",
       "                'tex2jax': {\n",
       "                    'inlineMath': [['$', '$'], ['\\(', '\\)']],\n",
       "                    'displayMath': [['$$', '$$'], ['\\[', '\\]']],\n",
       "                    'processEscapes': true,\n",
       "                    'processEnvironments': true,\n",
       "                    'skipTags': ['script', 'noscript', 'style', 'textarea', 'code'],\n",
       "                    'displayAlign': 'center',\n",
       "                },\n",
       "                'HTML-CSS': {\n",
       "                    'styles': {'.MathJax_Display': {'margin': 0}},\n",
       "                    'linebreaks': {'automatic': true},\n",
       "                    // Disable to prevent OTF font loading, which aren't part of our\n",
       "                    // distribution.\n",
       "                    'imageFont': null,\n",
       "                },\n",
       "               'messageStyle': 'none'\n",
       "            };\n",
       "            var script = document.createElement(\"script\");\n",
       "            script.src = \"https://colab.research.google.com/static/mathjax/MathJax.js?config=TeX-AMS_HTML-full,Safe\";\n",
       "            document.head.appendChild(script);\n",
       "        }\n",
       "    </script>\n",
       "    "
      ],
      "text/plain": [
       "<IPython.core.display.HTML object>"
      ]
     },
     "metadata": {},
     "output_type": "display_data"
    },
    {
     "data": {
      "image/png": "[encoded data removed]",
      "text/latex": [
       "$$\\left[\\begin{matrix}\\frac{1}{\\sqrt{2}} & \\frac{1}{\\sqrt{2}}\\\\\\frac{1}{\\sqrt{2}} & - \\frac{\\sqrt{2}}{2}\\end{matrix}\\right]$$"
      ],
      "text/plain": [
       "⎡1    1  ⎤\n",
       "⎢──   ── ⎥\n",
       "⎢√2   √2 ⎥\n",
       "⎢        ⎥\n",
       "⎢1   -√2 ⎥\n",
       "⎢──  ────⎥\n",
       "⎣√2   2  ⎦"
      ]
     },
     "execution_count": 22,
     "metadata": {},
     "output_type": "execute_result"
    }
   ],
   "source": [
    "represent(H(0),nqubits=1)"
   ]
  },
  {
   "cell_type": "markdown",
   "metadata": {
    "colab_type": "text",
    "id": "RDIjIr1gjDkP"
   },
   "source": [
    "2量子ビット空間では$H \\otimes I$に対応しており、その表示は"
   ]
  },
  {
   "cell_type": "code",
   "execution_count": 23,
   "metadata": {
    "colab": {},
    "colab_type": "code",
    "id": "Kd_yAuLXjDkQ",
    "outputId": "87ce9361-229e-4e6a-a9a3-19b104977a2c"
   },
   "outputs": [
    {
     "data": {
      "text/html": [
       "\n",
       "    <script>\n",
       "        if (!window.MathJax) {\n",
       "            window.MathJax = {\n",
       "                'tex2jax': {\n",
       "                    'inlineMath': [['$', '$'], ['\\(', '\\)']],\n",
       "                    'displayMath': [['$$', '$$'], ['\\[', '\\]']],\n",
       "                    'processEscapes': true,\n",
       "                    'processEnvironments': true,\n",
       "                    'skipTags': ['script', 'noscript', 'style', 'textarea', 'code'],\n",
       "                    'displayAlign': 'center',\n",
       "                },\n",
       "                'HTML-CSS': {\n",
       "                    'styles': {'.MathJax_Display': {'margin': 0}},\n",
       "                    'linebreaks': {'automatic': true},\n",
       "                    // Disable to prevent OTF font loading, which aren't part of our\n",
       "                    // distribution.\n",
       "                    'imageFont': null,\n",
       "                },\n",
       "               'messageStyle': 'none'\n",
       "            };\n",
       "            var script = document.createElement(\"script\");\n",
       "            script.src = \"https://colab.research.google.com/static/mathjax/MathJax.js?config=TeX-AMS_HTML-full,Safe\";\n",
       "            document.head.appendChild(script);\n",
       "        }\n",
       "    </script>\n",
       "    "
      ],
      "text/plain": [
       "<IPython.core.display.HTML object>"
      ]
     },
     "metadata": {},
     "output_type": "display_data"
    },
    {
     "data": {
      "image/png": "[encoded data removed]",
      "text/latex": [
       "$$\\left[\\begin{matrix}\\frac{1}{\\sqrt{2}} & 0 & \\frac{1}{\\sqrt{2}} & 0\\\\0 & \\frac{1}{\\sqrt{2}} & 0 & \\frac{1}{\\sqrt{2}}\\\\\\frac{1}{\\sqrt{2}} & 0 & - \\frac{\\sqrt{2}}{2} & 0\\\\0 & \\frac{1}{\\sqrt{2}} & 0 & - \\frac{\\sqrt{2}}{2}\\end{matrix}\\right]$$"
      ],
      "text/plain": [
       "⎡1        1        ⎤\n",
       "⎢──  0    ──    0  ⎥\n",
       "⎢√2       √2       ⎥\n",
       "⎢                  ⎥\n",
       "⎢    1          1  ⎥\n",
       "⎢0   ──   0     ── ⎥\n",
       "⎢    √2         √2 ⎥\n",
       "⎢                  ⎥\n",
       "⎢1       -√2       ⎥\n",
       "⎢──  0   ────   0  ⎥\n",
       "⎢√2       2        ⎥\n",
       "⎢                  ⎥\n",
       "⎢    1         -√2 ⎥\n",
       "⎢0   ──   0    ────⎥\n",
       "⎣    √2         2  ⎦"
      ]
     },
     "execution_count": 23,
     "metadata": {},
     "output_type": "execute_result"
    }
   ],
   "source": [
    "represent(H(1),nqubits=2)"
   ]
  },
  {
   "cell_type": "markdown",
   "metadata": {
    "colab_type": "text",
    "id": "tZpN1W-gjDkN"
   },
   "source": [
    "CNOT演算は、"
   ]
  },
  {
   "cell_type": "code",
   "execution_count": 24,
   "metadata": {
    "colab": {},
    "colab_type": "code",
    "id": "DqURihgDjDkN",
    "outputId": "d6305d23-fa04-44be-8166-6fad20ebab38"
   },
   "outputs": [
    {
     "data": {
      "text/html": [
       "\n",
       "    <script>\n",
       "        if (!window.MathJax) {\n",
       "            window.MathJax = {\n",
       "                'tex2jax': {\n",
       "                    'inlineMath': [['$', '$'], ['\\(', '\\)']],\n",
       "                    'displayMath': [['$$', '$$'], ['\\[', '\\]']],\n",
       "                    'processEscapes': true,\n",
       "                    'processEnvironments': true,\n",
       "                    'skipTags': ['script', 'noscript', 'style', 'textarea', 'code'],\n",
       "                    'displayAlign': 'center',\n",
       "                },\n",
       "                'HTML-CSS': {\n",
       "                    'styles': {'.MathJax_Display': {'margin': 0}},\n",
       "                    'linebreaks': {'automatic': true},\n",
       "                    // Disable to prevent OTF font loading, which aren't part of our\n",
       "                    // distribution.\n",
       "                    'imageFont': null,\n",
       "                },\n",
       "               'messageStyle': 'none'\n",
       "            };\n",
       "            var script = document.createElement(\"script\");\n",
       "            script.src = \"https://colab.research.google.com/static/mathjax/MathJax.js?config=TeX-AMS_HTML-full,Safe\";\n",
       "            document.head.appendChild(script);\n",
       "        }\n",
       "    </script>\n",
       "    "
      ],
      "text/plain": [
       "<IPython.core.display.HTML object>"
      ]
     },
     "metadata": {},
     "output_type": "display_data"
    },
    {
     "data": {
      "image/png": "[encoded data removed]",
      "text/latex": [
       "$$\\left[\\begin{matrix}1 & 0 & 0 & 0\\\\0 & 1 & 0 & 0\\\\0 & 0 & 0 & 1\\\\0 & 0 & 1 & 0\\end{matrix}\\right]$$"
      ],
      "text/plain": [
       "⎡1  0  0  0⎤\n",
       "⎢          ⎥\n",
       "⎢0  1  0  0⎥\n",
       "⎢          ⎥\n",
       "⎢0  0  0  1⎥\n",
       "⎢          ⎥\n",
       "⎣0  0  1  0⎦"
      ]
     },
     "execution_count": 24,
     "metadata": {},
     "output_type": "execute_result"
    }
   ],
   "source": [
    "represent(CNOT(1,0),nqubits=2)"
   ]
  },
  {
   "cell_type": "markdown",
   "metadata": {
    "colab_type": "text",
    "id": "MW8u4BNvjDkT"
   },
   "source": [
    "パウリ演算子のテンソル積$X\\otimes Y \\otimes Z$も、"
   ]
  },
  {
   "cell_type": "code",
   "execution_count": 25,
   "metadata": {
    "colab": {},
    "colab_type": "code",
    "id": "omfY86udjDkU",
    "outputId": "317136da-ac9d-4d2c-f2ab-c3c7065b66f9"
   },
   "outputs": [
    {
     "data": {
      "text/html": [
       "\n",
       "    <script>\n",
       "        if (!window.MathJax) {\n",
       "            window.MathJax = {\n",
       "                'tex2jax': {\n",
       "                    'inlineMath': [['$', '$'], ['\\(', '\\)']],\n",
       "                    'displayMath': [['$$', '$$'], ['\\[', '\\]']],\n",
       "                    'processEscapes': true,\n",
       "                    'processEnvironments': true,\n",
       "                    'skipTags': ['script', 'noscript', 'style', 'textarea', 'code'],\n",
       "                    'displayAlign': 'center',\n",
       "                },\n",
       "                'HTML-CSS': {\n",
       "                    'styles': {'.MathJax_Display': {'margin': 0}},\n",
       "                    'linebreaks': {'automatic': true},\n",
       "                    // Disable to prevent OTF font loading, which aren't part of our\n",
       "                    // distribution.\n",
       "                    'imageFont': null,\n",
       "                },\n",
       "               'messageStyle': 'none'\n",
       "            };\n",
       "            var script = document.createElement(\"script\");\n",
       "            script.src = \"https://colab.research.google.com/static/mathjax/MathJax.js?config=TeX-AMS_HTML-full,Safe\";\n",
       "            document.head.appendChild(script);\n",
       "        }\n",
       "    </script>\n",
       "    "
      ],
      "text/plain": [
       "<IPython.core.display.HTML object>"
      ]
     },
     "metadata": {},
     "output_type": "display_data"
    },
    {
     "data": {
      "image/png": "[encoded data removed]",
      "text/latex": [
       "$$\\left[\\begin{matrix}0 & 0 & 0 & 0 & 0 & 0 & - i & 0\\\\0 & 0 & 0 & 0 & 0 & 0 & 0 & i\\\\0 & 0 & 0 & 0 & i & 0 & 0 & 0\\\\0 & 0 & 0 & 0 & 0 & - i & 0 & 0\\\\0 & 0 & - i & 0 & 0 & 0 & 0 & 0\\\\0 & 0 & 0 & i & 0 & 0 & 0 & 0\\\\i & 0 & 0 & 0 & 0 & 0 & 0 & 0\\\\0 & - i & 0 & 0 & 0 & 0 & 0 & 0\\end{matrix}\\right]$$"
      ],
      "text/plain": [
       "⎡0  0   0   0  0  0   -ⅈ  0⎤\n",
       "⎢                          ⎥\n",
       "⎢0  0   0   0  0  0   0   ⅈ⎥\n",
       "⎢                          ⎥\n",
       "⎢0  0   0   0  ⅈ  0   0   0⎥\n",
       "⎢                          ⎥\n",
       "⎢0  0   0   0  0  -ⅈ  0   0⎥\n",
       "⎢                          ⎥\n",
       "⎢0  0   -ⅈ  0  0  0   0   0⎥\n",
       "⎢                          ⎥\n",
       "⎢0  0   0   ⅈ  0  0   0   0⎥\n",
       "⎢                          ⎥\n",
       "⎢ⅈ  0   0   0  0  0   0   0⎥\n",
       "⎢                          ⎥\n",
       "⎣0  -ⅈ  0   0  0  0   0   0⎦"
      ]
     },
     "execution_count": 25,
     "metadata": {},
     "output_type": "execute_result"
    }
   ],
   "source": [
    "represent(X(2)*Y(1)*Z(0),nqubits=3)"
   ]
  },
  {
   "cell_type": "markdown",
   "metadata": {
    "colab_type": "text",
    "id": "L4d9cIfbjDkV"
   },
   "source": [
    "このようにして、上記のテンソル積のルールを実際にたしかめてみることができる。"
   ]
  },
  {
   "cell_type": "markdown",
   "metadata": {},
   "source": [
    "### 複数の量子ビットの一部分だけを測定した場合\n",
    "\n",
    "複数の量子ビットを全て測定した場合の測定結果の確率については既に説明した。複数の量子ビットのうち、一部だけを測定することもできる。その場合、測定結果の確率は、測定結果に対応する（部分系の）基底で射影したベクトルの長さの2乗になり、測定後の状態は射影されたベクトルを規格化したものになる。\n",
    "\n",
    "具体的に見ていこう。以下の$n$量子ビットの状態を考える。\n",
    "\\begin{align}\n",
    "|\\psi\\rangle &=\n",
    "c_{00...0} |00...0\\rangle +\n",
    "c_{00...1} |00...1\\rangle + \\cdots +\n",
    "c_{11...1} |11...1\\rangle\\\\\n",
    "&= \\sum_{i_1 \\dotsc i_n} c_{i_1 \\dotsc i_n} |i_1 \\dotsc i_n\\rangle =\n",
    "\\sum_{i_1 \\dotsc i_n} c_{i_1 \\dotsc i_n} |i_1\\rangle \\otimes \\cdots \\otimes |i_n\\rangle\n",
    "\\end{align}\n",
    "1番目の量子ビットを測定するとしよう。1つ目の量子ビットの状態空間の正規直交基底$|0\\rangle$, $|1\\rangle$に対する射影演算子はそれぞれ$|0\\rangle\\langle0|$, $|1\\rangle\\langle1|$と書ける。1番目の量子ビットを$|0\\rangle$に射影し、他の量子ビットには何もしない演算子\n",
    "$$\n",
    "|0\\rangle\\langle0| \\otimes I \\otimes \\cdots \\otimes I\n",
    "$$\n",
    "を使って、測定値0が得られる確率は\n",
    "$$\n",
    "\\bigl\\Vert \\bigl(|0\\rangle\\langle0| \\otimes I \\otimes \\cdots \\otimes I\\bigr) |\\psi\\rangle \\bigr\\Vert^2 =\n",
    "\\langle \\psi | \\bigl(|0\\rangle\\langle0| \\otimes I \\otimes \\cdots \\otimes I\\bigr) | \\psi \\rangle\n",
    "$$\n",
    "である。ここで\n",
    "$$\n",
    "\\bigl(|0\\rangle\\langle0| \\otimes I \\otimes \\cdots \\otimes I\\bigr) | \\psi \\rangle =\n",
    "\\sum_{i_2 \\dotsc i_n} c_{0 i_2 \\dotsc i_n} |0\\rangle \\otimes |i_2\\rangle \\otimes \\cdots \\otimes |i_n\\rangle\n",
    "$$\n",
    "なので、求める確率は\n",
    "$$\n",
    "p_0 = \\sum_{i_2 \\dotsc i_n} |c_{0 i_2 \\dotsc i_n}|^2\n",
    "$$\n",
    "となり、測定後の状態は\n",
    "$$\n",
    "\\frac{1}{\\sqrt{p_0}}\\sum_{i_2 \\dotsc i_n} c_{0 i_2 \\dotsc i_n} |0\\rangle \\otimes |i_2\\rangle \\otimes \\cdots \\otimes |i_n\\rangle\n",
    "$$\n",
    "となる。0と1を入れ替えれば、測定値1が得られる確率と測定後の状態が得られる。\n",
    "\n",
    "ここで求めた$p_0$, $p_1$の表式は、測定値$i_1, \\dotsc, i_n$が得られる同時確率分布$p_{i_1, \\dotsc, i_n}$から計算される$i_1$の周辺確率分布と一致することに注意しよう。実際、\n",
    "$$\n",
    "\\sum_{i_2, \\dotsc, i_n} p_{i_1, \\dotsc, i_n} = \\sum_{i_2, \\dotsc, i_n} |c_{i_1, \\dotsc, i_n}|^2 = p_{i_1}\n",
    "$$\n",
    "である。\n",
    "\n",
    "測定される量子ビットを増やし、最初の$k$個の量子ビットを測定する場合も同様に計算できる。測定結果$i_1, \\dotsc, i_k$を得る確率は\n",
    "$$\n",
    "p_{i_1, \\dotsc, i_k} = \\sum_{i_{k+1}, \\dotsc, i_n} |c_{i_1, \\dotsc, i_n}|^2\n",
    "$$\n",
    "であり、測定後の状態は\n",
    "$$\n",
    "\\frac{1}{\\sqrt{p_{i_1, \\dotsc, i_k}}}\\sum_{i_{k+1} \\dotsc i_n} c_{i_1 \\dotsc i_n} |i_1 \\rangle \\otimes \\cdots \\otimes |i_n\\rangle\n",
    "$$\n",
    "となる。（和をとるのは$i_{k+1},\\cdots,i_n$だけであることに注意）"
   ]
  },
  {
   "cell_type": "markdown",
   "metadata": {},
   "source": [
    "SymPyを使ってさらに具体的な例を見てみよう。H演算とCNOT演算を組み合わせて作られる次の状態を考える。\n",
    "$$\n",
    "|\\psi\\rangle = \\Lambda(X) (H \\otimes H) |0\\rangle \\otimes |0\\rangle = \\frac{|00\\rangle + |10\\rangle + |01\\rangle + |11\\rangle}{2}\n",
    "$$"
   ]
  },
  {
   "cell_type": "code",
   "execution_count": 26,
   "metadata": {},
   "outputs": [
    {
     "data": {
      "text/html": [
       "\n",
       "    <script>\n",
       "        if (!window.MathJax) {\n",
       "            window.MathJax = {\n",
       "                'tex2jax': {\n",
       "                    'inlineMath': [['$', '$'], ['\\(', '\\)']],\n",
       "                    'displayMath': [['$$', '$$'], ['\\[', '\\]']],\n",
       "                    'processEscapes': true,\n",
       "                    'processEnvironments': true,\n",
       "                    'skipTags': ['script', 'noscript', 'style', 'textarea', 'code'],\n",
       "                    'displayAlign': 'center',\n",
       "                },\n",
       "                'HTML-CSS': {\n",
       "                    'styles': {'.MathJax_Display': {'margin': 0}},\n",
       "                    'linebreaks': {'automatic': true},\n",
       "                    // Disable to prevent OTF font loading, which aren't part of our\n",
       "                    // distribution.\n",
       "                    'imageFont': null,\n",
       "                },\n",
       "               'messageStyle': 'none'\n",
       "            };\n",
       "            var script = document.createElement(\"script\");\n",
       "            script.src = \"https://colab.research.google.com/static/mathjax/MathJax.js?config=TeX-AMS_HTML-full,Safe\";\n",
       "            document.head.appendChild(script);\n",
       "        }\n",
       "    </script>\n",
       "    "
      ],
      "text/plain": [
       "<IPython.core.display.HTML object>"
      ]
     },
     "metadata": {},
     "output_type": "display_data"
    },
    {
     "data": {
      "image/png": "[encoded data removed]",
      "text/latex": [
       "$$\\frac{{\\left|00\\right\\rangle }}{2} + \\frac{{\\left|01\\right\\rangle }}{2} + \\frac{{\\left|10\\right\\rangle }}{2} + \\frac{{\\left|11\\right\\rangle }}{2}$$"
      ],
      "text/plain": [
       "❘00⟩   ❘01⟩   ❘10⟩   ❘11⟩\n",
       "──── + ──── + ──── + ────\n",
       " 2      2      2      2  "
      ]
     },
     "execution_count": 26,
     "metadata": {},
     "output_type": "execute_result"
    }
   ],
   "source": [
    "psi = qapply(CNOT(1, 0)*H(1)*H(0)*Qubit('00'))\n",
    "psi"
   ]
  },
  {
   "cell_type": "markdown",
   "metadata": {},
   "source": [
    "この状態の1つ目の量子ビットを測定して0になる確率は\n",
    "$$\n",
    "p_0 = \\langle \\psi | \\bigl( |0\\rangle\\langle0| \\otimes I \\bigr) | \\psi \\rangle =\n",
    "\\left(\\frac{\\langle 00 | + \\langle 10 | + \\langle 01 | + \\langle 11 |}{2}\\right)\n",
    "\\left(\\frac{| 00 \\rangle + | 01 \\rangle}{2}\\right) =\n",
    "\\frac{1}{2}\n",
    "$$\n",
    "で、測定後の状態は\n",
    "$$\n",
    "\\frac{1}{\\sqrt{p_0}} \\bigl( |0\\rangle\\langle0| \\otimes I \\bigr) | \\psi \\rangle =\n",
    "\\frac{| 00 \\rangle + | 01 \\rangle}{\\sqrt{2}}\n",
    "$$\n",
    "である。"
   ]
  },
  {
   "cell_type": "markdown",
   "metadata": {},
   "source": [
    "この結果をSymPyでも計算してみよう。SymPyには測定用の関数が数種類用意されていて、一部の量子ビットを測定した場合の確率と測定後の状態を計算するには、`measure_partial`を用いればよい。測定する状態と、測定を行う量子ビットのインデックスを引数として渡すと、測定後の状態と測定の確率の組がリストとして出力される。１つめの量子ビットが0だった場合の量子状態と確率は`[0]`要素を参照すればよい。"
   ]
  },
  {
   "cell_type": "code",
   "execution_count": 27,
   "metadata": {},
   "outputs": [
    {
     "data": {
      "text/html": [
       "\n",
       "    <script>\n",
       "        if (!window.MathJax) {\n",
       "            window.MathJax = {\n",
       "                'tex2jax': {\n",
       "                    'inlineMath': [['$', '$'], ['\\(', '\\)']],\n",
       "                    'displayMath': [['$$', '$$'], ['\\[', '\\]']],\n",
       "                    'processEscapes': true,\n",
       "                    'processEnvironments': true,\n",
       "                    'skipTags': ['script', 'noscript', 'style', 'textarea', 'code'],\n",
       "                    'displayAlign': 'center',\n",
       "                },\n",
       "                'HTML-CSS': {\n",
       "                    'styles': {'.MathJax_Display': {'margin': 0}},\n",
       "                    'linebreaks': {'automatic': true},\n",
       "                    // Disable to prevent OTF font loading, which aren't part of our\n",
       "                    // distribution.\n",
       "                    'imageFont': null,\n",
       "                },\n",
       "               'messageStyle': 'none'\n",
       "            };\n",
       "            var script = document.createElement(\"script\");\n",
       "            script.src = \"https://colab.research.google.com/static/mathjax/MathJax.js?config=TeX-AMS_HTML-full,Safe\";\n",
       "            document.head.appendChild(script);\n",
       "        }\n",
       "    </script>\n",
       "    "
      ],
      "text/plain": [
       "<IPython.core.display.HTML object>"
      ]
     },
     "metadata": {},
     "output_type": "display_data"
    }
   ],
   "source": [
    "from sympy.physics.quantum.qubit import measure_all, measure_partial\n",
    "measured_state_and_probability = measure_partial(psi, (1,))"
   ]
  },
  {
   "cell_type": "code",
   "execution_count": 28,
   "metadata": {},
   "outputs": [
    {
     "data": {
      "text/html": [
       "\n",
       "    <script>\n",
       "        if (!window.MathJax) {\n",
       "            window.MathJax = {\n",
       "                'tex2jax': {\n",
       "                    'inlineMath': [['$', '$'], ['\\(', '\\)']],\n",
       "                    'displayMath': [['$$', '$$'], ['\\[', '\\]']],\n",
       "                    'processEscapes': true,\n",
       "                    'processEnvironments': true,\n",
       "                    'skipTags': ['script', 'noscript', 'style', 'textarea', 'code'],\n",
       "                    'displayAlign': 'center',\n",
       "                },\n",
       "                'HTML-CSS': {\n",
       "                    'styles': {'.MathJax_Display': {'margin': 0}},\n",
       "                    'linebreaks': {'automatic': true},\n",
       "                    // Disable to prevent OTF font loading, which aren't part of our\n",
       "                    // distribution.\n",
       "                    'imageFont': null,\n",
       "                },\n",
       "               'messageStyle': 'none'\n",
       "            };\n",
       "            var script = document.createElement(\"script\");\n",
       "            script.src = \"https://colab.research.google.com/static/mathjax/MathJax.js?config=TeX-AMS_HTML-full,Safe\";\n",
       "            document.head.appendChild(script);\n",
       "        }\n",
       "    </script>\n",
       "    "
      ],
      "text/plain": [
       "<IPython.core.display.HTML object>"
      ]
     },
     "metadata": {},
     "output_type": "display_data"
    },
    {
     "data": {
      "image/png": "[encoded data removed]",
      "text/latex": [
       "$$\\left ( \\frac{\\sqrt{2} {\\left|00\\right\\rangle }}{2} + \\frac{\\sqrt{2} {\\left|01\\right\\rangle }}{2}, \\quad \\frac{1}{2}\\right )$$"
      ],
      "text/plain": [
       "⎛√2⋅❘00⟩   √2⋅❘01⟩     ⎞\n",
       "⎜─────── + ───────, 1/2⎟\n",
       "⎝   2         2        ⎠"
      ]
     },
     "execution_count": 28,
     "metadata": {},
     "output_type": "execute_result"
    }
   ],
   "source": [
    "measured_state_and_probability[0]"
   ]
  },
  {
   "cell_type": "markdown",
   "metadata": {},
   "source": [
    "上で手計算した結果と合っていることが分かる。測定結果が1だった場合も同様に計算できる。"
   ]
  },
  {
   "cell_type": "code",
   "execution_count": 29,
   "metadata": {},
   "outputs": [
    {
     "data": {
      "text/html": [
       "\n",
       "    <script>\n",
       "        if (!window.MathJax) {\n",
       "            window.MathJax = {\n",
       "                'tex2jax': {\n",
       "                    'inlineMath': [['$', '$'], ['\\(', '\\)']],\n",
       "                    'displayMath': [['$$', '$$'], ['\\[', '\\]']],\n",
       "                    'processEscapes': true,\n",
       "                    'processEnvironments': true,\n",
       "                    'skipTags': ['script', 'noscript', 'style', 'textarea', 'code'],\n",
       "                    'displayAlign': 'center',\n",
       "                },\n",
       "                'HTML-CSS': {\n",
       "                    'styles': {'.MathJax_Display': {'margin': 0}},\n",
       "                    'linebreaks': {'automatic': true},\n",
       "                    // Disable to prevent OTF font loading, which aren't part of our\n",
       "                    // distribution.\n",
       "                    'imageFont': null,\n",
       "                },\n",
       "               'messageStyle': 'none'\n",
       "            };\n",
       "            var script = document.createElement(\"script\");\n",
       "            script.src = \"https://colab.research.google.com/static/mathjax/MathJax.js?config=TeX-AMS_HTML-full,Safe\";\n",
       "            document.head.appendChild(script);\n",
       "        }\n",
       "    </script>\n",
       "    "
      ],
      "text/plain": [
       "<IPython.core.display.HTML object>"
      ]
     },
     "metadata": {},
     "output_type": "display_data"
    },
    {
     "data": {
      "image/png": "[encoded data removed]",
      "text/latex": [
       "$$\\left ( \\frac{\\sqrt{2} {\\left|10\\right\\rangle }}{2} + \\frac{\\sqrt{2} {\\left|11\\right\\rangle }}{2}, \\quad \\frac{1}{2}\\right )$$"
      ],
      "text/plain": [
       "⎛√2⋅❘10⟩   √2⋅❘11⟩     ⎞\n",
       "⎜─────── + ───────, 1/2⎟\n",
       "⎝   2         2        ⎠"
      ]
     },
     "execution_count": 29,
     "metadata": {},
     "output_type": "execute_result"
    }
   ],
   "source": [
    "measured_state_and_probability[1]"
   ]
  },
  {
   "cell_type": "markdown",
   "metadata": {},
   "source": [
    "---\n",
    "## コラム：ユニバーサルゲートセットとは\n",
    "\n",
    "古典計算機では、NANDゲート（論理積ANDの出力を反転したもの）さえあれば、これをいくつか組み合わせることで、任意の論理演算が実行できることが知られている。  \n",
    "それでは、量子計算における対応物、すなわち任意の量子計算を実行するために最低限必要な量子ゲートは何であろうか？  \n",
    "実は、本節で学んだ\n",
    "$$\\{H, T, {\\rm CNOT} \\}$$  \n",
    "\n",
    "の3種類のゲートがその役割を果たしている、いわゆる**ユニバーサルゲートセット**であることが知られている。  \n",
    "これらをうまく組み合わせることで、任意の量子計算を実行できる、すなわち「**万能量子計算**」が可能である。  \n",
    "\n",
    "### 【より詳しく知りたい人のための注】\n",
    "\n",
    "以下では$\\{H, T, {\\rm CNOT} \\}$の3種のゲートの組が如何にしてユニバーサルゲートセットを構成するかを、順を追って説明する。  \n",
    "流れとしては、一般の$n$量子ビットユニタリ演算からスタートし、これをより細かい部品にブレイクダウンしていくことで、最終的に上記3種のゲートに行き着くことを見る。\n",
    "\n",
    "#### ◆ $n$量子ビットユニタリ演算の分解\n",
    "まず、任意の$n$量子ビットユニタリ演算は、以下の手順を経て、いくつかの**1量子ビットユニタリ演算**と**CNOTゲート**に分解できる。  \n",
    "1. 任意の$n$量子ビットユニタリ演算は、いくつかの**2準位ユニタリ演算**の積に分解できる。ここで2準位ユニタリ演算とは、例として3量子ビットの場合、$2^3=8$次元空間のうち2つの基底(e.g., $\\{|000\\rangle, |111\\rangle \\}$)の張る2次元部分空間にのみ作用するユニタリ演算である\n",
    "2. 任意の2準位ユニタリ演算は、**制御$U$ゲート**（CNOTゲートのNOT部分を任意の1量子ビットユニタリ演算$U$に置き換えたもの）と**Toffoliゲート**（CNOTゲートの制御量子ビットが2つになったもの）から構成できる\n",
    "3. 制御$U$ゲートとToffoliゲートは、どちらも**1量子ビットユニタリ演算**と**CNOTゲート**から構成できる\n",
    "\n",
    "#### ◆ 1量子ビットユニタリ演算の構成\n",
    "さらに、任意の1量子ビットユニタリ演算は、$\\{H, T\\}$の2つで構成できる。\n",
    "1. 任意の1量子ビットユニタリ演算は、オイラーの回転角の法則から、回転ゲート$\\{R_X(\\theta), R_Z(\\theta)\\}$で（厳密に）実現可能である\n",
    "2. 実は、ブロッホ球上の任意の回転は、$\\{H, T\\}$のみを用いることで実現可能である(注1)。これはある軸に関する$\\pi$の無理数倍の回転が$\\{H, T\\}$のみから実現できること（**Solovay-Kitaevアルゴリズム**）に起因する\n",
    " \n",
    "(注1) ブロッホ球上の連続的な回転を、離散的な演算である$\\{H, T\\}$で実現できるか疑問に思われる読者もいるかもしれない。実際、厳密な意味で1量子ビットユニタリ演算を離散的なゲート操作で実現しようとすると、無限個のゲートが必要となる。しかし実際には厳密なユニタリ演算を実現する必要はなく、必要な計算精度$\\epsilon$で任意のユニタリ演算を近似できれば十分である。ここでは、多項式個の$\\{H, T\\}$を用いることで、任意の1量子ビットユニタリ演算を**十分良い精度で近似的に構成できる**ことが、**Solovay-Kitaevの定理**により保証されている。\n",
    "\n",
    "\n",
    "<br>\n",
    "  \n",
    "以上の議論により、3種のゲート$\\{H, T, {\\rm CNOT} \\}$があれば、任意の$n$量子ビットユニタリ演算が実現できることがわかる。\n",
    "\n",
    "ユニバーサルゲートセットや万能量子計算について、より詳しくは以下を参照されたい:  \n",
    "[1] Nielsen-Chuang の 4.5 Universal quantum gates   \n",
    "[2] 藤井 啓祐 「量子コンピュータの基礎と物理との接点」（第62回物性若手夏の学校　講義）DOI: 10.14989/229039 http://mercury.yukawa.kyoto-u.ac.jp/~bussei.kenkyu/archives/1274.html  "
   ]
  }
 ],
 "metadata": {
  "colab": {
   "name": "1_basics_of_quantum_information.ipynb",
   "provenance": [],
   "version": "0.3.2"
  },
  "kernelspec": {
   "display_name": "Python 3",
   "language": "python",
   "name": "python3"
  },
  "language_info": {
   "codemirror_mode": {
    "name": "ipython",
    "version": 3
   },
   "file_extension": ".py",
   "mimetype": "text/x-python",
   "name": "python",
   "nbconvert_exporter": "python",
   "pygments_lexer": "ipython3",
   "version": "3.7.1"
  },
  "varInspector": {
   "cols": {
    "lenName": 16,
    "lenType": 16,
    "lenVar": 40
   },
   "kernels_config": {
    "python": {
     "delete_cmd_postfix": "",
     "delete_cmd_prefix": "del ",
     "library": "var_list.py",
     "varRefreshCmd": "print(var_dic_list())"
    },
    "r": {
     "delete_cmd_postfix": ") ",
     "delete_cmd_prefix": "rm(",
     "library": "var_list.r",
     "varRefreshCmd": "cat(var_dic_list()) "
    }
   },
   "types_to_exclude": [
    "module",
    "function",
    "builtin_function_or_method",
    "instance",
    "_Feature"
   ],
   "window_display": false
  }
 },
 "nbformat": 4,
 "nbformat_minor": 2
}
