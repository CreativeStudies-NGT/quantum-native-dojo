{
 "cells": [
  {
   "cell_type": "markdown",
   "metadata": {},
   "source": [
    "# 量子コンピュータについて\n",
    "\n",
    "量子コンピュータは長らくタイムマシンと同じくらい実現が不可能な技術だと思われていました。  \n",
    "1999年に当時NECにいた中村泰信（現東京大学教授）、蔡兆申（現東京理科大学教授）らによって初めての超電導量子ビットが実現されて以来、量子性を保つ時間であるコヒーレンス時間が数々のブレイクスルーによって伸びて、現在GoogleやIBMを始めとして、量子コンピュータの実現に向けた研究が盛んになっています。\n",
    "\n",
    "### 量子コンピュータというアイディア\n",
    "Feynmanの提唱の話\n",
    "\n",
    "### 誤り訂正について\n",
    "誤り訂正という問題を抱えてて実現は不可能だと思われていたが、\n",
    "それが可能になった話\n",
    "\n",
    "### アルゴリズムについて\n",
    "アイディアは面白かったけど、具体的にどう役に立つの？という中\n",
    "Shorの素因数分解が提唱された話。PEAやHHLも入れても良い。\n",
    "\n",
    "量子コンピュータのアイディアが提唱されて初めてのアルゴリズムが考案されてからまだxx年しか経っていません。\n",
    "今提案されているアルゴリズムだけで量子コンピュータは十分役に立つと分かっていますが、この新しい原理（この書き方はQuantum Native的ではないですね）で動くコンピュータを活用した、新しいアルゴリズムやアプリケーションを作るチャンスは広がっています。\n",
    "\n",
    "\n",
    "### この数年の量子コンピュータについて\n",
    "NISQの説明とNISQアルゴリズムについて"
   ]
  },
  {
   "cell_type": "code",
   "execution_count": null,
   "metadata": {},
   "outputs": [],
   "source": []
  }
 ],
 "metadata": {
  "kernelspec": {
   "display_name": "Python 3",
   "language": "python",
   "name": "python3"
  },
  "language_info": {
   "codemirror_mode": {
    "name": "ipython",
    "version": 3
   },
   "file_extension": ".py",
   "mimetype": "text/x-python",
   "name": "python",
   "nbconvert_exporter": "python",
   "pygments_lexer": "ipython3",
   "version": "3.6.5"
  }
 },
 "nbformat": 4,
 "nbformat_minor": 2
}
