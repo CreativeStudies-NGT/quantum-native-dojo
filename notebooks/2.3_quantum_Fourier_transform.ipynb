{
 "cells": [
  {
   "cell_type": "markdown",
   "metadata": {},
   "source": [
    "## 2-3 量子フーリエ変換\n",
    "\n",
    "この節では、量子アルゴリズムの中でも最も重要なアルゴリズムの一つである量子フーリエ変換について学ぶ。    \n",
    "量子フーリエ変換はその名の通りフーリエ変換を行う量子アルゴリズムであり、様々な量子アルゴリズムのサブルーチンとしても用いられることが多い。   \n",
    "(参照：Nielsen-Chuang 5.1 `The quantum Fourier transform`)\n",
    "\n",
    "※なお、最後のコラムでも多少述べるが、回路が少し複雑である・入力状態を用意することが難しいといった理由から、いわゆるNISQデバイスでの量子フーリエ変換の実行は難しいと考えられている。  "
   ]
  },
  {
   "cell_type": "markdown",
   "metadata": {},
   "source": [
    "### 定義\n",
    "まず、$2^n$成分の配列 $\\{x_j\\}$ に対して$(j=1,\\cdots,2^n)$、その[離散フーリエ変換](https://ja.wikipedia.org/wiki/離散フーリエ変換)である配列$\\{ y_k \\}$を\n",
    "$$\n",
    "y_k = \\frac{1}{\\sqrt{2^n}} \\sum_{j=1}^{2^n} x_j e^{i\\frac{2\\pi kj}{2^n}}   \\tag{1}\n",
    "$$\n",
    "で定義する$(k=1, \\cdots 2^n)$。配列 $\\{x_j\\}$ は$\\sum_{j=1}^{2^n} |x_j|^2 = 1$ と規格化されているものとする。\n",
    "\n",
    "\n",
    "量子フーリエ変換アルゴリズムは、入力の量子状態\n",
    "$$\n",
    "|x\\rangle := \\sum_{j=1}^{2^n} x_j |j\\rangle\n",
    "$$\n",
    "を、\n",
    "$$\n",
    "|y \\rangle := \\sum_{k=1}^{2^n} y_k |k\\rangle  \\tag{2}\n",
    "$$\n",
    "となるように変換する量子アルゴリズムである。ここで、$|i \\rangle$は、整数$i$の二進数での表示$i_1 \\cdots i_n$ ($i_m = 0,1$)に対応する量子状態$|i_1 \\cdots i_n \\rangle$の略記である。（例えば、$ |2 \\rangle = |0\\cdots0 10 \\rangle, |7 \\rangle = |0\\cdots0111 \\rangle$となる) \n",
    "\n",
    "ここで、式(1)を(2)に代入してみると、\n",
    "$$\n",
    " |y \\rangle = \\frac{1}{\\sqrt{2^n}} \\sum_{k=1}^{2^n} \\sum_{j=1}^{2^n} x_j e^{i\\frac{2\\pi kj}{2^n}} |k\\rangle\n",
    "             = \\sum_{j=1}^{2^n} x_j \\left( \\frac{1}{\\sqrt{2^n}} \\sum_{k=1}^{2^n}  e^{i\\frac{2\\pi kj}{2^n}} |k\\rangle \\right)\n",
    "$$\n",
    "となる。よって、量子フーリエ変換では、\n",
    "$$\n",
    " |j\\rangle \\to \\frac{1}{\\sqrt{2^n}} \\sum_{k=1}^{2^n}  e^{i\\frac{2\\pi kj}{2^n}} |k\\rangle\n",
    "$$\n",
    "を行う量子回路(変換)$U$を見つければ良いことになる。（余裕のある読者は、これがユニタリ変換であることを実際に計算して確かめてみよう）   \n",
    "この式はさらに式変形できて（やや複雑なので最後の結果だけ見てもよい）\n",
    "$$\n",
    "\\begin{eqnarray}\n",
    "  \\sum_{k=1}^{2^n} e^{i\\frac{2\\pi kj}{2^n}} |k\\rangle \n",
    " &=& \\sum_{k_1=0}^1 \\cdots \\sum_{k_n=0}^1  e^{i\\frac{2\\pi (k_1 2^{n-1} + \\cdots k_n 2^0 )\\cdot j}{2^n}} |k_1 \\cdots k_n\\rangle \\:\\:\\:\\: \\text{(kの和を2進数表示で書き直した)} \\\\\n",
    " &=& \\sum_{k_1=0}^1 \\cdots \\sum_{k_n=0}^1  e^{i 2\\pi j (k_1 2^{-1} + \\cdots k_n 2^{-n})} |k_1 \\cdots k_n\\rangle \\\\\n",
    " &=& \\left( \\sum_{k_1=0}^1 e^{i 2\\pi j k_1 2^{-1}} |k_1 \\rangle \\right) \\otimes \\cdots  \\otimes \\left( \\sum_{k_n=0}^1 e^{i 2\\pi j k_n 2^{-n}} |k_n \\rangle \\right) \\:\\:\\:\\: \\text{(\"因数分解\"をして、全体をテンソル積で書き直した)} \\\\\n",
    " &=& \\left( |0\\rangle +  e^{i 2\\pi 0.j_n} |1 \\rangle \\right) \\otimes \\left( |0\\rangle +  e^{i 2\\pi 0.j_{n-1}j_n} |1 \\rangle \\right) \\otimes \\cdots \\otimes \\left( |0\\rangle +  e^{i 2\\pi 0.j_1j_2\\cdots j_n} |1 \\rangle \\right) \\:\\:\\:\\: \\text{(カッコの中の和を計算した)}\n",
    "\\end{eqnarray}\n",
    "$$\n",
    "となる。ここで、   \n",
    "$$\n",
    "0.j_l\\cdots j_n = \\frac{j_l}{2} + \\frac{j_{l-1}}{2^2} + \\cdots + \\frac{j_n}{2^{n-l+1}} \n",
    "$$\n",
    "は二進小数であり、$e^{i 2\\pi j/2^{-l} } = e^{i 2\\pi j_1 \\cdots j_l . j_{l-1}\\cdots j_n }\n",
    "= e^{i 2\\pi 0. j_{l-1}\\cdots j_n }$となることを用いた。（$e^{i2\\pi}=1$なので、整数部分は関係ない）\n",
    "\n",
    "\n",
    "まとめると、量子フーリエ変換では、\n",
    "$$\n",
    " |j\\rangle = |j_1 \\cdots j_n \\rangle \\to \\frac{ \\left( |0\\rangle +  e^{i 2\\pi 0.j_n} |1 \\rangle \\right) \\otimes \\left( |0\\rangle +  e^{i 2\\pi 0.j_{n-1}j_n} |1 \\rangle \\right) \\otimes \\cdots \\otimes \\left( |0\\rangle +  e^{i 2\\pi 0.j_1j_2\\cdots j_n} |1 \\rangle \\right)  }{\\sqrt{2^n}}\n",
    " \\tag{*}\n",
    "$$\n",
    "という変換ができればよい。"
   ]
  },
  {
   "cell_type": "markdown",
   "metadata": {},
   "source": [
    "### 回路の構成\n",
    "それでは、量子フーリエ変換を実行する回路を実際にどのように構成するかを見ていこう。   \n",
    "そのために、次のアダマールゲート$H$についての等式（計算すると合っていることが分かる）\n",
    "$$\n",
    " |m \\rangle = \\frac{|0\\rangle + e^{i 2\\pi 0.m}|1\\rangle }{\\sqrt{2}}  \\:\\:\\: (m=0,1)\n",
    "$$\n",
    "と、角度 $2\\pi/2^l$ の一般位相ゲート\n",
    "$$\n",
    " R_l =\n",
    " \\begin{pmatrix} 1 & 0\\\\ 0 & e^{i \\frac{2\\pi}{2^l} } \\end{pmatrix}\n",
    "$$\n",
    "を多用する。\n",
    "\n",
    "1. まず、状態$\\left( |0\\rangle +  e^{i 2\\pi 0.j_1j_2\\cdots j_n} |1\\rangle \\right)$の部分をつくる。1番目の量子ビット$|j_1\\rangle$にアダマールゲートをかけると\n",
    "$$\n",
    " |j_1 \\cdots j_n \\rangle \\to \\frac{1}{\\sqrt{2}} \\left( |0\\rangle + e^{i2\\pi 0.j_1} |1\\rangle \\right) |j_2 \\cdots j_n \\rangle\n",
    "$$\n",
    "となるが、ここで、2番目のビット$|j_2\\rangle$を制御ビットとする一般位相ゲート$R_2$を1番目の量子ビットにかけると、$j_2=0$の時は何もせず、$j_2=1$の時のみ1番目の量子ビットの$|1\\rangle$部分に位相 $2\\pi/2^2 = 0.01$（二進小数）がつくから、\n",
    "$$\n",
    "     \\frac{1}{\\sqrt{2}} \\left( |0\\rangle + e^{i2\\pi 0.j_1} |1\\rangle \\right) |j_2 \\cdots j_n \\rangle\n",
    " \\to \\frac{1}{\\sqrt{2}} \\left( |0\\rangle + e^{i2\\pi 0.j_1j_2} |1\\rangle \\right) |j_2 \\cdots j_n \\rangle\n",
    "$$\n",
    "となる。以下、$l$番目の量子ビット$|j_l\\rangle$を制御ビットとする一般位相ゲート$R_l$をかければ（$l=3,\\cdots n$）、最終的に\n",
    "$$\n",
    "     \\frac{1}{\\sqrt{2}} \\left( |0\\rangle + e^{i2\\pi 0.j_1\\cdots j_n} \\right) |j_2 \\cdots j_n \\rangle\n",
    "$$\n",
    "が得られる。\n",
    "\n",
    "2. 次に、状態$\\left( |0\\rangle + e^{i2\\pi 0.j_{n-1} j_n} |1\\rangle\\right)$の部分をつくる。先ほどと同様に、2番目のビット$|j_2\\rangle$にアダマールゲートをかければ\n",
    "$$\n",
    "     \\frac{1}{\\sqrt{2}} \\left( |0\\rangle + e^{i2\\pi 0.j_1\\cdots j_n} \\right) \\frac{1}{\\sqrt{2}} \\left( |0\\rangle + e^{i2\\pi 0.j_2} \\right) |j_3 \\cdots j_n \\rangle\n",
    "$$\n",
    "ができる。再び、3番目の量子ビットを制御ビット$|j_3\\rangle$とする位相ゲート$R_2$をかければ\n",
    "$$\n",
    "     \\frac{1}{\\sqrt{2}} \\left( |0\\rangle + e^{i2\\pi 0.j_1\\cdots j_n} \\right) \\frac{1}{\\sqrt{2}} \\left( |0\\rangle + e^{i2\\pi 0.j_2j_3} \\right) |j_3 \\cdots j_n \\rangle\n",
    "$$\n",
    "となり、これを繰り返して\n",
    "$$\n",
    "     \\frac{1}{\\sqrt{2}} \\left( |0\\rangle + e^{i2\\pi 0.j_1\\cdots j_n} \\right) \\frac{1}{\\sqrt{2}} \\left( |0\\rangle + e^{i2\\pi 0.j_2\\cdots j_n} \\right) |j_3 \\cdots j_n \\rangle\n",
    "$$\n",
    "を得る。\n",
    "\n",
    "3. 1,2と同様の手順で、$l$番目の量子ビット$|j_l\\rangle$にアダマールゲート・制御位相ゲート$R_l$をかけていく($l=3,\\cdots,n$)。すると最終的に\n",
    "$$\n",
    " |j_1 \\cdots j_n \\rangle \\to \\left( \\frac{|0\\rangle +  e^{i 2\\pi 0.j_1\\cdots j_n} |1 \\rangle}{\\sqrt{2}} \\right) \\otimes \\cdots \\otimes\n",
    " \\left( \\frac{|0\\rangle +  e^{i 2\\pi 0.j_{n-1}j_n} |1 \\rangle}{\\sqrt{2}} \\right)  \\otimes\n",
    " \\left( \\frac{|0\\rangle +  e^{i 2\\pi 0.j_n} |1 \\rangle}{\\sqrt{2}} \\right)  \n",
    "$$\n",
    "が得られるので、最後にビットの順番をSWAPゲートで反転させてあげれば、量子フーリエ変換を実行する回路が構成できたことになる（式($*$)とはビットの順番が逆になっていることに注意）。   \n",
    "SWAPを除いた部分を回路図で書くと以下のようである。\n",
    "![QFT](figs/2/QFT.png)"
   ]
  },
  {
   "cell_type": "markdown",
   "metadata": {},
   "source": [
    "### SymPyを用いた実装\n",
    "量子フーリエ変換への理解を深めるために、SymPyを用いて$n=3$の場合の回路を実装してみよう。"
   ]
  },
  {
   "cell_type": "code",
   "execution_count": 4,
   "metadata": {},
   "outputs": [],
   "source": [
    "from sympy import *\n",
    "from sympy.physics.quantum import *\n",
    "from sympy.physics.quantum.qubit import Qubit,QubitBra\n",
    "init_printing() # ベクトルや行列を綺麗に表示するため\n",
    "from sympy.physics.quantum.gate import X,Y,Z,H,S,T,CNOT,SWAP,CPHASE,CGateS"
   ]
  },
  {
   "cell_type": "code",
   "execution_count": 2,
   "metadata": {},
   "outputs": [],
   "source": [
    "# Google Colaboratory上でのみ実行してください\n",
    "from IPython.display import HTML\n",
    "def setup_mathjax():\n",
    "    display(HTML('''\n",
    "    <script>\n",
    "        if (!window.MathJax) {\n",
    "            window.MathJax = {\n",
    "                'tex2jax': {\n",
    "                    'inlineMath': [['$', '$'], ['\\\\(', '\\\\)']],\n",
    "                    'displayMath': [['$$', '$$'], ['\\\\[', '\\\\]']],\n",
    "                    'processEscapes': true,\n",
    "                    'processEnvironments': true,\n",
    "                    'skipTags': ['script', 'noscript', 'style', 'textarea', 'code'],\n",
    "                    'displayAlign': 'center',\n",
    "                },\n",
    "                'HTML-CSS': {\n",
    "                    'styles': {'.MathJax_Display': {'margin': 0}},\n",
    "                    'linebreaks': {'automatic': true},\n",
    "                    // Disable to prevent OTF font loading, which aren't part of our\n",
    "                    // distribution.\n",
    "                    'imageFont': null,\n",
    "                },\n",
    "               'messageStyle': 'none'\n",
    "            };\n",
    "            var script = document.createElement(\"script\");\n",
    "            script.src = \"https://colab.research.google.com/static/mathjax/MathJax.js?config=TeX-AMS_HTML-full,Safe\";\n",
    "            document.head.appendChild(script);\n",
    "        }\n",
    "    </script>\n",
    "    '''))\n",
    "get_ipython().events.register('pre_run_cell', setup_mathjax)"
   ]
  },
  {
   "cell_type": "markdown",
   "metadata": {},
   "source": [
    "まず、フーリエ変換される入力$|x\\rangle$として、\n",
    "$$\n",
    " |x\\rangle =  \\sum_{j=1}^8 \\frac{1}{\\sqrt{8}} |i\\rangle\n",
    "$$\n",
    "という全ての状態の重ね合わせ状態を考える（$x_1 = \\cdots = x_8 = 1/\\sqrt{8}$）。"
   ]
  },
  {
   "cell_type": "code",
   "execution_count": 34,
   "metadata": {},
   "outputs": [
    {
     "data": {
      "image/png": "[encoded data removed]",
      "text/latex": [
       "$\\displaystyle \\frac{\\sqrt{2} \\left({\\left|000\\right\\rangle } + {\\left|001\\right\\rangle } + {\\left|010\\right\\rangle } + {\\left|011\\right\\rangle } + {\\left|100\\right\\rangle } + {\\left|101\\right\\rangle } + {\\left|110\\right\\rangle } + {\\left|111\\right\\rangle }\\right)}{4}$"
      ],
      "text/plain": [
       "√2⋅(❘000⟩ + ❘001⟩ + ❘010⟩ + ❘011⟩ + ❘100⟩ + ❘101⟩ + ❘110⟩ + ❘111⟩)\n",
       "──────────────────────────────────────────────────────────────────\n",
       "                                4                                 "
      ]
     },
     "execution_count": 34,
     "metadata": {},
     "output_type": "execute_result"
    }
   ],
   "source": [
    "input = 1/sqrt(8) *( Qubit(\"000\")+Qubit(\"001\")+Qubit(\"010\")+Qubit(\"011\")+Qubit(\"100\")+Qubit(\"101\")+Qubit(\"110\")+Qubit(\"111\")) \n",
    "input"
   ]
  },
  {
   "cell_type": "markdown",
   "metadata": {},
   "source": [
    "この状態に対応する配列をnumpyでフーリエ変換すると"
   ]
  },
  {
   "cell_type": "code",
   "execution_count": 21,
   "metadata": {},
   "outputs": [
    {
     "name": "stdout",
     "output_type": "stream",
     "text": [
      "[0.35355339 0.35355339 0.35355339 0.35355339 0.35355339 0.35355339\n",
      " 0.35355339 0.35355339]\n",
      "[1.+0.j 0.+0.j 0.+0.j 0.+0.j 0.+0.j 0.+0.j 0.+0.j 0.+0.j]\n"
     ]
    }
   ],
   "source": [
    "import numpy as np\n",
    "input_np_array = 1/np.sqrt(8)*np.ones(8) \n",
    "print( input_np_array ) ## 入力\n",
    "print( np.fft.ifft(input_np_array) * np.sqrt(8) ) ## 出力.  ここでのフーリエ変換の定義とnumpyのifftの定義を合わせるため、sqrt(2^3)をかける"
   ]
  },
  {
   "cell_type": "markdown",
   "metadata": {},
   "source": [
    "となり、フーリエ変換すると $y_1=1,y_2=\\cdots=y_8=0$ という簡単な配列になることが分かる。これを量子フーリエ変換で確かめてみよう。\n",
    "\n",
    "まず、$R_1, R_2, R_3$ゲートはそれぞれ$Z, S, T$ゲートに等しいことに注意する（$e^{i\\pi}=-1, e^{i\\pi/2}=i$）。"
   ]
  },
  {
   "cell_type": "code",
   "execution_count": 27,
   "metadata": {},
   "outputs": [
    {
     "data": {
      "text/latex": [
       "$\\displaystyle \\left( \\left[\\begin{matrix}1 & 0\\\\0 & -1\\end{matrix}\\right], \\  \\left[\\begin{matrix}1 & 0\\\\0 & i\\end{matrix}\\right], \\  \\left[\\begin{matrix}1 & 0\\\\0 & e^{\\frac{i \\pi}{4}}\\end{matrix}\\right]\\right)$"
      ],
      "text/plain": [
       "⎛                 ⎡1   0  ⎤⎞\n",
       "⎜                 ⎢       ⎥⎟\n",
       "⎜⎡1  0 ⎤  ⎡1  0⎤  ⎢    ⅈ⋅π⎥⎟\n",
       "⎜⎢     ⎥, ⎢    ⎥, ⎢    ───⎥⎟\n",
       "⎜⎣0  -1⎦  ⎣0  ⅈ⎦  ⎢     4 ⎥⎟\n",
       "⎝                 ⎣0  ℯ   ⎦⎠"
      ]
     },
     "execution_count": 27,
     "metadata": {},
     "output_type": "execute_result"
    }
   ],
   "source": [
    "represent(Z(0),nqubits=1), represent(S(0),nqubits=1), represent(T(0),nqubits=1) "
   ]
  },
  {
   "cell_type": "markdown",
   "metadata": {},
   "source": [
    "量子フーリエ変換(Quantum Fourier TransformなのでQFTと略す)を実行回路を構成していく。   \n",
    "最初に、1番目（SymPyは右から0,1,2とビットを数えるので、SymPyでは2番目）の量子ビットにアダマール演算子をかけ、2番目・3番目のビットを制御ビットとする$R_2, R_3$ゲートをかける。"
   ]
  },
  {
   "cell_type": "code",
   "execution_count": 35,
   "metadata": {},
   "outputs": [],
   "source": [
    "QFT_gate = H(2)\n",
    "QFT_gate = CGateS(1, S(2))  * QFT_gate\n",
    "QFT_gate = CGateS(0, T(2))  * QFT_gate"
   ]
  },
  {
   "cell_type": "markdown",
   "metadata": {},
   "source": [
    "2番目（SymPyでは1番目）の量子ビットにもアダマールゲートと制御$R_2$演算を施す。"
   ]
  },
  {
   "cell_type": "code",
   "execution_count": 36,
   "metadata": {},
   "outputs": [],
   "source": [
    "QFT_gate = H(1)  * QFT_gate\n",
    "QFT_gate = CGateS(0, S(1))  * QFT_gate"
   ]
  },
  {
   "cell_type": "markdown",
   "metadata": {},
   "source": [
    "3番目（SymPyでは0番目）の量子ビットにはアダマールゲートのみをかければ良い。"
   ]
  },
  {
   "cell_type": "code",
   "execution_count": 37,
   "metadata": {},
   "outputs": [],
   "source": [
    "QFT_gate = H(0)  * QFT_gate"
   ]
  },
  {
   "cell_type": "markdown",
   "metadata": {},
   "source": [
    "最後に、ビットの順番を合わせるためにSWAPゲートをかける。"
   ]
  },
  {
   "cell_type": "code",
   "execution_count": 38,
   "metadata": {},
   "outputs": [],
   "source": [
    "QFT_gate = SWAP(0, 2)  * QFT_gate"
   ]
  },
  {
   "cell_type": "markdown",
   "metadata": {},
   "source": [
    "これで$n=3$の時の量子フーリエ変換の回路を構成できた。回路自体はやや複雑である。"
   ]
  },
  {
   "cell_type": "code",
   "execution_count": 39,
   "metadata": {},
   "outputs": [
    {
     "data": {
      "image/png": "[encoded data removed]",
      "text/latex": [
       "$\\displaystyle SWAP_{0,2} H_{0} C_{0}{\\left(S_{1}\\right)} H_{1} C_{0}{\\left(T_{2}\\right)} C_{1}{\\left(S_{2}\\right)} H_{2}$"
      ],
      "text/plain": [
       "SWAP   ⋅H ⋅C ⎛S ⎞⋅H ⋅C ⎛T ⎞⋅C ⎛S ⎞⋅H \n",
       "    0,2  0  0⎝ 1⎠  1  0⎝ 2⎠  1⎝ 2⎠  2"
      ]
     },
     "execution_count": 39,
     "metadata": {},
     "output_type": "execute_result"
    }
   ],
   "source": [
    "QFT_gate"
   ]
  },
  {
   "cell_type": "markdown",
   "metadata": {},
   "source": [
    "入力ベクトル$|x\\rangle$ にこの回路を作用させると、以下のようになり、正しくフーリエ変換された状態が出力されていることが分かる。（$y_1=1,y_2=\\cdots=y_8=0$）"
   ]
  },
  {
   "cell_type": "code",
   "execution_count": 40,
   "metadata": {},
   "outputs": [
    {
     "data": {
      "image/png": "[encoded data removed]",
      "text/latex": [
       "$\\displaystyle {\\left|000\\right\\rangle }$"
      ],
      "text/plain": [
       "❘000⟩"
      ]
     },
     "execution_count": 40,
     "metadata": {},
     "output_type": "execute_result"
    }
   ],
   "source": [
    "simplify( qapply( QFT_gate * input) )"
   ]
  },
  {
   "cell_type": "markdown",
   "metadata": {},
   "source": [
    "読者は是非、入力を様々に変えてこの回路を実行し、フーリエ変換が正しく行われていることを確認してみてほしい。"
   ]
  },
  {
   "cell_type": "markdown",
   "metadata": {},
   "source": [
    "---\n",
    "### コラム：計算量について\n",
    "「量子コンピュータは計算を高速に行える」とは、どういうことだろうか。本節で学んだ量子フーリエ変換を例にとって考えてみる。\n",
    "\n",
    "量子フーリエ変換を行うために必要なゲート操作の回数は、1番目の量子ビットに$n$回、2番目の量子ビットに$n-1$回、...、$n$番目の量子ビットに1回で合計$n(n-1)/2$回、そして最後のSWAP操作が約$n/2$回であるから、全て合わせると$\\mathcal{O}(n^2)$回である（$\\mathcal{O}$記法について詳しく知りたい人は、下記セクションを参照）。   \n",
    "一方、古典コンピュータでフーリエ変換を行う[高速フーリエ変換](https://ja.wikipedia.org/wiki/高速フーリエ変換)は、同じ計算を行うのに$\\mathcal{O}(n2^n)$の計算量を必要とする。この意味で、量子フーリエ変換は、古典コンピュータで行う高速フーリエ変換に比べて「高速」と言える。   \n",
    "これは一見喜ばしいことに見えるが、落とし穴がある。フーリエ変換した結果$\\{y_k\\}$は量子フーリエ変換後の状態$|y\\rangle$の確率振幅として埋め込まれているが、この振幅を素直に読み出そうとすると、結局は**指数関数的な回数の観測を繰り返さなくてはならない**。さらに、そもそも入力$|x\\rangle$を用意する方法も簡単ではない（素直にやると、やはり指数関数的な時間がかかってしまう）。  \n",
    "このように、量子コンピュータや量子アルゴリズムを「実用」するのは簡単ではなく、さまざまな工夫・技術発展がまだまだ求められている。\n",
    "\n",
    "一体どのような問題で量子コンピュータが高速だと思われているのか、理論的にはどのように扱われているのかなど、詳しく学びたい方はこのQmediaの記事[「量子計算機が古典計算機より優れている」とはどういうことか](https://www.qmedia.jp/computational-complexity-and-quantum-computer/)(竹嵜智之)を参照されたい。"
   ]
  },
  {
   "cell_type": "markdown",
   "metadata": {},
   "source": [
    "#### オーダー記法$\\mathcal{O}$についての註\n",
    "そもそも、アルゴリズムの性能はどのように定量評価できるのだろうか。ここでは、アルゴリズムの実行に必要な資源、主に時間をその基準として考える。とくに問題のサイズを$n$としたとき、計算ステップ数（時間）や消費メモリなど、必要な計算資源が$n$の関数としてどう振る舞うかを考える。（問題のサイズとは、例えばソートするデータの件数、あるいは素因数分解したい数の二進数表現の桁数などである。）\n",
    "\n",
    "例えば、問題のサイズ$n$に対し、アルゴリズムの要求する計算資源が次の$f(n)$で与えられるとする。\n",
    "\n",
    "$$ f(n) = 2n^2 + 5n + 8 $$\n",
    "\n",
    "$n$が十分大きいとき（例えば$n=10^{10}$）、$2n^2$に比べて$5n$や$6$は十分に小さい。したがって、このアルゴリズムの評価という観点では$5n+8$という因子は重要ではない。また、$n^2$の係数が$2$であるという情報も、$n$が十分大きいときの振る舞いには影響を与えない。こうして、計算時間$f(n)$の一番**「強い」**項の情報が重要であると考えることができる。このような考え方を漸近的評価といい、計算量のオーダー記法では次の式で表す。\n",
    "\n",
    "$$f(n) = \\mathcal{O}(n^2)$$\n",
    "\n",
    "一般に$f(n) = \\mathcal{O}(g(n))$とは、ある正の数$n_0, c$が存在して、任意の$n > n_0$に対して\n",
    "\n",
    "$$|f(n)| \\leq c |g(n)|$$\n",
    "\n",
    "が成り立つことである。上の例では、$n_0=7, c=3$とすればこの定義の通りである（グラフを描画してみよ）。練習として、$f(n) = 6n^3 +5n$のオーダー記法$f(n) = \\mathcal{O}(n^3)$を与える$n_0, c$の組を考えてみよ。\n",
    "\n",
    "アルゴリズムの性能評価では、その入力のサイズを$n$としたときに必要な計算資源を$n$の関数として表す。特にオーダー記法による漸近評価は、入力のサイズが大きくなったときの振る舞いを把握するときに便利である。そして、こうした漸近評価に基づいた計算量理論というものを用いて、様々なアルゴリズムの分類が行われている。詳細は上記のQmedia記事を参照されたい。"
   ]
  }
 ],
 "metadata": {
  "kernelspec": {
   "display_name": "Python 3",
   "language": "python",
   "name": "python3"
  },
  "language_info": {
   "codemirror_mode": {
    "name": "ipython",
    "version": 3
   },
   "file_extension": ".py",
   "mimetype": "text/x-python",
   "name": "python",
   "nbconvert_exporter": "python",
   "pygments_lexer": "ipython3",
   "version": "3.7.0"
  },
  "varInspector": {
   "cols": {
    "lenName": 16,
    "lenType": 16,
    "lenVar": 40
   },
   "kernels_config": {
    "python": {
     "delete_cmd_postfix": "",
     "delete_cmd_prefix": "del ",
     "library": "var_list.py",
     "varRefreshCmd": "print(var_dic_list())"
    },
    "r": {
     "delete_cmd_postfix": ") ",
     "delete_cmd_prefix": "rm(",
     "library": "var_list.r",
     "varRefreshCmd": "cat(var_dic_list()) "
    }
   },
   "types_to_exclude": [
    "module",
    "function",
    "builtin_function_or_method",
    "instance",
    "_Feature"
   ],
   "window_display": false
  }
 },
 "nbformat": 4,
 "nbformat_minor": 2
}
