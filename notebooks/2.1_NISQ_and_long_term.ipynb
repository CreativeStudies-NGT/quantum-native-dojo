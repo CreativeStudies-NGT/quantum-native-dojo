{
 "cells": [
  {
   "cell_type": "markdown",
   "metadata": {},
   "source": [
    "# NISQアルゴリズムとlong-termアルゴリズム"
   ]
  },
  {
   "cell_type": "markdown",
   "metadata": {},
   "source": [
    "## 量子アルゴリズム"
   ]
  },
  {
   "cell_type": "markdown",
   "metadata": {},
   "source": [
    "量子コンピュータは、量子力学的な重ね合わせによって、$n$個の量子ビットを用いて$2^n$個の状態を同時に処理できる。しかし、これだけでは「計算が速い」ということにはならない。\n",
    "\n",
    "なぜなら、計算終了後に結果を観測する際に、$2^n$個の状態の内どれか一つがランダムに得られるのみだからである。\n",
    "したがって、欲しい答えが高確率で得られるように設計された、量子コンピュータ専用のアルゴリズムが不可欠である。\n",
    "そのようなアルゴリズムを**量子アルゴリズム**と呼ぶ。\n",
    "\n",
    "量子アルゴリズムは、上記の点を鑑み、量子コンピュータの性能をフルに活かすよう設計されたアルゴリズムである。\n",
    "有名な例として、Shorの素因数分解アルゴリズム、Groverの探索アルゴリズム等がある。"
   ]
  },
  {
   "cell_type": "markdown",
   "metadata": {},
   "source": [
    "現在発明・発見されている量子アルゴリズムは、実現可能性の観点から2つのグループに大別できる。\n",
    "一つは**NISQアルゴリズム**、もう一つは**long-termアルゴリズム**である。\n",
    "それらの代表例を表に示す。"
   ]
  },
  {
   "cell_type": "code",
   "execution_count": 16,
   "metadata": {},
   "outputs": [
    {
     "data": {
      "image/png": "[encoded data removed]"
     },
     "metadata": {},
     "output_type": "display_data"
    }
   ],
   "source": [
    "# セルを実行すると表が表示されます。\n",
    "from IPython.display import Image, display_png\n",
    "png_file = './figs/quantum_algo_table.png'\n",
    "display_png(Image(png_file))"
   ]
  },
  {
   "cell_type": "markdown",
   "metadata": {},
   "source": [
    "## NISQ アルゴリズム\n",
    "\n",
    "### NISQとは\n",
    "まずNISQアルゴリズムについて説明するが、そもそも、最近よく聞く NISQ（NISAではない）とは何なのであろうか。\n",
    "\n",
    "NISQ（一般に「ニスク」と発音される）とはNoisy Intermediate-Scale Quantum computerの略で、現在~数十年以内に実現可能な、小～中規模（量子ビット数が100個程度のオーダー）の量子コンピュータの総称である。通常のコンピュータに例えるなら、トランジスタかそれ以前の真空管式コンピュータのような段階である。\n",
    "\n",
    "NISQは、大量の量子ビットを必要とする「量子誤り訂正」（章参照）を行う事ができず、計算途中で起こるノイズの影響をもろに受けてしまう。このような意味でNoisyという形容詞が付されている。"
   ]
  },
  {
   "cell_type": "markdown",
   "metadata": {},
   "source": [
    "有名な量子アルゴリズムであるShorのアルゴリズムやGroverのアルゴリズムは、誤りのない量子計算機での動作を前提としていることから、エラー耐性の低いNISQではパワー不足である。\n",
    "一方で、このようなNISQを用いて何か実用的に役立つ例はないか、ということで生み出されたのがNISQアルゴリズムである。\n",
    "\n",
    "上のような言い方をするとネガティブな印象を持たれるかもしれないが、化学反応のシミュレーションといったタスクにおいて、NISQが古典コンピュータを上回る可能性が示唆されている（ https://www.qmedia.jp/nisq-era-john-preskill/）。\n",
    "NISQは、量子コンピュータの古典コンピュータに対する優位性が示される「量子スプレマシー」の担い手として注目を集めているのである。"
   ]
  },
  {
   "cell_type": "markdown",
   "metadata": {},
   "source": [
    "### NISQアルゴリズムの概要\n",
    "\n",
    "一般に量子計算は、量子ビット数が大きく、量子演算の回数が多くなるほど、エラーの影響を受けやすくなる。\n",
    "そのため、NISQアルゴリズムは少数の量子ビットで、かつ浅い量子回路（少ない量子ゲート数）で行える必要がある。\n",
    "\n",
    "このような背景から、NISQアルゴリズムの研究においては、「**量子・古典ハイブリッドアルゴリズム**」というアプローチが主流となっている。\n",
    "これは、行いたい計算のすべてを量子計算機に任せるのではなく、量子計算機の得意な部分のみを量子計算機に任せ、残りは古典計算機で処理する、というものである。\n",
    "\n",
    "本道場で扱うNISQアルゴリズムは、全てこの古典・量子ハイブリッドのアプローチに基づいている。"
   ]
  },
  {
   "cell_type": "markdown",
   "metadata": {},
   "source": [
    "## Long-Termアルゴリズム\n",
    "一方long-termアルゴリズムは、多数の量子ビットが利用可能、かつ誤り訂正が可能という仮定のもとで初めて可能になるアルゴリズムである。\n",
    "本章で取り扱うアルゴリズムは、このlong-termアルゴリズムのうち、入門的なものである（上表の黄色の部分を参照）。\n",
    "\n",
    "後の章で、近年盛んに研究が進んでいるNISQアルゴリズムや、Groverのアルゴリズムといった、本章より高度なlong-termアルゴリズムについて取り扱う。"
   ]
  },
  {
   "cell_type": "markdown",
   "metadata": {},
   "source": [
    "より深く知るには：\n",
    "\n",
    "- Qmedia 量子コンピュータの現在とこれから https://www.qmedia.jp/nisq-era-john-preskill/\n",
    "- Quantum Algorithm Zoo http://quantumalgorithmzoo.org/\n",
    "- Quantum Algorithm Zoo 日本語訳 https://www.qmedia.jp/algebraic-number-theoretic-algorithms/"
   ]
  }
 ],
 "metadata": {
  "kernelspec": {
   "display_name": "Python 3",
   "language": "python",
   "name": "python3"
  },
  "language_info": {
   "codemirror_mode": {
    "name": "ipython",
    "version": 3
   },
   "file_extension": ".py",
   "mimetype": "text/x-python",
   "name": "python",
   "nbconvert_exporter": "python",
   "pygments_lexer": "ipython3",
   "version": "3.6.7"
  }
 },
 "nbformat": 4,
 "nbformat_minor": 2
}
