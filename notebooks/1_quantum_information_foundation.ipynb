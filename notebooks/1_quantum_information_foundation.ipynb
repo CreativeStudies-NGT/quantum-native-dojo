{
 "cells": [
  {
   "cell_type": "markdown",
   "metadata": {
    "colab_type": "text",
    "id": "A46fkXZnkD6Z"
   },
   "source": [
    "# 第1章 量子情報の基礎"
   ]
  },
  {
   "cell_type": "markdown",
   "metadata": {
    "colab_type": "text",
    "id": "va9-CH5yj8be"
   },
   "source": [
    "第1章では、量子コンピュータの仕組みを完全に理解するために必要な量子力学をマスターし、量子コンピュータの状態や操作をどのように記述すればいいのかを学ぶ。特に、テンソル積という考え方が量子コンピュータを深く理解するうえで必須である。テンソル積の計算は少し複雑であるが、Pythonの数式処理ライブラリ[SymPy](https://www.sympy.org/en/index.html)では、テンソル積を含めた量子力学の代数処理がサポートされているので、SymPyを用いた計算結果を見ながら量子力学と量子コンピュータの基礎の理解をすすめていこう。"
   ]
  },
  {
   "cell_type": "markdown",
   "metadata": {
    "nbsphinx-toctree": {}
   },
   "source": [
    "- [1-1. 量子ビット](1.1_qubit_representation.ipynb)\n",
    "- [1-2. 量子ビットに対する基本演算](1.2_qubit_operations.ipynb)\n",
    "- [1-3. 複数量子ビットの記述](1.3_multiqubit_representation_and_operations.ipynb)\n",
    "- [1-4. 回路図の基礎](1.4_quantum_circuit_diagram.ipynb)\n",
    "- [コラム: 量子複製不可能 (No-Cloning) 定理・Bell (CHSH) 不等式](1.c_CHSH-inequality_etc.ipynb)"
   ]
  }
 ],
 "metadata": {
  "celltoolbar": "Edit Metadata",
  "kernelspec": {
   "display_name": "Python 3",
   "language": "python",
   "name": "python3"
  },
  "language_info": {
   "codemirror_mode": {
    "name": "ipython",
    "version": 3
   },
   "file_extension": ".py",
   "mimetype": "text/x-python",
   "name": "python",
   "nbconvert_exporter": "python",
   "pygments_lexer": "ipython3",
   "version": "3.7.3"
  }
 },
 "nbformat": 4,
 "nbformat_minor": 2
}
