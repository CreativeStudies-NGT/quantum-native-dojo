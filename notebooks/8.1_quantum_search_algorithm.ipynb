{
 "cells": [
  {
   "cell_type": "markdown",
   "metadata": {},
   "source": [
    "## 8-1. 量子探索アルゴリズム\n",
    "本章ではデータ検索や配送ルート最適化問題といった探索問題を解く、量子探索アルゴリズムを紹介する。\n",
    "ショアのアルゴリズムのように指数的な加速は望めないが、量子探索アルゴリズムを用いると、古典アルゴリズムに対して多項式加速する事が知られている。\n",
    "\n",
    "本節では探索問題を一般化するために必要な概念であるオラクルや、探索問題の解を測定するためのアルゴリズムである量子振幅増幅について解説する。"
   ]
  },
  {
   "cell_type": "markdown",
   "metadata": {},
   "source": [
    "## 8-1-1. オラクル\n",
    "探索問題は一般に $N$ 個の要素から $M$ 個の解を見つける問題である。\n",
    "ここで、ビット文字列 $x$ を引数とするブーリアン関数 $f(x)$ を考える。$x$ が探索問題の解であるとき $f(x) = 1$ それ以外は $f(x) = 0$ を返す。\n",
    "ここで次のような `オラクル (Oracle)` を導入する:\n",
    "1. アクセスすると、入力 $x$ が探索問題の解であるかどうかを返す\n",
    "2. その内部はブラックボックス化されている\n",
    "\n",
    "オラクルはギリシャ神話にも神託という意味で現れるが、計算科学の分野では問題の解を知っており現実の問題に対してどのように実装されるかを考える必要のない抽象的な存在である。探索アルゴリズムの効率は、$x$ が解であるかをオラクルに尋ねる回数で評価する。\n",
    "\n",
    "入力状態 $|x \\rangle$ と補助ビット $|q \\rangle$ とすると、オラクル $\\mathcal{O}_f$ はユニタリー演算:\n",
    "$$\n",
    "|x \\rangle |q \\rangle \\xrightarrow{\\mathcal{O}} |x \\rangle |q \\oplus f(x) \\rangle \n",
    "$$\n",
    "で表される。ただし\n",
    "$|x \\rangle$ は要素のインデックス ($1 \\leq x \\leq N$)、 $\\oplus$ はモジュロ2の加算である。\n",
    "\n",
    "$x$ が探索問題の解であるかは、補助ビットを測定する事で判定できる。\n",
    "\n",
    "補助ビットが $|- \\rangle = (|0 \\rangle - |1 \\rangle)/\\sqrt{2}$ の時、\n",
    "$$\n",
    "|x \\rangle |- \\rangle \\xrightarrow{\\mathcal{O}} (-)^{f(x)}|x \\rangle |- \\rangle \n",
    "$$\n",
    "となり、$x$ が探索問題の解の時に位相差を得る。"
   ]
  },
  {
   "cell_type": "markdown",
   "metadata": {},
   "source": [
    "## 8-1-2. 量子振幅増幅\n",
    "もし全ての要素が等しく重ね合わせられた状態 $|\\psi \\rangle = \\sum 1/\\sqrt{N} |x \\rangle$ を入力状態とすると、\n",
    "$$\n",
    "\\sum^N_{x=1}\\frac{1}{\\sqrt{N}}|x \\rangle |- \\rangle \\xrightarrow{\\mathcal{O}} \\sum^N_{x=1}\\frac{1}{\\sqrt{N}} (-)^{f(x)} |x \\rangle |- \\rangle\n",
    "$$\n",
    "となり、位相差によって解に \"印\" がついた状態が得られる。\n",
    "最終的には、探索問題の解 $x$ を高い確率で測定したい。それを可能にするためには、ユニタリー演算によって:\n",
    "1. 印のついた状態の確率振幅を増幅させる\n",
    "2. 印のついていない残りの状態の確率振幅を減少させる\n",
    "という操作を行いたい。この操作を `量子振幅増幅 (Amplitude Amplification)` と呼び、この操作の具体的なプロトコルの1つが次の節で解説するグローバー (Grover) のアルゴリズムである。"
   ]
  }
 ],
 "metadata": {
  "kernelspec": {
   "display_name": "Python 3",
   "language": "python",
   "name": "python3"
  },
  "language_info": {
   "codemirror_mode": {
    "name": "ipython",
    "version": 3
   },
   "file_extension": ".py",
   "mimetype": "text/x-python",
   "name": "python",
   "nbconvert_exporter": "python",
   "pygments_lexer": "ipython3",
   "version": "3.7.1"
  }
 },
 "nbformat": 4,
 "nbformat_minor": 2
}
