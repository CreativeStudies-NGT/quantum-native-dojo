{
 "cells": [
  {
   "cell_type": "markdown",
   "metadata": {},
   "source": [
    "### 7-3. Quantum random access memory (qRAM) \n",
    "前述の HHL アルゴリズムの説明でも述べたように、量子コンピュータ上で古典データを扱う際は、そのデータを量子状態としてエンコードする必要がある。とくにバイナリデータの集まり（ベクトル）を量子状態として効率的に読み出すことは、量子機械学習などの応用において極めて重要である。本節では`Quantum Random Access Memory (qRAM)` について解説する。\n",
    "\n",
    "#### RAM\n",
    "古典コンピュータにおける `random access memory (RAM)` とは、メモリアドレスと対応するデータをセットとして格納し、引き出せるようにする装置である。すなわち、RAMにメモリアドレス $i$ を与えると、バイナリデータ$x_i$ を引き出すことができる。\n",
    "\n",
    "$$ i \\quad \\xrightarrow{RAM} \\quad x_i $$\n",
    "\n",
    "同様に、qRAM はあるバイナリデータ $x_i$ のアドレス $i$ を記述する量子ビット列 $|i \\rangle$ から、対応するデータをエンコードした量子状態 $|x_i \\rangle$（以下、データ状態とよぶ）を引き出せるようにする装置である。\n",
    "\n",
    "$$ | i \\rangle \\otimes | 0 \\rangle \\xrightarrow{qRAM} | i \\rangle \\otimes | x_i \\rangle $$\n",
    "\n",
    "とくに、メモリアドレスとデータを重ね合わせ状態として引き出せるということは、qRAMのもつべき重要な性質である。すなわちメモリアドレス状態の重ね合わせに対して、qRAMはアドレスとデータのエンタングル状態を与える。\n",
    "$$ \\sum_{i=1}^N  |i \\rangle \\quad \\to \\quad \\sum_{i=1}^N |i \\rangle \\otimes |x_i \\rangle $$\n",
    "\n",
    "ここで$N$はデータの件数である。\n",
    "\n",
    "qRAMは必ずしも量子状態そのものを保持する必要がないということに注意されたい。すなわちバイナリデータのベクトルが与えられたとき、効率的に重ね合わせ状態を生成する量子回路の記述が与えられれば、qRAMとしての役割を果たす。\n",
    "\n",
    "通常 qRAM はユニタリーなプロセスとして実現することが仮定される。したがって、qRAMの存在を仮定するとき、以下のように重ね合わせ状態を入力すれば、同時並列的にデータを量子状態にエンコードすることが可能である。\n",
    "$$ \\frac{1}{\\sqrt{N}}\\sum_{i=1}^N | i \\rangle \\otimes | 0 \\rangle \\xrightarrow{qRAM} \\frac{1}{\\sqrt{N}}\\sum_i | i \\rangle \\otimes | x_i \\rangle $$\n",
    "\n",
    "qRAM の仕組みを実現するアーキテクチャにはとくに決まったものはなく、現在も研究途上である。\n",
    "具体的な実装方法としては [4] などで提案がある。\n",
    "\n",
    "\n",
    "#### 振幅エンコーディング\n",
    "HHLアルゴリズムおよびそれをベースとする機械学習アルゴリズムでは、qRAM上のデータを状態としてではなく、振幅として利用したい場合がある。そのためには、qRAMから読み出したデータに対して次のような変換を行いたい。\n",
    "\n",
    "$$ \\sum_{i=1}^N |i \\rangle \\otimes |x_i \\rangle \\quad \\to \\quad \\frac{1}{||{\\\\bf x}||} \\sum_{i=1}^N x_i |i \\rangle $$\n",
    "\n",
    "ここで $||{\\bf x}||$ はベクトル $x_i$ のノルムである。この変換をユニタリ変換として実現する方法はPrakashの博士論文において提案された[1]。具体的な実現方法の解説は[2,3]に詳しい。\n",
    "\n",
    "### 参考文献\n",
    "[1] Anupam Prakash. \\\"Quantum Algorithms for Linear Algebra and Machine Learning\\\". PhD thesis, EECS Department, University of California, Berkeley, Dec 2014. <br>\n",
    "[2] 京大基研量子情報スクール用ノート, https://www2.yukawa.kyoto-u.ac.jp/~qischool2019/mitaraiCTO.pdf <br>\n",
    "[3] Danial Dervovic, et al., Quantum linear systems algorithms: a primer, eprint: https://arxiv.org/abs/1802.08227 <br>\n",
    "[4] Architectures for a quantum random access memory, V. Giovannetti, S. Lloyd, L. Maccone, Phys. Rev. A 78, 052310 (2008) "
   ]
  },
  {
   "cell_type": "code",
   "execution_count": null,
   "metadata": {},
   "outputs": [],
   "source": []
  }
 ],
 "metadata": {
  "kernelspec": {
   "display_name": "Python 3",
   "language": "python",
   "name": "python3"
  },
  "language_info": {
   "codemirror_mode": {
    "name": "ipython",
    "version": 3
   },
   "file_extension": ".py",
   "mimetype": "text/x-python",
   "name": "python",
   "nbconvert_exporter": "python",
   "pygments_lexer": "ipython3",
   "version": "3.7.1"
  }
 },
 "nbformat": 4,
 "nbformat_minor": 2
}
