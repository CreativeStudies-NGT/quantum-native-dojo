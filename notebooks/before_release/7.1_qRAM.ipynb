{
  "nbformat": 4,
  "nbformat_minor": 0,
  "metadata": {
    "colab": {
      "name": "qRAM.ipynb",
      "version": "0.3.2",
      "provenance": []
    },
    "kernelspec": {
      "name": "python3",
      "display_name": "Python 3"
    }
  },
  "cells": [
    {
      "metadata": {
        "id": "JtaMYO7ZNyAu",
        "colab_type": "text"
      },
      "cell_type": "markdown",
      "source": [
        "\n",
        "## qRAMとは\n",
        "\n",
        "量子コンピュータ上で古典データを扱う際は、そのデータを量子状態としてエンコードする必要がある。とくにバイナリデータの集まり（ベクトル）を量子状態として効率的に読み出すことは、量子機械学習などの応用において極めて重要である。本節ではqRAM (quantum random acccess memory)について解説する。\n",
        "\n",
        "古典コンピュータにおけるRAM (random access memory)とは、メモリアドレスと対応するデータをセットとして格納し、引き出せるようにする装置である。すなわち、RAMにメモリアドレス$i$を与えると、バイナリデータ$x_i$を引き出すことができる。\n",
        "\n",
        "$$ i \\quad \\to \\quad x_i $$\n",
        "\n",
        "同様に、qRAMはメモリアドレスに対応する量子状態 $|i \\rangle$ から、対応するデータをエンコードした量子状態 $|x_i \\rangle$（以下、データ状態とよぶ）を引き出せるようにする装置である。\n",
        "\n",
        "$$|i \\rangle \\quad \\to \\quad |i \\rangle \\otimes |x_i \\rangle$$\n",
        "\n",
        "とくに、メモリアドレスとデータを重ね合わせ状態として引き出せるということは、qRAMのもつべき重要な性質である。すなわちメモリアドレス状態の重ね合わせに対して、qRAMはアドレスとデータのエンタングル状態を与える。\n",
        "\n",
        "$$ \\sum_{i=1}^N  |i\\rangle \n",
        "\\quad \\to \\quad \n",
        "\\sum_{i=1}^N |i\\rangle \\otimes |x_i\\rangle $$\n",
        "\n",
        "ここで$N$はデータの件数である。\n",
        "\n",
        "qRAMは必ずしも量子状態そのものを保持する必要がないということに注意されたい。すなわちバイナリデータのベクトルが与えられたとき、効率的に重ね合わせ状態を生成する量子回路の記述が与えられれば、qRAMとしての役割を果たす。qRAMの仕組みを実現するアーキテクチャにはとくに決まったものはなく、現在も研究途上である。\n",
        "\n",
        "## 振幅エンコーディング\n",
        "\n",
        "HHLアルゴリズムおよびそれをベースとする機械学習アルゴリズムでは、qRAM上のデータを状態としてではなく、振幅として利用したい場合がある。そのためには、qRAMから読み出したデータに対して次のような変換を行いたい。\n",
        "\n",
        "$$ \\sum_{i=1}^N |i\\rangle \\otimes |x_i \\rangle \\quad \\to \\quad \\frac{1}{||{\\bf x}||} \\sum_{i=1}^N x_i |i\\rangle $$\n",
        "\n",
        "ここで$||{\\bf x}||$はベクトル$x_i$のノルムである。この変換をユニタリ変換として実現する方法はPrakashの博士論文において提案された[1]。具体的な実現方法の解説は[2,3]に詳しい。\n",
        "\n",
        "\n",
        "### 参考文献\n",
        "[1] Anupam Prakash. \"Quantum Algorithms for Linear Algebra and Machine Learning\". PhD thesis, EECS Department, University of California, Berkeley, Dec 2014. \n",
        "\n",
        "[2] https://www2.yukawa.kyoto-u.ac.jp/~qischool2019/mitaraiCTO.pdf\n",
        "\n",
        "[3] Danial Dervovic, et al. \"Quantum linear systems algorithms: a primer\". eprint: https://arxiv.org/abs/1802.08227"
      ]
    }
  ]
}