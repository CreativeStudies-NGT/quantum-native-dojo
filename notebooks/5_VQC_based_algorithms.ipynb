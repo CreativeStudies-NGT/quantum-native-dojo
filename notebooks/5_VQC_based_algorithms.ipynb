{
 "cells": [
  {
   "cell_type": "markdown",
   "metadata": {},
   "source": [
    "# 第5章 変分量子回路に基づくアルゴリズム\n",
    "\n",
    "この章では、NISQデバイスの応用として最も重要である、変分量子回路を用いた量子・古典ハイブリットアルゴリズムについて学んでいく。NISQデバイスを実際の問題の応用していく上で極めて重要なアルゴリズムばかりなので、しっかりと身につけよう。"
   ]
  },
  {
   "cell_type": "markdown",
   "metadata": {
    "nbsphinx-toctree": {}
   },
   "source": [
    "- [5-1. Variational Quantum Eigensolver（VQE）アルゴリズム](5.1_variational_quantum_eigensolver.ipynb)\n",
    "- [5-2. Quantum Circuit learning](5.2_Quantum_Circuit_Learning.ipynb)\n",
    "- [コラム：Quantum Circuit Learningを用いた分類](5.2c1_application_of_QCL_to_classification.ipynb)\n",
    "- [コラム：量子リザーバコンピューティング](5.2c2_quantum_reservoir_computing.ipynb)\n",
    "- [5-3. Quantum Approximate Optimazation Algorithm (QAOA): 量子近似最適化アルゴリズム](5.3_quantum_approximate_optimazation_algorithm.ipynb)"
   ]
  }
 ],
 "metadata": {
  "celltoolbar": "Edit Metadata",
  "kernelspec": {
   "display_name": "Python 3",
   "language": "python",
   "name": "python3"
  },
  "language_info": {
   "codemirror_mode": {
    "name": "ipython",
    "version": 3
   },
   "file_extension": ".py",
   "mimetype": "text/x-python",
   "name": "python",
   "nbconvert_exporter": "python",
   "pygments_lexer": "ipython3",
   "version": "3.7.3"
  }
 },
 "nbformat": 4,
 "nbformat_minor": 2
}
