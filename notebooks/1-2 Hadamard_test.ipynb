{
 "cells": [
  {
   "cell_type": "markdown",
   "metadata": {},
   "source": [
    "### アダマールテスト"
   ]
  },
  {
   "cell_type": "markdown",
   "metadata": {},
   "source": [
    "さて、一通り準備がととのったので、固有値を求める量子アルゴリズムについて解説しよう。まず、アダマールテストとよばれる以下のような量子回路（figure01.pdf）を考える。真ん中にある制御ユニタリ演算$\\Lambda(U)$は、上の量子ビットが$|0\\rangle$の場合にはなにもせず、$|1\\rangle$の場合には$U$を作用させるユニタリ演算である。"
   ]
  },
  {
   "cell_type": "markdown",
   "metadata": {},
   "source": [
    "$$\n",
    "\\Lambda (U) = |0\\rangle \\langle 0| \\otimes I + |1\\rangle \\langle 1|  \\otimes U\n",
    "$$"
   ]
  },
  {
   "cell_type": "markdown",
   "metadata": {},
   "source": [
    "つまり、１つ目の量子ビットが$|0\\rangle$か$|1\\rangle$かによって条件分岐して「なにもしない」、「$U$を作用させる」という演算が実行される。従来のコンピュータでは条件分岐は同時に実行することができないが、量子コンピュータでは重ね合わせとして、同時並列的に実行することができる。"
   ]
  },
  {
   "cell_type": "markdown",
   "metadata": {},
   "source": [
    "さて、アダマールテストの説明に戻ろう。最初は簡単のために量子状態$|\\psi \\rangle$を\n",
    "ユニタリー演算（行列）$U$の固有値$e^{i \\lambda}$の固有状態（固有ベクトル）とする：\n",
    "\\begin{eqnarray}\n",
    "U|\\psi \\rangle = e^{i \\lambda} |\\psi\\rangle.\n",
    "\\end{eqnarray}"
   ]
  },
  {
   "cell_type": "markdown",
   "metadata": {},
   "source": [
    "ステップ1までの計算で\n",
    "\\begin{eqnarray}\n",
    "\\frac{1}{\\sqrt{2}} (|0\\rangle  + |1\\rangle) \\otimes |\\psi  \\rangle \n",
    "\\end{eqnarray}\n",
    "が得られる。\n",
    "ステップ２で制御$U$演算を作用させることによって、\n",
    "**固有値が１つめの量子ビットの相対位相として得られる**（これは位相キックバックとしばしば呼ばれている）:\n",
    "\\begin{eqnarray}\n",
    "&&\\frac{1}{\\sqrt{2}} (|0\\rangle \\otimes |\\psi  \\rangle  \n",
    "+ |1\\rangle \\otimes U|\\psi \\rangle )\n",
    "\\\\\n",
    "&=&\\frac{1}{\\sqrt{2}} (|0\\rangle \\otimes |\\psi  \\rangle  \n",
    "+e^{i \\lambda} |1\\rangle \\otimes |\\psi \\rangle )\n",
    "\\\\\n",
    "&=&\n",
    "\\frac{1}{\\sqrt{2}} (|0\\rangle   \n",
    "+e^{i \\lambda} |1\\rangle )\\otimes |\\psi  \\rangle.\n",
    "\\end{eqnarray}\n",
    "最後のステップ３のアダマール演算によって\n",
    "\\begin{eqnarray}\n",
    "\\left(\\frac{1+e^{i\\lambda}}{2}|0\\rangle  \n",
    "+\\frac{1-e^{i\\lambda}}{2} |1\\rangle \\right)\\otimes |\\psi  \\rangle \n",
    "\\label{eq01}\n",
    "\\end{eqnarray}\n",
    "が得られる。\n",
    "一つ目の量子ビットを測定すると測定結果$m=0,1$を得る確率は\n",
    "\\begin{eqnarray}\n",
    "p_{m}=\\left|\\frac{1+(-1)^m e^{i\\lambda}}{2}\\right|^2 =\\frac{1+(-1)^m \\cos \\lambda}{2}\n",
    "\\end{eqnarray}\n",
    "となる\n",
    "$|\\psi \\rangle$、$U$、$\\langle \\psi |$は\n",
    "それぞれ$2^n$次元の列ベクトル、$2^n \\times 2^n$行列、\n",
    "$2^n$次元の行ベクトルなので、\n",
    "このアダマールテストを古典コンピュータ上で愚直に計算すると\n",
    "指数的に大きなメモリーの確保と演算回数が必要になる。\n",
    "一方で、量子コンピューターでは、\n",
    "確率分布$p_m$のもとで$m$がサンプルされる。\n",
    "$\\cos \\lambda$を\n",
    "ある誤差$\\epsilon$で推定したい場合は、\n",
    "その逆数$1/\\epsilon$の多項式回程度サンプルすればよいことになる。"
   ]
  },
  {
   "cell_type": "markdown",
   "metadata": {},
   "source": [
    "さらに、固有値が$\\pm 1$の場合にはこのアダマールテストによって、固有ベクトルを得ることができる。たとえば、$U=H$の場合を考えてみよう。補助量子ビットを$|0\\rangle$、アダマールテストの入力$|\\psi\\rangle$も$|0\\rangle$とする。"
   ]
  },
  {
   "cell_type": "code",
   "execution_count": 9,
   "metadata": {},
   "outputs": [],
   "source": [
    "from IPython.display import Image, display_png\n",
    "from sympy import *\n",
    "from sympy.physics.quantum import *\n",
    "from sympy.physics.quantum.qubit import Qubit,QubitBra\n",
    "init_printing() # ベクトルや行列を綺麗に表示するため\n",
    "\n",
    "\n",
    "state = Qubit('00')"
   ]
  },
  {
   "cell_type": "markdown",
   "metadata": {},
   "source": [
    "制御H演算は、`CGateS()`を用いて"
   ]
  },
  {
   "cell_type": "code",
   "execution_count": 10,
   "metadata": {},
   "outputs": [
    {
     "data": {
      "image/png": "[encoded data removed]",
      "text/latex": [
       "$$\\left[\\begin{matrix}1 & 0 & 0 & 0\\\\0 & 1 & 0 & 0\\\\0 & 0 & \\frac{\\sqrt{2}}{2} & \\frac{1}{\\sqrt{2}}\\\\0 & 0 & \\frac{1}{\\sqrt{2}} & - \\frac{\\sqrt{2}}{2}\\end{matrix}\\right]$$"
      ],
      "text/plain": [
       "⎡1  0  0    0  ⎤\n",
       "⎢              ⎥\n",
       "⎢0  1  0    0  ⎥\n",
       "⎢              ⎥\n",
       "⎢      √2   1  ⎥\n",
       "⎢0  0  ──   ── ⎥\n",
       "⎢      2    √2 ⎥\n",
       "⎢              ⎥\n",
       "⎢      1   -√2 ⎥\n",
       "⎢0  0  ──  ────⎥\n",
       "⎣      √2   2  ⎦"
      ]
     },
     "execution_count": 10,
     "metadata": {},
     "output_type": "execute_result"
    }
   ],
   "source": [
    "from sympy.physics.quantum.gate import CGateS,H\n",
    "from IPython.display import Image, display_png\n",
    "from sympy import *\n",
    "ctrlH = CGateS(1,H(0))\n",
    "represent(ctrlH,nqubits=2)"
   ]
  },
  {
   "cell_type": "markdown",
   "metadata": {},
   "source": [
    "測定前の状態は、"
   ]
  },
  {
   "cell_type": "code",
   "execution_count": 13,
   "metadata": {},
   "outputs": [
    {
     "data": {
      "image/png": "[encoded data removed]",
      "text/latex": [
       "$$H_{1} C_{1}{\\left(H_{0}\\right)} H_{1} {\\left|00\\right\\rangle }$$"
      ],
      "text/plain": [
       "H ⋅C ⎛H ⎞⋅H ⋅❘00⟩\n",
       " 1  1⎝ 0⎠  1     "
      ]
     },
     "execution_count": 13,
     "metadata": {},
     "output_type": "execute_result"
    }
   ],
   "source": [
    "H(1)*ctrlH*H(1)*state"
   ]
  },
  {
   "cell_type": "code",
   "execution_count": 14,
   "metadata": {},
   "outputs": [
    {
     "data": {
      "image/png": "[encoded data removed]",
      "text/latex": [
       "$$\\frac{\\sqrt{2} {\\left|00\\right\\rangle }}{4} + \\frac{{\\left|00\\right\\rangle }}{2} + \\frac{\\sqrt{2} {\\left|01\\right\\rangle }}{4} - \\frac{\\sqrt{2} {\\left|10\\right\\rangle }}{4} + \\frac{{\\left|10\\right\\rangle }}{2} - \\frac{\\sqrt{2} {\\left|11\\right\\rangle }}{4}$$"
      ],
      "text/plain": [
       "√2⋅❘00⟩   ❘00⟩   √2⋅❘01⟩   √2⋅❘10⟩   ❘10⟩   √2⋅❘11⟩\n",
       "─────── + ──── + ─────── - ─────── + ──── - ───────\n",
       "   4       2        4         4       2        4   "
      ]
     },
     "execution_count": 14,
     "metadata": {},
     "output_type": "execute_result"
    }
   ],
   "source": [
    "qapply(H(1)*ctrlH*H(1)*state)"
   ]
  },
  {
   "cell_type": "markdown",
   "metadata": {},
   "source": [
    "測定は、測定用の関数が用意されており、１つめの量子ビットの測定は`measure_partial`を用いて得ることができる。`measure_partial`では測定後の状態と測定の確率がリストとして出力される。１つめの量子ビットが0だった場合の量子状態は[0][0]要素を参照すればよいので、"
   ]
  },
  {
   "cell_type": "code",
   "execution_count": 15,
   "metadata": {},
   "outputs": [
    {
     "data": {
      "image/png": "[encoded data removed]",
      "text/latex": [
       "$$\\frac{\\left(\\sqrt{2} + 2\\right) {\\left|00\\right\\rangle } + \\sqrt{2} {\\left|01\\right\\rangle }}{2 \\sqrt{\\sqrt{2} + 2}}$$"
      ],
      "text/plain": [
       "(√2 + 2)⋅❘00⟩ + √2⋅❘01⟩\n",
       "───────────────────────\n",
       "          ________     \n",
       "      2⋅╲╱ √2 + 2      "
      ]
     },
     "execution_count": 15,
     "metadata": {},
     "output_type": "execute_result"
    }
   ],
   "source": [
    "from sympy.physics.quantum.qubit import measure_all, measure_partial, measure_all_oneshot, measure_partial_oneshot\n",
    "measured_state_zero = measure_partial(qapply(H(1)*ctrlH*H(1)*state),(1))[0][0]\n",
    "simplify(measured_state_zero)"
   ]
  },
  {
   "cell_type": "markdown",
   "metadata": {},
   "source": [
    "これがHの固有ベクトルであることは、２つめの量子ビットにHを作用させると（sumpyのインデックスは１つめが1、２つめが0になるよう対応させていることに注意）、"
   ]
  },
  {
   "cell_type": "code",
   "execution_count": 16,
   "metadata": {},
   "outputs": [
    {
     "data": {
      "image/png": "[encoded data removed]",
      "text/latex": [
       "$$\\frac{\\sqrt{2} {\\left|00\\right\\rangle } + 2 {\\left|00\\right\\rangle } + \\sqrt{2} {\\left|01\\right\\rangle }}{2 \\sqrt{\\sqrt{2} + 2}}$$"
      ],
      "text/plain": [
       "√2⋅❘00⟩ + 2⋅❘00⟩ + √2⋅❘01⟩\n",
       "──────────────────────────\n",
       "           ________       \n",
       "       2⋅╲╱ √2 + 2        "
      ]
     },
     "execution_count": 16,
     "metadata": {},
     "output_type": "execute_result"
    }
   ],
   "source": [
    "simplify(qapply(H(0)*measured_state_zero))"
   ]
  },
  {
   "cell_type": "markdown",
   "metadata": {},
   "source": [
    "となりもとに戻る。固有状態であることがわかった。同様に1の測定結果を得た場合は、固有値-1の固有状態であることも確認できるので試してもらいたい。"
   ]
  },
  {
   "cell_type": "code",
   "execution_count": 17,
   "metadata": {},
   "outputs": [
    {
     "data": {
      "image/png": "[encoded data removed]",
      "text/latex": [
       "$$\\frac{- 2 {\\left|10\\right\\rangle } + \\sqrt{2} {\\left|10\\right\\rangle } + \\sqrt{2} {\\left|11\\right\\rangle }}{2 \\sqrt{- \\sqrt{2} + 2}}$$"
      ],
      "text/plain": [
       "-2⋅❘10⟩ + √2⋅❘10⟩ + √2⋅❘11⟩\n",
       "───────────────────────────\n",
       "           _________       \n",
       "       2⋅╲╱ -√2 + 2        "
      ]
     },
     "execution_count": 17,
     "metadata": {},
     "output_type": "execute_result"
    }
   ],
   "source": [
    "measured_state_one = measure_partial(qapply(H(1)*ctrlH*H(1)*state),(1,))[1][0]\n",
    "simplify(qapply(H(0)*measured_state_one))"
   ]
  },
  {
   "cell_type": "markdown",
   "metadata": {},
   "source": [
    "固有値が$\\pm 1$ではない場合も、アダマールテストの出力を入力として繰り返すと$U$の固有状態に状態が収束していくので、興味がある人は試してもらいたい。"
   ]
  },
  {
   "cell_type": "markdown",
   "metadata": {},
   "source": [
    "同じ計算を、必ずしも固有ベクトルとは限らない、一般の入力に対して行うと、測定前の状態は、\n",
    "$$\n",
    " |0\\rangle \\frac{I+U}{2} |\\psi \\rangle  +  |1\\rangle  \\frac{I-U}{2} |\\psi \\rangle \n",
    "$$\n",
    "となり、0もしくは1が得られる確率は、\n",
    "$$\n",
    "p_0 = \\frac{1+ {\\rm Re} \\langle \\psi | U | \\psi \\rangle }{2}\n",
    "\\\\\n",
    "p_1 = \\frac{1- {\\rm Re} \\langle \\psi | U | \\psi \\rangle }{2}\n",
    "$$\n",
    "となる。つまり、ベクトル$|\\psi \\rangle$でユニタリ行列Uを挟んだ値をアダマールテストのサンプル結果の推定から\n",
    "計算することができる。もちろん、量子ビット数$n$が大きくなるにつれベクトルや行列の次元は指数的に大きくなるので、愚直に計算する方法は指数的な時間を要する。"
   ]
  },
  {
   "cell_type": "markdown",
   "metadata": {},
   "source": [
    "さっきの$U=H$の例だと、$\\langle 0 | H | 0\\rangle = 1/\\sqrt{2}$であるが実際、`measure_partial`で得られる確率をみてみると、"
   ]
  },
  {
   "cell_type": "code",
   "execution_count": 18,
   "metadata": {},
   "outputs": [
    {
     "data": {
      "image/png": "[encoded data removed]",
      "text/latex": [
       "$$\\frac{\\sqrt{2}}{4} + \\frac{1}{2}$$"
      ],
      "text/plain": [
       "√2   1\n",
       "── + ─\n",
       "4    2"
      ]
     },
     "execution_count": 18,
     "metadata": {},
     "output_type": "execute_result"
    }
   ],
   "source": [
    "simplify(measure_partial(qapply(H(1)*ctrlH*H(1)*state),(1,))[0][1])"
   ]
  },
  {
   "cell_type": "markdown",
   "metadata": {},
   "source": [
    "となっており、上記の議論と一致していることが確認できる。"
   ]
  },
  {
   "cell_type": "code",
   "execution_count": null,
   "metadata": {},
   "outputs": [],
   "source": []
  }
 ],
 "metadata": {
  "kernelspec": {
   "display_name": "Python 3",
   "language": "python",
   "name": "python3"
  },
  "language_info": {
   "codemirror_mode": {
    "name": "ipython",
    "version": 3
   },
   "file_extension": ".py",
   "mimetype": "text/x-python",
   "name": "python",
   "nbconvert_exporter": "python",
   "pygments_lexer": "ipython3",
   "version": "3.6.7"
  }
 },
 "nbformat": 4,
 "nbformat_minor": 2
}
