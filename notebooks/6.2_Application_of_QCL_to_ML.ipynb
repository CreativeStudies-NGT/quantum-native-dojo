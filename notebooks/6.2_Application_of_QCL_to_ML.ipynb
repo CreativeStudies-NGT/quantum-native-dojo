{
 "cells": [
  {
   "cell_type": "markdown",
   "metadata": {},
   "source": [
    "# Application of QCL to Machine Learning"
   ]
  },
  {
   "cell_type": "markdown",
   "metadata": {},
   "source": [
    "3.4節で学んだ **Quantum Circuit Learning** (量子回路学習、QCL)は機械学習への応用を念頭に設計された量子アルゴリズムである。  \n",
    "3.4節では入出力ともに1次元の関数を扱ったが、現実の機械学習に応用するためには、より複雑な関数を近似できることが必要である。  \n",
    "\n",
    "ここではQCLの機械学習への応用例として、代表的な機械学習のデータセットの一つである[**Irisデータセット**](https://scikit-learn.org/stable/auto_examples/datasets/plot_iris_dataset.html)（Fisherのあやめ）の分類を行う。"
   ]
  },
  {
   "cell_type": "code",
   "execution_count": 1,
   "metadata": {},
   "outputs": [],
   "source": [
    "import numpy as np\n",
    "import matplotlib.pyplot as plt\n",
    "%matplotlib inline"
   ]
  },
  {
   "cell_type": "markdown",
   "metadata": {},
   "source": [
    "## データの概要"
   ]
  },
  {
   "cell_type": "markdown",
   "metadata": {},
   "source": [
    "irisデータセットは機械学習でよく使われるアヤメの品種データである。  \n",
    "花びらやがくの長さ・幅のデータから、3品種のうちどれに属するかを分類する。  \n",
    "より詳細には[こちらのサイト](https://note.nkmk.me/python-scikit-learn-svm-iris-dataset/)を参照されたい。"
   ]
  },
  {
   "cell_type": "markdown",
   "metadata": {},
   "source": [
    "まず、scikit-learnから、Irisデータセットを読み込む。  "
   ]
  },
  {
   "cell_type": "code",
   "execution_count": 2,
   "metadata": {},
   "outputs": [
    {
     "data": {
      "text/html": [
       "<div>\n",
       "<style scoped>\n",
       "    .dataframe tbody tr th:only-of-type {\n",
       "        vertical-align: middle;\n",
       "    }\n",
       "\n",
       "    .dataframe tbody tr th {\n",
       "        vertical-align: top;\n",
       "    }\n",
       "\n",
       "    .dataframe thead th {\n",
       "        text-align: right;\n",
       "    }\n",
       "</style>\n",
       "<table border=\"1\" class=\"dataframe\">\n",
       "  <thead>\n",
       "    <tr style=\"text-align: right;\">\n",
       "      <th></th>\n",
       "      <th>sepal length (cm)</th>\n",
       "      <th>sepal width (cm)</th>\n",
       "      <th>petal length (cm)</th>\n",
       "      <th>petal width (cm)</th>\n",
       "      <th>target</th>\n",
       "      <th>target_names</th>\n",
       "    </tr>\n",
       "  </thead>\n",
       "  <tbody>\n",
       "    <tr>\n",
       "      <th>0</th>\n",
       "      <td>5.1</td>\n",
       "      <td>3.5</td>\n",
       "      <td>1.4</td>\n",
       "      <td>0.2</td>\n",
       "      <td>0</td>\n",
       "      <td>setosa</td>\n",
       "    </tr>\n",
       "    <tr>\n",
       "      <th>1</th>\n",
       "      <td>4.9</td>\n",
       "      <td>3.0</td>\n",
       "      <td>1.4</td>\n",
       "      <td>0.2</td>\n",
       "      <td>0</td>\n",
       "      <td>setosa</td>\n",
       "    </tr>\n",
       "    <tr>\n",
       "      <th>2</th>\n",
       "      <td>4.7</td>\n",
       "      <td>3.2</td>\n",
       "      <td>1.3</td>\n",
       "      <td>0.2</td>\n",
       "      <td>0</td>\n",
       "      <td>setosa</td>\n",
       "    </tr>\n",
       "    <tr>\n",
       "      <th>3</th>\n",
       "      <td>4.6</td>\n",
       "      <td>3.1</td>\n",
       "      <td>1.5</td>\n",
       "      <td>0.2</td>\n",
       "      <td>0</td>\n",
       "      <td>setosa</td>\n",
       "    </tr>\n",
       "    <tr>\n",
       "      <th>4</th>\n",
       "      <td>5.0</td>\n",
       "      <td>3.6</td>\n",
       "      <td>1.4</td>\n",
       "      <td>0.2</td>\n",
       "      <td>0</td>\n",
       "      <td>setosa</td>\n",
       "    </tr>\n",
       "  </tbody>\n",
       "</table>\n",
       "</div>"
      ],
      "text/plain": [
       "   sepal length (cm)  sepal width (cm)  petal length (cm)  petal width (cm)  \\\n",
       "0                5.1               3.5                1.4               0.2   \n",
       "1                4.9               3.0                1.4               0.2   \n",
       "2                4.7               3.2                1.3               0.2   \n",
       "3                4.6               3.1                1.5               0.2   \n",
       "4                5.0               3.6                1.4               0.2   \n",
       "\n",
       "   target target_names  \n",
       "0       0       setosa  \n",
       "1       0       setosa  \n",
       "2       0       setosa  \n",
       "3       0       setosa  \n",
       "4       0       setosa  "
      ]
     },
     "execution_count": 2,
     "metadata": {},
     "output_type": "execute_result"
    }
   ],
   "source": [
    "# Irisデータセットの読み込み\n",
    "\n",
    "import pandas as pd\n",
    "from sklearn import datasets\n",
    "\n",
    "iris = datasets.load_iris()\n",
    "\n",
    "# 扱いやすいよう、pandasのDataFrame形式に変換\n",
    "df = pd.DataFrame(iris.data, columns=iris.feature_names)\n",
    "df['target'] = iris.target\n",
    "df['target_names'] = iris.target_names[iris.target]\n",
    "df.head()"
   ]
  },
  {
   "cell_type": "markdown",
   "metadata": {},
   "source": [
    "ここで、列名の最初の4つ（sepal lengthなど）は、「がく」や花びらの長さ・幅を表しており、target, target_namesはそれぞれ品種番号(0,1,2)、品種名を表している。"
   ]
  },
  {
   "cell_type": "code",
   "execution_count": 3,
   "metadata": {},
   "outputs": [
    {
     "name": "stdout",
     "output_type": "stream",
     "text": [
      "# of records: 150\n",
      "\n",
      "value_counts:\n",
      "virginica     50\n",
      "versicolor    50\n",
      "setosa        50\n",
      "Name: target_names, dtype: int64\n"
     ]
    }
   ],
   "source": [
    "# サンプル総数\n",
    "print(f\"# of records: {len(df)}\\n\")\n",
    "\n",
    "# 各品種のサンプル数\n",
    "print(\"value_counts:\")\n",
    "print(df.target_names.value_counts())"
   ]
  },
  {
   "cell_type": "markdown",
   "metadata": {},
   "source": [
    "各サンプルについて、sepal length（がくの長さ）など4種類のデータがあるが、これらのうちpetal length(花びらの長さ), petal width(花びらの幅)に着目して分析を行う。"
   ]
  },
  {
   "cell_type": "code",
   "execution_count": 4,
   "metadata": {},
   "outputs": [],
   "source": [
    "## 教師データ作成\n",
    "# ここではpetal length, petal widthの2種類のデータを用いる。より高次元への拡張は容易である。\n",
    "x_train = df.loc[:,['petal length (cm)', 'petal width (cm)']].to_numpy() # shape:(150, 2)\n",
    "y_train = np.eye(3)[iris.target] # one-hot 表現 shape:(150, 3)"
   ]
  },
  {
   "cell_type": "code",
   "execution_count": 5,
   "metadata": {},
   "outputs": [
    {
     "data": {
      "image/png": "[encoded data removed]",
      "text/plain": [
       "<Figure size 576x360 with 1 Axes>"
      ]
     },
     "metadata": {
      "needs_background": "light"
     },
     "output_type": "display_data"
    }
   ],
   "source": [
    "# データ点のプロット\n",
    "plt.figure(figsize=(8, 5))\n",
    "\n",
    "for t in range(3):\n",
    "    x = x_train[iris.target==t][:,0]\n",
    "    y = x_train[iris.target==t][:,1]\n",
    "    cm = [plt.cm.Paired([c]) for c in [0,6,11]]\n",
    "    plt.scatter(x, y, c=cm[t], edgecolors='k', label=iris.target_names[t])\n",
    "\n",
    "# label\n",
    "plt.title('Iris dataset')\n",
    "plt.xlabel('petal length (cm)')\n",
    "plt.ylabel('petal width (cm)') \n",
    "plt.legend()\n",
    "plt.show()"
   ]
  },
  {
   "cell_type": "markdown",
   "metadata": {},
   "source": [
    "## QCLを用いた分類"
   ]
  },
  {
   "cell_type": "markdown",
   "metadata": {},
   "source": [
    "以下ではQCLを用いた分類問題を解くクラスであるQclClassificationを用いて、実際にIrisデータセットが分類される様子を見る。"
   ]
  },
  {
   "cell_type": "code",
   "execution_count": 6,
   "metadata": {},
   "outputs": [],
   "source": [
    "from qcl_classification import QclClassification"
   ]
  },
  {
   "cell_type": "code",
   "execution_count": 7,
   "metadata": {},
   "outputs": [],
   "source": [
    "# 乱数発生器の初期化（量子回路のパラメータの初期値に用いる）\n",
    "random_seed = 0\n",
    "np.random.seed(random_seed)"
   ]
  },
  {
   "cell_type": "code",
   "execution_count": 8,
   "metadata": {},
   "outputs": [],
   "source": [
    "# 量子回路のパラメータ\n",
    "nqubit = 3 ## qubitの数。必要とする出力の次元数よりも多い必要がある\n",
    "c_depth = 2 ## circuitの深さ\n",
    "num_class = 3 ## 分類数（ここでは3つの品種に分類）"
   ]
  },
  {
   "cell_type": "code",
   "execution_count": 9,
   "metadata": {},
   "outputs": [],
   "source": [
    "# QclClassificationクラスをインスタンス化\n",
    "qcl = QclClassification(nqubit, c_depth, num_class)"
   ]
  },
  {
   "cell_type": "markdown",
   "metadata": {},
   "source": [
    "QclClassificationのfit()メソッドで、関数のfittingを行う。  \n",
    "学習には筆者のPCで1分程度を要する。"
   ]
  },
  {
   "cell_type": "code",
   "execution_count": 10,
   "metadata": {},
   "outputs": [
    {
     "name": "stdout",
     "output_type": "stream",
     "text": [
      "Initial parameter:\n",
      "[2.74944154 5.60317502 6.0548717  2.40923412 4.97455513 3.32314479\n",
      " 3.56912924 5.8156952  0.44633272 0.54744954 0.12703594 5.23150478\n",
      " 4.88930306 5.46644755 6.14884039 5.02126135 2.89956035 4.90420945]\n",
      "\n",
      "Initial value of cost function:  0.9218\n",
      "\n",
      "============================================================\n",
      "Iteration count...\n",
      "Iteration: 100 / 1000,   Value of cost_func: 0.7567\n",
      "Iteration: 200 / 1000,   Value of cost_func: 0.7358\n",
      "Iteration: 300 / 1000,   Value of cost_func: 0.7157\n",
      "Iteration: 400 / 1000,   Value of cost_func: 0.7111\n",
      "Iteration: 500 / 1000,   Value of cost_func: 0.6886\n",
      "Iteration: 600 / 1000,   Value of cost_func: 0.6809\n",
      "Iteration: 700 / 1000,   Value of cost_func: 0.6803\n",
      "Iteration: 800 / 1000,   Value of cost_func: 0.6802\n",
      "Iteration: 900 / 1000,   Value of cost_func: 0.6802\n",
      "============================================================\n",
      "\n",
      "Optimized parameter:\n",
      "[2.01293141e+00 4.85442551e+00 3.34321975e+00 3.95871935e+00\n",
      " 2.59723630e+00 3.80915883e+00 2.10212523e+00 5.55684541e+00\n",
      " 4.46151079e-03 5.20983610e-01 1.48202747e-01 8.47734542e+00\n",
      " 4.16801769e+00 7.19207499e+00 7.36634981e+00 6.77852645e+00\n",
      " 2.94424683e+00 4.90477495e+00]\n",
      "\n",
      "Final value of cost function:  0.6802\n",
      "\n",
      "Wall time: 1min 39s\n"
     ]
    }
   ],
   "source": [
    "%%time\n",
    "# 学習を行う\n",
    "# ここではNelder-Mead法を用いる\n",
    "res, theta_init, theta_opt = qcl.fit(x_train, y_train, maxiter=1000)"
   ]
  },
  {
   "cell_type": "markdown",
   "metadata": {},
   "source": [
    "## プロット"
   ]
  },
  {
   "cell_type": "code",
   "execution_count": 11,
   "metadata": {},
   "outputs": [],
   "source": [
    "# グラフ用の設定\n",
    "h = .05  # step size in the mesh\n",
    "X = x_train\n",
    "x_min, x_max = X[:, 0].min() - .5, X[:, 0].max() + .5\n",
    "y_min, y_max = X[:, 1].min() - .5, X[:, 1].max() + .5\n",
    "xx, yy = np.meshgrid(np.arange(x_min, x_max, h), np.arange(y_min, y_max, h))"
   ]
  },
  {
   "cell_type": "code",
   "execution_count": 12,
   "metadata": {},
   "outputs": [],
   "source": [
    "# 各petal length, petal widthについて、モデルの予測値をプロットする関数\n",
    "def decision_boundary(X, y, theta, title='(title here)'):\n",
    "    plt.figure(figsize=(8, 5))\n",
    "\n",
    "    # Plot the decision boundary. For that, we will assign a color to each\n",
    "    # point in the mesh [x_min, x_max]x[y_min, y_max].\n",
    "    qcl.set_input_state(np.c_[xx.ravel(), yy.ravel()])\n",
    "    Z = qcl.pred(theta) # モデルのパラメータθも更新される\n",
    "    Z = np.argmax(Z, axis=1)\n",
    "    \n",
    "    # Put the result into a color plot\n",
    "    Z = Z.reshape(xx.shape)\n",
    "    plt.pcolormesh(xx, yy, Z, cmap=plt.cm.Paired)\n",
    "\n",
    "    # Plot also the training points\n",
    "    plt.scatter(X[:, 0], X[:, 1], c=y, edgecolors='k', cmap=plt.cm.Paired)\n",
    "\n",
    "    # label\n",
    "    plt.title(title)\n",
    "    plt.xlabel('petal length (cm)')\n",
    "    plt.ylabel('petal width (cm)')\n",
    "    plt.show()"
   ]
  },
  {
   "cell_type": "code",
   "execution_count": 13,
   "metadata": {},
   "outputs": [
    {
     "data": {
      "image/png": "[encoded data removed]",
      "text/plain": [
       "<Figure size 576x360 with 1 Axes>"
      ]
     },
     "metadata": {
      "needs_background": "light"
     },
     "output_type": "display_data"
    }
   ],
   "source": [
    "# パラメータthetaの初期値のもとでのグラフ\n",
    "decision_boundary(x_train, iris.target, theta_init, title='Initial')"
   ]
  },
  {
   "cell_type": "code",
   "execution_count": 14,
   "metadata": {},
   "outputs": [
    {
     "data": {
      "image/png": "[encoded data removed]",
      "text/plain": [
       "<Figure size 576x360 with 1 Axes>"
      ]
     },
     "metadata": {
      "needs_background": "light"
     },
     "output_type": "display_data"
    }
   ],
   "source": [
    "# パラメータthetaの最適解のもとでのグラフ\n",
    "decision_boundary(x_train, iris.target, theta_opt, title='Optimized')"
   ]
  },
  {
   "cell_type": "markdown",
   "metadata": {},
   "source": [
    "上図、下図がそれぞれ学習前、学習後に対応している。ここで、データ点と各メッシュの色は、それぞれ同じ品種に対応している。  \n",
    "確かにIrisデータセットの分類に成功していることがわかる。"
   ]
  },
  {
   "cell_type": "markdown",
   "metadata": {},
   "source": [
    "## まとめ"
   ]
  },
  {
   "cell_type": "markdown",
   "metadata": {},
   "source": [
    "本節では、量子回路学習(QCL)を用いて実際の機械学習の問題（分類問題）の解決を行った。  \n",
    "以上は簡単な例ではあるが、量子コンピュータの機械学習への応用の可能性を示唆している。  \n",
    "意欲のある読者は、QCLを用いてより高度な機械学習のタスク（画像認識、自然言語処理など）や、上記モデルの改善に挑戦されたい。  \n",
    "また、更に深く勉強されたい向きは、QunaSys CTO 御手洗による、量子機械学習に関する[講義ノート](https://www2.yukawa.kyoto-u.ac.jp/~qischool2019/mitaraiCTO.pdf)を参照されたい。"
   ]
  }
 ],
 "metadata": {
  "kernelspec": {
   "display_name": "Python 3",
   "language": "python",
   "name": "python3"
  },
  "language_info": {
   "codemirror_mode": {
    "name": "ipython",
    "version": 3
   },
   "file_extension": ".py",
   "mimetype": "text/x-python",
   "name": "python",
   "nbconvert_exporter": "python",
   "pygments_lexer": "ipython3",
   "version": "3.6.7"
  }
 },
 "nbformat": 4,
 "nbformat_minor": 2
}
