{
 "cells": [
  {
   "cell_type": "markdown",
   "metadata": {},
   "source": [
    "### 7-4 HHLアルゴリズムを用いたポートフォリオ最適化\n",
    "この節では[1]を参考に、過去の株価変動のデータから、最適なポートフォリオ（資産配分）を計算する。\n",
    "このようなポートフォリオ最適化の問題は、量子計算の基本的なアルゴリズムである「HHLアルゴリズム」を用いることで、従来より高速に解けることが期待されている。\n",
    "本ノートブックでは、GAFA(Google, Apple, Facebook, Amazon)の4社の株に投資する際、どのような資産配分を行えば最も低いリスクで高いリターンを得られるかという問題を考える。\n",
    "\n",
    "### 7-4-1 株価データ取得\n",
    "* GAFA 4社の日次データを用いる\n",
    "* 株価データ取得のためにpandas_datareaderを用いてYahoo! Financeのデータベースから取得\n",
    "* 株価はドル建ての調整後終値（Adj. Close）を用いる"
   ]
  },
  {
   "cell_type": "code",
   "execution_count": 1,
   "metadata": {},
   "outputs": [],
   "source": [
    "%load_ext autoreload\n",
    "%autoreload 2"
   ]
  },
  {
   "cell_type": "code",
   "execution_count": 2,
   "metadata": {},
   "outputs": [],
   "source": [
    "# データ取得に必要なpandas_datareaderのインストール\n",
    "# !pip install pandas_datareader"
   ]
  },
  {
   "cell_type": "code",
   "execution_count": 3,
   "metadata": {
    "scrolled": true
   },
   "outputs": [
    {
     "ename": "ModuleNotFoundError",
     "evalue": "No module named 'pandas_datareader'",
     "output_type": "error",
     "traceback": [
      "\u001b[0;31m---------------------------------------------------------------------------\u001b[0m",
      "\u001b[0;31mModuleNotFoundError\u001b[0m                       Traceback (most recent call last)",
      "\u001b[0;32m<ipython-input-3-36a7919607e0>\u001b[0m in \u001b[0;36m<module>\u001b[0;34m\u001b[0m\n\u001b[1;32m      1\u001b[0m \u001b[0;32mimport\u001b[0m \u001b[0mnumpy\u001b[0m \u001b[0;32mas\u001b[0m \u001b[0mnp\u001b[0m\u001b[0;34m\u001b[0m\u001b[0;34m\u001b[0m\u001b[0m\n\u001b[1;32m      2\u001b[0m \u001b[0;32mimport\u001b[0m \u001b[0mpandas\u001b[0m \u001b[0;32mas\u001b[0m \u001b[0mpd\u001b[0m\u001b[0;34m\u001b[0m\u001b[0;34m\u001b[0m\u001b[0m\n\u001b[0;32m----> 3\u001b[0;31m \u001b[0;32mimport\u001b[0m \u001b[0mpandas_datareader\u001b[0m\u001b[0;34m.\u001b[0m\u001b[0mdata\u001b[0m \u001b[0;32mas\u001b[0m \u001b[0mweb\u001b[0m\u001b[0;34m\u001b[0m\u001b[0;34m\u001b[0m\u001b[0m\n\u001b[0m\u001b[1;32m      4\u001b[0m \u001b[0;32mimport\u001b[0m \u001b[0mdatetime\u001b[0m\u001b[0;34m\u001b[0m\u001b[0;34m\u001b[0m\u001b[0m\n\u001b[1;32m      5\u001b[0m \u001b[0;32mimport\u001b[0m \u001b[0mmatplotlib\u001b[0m\u001b[0;34m.\u001b[0m\u001b[0mpyplot\u001b[0m \u001b[0;32mas\u001b[0m \u001b[0mplt\u001b[0m\u001b[0;34m\u001b[0m\u001b[0;34m\u001b[0m\u001b[0m\n",
      "\u001b[0;31mModuleNotFoundError\u001b[0m: No module named 'pandas_datareader'"
     ]
    }
   ],
   "source": [
    "import numpy as np\n",
    "import pandas as pd\n",
    "import pandas_datareader.data as web\n",
    "import datetime\n",
    "import matplotlib.pyplot as plt"
   ]
  },
  {
   "cell_type": "code",
   "execution_count": 4,
   "metadata": {},
   "outputs": [
    {
     "ename": "NameError",
     "evalue": "name 'datetime' is not defined",
     "output_type": "error",
     "traceback": [
      "\u001b[0;31m---------------------------------------------------------------------------\u001b[0m",
      "\u001b[0;31mNameError\u001b[0m                                 Traceback (most recent call last)",
      "\u001b[0;32m<ipython-input-4-6a4784e51971>\u001b[0m in \u001b[0;36m<module>\u001b[0;34m\u001b[0m\n\u001b[1;32m      3\u001b[0m \u001b[0;34m\u001b[0m\u001b[0m\n\u001b[1;32m      4\u001b[0m \u001b[0;31m# 2017年の1年間のデータを使用\u001b[0m\u001b[0;34m\u001b[0m\u001b[0;34m\u001b[0m\u001b[0;34m\u001b[0m\u001b[0m\n\u001b[0;32m----> 5\u001b[0;31m \u001b[0mstart\u001b[0m \u001b[0;34m=\u001b[0m \u001b[0mdatetime\u001b[0m\u001b[0;34m.\u001b[0m\u001b[0mdatetime\u001b[0m\u001b[0;34m(\u001b[0m\u001b[0;36m2017\u001b[0m\u001b[0;34m,\u001b[0m \u001b[0;36m1\u001b[0m\u001b[0;34m,\u001b[0m \u001b[0;36m1\u001b[0m\u001b[0;34m)\u001b[0m\u001b[0;34m\u001b[0m\u001b[0;34m\u001b[0m\u001b[0m\n\u001b[0m\u001b[1;32m      6\u001b[0m \u001b[0mend\u001b[0m \u001b[0;34m=\u001b[0m \u001b[0mdatetime\u001b[0m\u001b[0;34m.\u001b[0m\u001b[0mdatetime\u001b[0m\u001b[0;34m(\u001b[0m\u001b[0;36m2017\u001b[0m\u001b[0;34m,\u001b[0m \u001b[0;36m12\u001b[0m\u001b[0;34m,\u001b[0m \u001b[0;36m31\u001b[0m\u001b[0;34m)\u001b[0m\u001b[0;34m\u001b[0m\u001b[0;34m\u001b[0m\u001b[0m\n\u001b[1;32m      7\u001b[0m \u001b[0;34m\u001b[0m\u001b[0m\n",
      "\u001b[0;31mNameError\u001b[0m: name 'datetime' is not defined"
     ]
    }
   ],
   "source": [
    "# 銘柄選択\n",
    "codes = ['GOOG', 'AAPL', 'FB', 'AMZN'] # GAFA\n",
    "\n",
    "# 2017年の1年間のデータを使用\n",
    "start = datetime.datetime(2017, 1, 1)\n",
    "end = datetime.datetime(2017, 12, 31)\n",
    "\n",
    "# Yahoo! Financeから日次の株価データを取得\n",
    "data = web.DataReader(codes, 'yahoo', start, end)\n",
    "\n",
    "df = data['Adj Close'] \n",
    "\n",
    "display(df.tail())"
   ]
  },
  {
   "cell_type": "code",
   "execution_count": 5,
   "metadata": {
    "scrolled": true
   },
   "outputs": [
    {
     "ename": "NameError",
     "evalue": "name 'plt' is not defined",
     "output_type": "error",
     "traceback": [
      "\u001b[0;31m---------------------------------------------------------------------------\u001b[0m",
      "\u001b[0;31mNameError\u001b[0m                                 Traceback (most recent call last)",
      "\u001b[0;32m<ipython-input-5-6f3d6467047b>\u001b[0m in \u001b[0;36m<module>\u001b[0;34m\u001b[0m\n\u001b[0;32m----> 1\u001b[0;31m \u001b[0mfig\u001b[0m\u001b[0;34m,\u001b[0m \u001b[0maxes\u001b[0m \u001b[0;34m=\u001b[0m \u001b[0mplt\u001b[0m\u001b[0;34m.\u001b[0m\u001b[0msubplots\u001b[0m\u001b[0;34m(\u001b[0m\u001b[0mnrows\u001b[0m\u001b[0;34m=\u001b[0m\u001b[0;36m1\u001b[0m\u001b[0;34m,\u001b[0m \u001b[0mncols\u001b[0m\u001b[0;34m=\u001b[0m\u001b[0;36m2\u001b[0m\u001b[0;34m,\u001b[0m \u001b[0mfigsize\u001b[0m\u001b[0;34m=\u001b[0m\u001b[0;34m(\u001b[0m\u001b[0;36m15\u001b[0m\u001b[0;34m,\u001b[0m \u001b[0;36m6\u001b[0m\u001b[0;34m)\u001b[0m\u001b[0;34m)\u001b[0m\u001b[0;34m\u001b[0m\u001b[0;34m\u001b[0m\u001b[0m\n\u001b[0m\u001b[1;32m      2\u001b[0m \u001b[0mdf\u001b[0m\u001b[0;34m.\u001b[0m\u001b[0mloc\u001b[0m\u001b[0;34m[\u001b[0m\u001b[0;34m:\u001b[0m\u001b[0;34m,\u001b[0m\u001b[0;34m[\u001b[0m\u001b[0;34m'AAPL'\u001b[0m\u001b[0;34m,\u001b[0m \u001b[0;34m'FB'\u001b[0m\u001b[0;34m]\u001b[0m\u001b[0;34m]\u001b[0m\u001b[0;34m.\u001b[0m\u001b[0mplot\u001b[0m\u001b[0;34m(\u001b[0m\u001b[0max\u001b[0m\u001b[0;34m=\u001b[0m\u001b[0maxes\u001b[0m\u001b[0;34m[\u001b[0m\u001b[0;36m0\u001b[0m\u001b[0;34m]\u001b[0m\u001b[0;34m)\u001b[0m\u001b[0;34m\u001b[0m\u001b[0;34m\u001b[0m\u001b[0m\n\u001b[1;32m      3\u001b[0m \u001b[0mdf\u001b[0m\u001b[0;34m.\u001b[0m\u001b[0mloc\u001b[0m\u001b[0;34m[\u001b[0m\u001b[0;34m:\u001b[0m\u001b[0;34m,\u001b[0m\u001b[0;34m[\u001b[0m\u001b[0;34m'GOOG'\u001b[0m\u001b[0;34m,\u001b[0m \u001b[0;34m'AMZN'\u001b[0m\u001b[0;34m]\u001b[0m\u001b[0;34m]\u001b[0m\u001b[0;34m.\u001b[0m\u001b[0mplot\u001b[0m\u001b[0;34m(\u001b[0m\u001b[0max\u001b[0m\u001b[0;34m=\u001b[0m\u001b[0maxes\u001b[0m\u001b[0;34m[\u001b[0m\u001b[0;36m1\u001b[0m\u001b[0;34m]\u001b[0m\u001b[0;34m)\u001b[0m\u001b[0;34m\u001b[0m\u001b[0;34m\u001b[0m\u001b[0m\n",
      "\u001b[0;31mNameError\u001b[0m: name 'plt' is not defined"
     ]
    }
   ],
   "source": [
    "fig, axes = plt.subplots(nrows=1, ncols=2, figsize=(15, 6))\n",
    "df.loc[:,['AAPL', 'FB']].plot(ax=axes[0])\n",
    "df.loc[:,['GOOG', 'AMZN']].plot(ax=axes[1])"
   ]
  },
  {
   "cell_type": "markdown",
   "metadata": {},
   "source": [
    "※ここで、4つの銘柄を2つのグループに分けているのは、株価の値がそれぞれ近くプロット時に見やすいからであり、深い意味はない。\n",
    "\n",
    "### データ前処理\n",
    "株価を日次リターンに\n",
    "個別銘柄の日次リターン（変化率） $y_t$ （$t$は日付）は以下で定義される。 \n",
    "$$\n",
    "y_t = \\frac{P_t - P_{t-1}}{P_{t-1}}\n",
    "$$\n",
    "これは `pandas DataFrame` の `pct_change()` メソッドで得られる。"
   ]
  },
  {
   "cell_type": "code",
   "execution_count": null,
   "metadata": {},
   "outputs": [],
   "source": [
    "daily_return = df.pct_change()\n",
    "display(daily_return.tail())"
   ]
  },
  {
   "cell_type": "markdown",
   "metadata": {},
   "source": [
    "### 期待リターン\n",
    "銘柄ごとの期待リターン$\\vec R$を求める。ここでは過去のリターンの算術平均を用いる： \n",
    "$$\n",
    "\\vec R = \\frac{1}{T} \\sum_{t= 1}^{T} \\vec y(t)\n",
    "$$"
   ]
  },
  {
   "cell_type": "code",
   "execution_count": null,
   "metadata": {},
   "outputs": [],
   "source": [
    "expected_return = daily_return.dropna(how='all').mean() * 252 # 年率換算のため年間の営業日数252を掛ける\n",
    "expected_return"
   ]
  },
  {
   "cell_type": "markdown",
   "metadata": {},
   "source": [
    "### 現在価格\n",
    "各銘柄の現在価格 $\\Pi$"
   ]
  },
  {
   "cell_type": "code",
   "execution_count": null,
   "metadata": {},
   "outputs": [],
   "source": [
    "current_price = df.iloc[-1].copy()\n",
    "# current_price.iloc[:] = np.ones(4) # Π=1 のために必要\n",
    "current_price"
   ]
  },
  {
   "cell_type": "code",
   "execution_count": null,
   "metadata": {},
   "outputs": [],
   "source": [
    "df.tail()"
   ]
  },
  {
   "cell_type": "markdown",
   "metadata": {},
   "source": [
    "### 分散・共分散行列\n",
    "リターンの標本不偏分散・共分散行列$\\Sigma$は以下で定義される。\n",
    "$$\n",
    "\\Sigma = \\frac{1}{T-1} \\sum_{t=1}^{T} ( \\vec y(t) -\\vec R ) (\\vec y(t) -\\vec R )^T\n",
    "$$"
   ]
  },
  {
   "cell_type": "code",
   "execution_count": null,
   "metadata": {},
   "outputs": [],
   "source": [
    "cov = daily_return.dropna(how='all').cov() * 252 # 年率換算のため\n",
    "display(cov)"
   ]
  },
  {
   "cell_type": "markdown",
   "metadata": {},
   "source": [
    "### 7-4-2 ポートフォリオ最適化\n",
    "以下の式を満たすようなポートフォリオ（i.e., 資産配分）$\\vec w$を求める。\n",
    "$$\n",
    "\\begin{eqnarray}\n",
    "\\min_{\\vec w} \\vec w^T \\Sigma \\vec w \\\\\n",
    "{\\rm s.t. } \\vec R^T \\vec w = \\mu \\\\ \n",
    "\\vec \\Pi^T \\vec w =\\xi\n",
    "\\end{eqnarray}\n",
    "$$\n",
    "ここで、3つの式はそれぞれ\n",
    "* 「ポートフォリオのリターンの分散最小化」\n",
    "* 「ポートフォリオの期待リターンが$\\mu$となること」\n",
    "* 「ポートフォリオに投資する金額の合計が$\\xi$となること」\n",
    "\n",
    "という条件を表す。\n",
    "ラグランジュの未定乗数法を用いると、この条件を満たす$\\vec w$は、線形方程式\n",
    "$$\n",
    "W\\left ( \n",
    "\\begin{array}{c}\n",
    "\\eta \\\\\n",
    "\\theta \\\\\n",
    "\\vec w\n",
    "\\end{array}\n",
    "\\right )\n",
    "=\n",
    "\\left ( \n",
    "\\begin{array}{c}\n",
    " \\mu \\\\\n",
    " \\xi \\\\\n",
    "\\vec 0\n",
    "\\end{array}\n",
    "\\right ),\\tag{1}\n",
    "$$\n",
    "$$ \n",
    "\\\\ W = \\left ( \n",
    "\\begin{array}{ccc} 0 & 0 & \\vec R^T \\\\ 0 & 0 & \\vec \\Pi^T \\\\ \\vec{R} &\\vec \\Pi & \\Sigma \n",
    "\\end{array} \\right ) \n",
    "$$\n",
    "を解くことで得られる事がわかる。ここで$\\eta, \\theta$はラグランジュの未定乗数法のパラメータ。 $\\mu$はポートフォリオの期待リターン、$\\xi$は総資産額である。\n",
    "したがって、最適なポートフォリオ$\\vec w$を求めるためには、連立方程式(1)を$\\vec w$について解けば良い。\n",
    "\n",
    "### 行列Wの作成"
   ]
  },
  {
   "cell_type": "code",
   "execution_count": null,
   "metadata": {},
   "outputs": [],
   "source": [
    "R = expected_return.values\n",
    "Pi = current_price.values\n",
    "S = cov.values\n",
    "\n",
    "row1 = np.append(np.zeros(2), R).reshape(1,-1)\n",
    "row2 = np.append(np.zeros(2), Pi).reshape(1,-1)\n",
    "row3 = np.concatenate([R.reshape(-1,1), Pi.reshape(-1,1), S], axis=1)\n",
    "W = np.concatenate([row1, row2, row3])\n",
    "\n",
    "np.set_printoptions(linewidth=200)\n",
    "print(W)"
   ]
  },
  {
   "cell_type": "markdown",
   "metadata": {},
   "source": [
    "### その他のパラメータ\n",
    "ポートフォリオの期待リターン$\\mu$を指定すると、そのようなリターンをもたらす最もリスクの小さいポートフォリオを計算できる。$\\mu$は自由に設定できる。一般に期待リターンが大きいほどリスクも大きくなるが、ここでは例として10%としておく。\n",
    "\n",
    "$\\xi$はポートフォリオに投資する合計金額である。ここでは1とおくが、単位は何でも良い。"
   ]
  },
  {
   "cell_type": "markdown",
   "metadata": {},
   "source": [
    "以上で、連立方程式(1)を解く準備が整った。\n",
    "\n",
    "### 7-4-3 最小分散ポートフォリオ算出\n",
    "7章で学んだ HHL アルゴリズムを用いて、連立一次方程式(1)を解く。\n",
    "\n",
    "先ずはその下準備として、\n",
    "* ベクトル $\\vec {x}$ が与えられた時に $\\sum_i x_i |i \\rangle$ を準備する量子回路を返す関数 `input_state_gate`\n",
    "* 制御位相ゲートを返す関数 `CPhaseGate`\n",
    "* 量子フーリエ変換を行うゲートを返す関数 `QFT_gate` \n",
    "\n",
    "を実装する。"
   ]
  },
  {
   "cell_type": "code",
   "execution_count": null,
   "metadata": {},
   "outputs": [],
   "source": [
    "# Qulacs のインストール\n",
    "# !pip install qulacs"
   ]
  },
  {
   "cell_type": "code",
   "execution_count": null,
   "metadata": {},
   "outputs": [],
   "source": [
    "import numpy as np\n",
    "from qulacs import QuantumCircuit, QuantumState, gate\n",
    "from qulacs.gate import merge, Identity, H, SWAP\n",
    "\n",
    "def input_state_gate(start_bit, end_bit, vec):\n",
    "    \"\"\" \n",
    "    Making a quantum gate which transform |0> to \\sum_i x[i]|i>m where x[i] is input vector.\n",
    "    !!! this uses 2**n times 2**n matrix, so it is quite memory-cosuming.\n",
    "    !!! this gate is not unitary (we assume that the input state is |0>)\n",
    "    Args:\n",
    "      int start_bit: first index of qubit which the gate applies \n",
    "      int end_bit:   last index of qubit which the gate applies\n",
    "      np.ndarray vec:  input vector.\n",
    "    Returns:\n",
    "      qulacs.QuantumGate \n",
    "    \"\"\"\n",
    "    nbit = end_bit - start_bit + 1\n",
    "    assert vec.size == 2**nbit\n",
    "    mat_0tox = np.eye(vec.size, dtype=complex)\n",
    "    mat_0tox[:,0] = vec\n",
    "    return gate.DenseMatrix(np.arange(start_bit, end_bit+1), mat_0tox)\n",
    "\n",
    "def CPhaseGate(target, control, angle):\n",
    "    \"\"\" \n",
    "    Create controlled phase gate diag(1,e^{i*angle}) with controll. (Qulacs.gate is requried)\n",
    "    Args:\n",
    "      int target:  index of target qubit.\n",
    "      int control:  index of control qubit.\n",
    "      float64 angle: angle of phase gate.\n",
    "    Returns:\n",
    "      QuantumGateBase.DenseMatrix: diag(1, exp(i*angle)).\n",
    "    \"\"\"\n",
    "    CPhaseGate = gate.DenseMatrix(target, np.array( [[1,0], [0,np.cos(angle)+1.j*np.sin(angle)]])  )\n",
    "    CPhaseGate.add_control_qubit(control, 1)\n",
    "    return CPhaseGate\n",
    "\n",
    "def QFT_gate(start_bit, end_bit, Inverse = False):\n",
    "    \"\"\" \n",
    "    Making a gate which performs quantum Fourier transfromation between start_bit to end_bit.\n",
    "    (Definition below is the case when start_bit = 0 and end_bit=n-1)\n",
    "    We associate an integer  j = j_{n-1}...j_0 to quantum state |j_{n-1}...j_0>.\n",
    "    We define QFT as\n",
    "    |k> = |k_{n-1}...k_0> = 1/sqrt(2^n) sum_{j=0}^{2^n-1} exp(2pi*i*(k/2^n)*j) |j>.\n",
    "    then, |k_m > = 1/sqrt(2)*(|0> + exp(i*2pi*0.j_{n-1-m}...j_0)|1> )\n",
    "    When Inverse=True,  the gate represents Inverse QFT,\n",
    "    |k> = |k_{n-1}...k_0> = 1/sqrt(2^n) sum_{j=0}^{2^n-1} exp(-2pi*i*(k/2^n)*j) |j>.\n",
    "    Args:\n",
    "      int start_bit:  first index of qubits where we apply QFT.\n",
    "      int end_bit:    last  index of qubits where we apply QFT.\n",
    "      bool Inverse: When True, the gate perform inverse-QFT ( = QFT^{\\dagger}).\n",
    "    Returns:\n",
    "      qulacs.QuantumGate: QFT gate which acts on a region between start_bit and end_bit.\n",
    "    \"\"\"\n",
    "\n",
    "    gate = Identity(start_bit) ## make empty gate\n",
    "    n = end_bit - start_bit + 1  ## size of QFT\n",
    "\n",
    "    ## loop from j_{n-1} \n",
    "    for target in range(end_bit, start_bit-1, -1):\n",
    "        gate = merge(gate, H(target)) ## 1/sqrt(2)(|0> + exp(i*2pi*0.j_{target})|1>)\n",
    "        for control in range(start_bit, target):\n",
    "            gate = merge( gate, CPhaseGate(target, control, (-1)**Inverse * 2.*np.pi/2**(target-control+1)) )\n",
    "    ## perform SWAP between (start_bit + s)-th bit and (end_bit - s)-th bit\n",
    "    for s in range(n//2):  ## s runs 0 to n//2-1\n",
    "        gate = merge(gate, SWAP(start_bit + s, end_bit - s))\n",
    "    ## return final circuit\n",
    "    return gate"
   ]
  },
  {
   "cell_type": "markdown",
   "metadata": {},
   "source": [
    "次に連立方程式 $A \\vec{x} = \\vec{b}$の $A$, $\\vec{b}$ を入力として、HHL アルゴリズムを用いて解 $\\vec{x}$ を求める関数 `HHL_solve` を実装する。\n",
    "\n",
    "引数として上記 $A$、 $\\vec{b}$ に加え、レジスタ量子ビット数 `reg_nbit`（デフォルト=`4`）、$U=e^{iAt}$ の位相推定に使う時間 $t$（デフォルト=`0.5`）を取る。\n",
    "\n",
    "返り値は2つあり、それぞれ HHL アルゴリズムによる解 `x_HHL` と、通常の古典計算の対角化による解 `x_true` である。"
   ]
  },
  {
   "cell_type": "code",
   "execution_count": null,
   "metadata": {},
   "outputs": [],
   "source": [
    "from functools import reduce\n",
    "\n",
    "def HHL_solve(A, b, reg_nbit=4, t=0.5):\n",
    "    \"\"\"\n",
    "    連立一次方程式Ax=bを解く。\n",
    "    Parameters\n",
    "    ----------\n",
    "    A : ndarray\n",
    "        n×n行列。\n",
    "    b : ndarray\n",
    "        n次元ベクトル。\n",
    "    reg_nbit : int\n",
    "        計算に用いるレジスタ量子ビットの数。\n",
    "    t : float\n",
    "        U=e^{iAt} の位相推定に使う時間\n",
    "    \n",
    "    Returns\n",
    "    -----------\n",
    "    x_HHL : ndarray\n",
    "        シミュレーターを用いたHHLアルゴリズムによる解x。\n",
    "    x_true : ndarray\n",
    "        np.linalg.solveによる解x。\n",
    "    \"\"\"\n",
    "\n",
    "    assert len(A)==len(b), 'Dimension mismatch.'\n",
    "\n",
    "    print('A.shape:', A.shape)\n",
    "    print('b.shape:', b.shape)\n",
    "\n",
    "    ### ---------  パラメータ設定始まり -------------- ###\n",
    "    ## 乱数の初期化\n",
    "    #my_seed = 301\n",
    "    #np.random.seed(my_seed)\n",
    "\n",
    "    ## 解きたい一次方程式 Ax=b の行列およびベクトルの大きさ\n",
    "    n = len(b)\n",
    "\n",
    "    # nbit = 2 ## bit数 (ベクトルの長さは2^nbit)\n",
    "    nbit = np.int(np.ceil(np.log2(n))) # 考える行列の次元が2^n (n:整数)でない場合にも対応\n",
    "    N = 2**nbit\n",
    "\n",
    "    # A (b) をN×N行列A0 (N次元ベクトルb0) に入れておく。残りの部分は0で埋める。\n",
    "    A0 = np.zeros((N, N))\n",
    "    A0[:A.shape[0],:A.shape[1]] = A\n",
    "    b0 = np.zeros(N)\n",
    "    b0[:len(b)] = b\n",
    "\n",
    "    ## U=e^{iAt} の位相推定に使う時間 t とレジスタbitの数\n",
    "    # t = 0.5\n",
    "    # reg_nbit = 4\n",
    "    reg_N = 2**reg_nbit\n",
    "\n",
    "    ## A*tの固有値として想定する最小の値 (論文(70)式).\n",
    "    ## 今回は射影が100%成功するので, レジスタで表せる最小値の定数倍でとっておく\n",
    "    C = 0.5*(2 * np.pi * (1. / 2**(reg_nbit) ))\n",
    "\n",
    "    ## Ax=bを解く行為を何回繰り返すか\n",
    "    trial_num = 1\n",
    "    ### ---------  パラメータ設定終わり -------------- ###\n",
    "\n",
    "    ## 真の解を求めておく\n",
    "    x_true = np.linalg.solve(A, b)\n",
    "    #np.allclose(np.dot(A, x_true), b) ## <- 解が正しいかの確認\n",
    "\n",
    "    ## 対角化してしまう. AP = PD <-> A = P*D*P^dag \n",
    "    D_A, P = np.linalg.eigh(A0)\n",
    "\n",
    "\n",
    "    ### ---------  以下, 計算コード  -------------- ###\n",
    "    print(\"nbit, reg_nbit, t = {0}, {1}, {2}\".format(nbit, reg_nbit,t) )\n",
    "\n",
    "    #####################################\n",
    "    ### HHL量子回路を作る. 0番目のビットから順に、Aの作用する空間のbit達 (0番目 ~ nbit-1番目), \n",
    "    ### register bit達 (nbit番目 ~ nbit+reg_nbit-1番目), conditional回転用のbit (nbit+reg_nbit番目)\n",
    "    ### とする.\n",
    "    #####################################\n",
    "    total_qubits = nbit + reg_nbit + 1\n",
    "    total_circuit = QuantumCircuit(total_qubits)\n",
    "\n",
    "    ## ------ 0番目~(nbit-1)番目のbitに入力するベクトルbの準備 ------\n",
    "    ## 本来はqRAMのアルゴリズム(論文Fig.4)を用いるが, ここでは自作の入力ゲートを用いている. \n",
    "    ## qulacsではstate.load(b)でも実装可能.\n",
    "    state = QuantumState(total_qubits)\n",
    "    state.set_zero_state() \n",
    "    b_gate = HHL_func.input_state_gate(0, nbit-1, b0)\n",
    "    total_circuit.add_gate(b_gate)\n",
    "\n",
    "    ## ------- レジスターbit に Hadamard gate をかける -------\n",
    "    for register in range(nbit, nbit+reg_nbit): ## from nbit to nbit+reg_nbit-1\n",
    "        total_circuit.add_H_gate(register)\n",
    "\n",
    "    ## ------- 位相推定を実装 -------\n",
    "    ## U := e^{i*A*t), その固有値をdiag( {e^{i*2pi*phi_k}}_{k=0, ..., N-1) )とおく.\n",
    "    ## Implement \\sum_j |j><j| exp(i*A*t*j) to register bits\n",
    "    for register in range(nbit, nbit+reg_nbit):\n",
    "        ## U^{2^{register-nbit}} を実装.\n",
    "        ## 対角化した結果を使ってしまう\n",
    "        U_mat = reduce(np.dot,  [P, np.diag(np.exp( 1.j*D_A*t * (2**(register-nbit)) )), P.T.conj()]  )\n",
    "        U_gate = gate.DenseMatrix(np.arange(nbit), U_mat)\n",
    "        U_gate.add_control_qubit(register, 1) ## control bitの追加\n",
    "        total_circuit.add_gate(U_gate)\n",
    "\n",
    "    ## ------- Perfrom inverse QFT to register bits -------\n",
    "    total_circuit.add_gate(HHL_func.QFT_gate(nbit, nbit+reg_nbit-1, Inverse=True))\n",
    "\n",
    "    ## ------- conditional rotation を掛ける -------\n",
    "    ## レジスター |phi> に対応するA*tの固有値は l = 2pi * 0.phi = 2pi * (phi / 2**reg_nbit).\n",
    "    ## conditional rotationの定義は\n",
    "    ## |phi>|0> -> C/(lambda)|phi>|0> + sqrt(1 - C^2/(lambda)^2)|phi>|1>.\n",
    "    ## 古典シミュレーションなのでゲートをあらわに作ってしまう.\n",
    "    condrot_mat = np.zeros( (2**(reg_nbit+1), (2**(reg_nbit+1))), dtype=complex)\n",
    "    for index in range(2**reg_nbit):\n",
    "        lam = 2 * np.pi * (float(index) / 2**(reg_nbit) )\n",
    "        index_0 = index ## integer which represents |index>|0>\n",
    "        index_1 = index + 2**reg_nbit ## integer which represents |index>|1>\n",
    "        if lam >= C:\n",
    "            condrot_mat[index_0, index_0] = C / lam \n",
    "            condrot_mat[index_1, index_0] =   np.sqrt( 1 - C*C/lam/lam)\n",
    "            condrot_mat[index_0, index_1] = - np.sqrt( 1 - C*C/lam/lam)\n",
    "            condrot_mat[index_1, index_1] = C / lam\n",
    "        else:\n",
    "            condrot_mat[index_0, index_0] = 1.\n",
    "            condrot_mat[index_1, index_1] = 1.\n",
    "    ## DenseGateに変換して実装\n",
    "    condrot_gate = gate.DenseMatrix(np.arange(nbit, nbit+reg_nbit+1), condrot_mat) \n",
    "    total_circuit.add_gate(condrot_gate)\n",
    "\n",
    "    ## ------- Perfrom QFT to register bits -------\n",
    "    total_circuit.add_gate(HHL_func.QFT_gate(nbit, nbit+reg_nbit-1, Inverse=False))\n",
    "\n",
    "    ## ------- 位相推定の逆を実装(U^\\dagger = e^{-iAt}) -------\n",
    "    for register in range(nbit, nbit+reg_nbit): ## from nbit to nbit+reg_nbit-1\n",
    "        ## {U^{\\dagger}}^{2^{register-nbit}} を実装.\n",
    "        ## 対角化した結果を使ってしまう\n",
    "        U_mat = reduce(np.dot,  [P, np.diag(np.exp( -1.j*D_A*t * (2**(register-nbit)) )), P.T.conj()]  )\n",
    "        U_gate = gate.DenseMatrix(np.arange(nbit), U_mat)\n",
    "        U_gate.add_control_qubit(register, 1) ## control bitの追加\n",
    "        total_circuit.add_gate(U_gate)\n",
    "\n",
    "    ## ------- レジスターbit に Hadamard gate をかける -------\n",
    "    for register in range(nbit, nbit+reg_nbit): \n",
    "        total_circuit.add_H_gate(register)\n",
    "\n",
    "    ## ------- 補助ビットを0に射影する(古典シミュレーションなので確率100%で可能) -------\n",
    "    total_circuit.add_P0_gate(nbit+reg_nbit)\n",
    "\n",
    "    #####################################\n",
    "    ### HHL量子回路を実行し, 結果を取り出す\n",
    "    #####################################\n",
    "    total_circuit.update_quantum_state(state)\n",
    "    ## 0番目から(nbit-1)番目の bit が計算結果 |x>に対応\n",
    "    result = state.get_vector()[:2**nbit].real\n",
    "    x_HHL = result*t/C\n",
    "\n",
    "    x_HHL = x_HHL[:n] # 不要な部分の切り取り\n",
    "\n",
    "    return x_HHL, x_true"
   ]
  },
  {
   "cell_type": "code",
   "execution_count": null,
   "metadata": {},
   "outputs": [],
   "source": [
    "x_HHL, x_true = HHL_solve(W, mu_xi_0, reg_nbit=8, t=0.5)"
   ]
  },
  {
   "cell_type": "code",
   "execution_count": null,
   "metadata": {},
   "outputs": [],
   "source": [
    "w_opt_HHL = x_HHL[-len(R):] # xから、wのみを取り出す（η, θは不要）\n",
    "w_opt_true = x_true[-len(R):] # （同上）\n",
    "w_opt = pd.DataFrame(np.vstack([w_opt_true, w_opt_HHL]).T, index=df.columns, columns=['True', 'HHL'])\n",
    "w_opt"
   ]
  },
  {
   "cell_type": "code",
   "execution_count": null,
   "metadata": {},
   "outputs": [],
   "source": [
    "w_opt.plot.bar()"
   ]
  },
  {
   "cell_type": "markdown",
   "metadata": {},
   "source": [
    "※重みが負になっている銘柄は、「空売り」（株を借りてきて売ること。株価が下がる局面で利益が得られる手法）を表す。\n",
    "HHLは近似アルゴリズムであるため、古典計算による厳密解と多少乖離がある。\n",
    "レジスタ量子ビット数 `reg_nbit` といったパラメータを変化させる等、色々試してみて頂きたい。\n",
    "\n",
    "### Appendix: バックテスト\n",
    "過去のデータから得られた投資ルールを、それ以降のデータを用いて検証することを「バックテスト」と呼び、その投資ルールの有効性を測るために重要である。\n",
    "ここでは以上のように2017年のデータから構築したポートフォリオに投資した場合に、翌年の2018年にどの程度資産価値が変化するかを観察する。"
   ]
  },
  {
   "cell_type": "code",
   "execution_count": null,
   "metadata": {},
   "outputs": [],
   "source": [
    "# 2018年の1年間のデータを使用\n",
    "start = datetime.datetime(2017, 12, 30)\n",
    "end = datetime.datetime(2018, 12, 31)\n",
    "\n",
    "# Yahoo! Financeから日次の株価データを取得\n",
    "data = web.DataReader(codes, 'yahoo', start, end)\n",
    "\n",
    "df2018 = data['Adj Close'] \n",
    "\n",
    "display(df2018.tail())"
   ]
  },
  {
   "cell_type": "code",
   "execution_count": null,
   "metadata": {},
   "outputs": [],
   "source": [
    "# ポートフォリオの資産価値の推移\n",
    "pf_value = df2018.dot(w_opt)\n",
    "pf_value.head()"
   ]
  },
  {
   "cell_type": "code",
   "execution_count": null,
   "metadata": {},
   "outputs": [],
   "source": [
    "pf_value.HHL = pf_value.HHL / pf_value.HHL[0] # HHLはあくまで近似解で、規格化条件を満たさない場合があるため、期初の値で規格化。\n",
    "pf_value.head()"
   ]
  },
  {
   "cell_type": "code",
   "execution_count": null,
   "metadata": {},
   "outputs": [],
   "source": [
    "pf_value.plot(figsize=(9, 6))"
   ]
  },
  {
   "cell_type": "markdown",
   "metadata": {},
   "source": [
    "## 参考文献\n",
    "[1] Quantum computational finance: quantum algorithm for portfolio optimization, P. Rebentrost, S. Lloyd, (preprint) https://arxiv.org/abs/1811.03975"
   ]
  }
 ],
 "metadata": {
  "kernelspec": {
   "display_name": "Python 3",
   "language": "python",
   "name": "python3"
  },
  "language_info": {
   "codemirror_mode": {
    "name": "ipython",
    "version": 3
   },
   "file_extension": ".py",
   "mimetype": "text/x-python",
   "name": "python",
   "nbconvert_exporter": "python",
   "pygments_lexer": "ipython3",
   "version": "3.7.1"
  }
 },
 "nbformat": 4,
 "nbformat_minor": 2
}
