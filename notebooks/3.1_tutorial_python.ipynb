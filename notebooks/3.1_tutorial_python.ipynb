{
 "cells": [
  {
   "cell_type": "markdown",
   "metadata": {},
   "source": [
    "# python tutorial\n",
    "\n",
    "## 量子状態\n",
    "\n",
    "### 量子状態の作成\n",
    "以下のコードで$n$qubitの量子状態を生成します。\n",
    "生成した量子状態は $|0\\rangle^{\\otimes n}$ に初期化されています。"
   ]
  },
  {
   "cell_type": "code",
   "execution_count": 17,
   "metadata": {},
   "outputs": [],
   "source": [
    "from qulacs import QuantumState\n",
    "\n",
    "# 5-qubitの状態を生成\n",
    "n = 5\n",
    "state = QuantumState(n)\n",
    "\n",
    "# |00000>に初期化\n",
    "state.set_zero_state()"
   ]
  },
  {
   "cell_type": "markdown",
   "metadata": {},
   "source": [
    "メモリが不足している場合は量子状態を生成できません。"
   ]
  },
  {
   "cell_type": "markdown",
   "metadata": {},
   "source": [
    "### 量子状態のデータの取得\n",
    "量子状態を表す $2^n$ の長さの配列を取得します。特にGPUで量子状態を作成したり、大きい $n$ では非常に重い操作になるので注意してください。"
   ]
  },
  {
   "cell_type": "code",
   "execution_count": 18,
   "metadata": {},
   "outputs": [
    {
     "name": "stdout",
     "output_type": "stream",
     "text": [
      "[1.+0.j 0.+0.j 0.+0.j 0.+0.j 0.+0.j 0.+0.j 0.+0.j 0.+0.j 0.+0.j 0.+0.j\n",
      " 0.+0.j 0.+0.j 0.+0.j 0.+0.j 0.+0.j 0.+0.j 0.+0.j 0.+0.j 0.+0.j 0.+0.j\n",
      " 0.+0.j 0.+0.j 0.+0.j 0.+0.j 0.+0.j 0.+0.j 0.+0.j 0.+0.j 0.+0.j 0.+0.j\n",
      " 0.+0.j 0.+0.j]\n"
     ]
    }
   ],
   "source": [
    "from qulacs import QuantumState\n",
    "\n",
    "n = 5\n",
    "state = QuantumState(n)\n",
    "state.set_zero_state()\n",
    "\n",
    "# 状態ベクトルをnumpy arrayとして取得\n",
    "data = state.get_vector()\n",
    "print(data)"
   ]
  },
  {
   "cell_type": "markdown",
   "metadata": {},
   "source": [
    "### 量子状態の初期化\n",
    "\n",
    "生成した量子状態は、計算規定に初期化したり、ランダムな状態に初期化することができます。"
   ]
  },
  {
   "cell_type": "code",
   "execution_count": 18,
   "metadata": {},
   "outputs": [
    {
     "name": "stdout",
     "output_type": "stream",
     "text": [
      "[0.+0.j 0.+0.j 0.+0.j 0.+0.j 0.+0.j 1.+0.j 0.+0.j 0.+0.j 0.+0.j 0.+0.j\n",
      " 0.+0.j 0.+0.j 0.+0.j 0.+0.j 0.+0.j 0.+0.j 0.+0.j 0.+0.j 0.+0.j 0.+0.j\n",
      " 0.+0.j 0.+0.j 0.+0.j 0.+0.j 0.+0.j 0.+0.j 0.+0.j 0.+0.j 0.+0.j 0.+0.j\n",
      " 0.+0.j 0.+0.j]\n",
      "[-0.04259055-0.02852465j -0.12525621+0.02674275j  0.07679594-0.16150283j\n",
      " -0.01413123-0.18276799j  0.23755629-0.10082458j  0.10120337-0.16911117j\n",
      "  0.00537068+0.08609684j -0.12088032+0.13295062j -0.03704861-0.14587535j\n",
      "  0.16768727+0.02526135j -0.12908171-0.10787912j  0.23287322-0.12713078j\n",
      " -0.10135121+0.04982161j  0.12502229-0.28803424j  0.11191725-0.01271535j\n",
      " -0.00305011+0.11055334j  0.00866915+0.05588623j -0.10532184-0.24613863j\n",
      "  0.04160397-0.01669972j -0.00191975+0.04259995j -0.10897328+0.02572973j\n",
      "  0.20560142+0.01797335j -0.0699159 +0.06788263j -0.02902197-0.15258951j\n",
      "  0.3114642 +0.16282887j -0.16572632+0.13055796j  0.03921581+0.01134022j\n",
      " -0.28177474+0.07966372j -0.11584315+0.13664571j  0.01305254-0.13485446j\n",
      " -0.05806454+0.0631608j   0.02188858-0.0515469j ]\n",
      "[ 0.08466846+0.05924339j  0.1333847 -0.09549869j  0.1036355 -0.02252131j\n",
      "  0.00743969+0.22251438j -0.01023983+0.21798897j -0.09804742+0.04472806j\n",
      " -0.01517233+0.15657127j  0.20405042+0.01774242j -0.05035518+0.11362867j\n",
      "  0.01117452+0.06030777j  0.11329537+0.02180142j -0.18029147-0.07242309j\n",
      "  0.07983968-0.04099353j -0.00368514+0.04898125j -0.11660992-0.16079726j\n",
      " -0.07121317-0.01597879j  0.179851  -0.10310888j -0.10501991-0.18004008j\n",
      "  0.07415436-0.1213987j   0.09175792-0.17860641j -0.10518996-0.09389637j\n",
      " -0.01990194-0.2109674j   0.08164725-0.05272808j -0.07663221-0.1416376j\n",
      " -0.0467975 -0.08082622j  0.19066551+0.15477055j -0.00282509-0.00625992j\n",
      "  0.26621243-0.1246617j   0.18473327+0.0751354j   0.22363024+0.22117635j\n",
      " -0.18328878-0.23611045j  0.13157815+0.04642973j]\n"
     ]
    }
   ],
   "source": [
    "from qulacs import QuantumState\n",
    "\n",
    "n = 5\n",
    "state = QuantumState(n)\n",
    "state.set_zero_state()\n",
    "\n",
    "# |00101> に初期化\n",
    "state.set_computational_basis(0b00101)\n",
    "print(state.get_vector())\n",
    "\n",
    "# ランダムな初期状態を生成\n",
    "state.set_Haar_random_state()\n",
    "print(state.get_vector())\n",
    "\n",
    "# シードを指定してランダムな初期状態を生成\n",
    "seed = 0\n",
    "state.set_Haar_random_state(seed)\n",
    "print(state.get_vector())"
   ]
  },
  {
   "cell_type": "markdown",
   "metadata": {},
   "source": [
    "### 量子状態のデータのコピーとロード\n",
    "量子状態を複製したり、他の量子状態のデータをロードできます。"
   ]
  },
  {
   "cell_type": "code",
   "execution_count": 15,
   "metadata": {},
   "outputs": [
    {
     "name": "stdout",
     "output_type": "stream",
     "text": [
      "[0.+0.j 0.+0.j 0.+0.j 0.+0.j 0.+0.j 1.+0.j 0.+0.j 0.+0.j 0.+0.j 0.+0.j\n",
      " 0.+0.j 0.+0.j 0.+0.j 0.+0.j 0.+0.j 0.+0.j 0.+0.j 0.+0.j 0.+0.j 0.+0.j\n",
      " 0.+0.j 0.+0.j 0.+0.j 0.+0.j 0.+0.j 0.+0.j 0.+0.j 0.+0.j 0.+0.j 0.+0.j\n",
      " 0.+0.j 0.+0.j]\n",
      "[0.+0.j 0.+0.j 0.+0.j 0.+0.j 0.+0.j 1.+0.j 0.+0.j 0.+0.j 0.+0.j 0.+0.j\n",
      " 0.+0.j 0.+0.j 0.+0.j 0.+0.j 0.+0.j 0.+0.j 0.+0.j 0.+0.j 0.+0.j 0.+0.j\n",
      " 0.+0.j 0.+0.j 0.+0.j 0.+0.j 0.+0.j 0.+0.j 0.+0.j 0.+0.j 0.+0.j 0.+0.j\n",
      " 0.+0.j 0.+0.j]\n"
     ]
    }
   ],
   "source": [
    "from qulacs import QuantumState\n",
    "\n",
    "n = 5\n",
    "state = QuantumState(n)\n",
    "state.set_computational_basis(0b00101)\n",
    "\n",
    "# コピーして新たな量子状態を作成\n",
    "second_state = state.copy()\n",
    "print(second_state.get_vector())\n",
    "\n",
    "# 量子状態を新たに作成し、既存の状態のベクトルをコピー\n",
    "third_state = QuantumState(n)\n",
    "third_state.load(state)\n",
    "print(third_state.get_vector())"
   ]
  },
  {
   "cell_type": "markdown",
   "metadata": {},
   "source": [
    "### 古典レジスタの操作\n",
    "量子状態は古典レジスタを持っており、読み書きを行えます。"
   ]
  },
  {
   "cell_type": "code",
   "execution_count": 1,
   "metadata": {},
   "outputs": [
    {
     "name": "stdout",
     "output_type": "stream",
     "text": [
      "1\n"
     ]
    }
   ],
   "source": [
    "from qulacs import QuantumState\n",
    "\n",
    "n = 5\n",
    "state = QuantumState(n)\n",
    "state.set_zero_state()\n",
    "\n",
    "# 3rd classical registerに値1をセット\n",
    "register_position = 3\n",
    "register_value = 1\n",
    "state.set_classical_value(register_position, register_value)\n",
    "\n",
    "# 3rd classical registerの値を取得\n",
    "obtained_value = state.get_classical_value(register_position)\n",
    "print(obtained_value)"
   ]
  },
  {
   "cell_type": "markdown",
   "metadata": {},
   "source": [
    "### 量子状態に関する計算\n",
    "量子状態には種々の処理が可能です。"
   ]
  },
  {
   "cell_type": "code",
   "execution_count": 6,
   "metadata": {},
   "outputs": [
    {
     "name": "stdout",
     "output_type": "stream",
     "text": [
      "norm :  1.0\n",
      "entropy :  2.9524143173048385\n",
      "prob_meas_3rd :  0.4545997418443135\n",
      "marginal_prob :  0.08173772132809298\n"
     ]
    }
   ],
   "source": [
    "from qulacs import QuantumState\n",
    "\n",
    "n = 5\n",
    "state = QuantumState(n)\n",
    "state.set_Haar_random_state()\n",
    "\n",
    "# normの計算\n",
    "norm = state.get_norm()\n",
    "print(\"norm : \",norm)\n",
    "\n",
    "# Z基底で測定した時のentropyの計算\n",
    "entropy = state.get_entropy() \n",
    "print(\"entropy : \",entropy)\n",
    "\n",
    "# index-th qubitをZ基底で測定して0を得る確率の計算\n",
    "index = 3\n",
    "zero_probability = state.get_zero_probability(index)\n",
    "print(\"prob_meas_3rd : \",zero_probability)\n",
    "\n",
    "# 周辺確率を計算 (以下は0,3-th qubitが0、1,2-th qubitが1と測定される確率の例)\n",
    "value_list = [0,1,1,0,2]\n",
    "marginal_probability = state.get_marginal_probability(value_list)\n",
    "print(\"marginal_prob : \",marginal_probability)"
   ]
  },
  {
   "cell_type": "markdown",
   "metadata": {},
   "source": [
    "### 量子状態の内積\n",
    "<code>inner_product</code>関数で内積を計算できます。"
   ]
  },
  {
   "cell_type": "code",
   "execution_count": 7,
   "metadata": {},
   "outputs": [
    {
     "name": "stdout",
     "output_type": "stream",
     "text": [
      "(-0.1648377722280551+0.08545286342894542j)\n"
     ]
    }
   ],
   "source": [
    "from qulacs import QuantumState\n",
    "from qulacs.state import inner_product\n",
    "\n",
    "n = 5\n",
    "state_bra = QuantumState(n)\n",
    "state_ket = QuantumState(n)\n",
    "state_bra.set_Haar_random_state()\n",
    "state_ket.set_computational_basis(0)\n",
    "\n",
    "# 内積値の計算\n",
    "value = inner_product(state_bra, state_ket)\n",
    "print(value)"
   ]
  },
  {
   "cell_type": "markdown",
   "metadata": {},
   "source": [
    "### 量子状態の解放\n",
    "delを用いて量子状態を強制的にメモリから解放することができます。\n",
    "delせずとも利用されなくなったタイミングで解放されますが、メモリがシビアな際に便利です。"
   ]
  },
  {
   "cell_type": "code",
   "execution_count": 9,
   "metadata": {},
   "outputs": [],
   "source": [
    "from qulacs import QuantumState\n",
    "\n",
    "n = 5\n",
    "state = QuantumState(n)\n",
    "\n",
    "# 量子状態を開放\n",
    "del state"
   ]
  },
  {
   "cell_type": "markdown",
   "metadata": {},
   "source": [
    "### 量子状態の詳細情報の取得\n",
    "オブジェクトを直接printすると、量子状態の情報が出力されます。"
   ]
  },
  {
   "cell_type": "code",
   "execution_count": 11,
   "metadata": {},
   "outputs": [
    {
     "name": "stdout",
     "output_type": "stream",
     "text": [
      " *** Quantum State ***\n",
      " * Qubit Count : 5\n",
      " * Dimension   : 32\n",
      " * State vector : \n",
      "(1,0)\n",
      "(0,0)\n",
      "(0,0)\n",
      "(0,0)\n",
      "(0,0)\n",
      "(0,0)\n",
      "(0,0)\n",
      "(0,0)\n",
      "(0,0)\n",
      "(0,0)\n",
      "(0,0)\n",
      "(0,0)\n",
      "(0,0)\n",
      "(0,0)\n",
      "(0,0)\n",
      "(0,0)\n",
      "(0,0)\n",
      "(0,0)\n",
      "(0,0)\n",
      "(0,0)\n",
      "(0,0)\n",
      "(0,0)\n",
      "(0,0)\n",
      "(0,0)\n",
      "(0,0)\n",
      "(0,0)\n",
      "(0,0)\n",
      "(0,0)\n",
      "(0,0)\n",
      "(0,0)\n",
      "(0,0)\n",
      "(0,0)\n",
      "\n"
     ]
    }
   ],
   "source": [
    "from qulacs import QuantumState\n",
    "\n",
    "n = 5\n",
    "state = QuantumState(n)\n",
    "\n",
    "print(state)"
   ]
  },
  {
   "cell_type": "markdown",
   "metadata": {},
   "source": [
    "## 量子ゲート\n",
    "\n",
    "### 量子ゲートの生成と作用\n",
    "デフォルトで実装されている量子ゲートはgateモジュールで定義されます。"
   ]
  },
  {
   "cell_type": "code",
   "execution_count": 13,
   "metadata": {},
   "outputs": [
    {
     "name": "stdout",
     "output_type": "stream",
     "text": [
      "[1.+0.j 0.+0.j 0.+0.j 0.+0.j 0.+0.j 0.+0.j 0.+0.j 0.+0.j]\n",
      "[0.+0.j 0.+0.j 1.+0.j 0.+0.j 0.+0.j 0.+0.j 0.+0.j 0.+0.j]\n",
      "[0.38268343+0.j 0.        +0.j 0.92387953+0.j 0.        +0.j\n",
      " 0.        +0.j 0.        +0.j 0.        +0.j 0.        +0.j]\n",
      "[0.        +0.j 0.        +0.j 0.        +0.j 0.        +0.j\n",
      " 0.38268343+0.j 0.        +0.j 0.92387953+0.j 0.        +0.j]\n"
     ]
    }
   ],
   "source": [
    "import numpy as np\n",
    "from qulacs import QuantumState\n",
    "from qulacs.gate import X, RY, DenseMatrix\n",
    "\n",
    "n = 3\n",
    "state = QuantumState(n)\n",
    "state.set_zero_state()\n",
    "print(state.get_vector())\n",
    "\n",
    "# 1st-qubitにX操作\n",
    "index = 1\n",
    "x_gate = X(index)\n",
    "x_gate.update_quantum_state(state)\n",
    "print(state.get_vector())\n",
    "\n",
    "# 1st-qubitをYパウリでpi/4.0回転\n",
    "angle = np.pi / 4.0\n",
    "ry_gate = RY(index, angle)\n",
    "ry_gate.update_quantum_state(state)\n",
    "print(state.get_vector())\n",
    "\n",
    "# 2nd-qubitにゲート行列で作成したゲートを作用\n",
    "dense_gate = DenseMatrix(2, [[0,1],[1,0]])\n",
    "dense_gate.update_quantum_state(state)\n",
    "print(state.get_vector())\n",
    "\n",
    "# ゲートの解放\n",
    "del x_gate\n",
    "del ry_gate\n",
    "del dense_gate"
   ]
  },
  {
   "cell_type": "markdown",
   "metadata": {},
   "source": [
    "事前に定義されているゲートは以下の通りです。\n",
    "- single-qubit Pauli operation: Identity, X,Y,Z\n",
    "- single-qubit Clifford operation : H,S,Sdag, T,Tdag,sqrtX,sqrtXdag,sqrtY,sqrtYdag\n",
    "- two-qubit Clifford operation : CNOT, CZ, SWAP\n",
    "- single-qubit Pauli rotation : RX, RY, RZ\n",
    "- General Pauli operation : Pauli, PauliRotation\n",
    "- IBMQ basis-gate : U1, U2, U3\n",
    "- General gate : DenseMatrix\n",
    "- Measurement : Measurement\n",
    "- Noise : BitFlipNoise, DephasingNoise, IndepenedentXZNoise, DepolarizingNoise\n",
    "\n",
    "回転ゲートである<code>RX</code>,<code>RY</code>,<code>RZ</code>,<code>PauliRotation</code>は所定のパウリ演算子$P$について、引数$\\theta$に対して$\\exp(i\\frac{\\theta}{2}P)$という操作を行います。\n",
    "それぞれのゲートの詳細はAPIドキュメントを参照してください。"
   ]
  },
  {
   "cell_type": "markdown",
   "metadata": {},
   "source": [
    "### 量子ゲートの合成\n",
    "続けて作用する量子ゲートを合成し、新たな単一の量子ゲートを生成できます。これにより量子状態へのアクセスを減らせます。"
   ]
  },
  {
   "cell_type": "code",
   "execution_count": 20,
   "metadata": {},
   "outputs": [
    {
     "name": "stdout",
     "output_type": "stream",
     "text": [
      "[0.38268343+0.j 0.        +0.j 0.92387953+0.j 0.        +0.j\n",
      " 0.        +0.j 0.        +0.j 0.        +0.j 0.        +0.j]\n"
     ]
    }
   ],
   "source": [
    "import numpy as np\n",
    "from qulacs import QuantumState\n",
    "from qulacs.gate import X, RY, merge\n",
    "\n",
    "n = 3\n",
    "state = QuantumState(n)\n",
    "state.set_zero_state()\n",
    "\n",
    "index = 1\n",
    "x_gate = X(index)\n",
    "angle = np.pi / 4.0\n",
    "ry_gate = RY(index, angle)\n",
    "\n",
    "# ゲートを合成して新たなゲートを生成\n",
    "# 第一引数が先に作用する\n",
    "x_and_ry_gate = merge(x_gate, ry_gate)\n",
    "x_and_ry_gate.update_quantum_state(state)\n",
    "print(state.get_vector())"
   ]
  },
  {
   "cell_type": "markdown",
   "metadata": {},
   "source": [
    "### 量子ゲートのゲート行列の和\n",
    "量子ゲートのゲート要素の和を取ることができます。\n",
    "(control-qubitがある場合の和は現状動作が未定義なので利用しないでください。)"
   ]
  },
  {
   "cell_type": "code",
   "execution_count": 22,
   "metadata": {},
   "outputs": [
    {
     "name": "stdout",
     "output_type": "stream",
     "text": [
      " *** gate info *** \n",
      " * gate name : DenseMatrix\n",
      " * target    : \n",
      " 0 : commute       \n",
      " 1 : commute       \n",
      " * control   : \n",
      " * Pauli     : no\n",
      " * Clifford  : no\n",
      " * Gaussian  : no\n",
      " * Parametric: no\n",
      " * Diagonal  : no\n",
      " * Matrix\n",
      "(1,0) (0,0) (0,0) (0,0)\n",
      "(0,0) (0,0) (0,0) (0,0)\n",
      "(0,0) (0,0) (0,0) (0,0)\n",
      "(0,0) (0,0) (0,0) (1,0)\n",
      "\n",
      " *** gate info *** \n",
      " * gate name : DenseMatrix\n",
      " * target    : \n",
      " 0 : commute       \n",
      " 1 : commute       \n",
      " * control   : \n",
      " * Pauli     : no\n",
      " * Clifford  : no\n",
      " * Gaussian  : no\n",
      " * Parametric: no\n",
      " * Diagonal  : no\n",
      " * Matrix\n",
      "(0.5,0)   (0,0)   (0,0) (0.5,0)\n",
      "  (0,0)   (0,0)   (0,0)   (0,0)\n",
      "  (0,0)   (0,0)   (0,0)   (0,0)\n",
      "(0.5,0)   (0,0)   (0,0) (0.5,0)\n",
      "\n"
     ]
    }
   ],
   "source": [
    "import numpy as np\n",
    "from qulacs import QuantumState\n",
    "from qulacs.gate import P0,P1,add, merge, Identity, X, Z\n",
    "\n",
    "gate00 = merge(P0(0),P0(1))\n",
    "gate11 = merge(P1(0),P1(1))\n",
    "# |00><00| + |11><11|\n",
    "proj_00_or_11 = add(gate00, gate11)\n",
    "print(proj_00_or_11)\n",
    "\n",
    "gate_ii_zz = add(Identity(0), merge(Z(0),Z(1)))\n",
    "gate_ii_xx = add(Identity(0), merge(X(0),X(1)))\n",
    "proj_00_plus_11 = merge(gate_ii_zz, gate_ii_xx)\n",
    "# ((|00>+|11>)(<00|+<11|))/2 = (II + ZZ)(II + XX)/4\n",
    "proj_00_plus_11.multiply_scalar(0.25)\n",
    "print(proj_00_plus_11)"
   ]
  },
  {
   "cell_type": "markdown",
   "metadata": {},
   "source": [
    "### 特殊な量子ゲートと一般の量子ゲート\n",
    "Qulacsにおける基本量子ゲートは以下の二つに分けられます。\n",
    "- 特殊ゲート：そのゲートの作用について、専用の高速化がなされた関数があるもの。\n",
    "- 一般ゲート：ゲート行列を保持し、行列をかけて作用するもの。\n",
    "\n",
    "前者は後者に比べ専用の関数が作成されているため高速ですが、コントロール量子ビットを増やすなど、量子ゲートの作用を変更する操作が後から行えません。\n",
    "こうした変更をしたい場合、特殊ゲートを一般ゲートに変換してやらねばなりません。\n",
    "これは<code>gate.to_matrix_gate</code>で実現できます。以下がその例になります。"
   ]
  },
  {
   "cell_type": "code",
   "execution_count": 24,
   "metadata": {},
   "outputs": [
    {
     "name": "stdout",
     "output_type": "stream",
     "text": [
      "[0.+0.j 1.+0.j 0.+0.j 0.+0.j 0.+0.j 0.+0.j 0.+0.j 0.+0.j]\n"
     ]
    }
   ],
   "source": [
    "import numpy as np\n",
    "from qulacs import QuantumState\n",
    "from qulacs.gate import to_matrix_gate, X\n",
    "n = 3\n",
    "state = QuantumState(n)\n",
    "state.set_zero_state()\n",
    "\n",
    "index = 0\n",
    "x_gate = X(index)\n",
    "x_mat_gate = to_matrix_gate(x_gate)\n",
    "\n",
    "# 1st-qubitが0の場合だけゲートを作用\n",
    "control_index = 1\n",
    "control_with_value = 0\n",
    "x_mat_gate.add_control_qubit(control_index, control_with_value)\n",
    "\n",
    "x_mat_gate.update_quantum_state(state)\n",
    "print(state.get_vector())"
   ]
  },
  {
   "cell_type": "markdown",
   "metadata": {},
   "source": [
    "### 量子ゲートのゲート行列の取得\n",
    "生成した量子ゲートのゲート行列を取得できます。control量子ビットなどはゲート行列に含まれません。特にゲート行列を持たない種類のゲート（例えばn-qubitのパウリ回転ゲート）などは取得に非常に大きなメモリと時間を要するので気を付けてください。"
   ]
  },
  {
   "cell_type": "code",
   "execution_count": 25,
   "metadata": {},
   "outputs": [
    {
     "name": "stdout",
     "output_type": "stream",
     "text": [
      " *** gate info *** \n",
      " * gate name : X\n",
      " * target    : \n",
      " 0 : commute X     \n",
      " * control   : \n",
      " * Pauli     : yes\n",
      " * Clifford  : yes\n",
      " * Gaussian  : no\n",
      " * Parametric: no\n",
      " * Diagonal  : no\n",
      "\n",
      " *** gate info *** \n",
      " * gate name : DenseMatrix\n",
      " * target    : \n",
      " 0 : commute X     \n",
      " * control   : \n",
      " * Pauli     : no\n",
      " * Clifford  : no\n",
      " * Gaussian  : no\n",
      " * Parametric: no\n",
      " * Diagonal  : no\n",
      " * Matrix\n",
      "(0,0) (1,0)\n",
      "(1,0) (0,0)\n",
      "\n"
     ]
    }
   ],
   "source": [
    "from qulacs.gate import X, to_matrix_gate\n",
    "gate = X(0)\n",
    "print(gate)\n",
    "print(to_matrix_gate(gate))"
   ]
  },
  {
   "cell_type": "markdown",
   "metadata": {},
   "source": [
    "### 一般的な量子ゲートの実現\n",
    "Qulacsでは量子情報における種々のマップを以下の形で実現します。\n",
    "\n",
    "#### ユニタリ操作\n",
    "量子ゲートとして実現します。\n",
    "\n",
    "#### 射影演算子やクラウス演算子など\n",
    "量子ゲートとして実現します。一般に作用後に量子状態のノルムは保存されません。<code>DenseMatrix</code>関数により生成できます。"
   ]
  },
  {
   "cell_type": "code",
   "execution_count": 26,
   "metadata": {},
   "outputs": [
    {
     "name": "stdout",
     "output_type": "stream",
     "text": [
      " *** gate info *** \n",
      " * gate name : DenseMatrix\n",
      " * target    : \n",
      " 0 : commute       \n",
      " * control   : \n",
      " * Pauli     : no\n",
      " * Clifford  : no\n",
      " * Gaussian  : no\n",
      " * Parametric: no\n",
      " * Diagonal  : no\n",
      " * Matrix\n",
      "(0,0) (1,0)\n",
      "(1,0) (0,0)\n",
      "\n",
      " *** gate info *** \n",
      " * gate name : DenseMatrix\n",
      " * target    : \n",
      " 0 : commute       \n",
      " 1 : commute       \n",
      " * control   : \n",
      " * Pauli     : no\n",
      " * Clifford  : no\n",
      " * Gaussian  : no\n",
      " * Parametric: no\n",
      " * Diagonal  : no\n",
      " * Matrix\n",
      "(1,0) (0,0) (0,0) (0,0)\n",
      "(0,0) (1,0) (0,0) (0,0)\n",
      "(0,0) (0,0) (0,0) (1,0)\n",
      "(0,0) (0,0) (1,0) (0,0)\n",
      "\n"
     ]
    }
   ],
   "source": [
    "from qulacs.gate import DenseMatrix\n",
    "\n",
    "# 1-qubit gateの場合\n",
    "gate = DenseMatrix(0, [[0,1],[1,0]])\n",
    "print(gate)\n",
    "\n",
    "# 2-qubit gateの場合\n",
    "gate = DenseMatrix([0,1], [[1,0,0,0],[0,1,0,0],[0,0,0,1],[0,0,1,0]])\n",
    "print(gate)"
   ]
  },
  {
   "cell_type": "markdown",
   "metadata": {},
   "source": [
    "#### 確率的なユニタリ操作\n",
    "<code>Probabilistic</code>関数を用いて、複数のユニタリ操作と確率分布を与えて作成します。"
   ]
  },
  {
   "cell_type": "code",
   "execution_count": 28,
   "metadata": {},
   "outputs": [],
   "source": [
    "from qulacs.gate import Probabilistic, X, Y\n",
    "\n",
    "distribution = [0.1, 0.2, 0.3]\n",
    "gate_list = [X(0), Y(0), X(1)]\n",
    "gate = Probabilistic(distribution, gate_list)"
   ]
  },
  {
   "cell_type": "markdown",
   "metadata": {},
   "source": [
    "確率の総和が1に満たない場合、残りの確率はIdentityの作用になります。\n",
    "\n",
    "#### CPTP-map\n",
    "<code>CPTP</code>関数に完全性を満たすクラウス演算子のリストとして与えて作成します。\n"
   ]
  },
  {
   "cell_type": "code",
   "execution_count": 29,
   "metadata": {},
   "outputs": [],
   "source": [
    "from qulacs.gate import merge,CPTP, P0,P1\n",
    "\n",
    "gate00 = merge(P0(0),P0(1))\n",
    "gate01 = merge(P0(0),P1(1))\n",
    "gate10 = merge(P1(0),P0(1))\n",
    "gate11 = merge(P1(0),P1(1))\n",
    "\n",
    "gate_list = [gate00, gate01, gate10, gate11]\n",
    "gate = CPTP(gate_list)"
   ]
  },
  {
   "cell_type": "markdown",
   "metadata": {},
   "source": [
    "#### POVM\n",
    "数値計算上にはInstrumentと同じなので、Instrumentとして実現します。\n",
    "\n",
    "#### Instrument\n",
    "Instrumentは一般のCPTP-mapの操作に加え、ランダムに作用したクラウス演算子の添え字を取得する操作です。例えば、Z基底での測定は<code>P0</code>と<code>P1</code>からなるCPTP-mapを作用し、どちらが作用したかを知ることに相当します。\n",
    "cppsimでは<code>Instrument</code>関数にCPTP-mapの情報と、作用したクラウス演算子の添え字を書きこむ古典レジスタのアドレスを指定することで実現します。"
   ]
  },
  {
   "cell_type": "code",
   "execution_count": 30,
   "metadata": {},
   "outputs": [
    {
     "name": "stdout",
     "output_type": "stream",
     "text": [
      " *** Quantum State ***\n",
      " * Qubit Count : 2\n",
      " * Dimension   : 4\n",
      " * State vector : \n",
      " (-0.615508,0.573586)\n",
      "(-0.195376,-0.250318)\n",
      " (0.344109,0.0176773)\n",
      " (0.136504,-0.232296)\n",
      "\n",
      " *** Quantum State ***\n",
      " * Qubit Count : 2\n",
      " * Dimension   : 4\n",
      " * State vector : \n",
      "(-0.731582,0.681754)\n",
      "               (0,0)\n",
      "               (0,0)\n",
      "               (0,0)\n",
      "\n",
      "0\n"
     ]
    }
   ],
   "source": [
    "from qulacs import QuantumState\n",
    "from qulacs.gate import merge,Instrument, P0,P1\n",
    "\n",
    "gate00 = merge(P0(0),P0(1))\n",
    "gate01 = merge(P0(0),P1(1))\n",
    "gate10 = merge(P1(0),P0(1))\n",
    "gate11 = merge(P1(0),P1(1))\n",
    "\n",
    "gate_list = [gate00, gate01, gate10, gate11]\n",
    "classical_pos = 0\n",
    "gate = Instrument(gate_list, classical_pos)\n",
    "\n",
    "state = QuantumState(2)\n",
    "state.set_Haar_random_state()\n",
    "\n",
    "print(state)\n",
    "gate.update_quantum_state(state)\n",
    "result = state.get_classical_value(classical_pos)\n",
    "print(state)\n",
    "print(result)"
   ]
  },
  {
   "cell_type": "markdown",
   "metadata": {},
   "source": [
    "#### Adaptive\n",
    "古典レジスタに書き込まれた値を用いた条件に応じて操作を行うか決定します。\n",
    "条件はpythonの関数として記述することができます。pythonの関数は<code>unsigned int</code>型のリストを引数として受け取り、<code>bool</code>型を返す関数でなくてはなりません。"
   ]
  },
  {
   "cell_type": "code",
   "execution_count": 35,
   "metadata": {},
   "outputs": [],
   "source": [
    "from qulacs.gate import Adaptive, X\n",
    "\n",
    "def func(list):\n",
    "    return list[0]==1\n",
    "gate = Adaptive(X(0), func)\n",
    "\n",
    "state = QuantumState(2)\n",
    "state.set_Haar_random_state()\n",
    "\n",
    "# func returns False, and gate is not applied\n",
    "state.set_classical_value(0,0)\n",
    "gate.update_quantum_state(state)\n",
    "\n",
    "# func returns True, and gate is applied\n",
    "state.set_classical_value(0,1)\n",
    "gate.update_quantum_state(state)"
   ]
  },
  {
   "cell_type": "markdown",
   "metadata": {},
   "source": [
    "#### CP-map\n",
    "Kraus-rankが1の場合は、上記の単体のクラウス演算子として扱ってください。それ以外の場合は、TPになるようにクラウス演算子を調整した後、<code>multiply_scalar</code>関数で定数倍にした<code>Identity</code>オペレータを作用するなどして調整してください。"
   ]
  },
  {
   "cell_type": "markdown",
   "metadata": {},
   "source": [
    "## 量子回路\n",
    "\n",
    "### 量子回路の構成\n",
    "量子回路は量子ゲートの集合として表されます。\n",
    "例えば以下のように量子回路を構成できます。"
   ]
  },
  {
   "cell_type": "code",
   "execution_count": 36,
   "metadata": {},
   "outputs": [
    {
     "name": "stdout",
     "output_type": "stream",
     "text": [
      "[ 0.1767767+0.j -0.1767767-0.j -0.1767767-0.j  0.1767767+0.j\n",
      " -0.1767767-0.j  0.1767767+0.j  0.1767767+0.j -0.1767767-0.j\n",
      " -0.1767767-0.j  0.1767767+0.j  0.1767767+0.j -0.1767767-0.j\n",
      "  0.1767767+0.j -0.1767767-0.j -0.1767767-0.j  0.1767767+0.j\n",
      " -0.1767767-0.j  0.1767767+0.j  0.1767767+0.j -0.1767767-0.j\n",
      "  0.1767767+0.j -0.1767767-0.j -0.1767767-0.j  0.1767767+0.j\n",
      "  0.1767767+0.j -0.1767767-0.j -0.1767767-0.j  0.1767767+0.j\n",
      " -0.1767767-0.j  0.1767767+0.j  0.1767767+0.j -0.1767767-0.j]\n"
     ]
    }
   ],
   "source": [
    "from qulacs import QuantumState, QuantumCircuit\n",
    "from qulacs.gate import Z\n",
    "n = 5\n",
    "state = QuantumState(n)\n",
    "state.set_zero_state()\n",
    "\n",
    "# 量子回路を定義\n",
    "circuit = QuantumCircuit(n)\n",
    "\n",
    "# 量子回路にhadamardゲートを追加\n",
    "for i in range(n):\n",
    "    circuit.add_H_gate(i)\n",
    "\n",
    "# ゲートを生成し、それを追加することもできる。\n",
    "for i in range(n):\n",
    "    circuit.add_gate(Z(i))\n",
    "\n",
    "# 量子回路を状態に作用\n",
    "circuit.update_quantum_state(state)\n",
    "\n",
    "print(state.get_vector())"
   ]
  },
  {
   "cell_type": "markdown",
   "metadata": {},
   "source": [
    "なお、<code>add_gate</code>で追加された量子回路は量子回路の解放時に一緒に解放されます。従って、代入したゲートは再利用できません。引数として与えたゲートを再利用したい場合はgate.copyを用いて自身のコピーを作成するか、<code>add_gate_copy</code>関数を用いてください。\n",
    "\n",
    "### 量子回路のdepthの計算と最適化\n",
    "\n",
    "量子ゲートをまとめて一つの量子ゲートとすることで、量子ゲートの数を減らすことができ、数値計算の時間を短縮できることがあります。（もちろん、対象となる量子ビットの数が増える場合や、専用関数を持つ量子ゲートを合成して専用関数を持たない量子ゲートにしてしまった場合は、トータルで計算時間が減少するかは状況に依ります。）\n",
    "\n",
    "下記のコードでは<code>optimize</code>関数を用いて、量子回路の量子ゲートをターゲットとなる量子ビットが3つになるまで貪欲法で合成を繰り返します。"
   ]
  },
  {
   "cell_type": "code",
   "execution_count": 37,
   "metadata": {},
   "outputs": [
    {
     "name": "stdout",
     "output_type": "stream",
     "text": [
      "10\n",
      "1\n"
     ]
    }
   ],
   "source": [
    "from qulacs import QuantumCircuit\n",
    "from qulacs.circuit import QuantumCircuitOptimizer\n",
    "n = 5\n",
    "depth = 10\n",
    "circuit = QuantumCircuit(n)\n",
    "for d in range(depth):\n",
    "    for i in range(n):\n",
    "        circuit.add_H_gate(i)\n",
    "\n",
    "# depthを計算(depth=10)\n",
    "print(circuit.calculate_depth())\n",
    "\n",
    "# 最適化\n",
    "opt = QuantumCircuitOptimizer()\n",
    "# 作成を許す最大の量子ゲートのサイズ\n",
    "max_block_size = 1\n",
    "opt.optimize(circuit, max_block_size)\n",
    "\n",
    "# depthを計算(depth=1へ)\n",
    "print(circuit.calculate_depth())"
   ]
  },
  {
   "cell_type": "markdown",
   "metadata": {},
   "source": [
    "### 量子回路の情報デバッグ\n",
    "量子回路をprintすると、量子回路に含まれるゲートの統計情報などが表示されます。"
   ]
  },
  {
   "cell_type": "code",
   "execution_count": 38,
   "metadata": {},
   "outputs": [
    {
     "name": "stdout",
     "output_type": "stream",
     "text": [
      "*** Quantum Circuit Info ***\n",
      "# of qubit: 5\n",
      "# of step : 10\n",
      "# of gate : 50\n",
      "# of 1 qubit gate: 50\n",
      "Clifford  : yes\n",
      "Gaussian  : no\n",
      "\n",
      "\n"
     ]
    }
   ],
   "source": [
    "from qulacs import QuantumCircuit\n",
    "from qulacs.circuit import QuantumCircuitOptimizer\n",
    "n = 5\n",
    "depth = 10\n",
    "circuit = QuantumCircuit(n)\n",
    "for d in range(depth):\n",
    "    for i in range(n):\n",
    "        circuit.add_H_gate(i)\n",
    "print(circuit)"
   ]
  },
  {
   "cell_type": "markdown",
   "metadata": {},
   "source": [
    "## オブザーバブル\n",
    "### オブザーバブルの生成\n",
    "オブザーバブルはパウリ演算子の集合として表現されます。\n",
    "パウリ演算子は下記のように定義できます。"
   ]
  },
  {
   "cell_type": "code",
   "execution_count": 41,
   "metadata": {},
   "outputs": [],
   "source": [
    "from qulacs import Observable\n",
    "n = 5\n",
    "coef = 2.0\n",
    "# 2.0 X_0 X_1 Y_2 Z_4というパウリ演算子を設定\n",
    "Pauli_string = \"X 0 X 1 Y 2 Z 4\"\n",
    "observable = Observable(n)\n",
    "observable.add_operator(coef,Pauli_string)"
   ]
  },
  {
   "cell_type": "markdown",
   "metadata": {},
   "source": [
    "### オブザーバブルの評価\n",
    "状態に対してオブザーバブルの期待値を評価できます。"
   ]
  },
  {
   "cell_type": "code",
   "execution_count": 44,
   "metadata": {},
   "outputs": [
    {
     "name": "stdout",
     "output_type": "stream",
     "text": [
      "-0.7107390761253958\n"
     ]
    }
   ],
   "source": [
    "from qulacs import Observable, QuantumState\n",
    "\n",
    "n = 5\n",
    "coef = 2.0\n",
    "Pauli_string = \"X 0 X 1 Y 2 Z 4\"\n",
    "observable = Observable(n)\n",
    "observable.add_operator(coef,Pauli_string)\n",
    "\n",
    "state = QuantumState(n)\n",
    "state.set_Haar_random_state()\n",
    "# 期待値の計算\n",
    "value = observable.get_expectation_value(state)\n",
    "print(value)"
   ]
  },
  {
   "cell_type": "markdown",
   "metadata": {},
   "source": [
    "## 変分量子回路\n",
    "量子回路をParametricQuantumCircuitクラスとして定義すると、通所のQuantumCircuitクラスの関数に加え、変分法を用いて量子回路を最適化するのに便利ないくつかの関数を利用することができます。\n",
    "\n",
    "### 変分量子回路の利用例\n",
    "\n",
    "一つの回転角を持つ量子ゲート(X-rot, Y-rot, Z-rot, multi_qubit_pauli_rotation)はパラメトリックな量子ゲートとして量子回路に追加することができます。パラメトリックなゲートとして追加された量子ゲートについては、量子回路の構成後にパラメトリックなゲート数を取り出したり、後から回転角を変更することができます。"
   ]
  },
  {
   "cell_type": "code",
   "execution_count": 45,
   "metadata": {},
   "outputs": [
    {
     "name": "stdout",
     "output_type": "stream",
     "text": [
      " *** Quantum State ***\n",
      " * Qubit Count : 5\n",
      " * Dimension   : 32\n",
      " * State vector : \n",
      "    (0.224655,-0.082598)\n",
      "   (-0.0164462,0.155366)\n",
      "     (0.017718,0.184607)\n",
      "   (-0.175281,0.0516042)\n",
      "(-0.00689762,-0.0412808)\n",
      "    (-0.112477,0.109576)\n",
      "   (0.0902878,0.0284744)\n",
      "    (-0.160865,0.235746)\n",
      "   (0.0507143,0.0404841)\n",
      "  (0.0828694,-0.0665203)\n",
      "   (0.010073,-0.0168711)\n",
      "  (0.0137824,-0.0135646)\n",
      "  (-0.0667823,-0.063617)\n",
      "   (-0.106884,0.0887089)\n",
      "   (0.107396,-0.0503114)\n",
      "   (0.0412481,0.0609779)\n",
      "  (0.0625363,-0.0608823)\n",
      "    (0.085317,-0.165389)\n",
      "   (-0.162574,0.0170176)\n",
      "   (0.249577,-0.0486038)\n",
      "   (0.0429005,0.0840564)\n",
      "    (-0.121457,0.130893)\n",
      "  (-0.0258722,0.0429155)\n",
      "  (-0.0424428,0.0948723)\n",
      " (-0.230358,0.000999433)\n",
      "    (-0.269819,0.244062)\n",
      "   (-0.0244778,0.164229)\n",
      "     (0.417462,0.180154)\n",
      "  (-0.192403,-0.0150868)\n",
      " (-0.0136956,-0.0770316)\n",
      " (-0.0587886,-0.0238627)\n",
      "   (0.122217,-0.0188306)\n",
      "\n",
      "*** Quantum Circuit Info ***\n",
      "# of qubit: 5\n",
      "# of step : 41\n",
      "# of gate : 171\n",
      "# of 1 qubit gate: 150\n",
      "# of 2 qubit gate: 20\n",
      "# of 3 qubit gate: 0\n",
      "# of 4 qubit gate: 1\n",
      "Clifford  : no\n",
      "Gaussian  : no\n",
      "\n",
      "*** Parameter Info ***\n",
      "# of parameter: 151\n",
      "\n"
     ]
    }
   ],
   "source": [
    "from qulacs import ParametricQuantumCircuit\n",
    "from qulacs import QuantumState\n",
    "import numpy as np\n",
    "\n",
    "n = 5\n",
    "depth = 10\n",
    "\n",
    "# construct parametric quantum circuit with random rotation\n",
    "circuit = ParametricQuantumCircuit(n)\n",
    "for d in range(depth):\n",
    "\tfor i in range(n):\n",
    "\t\tangle = np.random.rand()\n",
    "\t\tcircuit.add_parametric_RX_gate(i,angle)\n",
    "\t\tangle = np.random.rand()\n",
    "\t\tcircuit.add_parametric_RY_gate(i,angle)\n",
    "\t\tangle = np.random.rand()\n",
    "\t\tcircuit.add_parametric_RZ_gate(i,angle)\n",
    "\tfor i in range(d%2, n-1, 2):\n",
    "\t\tcircuit.add_CNOT_gate(i,i+1)\n",
    "\n",
    "# add multi-qubit Pauli rotation gate as parametric gate (X_0 Y_3 Y_1 X_4)\n",
    "target = [0,3,1,4]\n",
    "pauli_ids = [1,2,2,1]\n",
    "angle = np.random.rand()\n",
    "circuit.add_parametric_multi_Pauli_rotation_gate(target, pauli_ids, angle)\n",
    "\n",
    "# get variable parameter count, and get current parameter\n",
    "parameter_count = circuit.get_parameter_count()\n",
    "param = [circuit.get_parameter(ind) for ind in range(parameter_count)]\n",
    "\n",
    "# set 3rd parameter to 0\n",
    "circuit.set_parameter(3, 0.)\n",
    "\n",
    "# update quantum state\n",
    "state = QuantumState(n)\n",
    "circuit.update_quantum_state(state)\n",
    "\n",
    "# output state and circuit info\n",
    "print(state)\n",
    "print(circuit)"
   ]
  }
 ],
 "metadata": {
  "kernelspec": {
   "display_name": "Python 3",
   "language": "python",
   "name": "python3"
  },
  "language_info": {
   "codemirror_mode": {
    "name": "ipython",
    "version": 3
   },
   "file_extension": ".py",
   "mimetype": "text/x-python",
   "name": "python",
   "nbconvert_exporter": "python",
   "pygments_lexer": "ipython3",
   "version": "3.7.2"
  }
 },
 "nbformat": 4,
 "nbformat_minor": 2
}
