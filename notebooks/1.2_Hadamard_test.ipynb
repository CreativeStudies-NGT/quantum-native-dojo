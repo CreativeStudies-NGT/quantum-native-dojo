{
 "cells": [
  {
   "cell_type": "markdown",
   "metadata": {},
   "source": [
    "## アダマールテストと位相推定"
   ]
  },
  {
   "cell_type": "markdown",
   "metadata": {},
   "source": [
    "### アダマールテスト"
   ]
  },
  {
   "cell_type": "markdown",
   "metadata": {},
   "source": [
    "アダマールテストとよばれる以下のような量子回路（図?）を考える。真ん中にある制御ユニタリ演算$\\Lambda(U)$は、上の量子ビットが$|0\\rangle$の場合にはなにもせず、$|1\\rangle$の場合には$U$を作用させるユニタリ演算である。"
   ]
  },
  {
   "cell_type": "markdown",
   "metadata": {},
   "source": [
    "$$\n",
    "\\Lambda (U) = |0\\rangle \\langle 0| \\otimes I + |1\\rangle \\langle 1|  \\otimes U\n",
    "$$"
   ]
  },
  {
   "cell_type": "markdown",
   "metadata": {},
   "source": [
    "つまり、１つ目の量子ビットが$|0\\rangle$か$|1\\rangle$かによって条件分岐して、「なにもしない」または「$U$を作用させる」という演算が実行される。従来のコンピュータでは条件分岐は同時に実行することができないが、量子コンピュータでは状態の重ね合わせを利用して、同時並列的に実行することができる。"
   ]
  },
  {
   "cell_type": "markdown",
   "metadata": {},
   "source": [
    "最初は簡単のために、量子状態$|\\psi \\rangle$が\n",
    "ユニタリー演算（行列）$U$の固有値$e^{i \\lambda}$の固有状態（固有ベクトル）である場合を考える：\n",
    "\\begin{eqnarray}\n",
    "U|\\psi \\rangle = e^{i \\lambda} |\\psi\\rangle.\n",
    "\\end{eqnarray}"
   ]
  },
  {
   "cell_type": "markdown",
   "metadata": {},
   "source": [
    "１つ目の量子ビットにアダマール演算$H$を作用させることで\n",
    "\\begin{eqnarray}\n",
    "\\frac{1}{\\sqrt{2}} (|0\\rangle  + |1\\rangle) \\otimes |\\psi  \\rangle \n",
    "\\end{eqnarray}\n",
    "が得られる。\n",
    "その後、制御$U$演算を作用させることによって、\n",
    "**固有値$e^{i\\lambda}$が１つめの量子ビットの相対位相として得られる**（このことを**位相キックバック**と呼ぶ）:\n",
    "\\begin{eqnarray}\n",
    "&&\\frac{1}{\\sqrt{2}} (|0\\rangle \\otimes |\\psi  \\rangle  \n",
    "+ |1\\rangle \\otimes U|\\psi \\rangle )\n",
    "\\\\\n",
    "&=&\\frac{1}{\\sqrt{2}} (|0\\rangle \\otimes |\\psi  \\rangle  \n",
    "+e^{i \\lambda} |1\\rangle \\otimes |\\psi \\rangle )\n",
    "\\\\\n",
    "&=&\n",
    "\\frac{1}{\\sqrt{2}} (|0\\rangle   \n",
    "+e^{i \\lambda} |1\\rangle )\\otimes |\\psi  \\rangle.\n",
    "\\end{eqnarray}\n",
    "最後に、１つ目の量子ビットに再度アダマール演算を行い\n",
    "\\begin{eqnarray}\n",
    "\\left(\\frac{1+e^{i\\lambda}}{2}|0\\rangle  \n",
    "+\\frac{1-e^{i\\lambda}}{2} |1\\rangle \\right)\\otimes |\\psi  \\rangle \n",
    "\\label{eq01}\n",
    "\\end{eqnarray}\n",
    "が得られる。\n",
    "一つ目の量子ビットを測定すると測定結果$m=0,1$を得る確率は\n",
    "\\begin{eqnarray}\n",
    "p_{m}=\\left|\\frac{1+(-1)^m e^{i\\lambda}}{2}\\right|^2 =\\frac{1+(-1)^m \\cos \\lambda}{2}\n",
    "\\end{eqnarray}\n",
    "となる。\n",
    "$|\\psi \\rangle$、$U$、$\\langle \\psi |$は\n",
    "それぞれ$2^n$次元の列ベクトル、$2^n \\times 2^n$行列、\n",
    "$2^n$次元の行ベクトルなので、\n",
    "このアダマールテストを古典コンピュータ上で愚直に計算すると\n",
    "指数的に大きなメモリーの確保と演算回数が必要になる。\n",
    "一方で、量子コンピューターでは、\n",
    "確率分布$p_m$のもとで$m$がサンプルされる。\n",
    "$\\cos \\lambda$を\n",
    "ある誤差$\\epsilon$で推定したい場合は、\n",
    "その逆数$1/\\epsilon$の多項式回程度サンプルすればよいことになる。"
   ]
  },
  {
   "cell_type": "markdown",
   "metadata": {},
   "source": [
    "同じ計算を、必ずしも固有ベクトルとは限らない、一般の入力に対して行うと、測定前の状態は、\n",
    "$$\n",
    " |0\\rangle \\frac{I+U}{2} |\\psi \\rangle  +  |1\\rangle  \\frac{I-U}{2} |\\psi \\rangle \n",
    "$$\n",
    "となり、0もしくは1が得られる確率は、\n",
    "$$\n",
    "p_0 = \\frac{1+ {\\rm Re} \\langle \\psi | U | \\psi \\rangle }{2}\n",
    "\\\\\n",
    "p_1 = \\frac{1- {\\rm Re} \\langle \\psi | U | \\psi \\rangle }{2}\n",
    "$$\n",
    "となる。つまり、ベクトル$|\\psi \\rangle$でユニタリ行列$U$を挟んだ値を、アダマールテストの測定結果のサンプルから推定することができる。もちろん、量子ビット数$n$が大きくなるにつれベクトルや行列の次元は指数的に大きくなるので、愚直に計算する方法は指数的な時間を要する。"
   ]
  },
  {
   "cell_type": "markdown",
   "metadata": {},
   "source": [
    "１つ目の量子ビットを測定した後の、２つ目の量子ビットの状態は、測定結果$m = 0, 1$に応じて以下の状態になる（規格化因子は省略）：\n",
    "$$\n",
    "|\\psi_0\\rangle = \\frac{I + U}{2}|\\psi\\rangle,\n",
    "\\quad\n",
    "|\\psi_1\\rangle = \\frac{I - U}{2}|\\psi\\rangle\n",
    "$$\n",
    "ここで、$U$が１量子ビットのユニタリ演算で、かつその固有値が$\\pm 1$であるような場合を考える。固有値$\\pm 1$に対応する固有ベクトル$|u_1\\rangle$, $|u_{-1}\\rangle$を使って$|\\psi\\rangle = c_1|u_1\\rangle + c_2|u_2\\rangle$と展開し代入することで、測定後の状態$|\\psi_0\\rangle$, $\\psi_1\\rangle$はそれぞれ固有値$\\pm 1$に対応する固有状態であることが分かる。"
   ]
  },
  {
   "cell_type": "markdown",
   "metadata": {},
   "source": [
    "具体的な例として、$U=H$の場合を考えてみよう。補助量子ビットを$|0\\rangle$、アダマールテストの入力$|\\psi\\rangle$も$|0\\rangle$とする。"
   ]
  },
  {
   "cell_type": "code",
   "execution_count": 1,
   "metadata": {},
   "outputs": [],
   "source": [
    "from sympy import *\n",
    "from sympy.physics.quantum import *\n",
    "from sympy.physics.quantum.qubit import Qubit,QubitBra\n",
    "init_printing() # ベクトルや行列を綺麗に表示するため\n",
    "from sympy.physics.quantum.gate import X,Y,Z,H,S,T,CNOT,SWAP,CPHASE,CGateS"
   ]
  },
  {
   "cell_type": "code",
   "execution_count": 2,
   "metadata": {},
   "outputs": [],
   "source": [
    "# Google Colaboratory上でのみ実行してください\n",
    "from IPython.display import HTML\n",
    "def setup_mathjax():\n",
    "    display(HTML('''\n",
    "    <script>\n",
    "        if (!window.MathJax) {\n",
    "            var script = document.createElement(\"script\");\n",
    "            script.src = \"https://colab.research.google.com/static/mathjax/MathJax.js?config=TeX-AMS_HTML-full,Safe\";\n",
    "            document.head.appendChild(script);\n",
    "        }\n",
    "    </script>\n",
    "    <script>\n",
    "        window.Mathjax.Hub.Config({\n",
    "            'tex2jax': {\n",
    "                'inlineMath': [['$', '$'], ['\\\\(', '\\\\)']],\n",
    "                'displayMath': [['$$', '$$'], ['\\\\[', '\\\\]']],\n",
    "                'processEscapes': true,\n",
    "                'processEnvironments': true,\n",
    "                'skipTags': ['script', 'noscript', 'style', 'textarea', 'code'],\n",
    "                'displayAlign': 'center',\n",
    "            },\n",
    "            'HTML-CSS': {\n",
    "                'styles': {'.MathJax_Display': {'margin': 0}},\n",
    "                'linebreaks': {'automatic': true},\n",
    "                // Disable to prevent OTF font loading, which aren't part of our\n",
    "                // distribution.\n",
    "                'imageFont': null,\n",
    "            },\n",
    "            'messageStyle': 'none'\n",
    "        });\n",
    "        window.Mathjax.Hub.Configured();\n",
    "    </script>\n",
    "    '''))\n",
    "get_ipython().events.register('pre_run_cell', setup_mathjax)"
   ]
  },
  {
   "cell_type": "code",
   "execution_count": 3,
   "metadata": {},
   "outputs": [
    {
     "data": {
      "text/html": [
       "\n",
       "    <script>\n",
       "        if (!window.MathJax) {\n",
       "            var script = document.createElement(\"script\");\n",
       "            script.src = \"https://colab.research.google.com/static/mathjax/MathJax.js?config=TeX-AMS_HTML-full,Safe&delayStartupUntil=configured\";\n",
       "            document.head.appendChild(script);\n",
       "        }\n",
       "    </script>\n",
       "    <script>\n",
       "        window.Mathjax.Hub.Config({\n",
       "            'tex2jax': {\n",
       "                'inlineMath': [['$', '$'], ['\\(', '\\)']],\n",
       "                'displayMath': [['$$', '$$'], ['\\[', '\\]']],\n",
       "                'processEscapes': true,\n",
       "                'processEnvironments': true,\n",
       "                'skipTags': ['script', 'noscript', 'style', 'textarea', 'code'],\n",
       "                'displayAlign': 'center',\n",
       "            },\n",
       "            'HTML-CSS': {\n",
       "                'styles': {'.MathJax_Display': {'margin': 0}},\n",
       "                'linebreaks': {'automatic': true},\n",
       "                // Disable to prevent OTF font loading, which aren't part of our\n",
       "                // distribution.\n",
       "                'imageFont': null,\n",
       "            },\n",
       "            'messageStyle': 'none'\n",
       "        });\n",
       "        window.Mathjax.Hub.Configured();\n",
       "    </script>\n",
       "    "
      ],
      "text/plain": [
       "<IPython.core.display.HTML object>"
      ]
     },
     "metadata": {},
     "output_type": "display_data"
    }
   ],
   "source": [
    "state = Qubit('00')"
   ]
  },
  {
   "cell_type": "markdown",
   "metadata": {},
   "source": [
    "制御H演算は、`CGateS()`を用いて"
   ]
  },
  {
   "cell_type": "code",
   "execution_count": 4,
   "metadata": {},
   "outputs": [
    {
     "data": {
      "text/html": [
       "\n",
       "    <script>\n",
       "        if (!window.MathJax) {\n",
       "            var script = document.createElement(\"script\");\n",
       "            script.src = \"https://colab.research.google.com/static/mathjax/MathJax.js?config=TeX-AMS_HTML-full,Safe&delayStartupUntil=configured\";\n",
       "            document.head.appendChild(script);\n",
       "        }\n",
       "    </script>\n",
       "    <script>\n",
       "        window.Mathjax.Hub.Config({\n",
       "            'tex2jax': {\n",
       "                'inlineMath': [['$', '$'], ['\\(', '\\)']],\n",
       "                'displayMath': [['$$', '$$'], ['\\[', '\\]']],\n",
       "                'processEscapes': true,\n",
       "                'processEnvironments': true,\n",
       "                'skipTags': ['script', 'noscript', 'style', 'textarea', 'code'],\n",
       "                'displayAlign': 'center',\n",
       "            },\n",
       "            'HTML-CSS': {\n",
       "                'styles': {'.MathJax_Display': {'margin': 0}},\n",
       "                'linebreaks': {'automatic': true},\n",
       "                // Disable to prevent OTF font loading, which aren't part of our\n",
       "                // distribution.\n",
       "                'imageFont': null,\n",
       "            },\n",
       "            'messageStyle': 'none'\n",
       "        });\n",
       "        window.Mathjax.Hub.Configured();\n",
       "    </script>\n",
       "    "
      ],
      "text/plain": [
       "<IPython.core.display.HTML object>"
      ]
     },
     "metadata": {},
     "output_type": "display_data"
    },
    {
     "data": {
      "image/png": "[encoded data removed]",
      "text/latex": [
       "$$\\left[\\begin{matrix}1 & 0 & 0 & 0\\\\0 & 1 & 0 & 0\\\\0 & 0 & \\frac{\\sqrt{2}}{2} & \\frac{1}{\\sqrt{2}}\\\\0 & 0 & \\frac{1}{\\sqrt{2}} & - \\frac{\\sqrt{2}}{2}\\end{matrix}\\right]$$"
      ],
      "text/plain": [
       "⎡1  0  0    0  ⎤\n",
       "⎢              ⎥\n",
       "⎢0  1  0    0  ⎥\n",
       "⎢              ⎥\n",
       "⎢      √2   1  ⎥\n",
       "⎢0  0  ──   ── ⎥\n",
       "⎢      2    √2 ⎥\n",
       "⎢              ⎥\n",
       "⎢      1   -√2 ⎥\n",
       "⎢0  0  ──  ────⎥\n",
       "⎣      √2   2  ⎦"
      ]
     },
     "execution_count": 4,
     "metadata": {},
     "output_type": "execute_result"
    }
   ],
   "source": [
    "ctrlH = CGateS(1,H(0))\n",
    "represent(ctrlH,nqubits=2)"
   ]
  },
  {
   "cell_type": "markdown",
   "metadata": {},
   "source": [
    "測定前の状態は、"
   ]
  },
  {
   "cell_type": "code",
   "execution_count": 5,
   "metadata": {},
   "outputs": [
    {
     "data": {
      "text/html": [
       "\n",
       "    <script>\n",
       "        if (!window.MathJax) {\n",
       "            var script = document.createElement(\"script\");\n",
       "            script.src = \"https://colab.research.google.com/static/mathjax/MathJax.js?config=TeX-AMS_HTML-full,Safe&delayStartupUntil=configured\";\n",
       "            document.head.appendChild(script);\n",
       "        }\n",
       "    </script>\n",
       "    <script>\n",
       "        window.Mathjax.Hub.Config({\n",
       "            'tex2jax': {\n",
       "                'inlineMath': [['$', '$'], ['\\(', '\\)']],\n",
       "                'displayMath': [['$$', '$$'], ['\\[', '\\]']],\n",
       "                'processEscapes': true,\n",
       "                'processEnvironments': true,\n",
       "                'skipTags': ['script', 'noscript', 'style', 'textarea', 'code'],\n",
       "                'displayAlign': 'center',\n",
       "            },\n",
       "            'HTML-CSS': {\n",
       "                'styles': {'.MathJax_Display': {'margin': 0}},\n",
       "                'linebreaks': {'automatic': true},\n",
       "                // Disable to prevent OTF font loading, which aren't part of our\n",
       "                // distribution.\n",
       "                'imageFont': null,\n",
       "            },\n",
       "            'messageStyle': 'none'\n",
       "        });\n",
       "        window.Mathjax.Hub.Configured();\n",
       "    </script>\n",
       "    "
      ],
      "text/plain": [
       "<IPython.core.display.HTML object>"
      ]
     },
     "metadata": {},
     "output_type": "display_data"
    },
    {
     "data": {
      "image/png": "[encoded data removed]",
      "text/latex": [
       "$$H_{1} C_{1}{\\left(H_{0}\\right)} H_{1} {\\left|00\\right\\rangle }$$"
      ],
      "text/plain": [
       "H ⋅C ⎛H ⎞⋅H ⋅❘00⟩\n",
       " 1  1⎝ 0⎠  1     "
      ]
     },
     "execution_count": 5,
     "metadata": {},
     "output_type": "execute_result"
    }
   ],
   "source": [
    "H(1)*ctrlH*H(1)*state"
   ]
  },
  {
   "cell_type": "code",
   "execution_count": 6,
   "metadata": {
    "scrolled": true
   },
   "outputs": [
    {
     "data": {
      "text/html": [
       "\n",
       "    <script>\n",
       "        if (!window.MathJax) {\n",
       "            var script = document.createElement(\"script\");\n",
       "            script.src = \"https://colab.research.google.com/static/mathjax/MathJax.js?config=TeX-AMS_HTML-full,Safe&delayStartupUntil=configured\";\n",
       "            document.head.appendChild(script);\n",
       "        }\n",
       "    </script>\n",
       "    <script>\n",
       "        window.Mathjax.Hub.Config({\n",
       "            'tex2jax': {\n",
       "                'inlineMath': [['$', '$'], ['\\(', '\\)']],\n",
       "                'displayMath': [['$$', '$$'], ['\\[', '\\]']],\n",
       "                'processEscapes': true,\n",
       "                'processEnvironments': true,\n",
       "                'skipTags': ['script', 'noscript', 'style', 'textarea', 'code'],\n",
       "                'displayAlign': 'center',\n",
       "            },\n",
       "            'HTML-CSS': {\n",
       "                'styles': {'.MathJax_Display': {'margin': 0}},\n",
       "                'linebreaks': {'automatic': true},\n",
       "                // Disable to prevent OTF font loading, which aren't part of our\n",
       "                // distribution.\n",
       "                'imageFont': null,\n",
       "            },\n",
       "            'messageStyle': 'none'\n",
       "        });\n",
       "        window.Mathjax.Hub.Configured();\n",
       "    </script>\n",
       "    "
      ],
      "text/plain": [
       "<IPython.core.display.HTML object>"
      ]
     },
     "metadata": {},
     "output_type": "display_data"
    },
    {
     "data": {
      "image/png": "[encoded data removed]",
      "text/latex": [
       "$$\\frac{\\sqrt{2} {\\left|00\\right\\rangle }}{4} + \\frac{{\\left|00\\right\\rangle }}{2} + \\frac{\\sqrt{2} {\\left|01\\right\\rangle }}{4} - \\frac{\\sqrt{2} {\\left|10\\right\\rangle }}{4} + \\frac{{\\left|10\\right\\rangle }}{2} - \\frac{\\sqrt{2} {\\left|11\\right\\rangle }}{4}$$"
      ],
      "text/plain": [
       "√2⋅❘00⟩   ❘00⟩   √2⋅❘01⟩   √2⋅❘10⟩   ❘10⟩   √2⋅❘11⟩\n",
       "─────── + ──── + ─────── - ─────── + ──── - ───────\n",
       "   4       2        4         4       2        4   "
      ]
     },
     "execution_count": 6,
     "metadata": {},
     "output_type": "execute_result"
    }
   ],
   "source": [
    "qapply(H(1)*ctrlH*H(1)*state)"
   ]
  },
  {
   "cell_type": "markdown",
   "metadata": {},
   "source": [
    "前節で紹介したSymPyの`measure_partial`関数を用いて、1つ目の量子ビットの測定結果が0だった場合の量子状態と確率を求めると、"
   ]
  },
  {
   "cell_type": "code",
   "execution_count": 7,
   "metadata": {},
   "outputs": [
    {
     "data": {
      "text/html": [
       "\n",
       "    <script>\n",
       "        if (!window.MathJax) {\n",
       "            var script = document.createElement(\"script\");\n",
       "            script.src = \"https://colab.research.google.com/static/mathjax/MathJax.js?config=TeX-AMS_HTML-full,Safe&delayStartupUntil=configured\";\n",
       "            document.head.appendChild(script);\n",
       "        }\n",
       "    </script>\n",
       "    <script>\n",
       "        window.Mathjax.Hub.Config({\n",
       "            'tex2jax': {\n",
       "                'inlineMath': [['$', '$'], ['\\(', '\\)']],\n",
       "                'displayMath': [['$$', '$$'], ['\\[', '\\]']],\n",
       "                'processEscapes': true,\n",
       "                'processEnvironments': true,\n",
       "                'skipTags': ['script', 'noscript', 'style', 'textarea', 'code'],\n",
       "                'displayAlign': 'center',\n",
       "            },\n",
       "            'HTML-CSS': {\n",
       "                'styles': {'.MathJax_Display': {'margin': 0}},\n",
       "                'linebreaks': {'automatic': true},\n",
       "                // Disable to prevent OTF font loading, which aren't part of our\n",
       "                // distribution.\n",
       "                'imageFont': null,\n",
       "            },\n",
       "            'messageStyle': 'none'\n",
       "        });\n",
       "        window.Mathjax.Hub.Configured();\n",
       "    </script>\n",
       "    "
      ],
      "text/plain": [
       "<IPython.core.display.HTML object>"
      ]
     },
     "metadata": {},
     "output_type": "display_data"
    },
    {
     "data": {
      "image/png": "[encoded data removed]",
      "text/latex": [
       "$$\\left ( \\frac{\\left(\\sqrt{2} + 2\\right) {\\left|00\\right\\rangle } + \\sqrt{2} {\\left|01\\right\\rangle }}{2 \\sqrt{\\sqrt{2} + 2}}, \\quad \\frac{\\sqrt{2}}{4} + \\frac{1}{2}\\right )$$"
      ],
      "text/plain": [
       "⎛(√2 + 2)⋅❘00⟩ + √2⋅❘01⟩  √2   1⎞\n",
       "⎜───────────────────────, ── + ─⎟\n",
       "⎜          ________       4    2⎟\n",
       "⎝      2⋅╲╱ √2 + 2              ⎠"
      ]
     },
     "execution_count": 7,
     "metadata": {},
     "output_type": "execute_result"
    }
   ],
   "source": [
    "from sympy.physics.quantum.qubit import measure_all, measure_partial, measure_all_oneshot, measure_partial_oneshot\n",
    "measured_state_and_probability_zero = measure_partial(qapply(H(1)*ctrlH*H(1)*state),(1,))[0]\n",
    "simplify(measured_state_and_probability_zero)"
   ]
  },
  {
   "cell_type": "markdown",
   "metadata": {},
   "source": [
    "$\\langle 0 | H | 0\\rangle = 1/\\sqrt{2}$より、測定確率が上で求めた値と一致していることが分かる。また、２つめの量子ビットに$H$を作用させることで、測定後の状態が$H$の固有ベクトルになっていることが分かる（SymPyのインデックスは１つめが1、２つめが0になるよう対応させていることに注意）。"
   ]
  },
  {
   "cell_type": "code",
   "execution_count": 8,
   "metadata": {},
   "outputs": [
    {
     "data": {
      "text/html": [
       "\n",
       "    <script>\n",
       "        if (!window.MathJax) {\n",
       "            var script = document.createElement(\"script\");\n",
       "            script.src = \"https://colab.research.google.com/static/mathjax/MathJax.js?config=TeX-AMS_HTML-full,Safe&delayStartupUntil=configured\";\n",
       "            document.head.appendChild(script);\n",
       "        }\n",
       "    </script>\n",
       "    <script>\n",
       "        window.Mathjax.Hub.Config({\n",
       "            'tex2jax': {\n",
       "                'inlineMath': [['$', '$'], ['\\(', '\\)']],\n",
       "                'displayMath': [['$$', '$$'], ['\\[', '\\]']],\n",
       "                'processEscapes': true,\n",
       "                'processEnvironments': true,\n",
       "                'skipTags': ['script', 'noscript', 'style', 'textarea', 'code'],\n",
       "                'displayAlign': 'center',\n",
       "            },\n",
       "            'HTML-CSS': {\n",
       "                'styles': {'.MathJax_Display': {'margin': 0}},\n",
       "                'linebreaks': {'automatic': true},\n",
       "                // Disable to prevent OTF font loading, which aren't part of our\n",
       "                // distribution.\n",
       "                'imageFont': null,\n",
       "            },\n",
       "            'messageStyle': 'none'\n",
       "        });\n",
       "        window.Mathjax.Hub.Configured();\n",
       "    </script>\n",
       "    "
      ],
      "text/plain": [
       "<IPython.core.display.HTML object>"
      ]
     },
     "metadata": {},
     "output_type": "display_data"
    },
    {
     "data": {
      "image/png": "[encoded data removed]",
      "text/latex": [
       "$$\\frac{\\sqrt{2} {\\left|00\\right\\rangle } + 2 {\\left|00\\right\\rangle } + \\sqrt{2} {\\left|01\\right\\rangle }}{2 \\sqrt{\\sqrt{2} + 2}}$$"
      ],
      "text/plain": [
       "√2⋅❘00⟩ + 2⋅❘00⟩ + √2⋅❘01⟩\n",
       "──────────────────────────\n",
       "           ________       \n",
       "       2⋅╲╱ √2 + 2        "
      ]
     },
     "execution_count": 8,
     "metadata": {},
     "output_type": "execute_result"
    }
   ],
   "source": [
    "measured_state_zero = measured_state_and_probability_zero[0]\n",
    "simplify(qapply(H(0)*measured_state_zero))"
   ]
  },
  {
   "cell_type": "markdown",
   "metadata": {},
   "source": [
    "同様に1の測定結果を得た場合は、固有値-1の固有状態であることも確認できるので試してもらいたい。"
   ]
  },
  {
   "cell_type": "code",
   "execution_count": 9,
   "metadata": {},
   "outputs": [
    {
     "data": {
      "text/html": [
       "\n",
       "    <script>\n",
       "        if (!window.MathJax) {\n",
       "            var script = document.createElement(\"script\");\n",
       "            script.src = \"https://colab.research.google.com/static/mathjax/MathJax.js?config=TeX-AMS_HTML-full,Safe&delayStartupUntil=configured\";\n",
       "            document.head.appendChild(script);\n",
       "        }\n",
       "    </script>\n",
       "    <script>\n",
       "        window.Mathjax.Hub.Config({\n",
       "            'tex2jax': {\n",
       "                'inlineMath': [['$', '$'], ['\\(', '\\)']],\n",
       "                'displayMath': [['$$', '$$'], ['\\[', '\\]']],\n",
       "                'processEscapes': true,\n",
       "                'processEnvironments': true,\n",
       "                'skipTags': ['script', 'noscript', 'style', 'textarea', 'code'],\n",
       "                'displayAlign': 'center',\n",
       "            },\n",
       "            'HTML-CSS': {\n",
       "                'styles': {'.MathJax_Display': {'margin': 0}},\n",
       "                'linebreaks': {'automatic': true},\n",
       "                // Disable to prevent OTF font loading, which aren't part of our\n",
       "                // distribution.\n",
       "                'imageFont': null,\n",
       "            },\n",
       "            'messageStyle': 'none'\n",
       "        });\n",
       "        window.Mathjax.Hub.Configured();\n",
       "    </script>\n",
       "    "
      ],
      "text/plain": [
       "<IPython.core.display.HTML object>"
      ]
     },
     "metadata": {},
     "output_type": "display_data"
    },
    {
     "data": {
      "image/png": "[encoded data removed]",
      "text/latex": [
       "$$\\frac{- 2 {\\left|10\\right\\rangle } + \\sqrt{2} {\\left|10\\right\\rangle } + \\sqrt{2} {\\left|11\\right\\rangle }}{2 \\sqrt{- \\sqrt{2} + 2}}$$"
      ],
      "text/plain": [
       "-2⋅❘10⟩ + √2⋅❘10⟩ + √2⋅❘11⟩\n",
       "───────────────────────────\n",
       "           _________       \n",
       "       2⋅╲╱ -√2 + 2        "
      ]
     },
     "execution_count": 9,
     "metadata": {},
     "output_type": "execute_result"
    }
   ],
   "source": [
    "measured_state_one = measure_partial(qapply(H(1)*ctrlH*H(1)*state),(1,))[1][0]\n",
    "simplify(qapply(H(0)*measured_state_one))"
   ]
  },
  {
   "cell_type": "markdown",
   "metadata": {},
   "source": [
    "固有値が$\\pm 1$ではない場合も、アダマールテストの出力を入力として繰り返すと$U$の固有状態に状態が収束していくので、興味がある人は試してもらいたい。"
   ]
  },
  {
   "cell_type": "markdown",
   "metadata": {},
   "source": [
    "### アダマールテストで位相の情報を取り出す"
   ]
  },
  {
   "cell_type": "markdown",
   "metadata": {},
   "source": [
    "アダマールテストでは、ユニタリ演算$U$の固有値$e^{i\\lambda}$の位相$\\lambda$によって測定の確率分布が決まるため、測定値のサンプルから$\\lambda$を推定できることが分かった。これをもう少し工夫することで、測定結果から位相の情報をより直接的に取り出すことができることを見ていこう。"
   ]
  },
  {
   "cell_type": "markdown",
   "metadata": {},
   "source": [
    "下準備として、$\\lambda/2\\pi$を2進展開しよう：\n",
    "$$\n",
    "\\frac{\\lambda}{2\\pi} = \\frac{j_1}{2^1} \\frac{j_2}{2^2} \\cdots \\frac{j_k}{2^k} \\cdots\n",
    "$$\n",
    "$j_k$は0または1の値を取る（古典）ビットである。$\\lambda$は$e^{i\\lambda}$の形でのみ出てくるので、$0 \\leq \\lambda < 2\\pi$として一般性を失わない。この2進展開を、通常の小数の表記にならって以下のように書く。\n",
    "$$\n",
    "\\lambda = (2\\pi) 0.j_1 j_2 \\ldots j_k \\ldots\n",
    "$$\n",
    "以下では簡単のため、$\\lambda/2\\pi$は小数点以下$r$桁で書けるものとする。\n",
    "$$\n",
    "\\lambda = (2\\pi) 0.j_1 j_2 \\ldots j_r\n",
    "$$"
   ]
  },
  {
   "cell_type": "markdown",
   "metadata": {},
   "source": [
    "さて、アダマールテストでは制御ユニタリ演算として$\\Lambda(U)$を用いたが、ここではそれを少し変えて$\\Lambda(U^{2^k})$としてみよう。前節の前半と同様、$|\\psi\\rangle$が$U$の固有状態であることを仮定する。制御ユニタリ演算を行なった後の状態は\n",
    "$$\n",
    "\\frac{1}{\\sqrt{2}}\n",
    "\\left(\n",
    " |0\\rangle +\n",
    " e^{i2^k\\lambda} |1\\rangle\n",
    "\\right)\n",
    "\\otimes |\\psi\\rangle\n",
    "$$\n",
    "上記の2進展開を使うと、\n",
    "$$\n",
    "2^k \\lambda =\n",
    "2^k \\cdot (2\\pi)0.j_1 j_2 \\ldots j_r =\n",
    "(2\\pi)j_1 j_2 \\ldots j_k . j_{k+1} \\ldots j_r\n",
    "$$\n",
    "$e^{i(2\\pi)j_1 \\ldots j_k} = 1$を用いて、１つ目の量子ビットの状態を計算すると、\n",
    "$$\n",
    "\\frac{1}{\\sqrt{2}}\n",
    "\\left(\n",
    " |0\\rangle +\n",
    " e^{i(2\\pi)0.j_{k+1} \\ldots j_r} |1\\rangle\n",
    "\\right)\n",
    "$$\n",
    "まず$k = r-1$の場合を考えると、\n",
    "$$\n",
    "\\frac{1}{\\sqrt{2}}\n",
    "\\left(\n",
    " |0\\rangle +\n",
    " e^{i(2\\pi)0.j_r} |1\\rangle\n",
    "\\right) =\n",
    "\\frac{1}{\\sqrt{2}}\n",
    "\\left(\n",
    " |0\\rangle +\n",
    " e^{ij_r\\pi}|1\\rangle\n",
    "\\right)\n",
    "$$\n",
    "これにアダマール演算を行うと、\n",
    "$$\n",
    "H\\frac{1}{\\sqrt{2}}\n",
    "\\left(\n",
    " |0\\rangle +\n",
    " e^{ij_r\\pi}|1\\rangle\n",
    "\\right) =\n",
    "|j_r\\rangle\n",
    "$$\n",
    "となり、小数点以下$r$桁目のビットがそのまま１つ目の量子ビットの状態になっていることが分かる。次に$k = r - 2$の場合を考えると、制御ユニタリ演算後の状態は\n",
    "$$\n",
    "\\frac{1}{\\sqrt{2}}\n",
    "\\left(\n",
    " |0\\rangle +\n",
    " e^{i(2\\pi)0.j_{r-1} j_r} |1\\rangle\n",
    "\\right) =\n",
    "\\frac{1}{\\sqrt{2}}\n",
    "\\left(\n",
    " |0\\rangle +\n",
    " (e^{i\\pi/2})^{j_r} e^{i(2\\pi)0.j_{r-1}} |1\\rangle\n",
    "\\right)\n",
    "$$\n",
    "$j_r$の値が分かっていると仮定すると、$j_r=1$の場合のみ、$|1\\rangle$の相対位相を$-\\pi/2$回す演算を行えばよい。$|1\\rangle$の相対位相を$-2\\pi/2^k$回す演算を\n",
    "$$\n",
    "R_k \\equiv\n",
    "\\left(\n",
    "\\begin{array}{cc}\n",
    "1 & 0\\\\\n",
    "0 & e^{i(2\\pi)/2^k}\n",
    "\\end{array}\n",
    "\\right)\n",
    "$$\n",
    "とすると、\n",
    "$$\n",
    "R_2\n",
    "\\frac{1}{\\sqrt{2}}\n",
    "\\left(\n",
    " |0\\rangle +\n",
    " (e^{i\\pi/2})^{j_r} e^{i(2\\pi)0.j_{r-1}} |1\\rangle\n",
    "\\right) =\n",
    "\\frac{1}{\\sqrt{2}}\n",
    "\\left(\n",
    " |0\\rangle +\n",
    " e^{i(2\\pi)0.j_{r-1}} |1\\rangle\n",
    "\\right)\n",
    "$$\n",
    "あとは$k = r - 1$の場合と同様にアダマール演算を行うと\n",
    "$$\n",
    "H\\frac{1}{\\sqrt{2}}\n",
    "\\left(\n",
    " |0\\rangle +\n",
    " e^{ij_{r-1}\\pi}|1\\rangle\n",
    "\\right) =\n",
    "|j_{r-1}\\rangle\n",
    "$$\n",
    "となり、小数点以下$r-1$桁目のビットを量子ビットの状態として取り出すことができる。"
   ]
  },
  {
   "cell_type": "markdown",
   "metadata": {},
   "source": [
    "このように、アダマールテストを少し変形することで、固有値の位相を1桁ずつ量子ビットの状態として取り出すことができる。この手続きを量子回路で行うのが、以下で説明する位相推定アルゴリズムである。"
   ]
  },
  {
   "cell_type": "markdown",
   "metadata": {},
   "source": [
    "上記の計算で、$r$桁目については通常のアダマールテストと同様アダマール演算を用いたが、$r-1$桁目については、$r$桁目の情報に基づいて適応的に$R_2$演算を行なったことに注意しよう。この適応的な演算は、量子回路においては制御ユニタリ演算に対応する。"
   ]
  },
  {
   "cell_type": "markdown",
   "metadata": {},
   "source": [
    "### 位相推定アルゴリズム"
   ]
  },
  {
   "cell_type": "markdown",
   "metadata": {},
   "source": [
    "量子コンピュータにとってもっとも重要なアルゴリズムである位相推定アルゴリズムを紹介する。上記のアダマールテストをより精度が良くなるように、測定側の量子ビットを拡張したのが、Kitaevによって提案された位相推定アルゴリズムである。詳細はともかく、どのような操作ができるアルゴリズムなのかを、まず紹介しよう。\n",
    "　$U$を量子回路として構成できる一般的なユニタリ行列とする。$U$の固有ベクトルを$|{\\rm eigen} _i \\rangle$とし、対応する固有値を$\\lambda _i$とする。ある一般的な量子状態$|\\psi\\rangle$が与えられたとする。これは必ず固有ベクトルで展開できる：\n",
    "$$\n",
    "|\\psi \\rangle = \\sum _i c_i |{\\rm eigen}_i \\rangle\n",
    "$$\n",
    "もちろん具体的に$c_i$がどのような値になるかはわからなくてよい。このとき位相推定アルゴリズムは、$r$個の補助量子ビットを用いて、入力状態\n",
    "$$\n",
    "|00...0\\rangle | \\psi \\rangle\n",
    "$$\n",
    "を、\n",
    "$$\n",
    "\\sum _i c_i |\\lambda_i \\rangle | {\\rm eigen_i} \\rangle \n",
    "$$\n",
    "へと変換するアルゴリズムのことである。重ね合わせの中にあるそれぞれの固有ベクトルに対応した固有値を$r$個の補助量子ビットへと取り出すアルゴリズムになっている。この状態に対して測定をすると、確率 \n",
    "$$\n",
    "p_i = |c_i |^2\n",
    "$$\n",
    "で、どれか一つの固有ベクトルとその固有値が乱択される。このアルゴリズムは、素因数分解や分子などのエネルギー計算のための量子化学アルゴリズム、そしてその他多くのアルゴリズムのサブルーチンとして利用されていおり、量子コンピュータが従来コンピュータよりも指数的に高速に特定の問題において解を得られる（と期待されている）最も重要な例である。"
   ]
  },
  {
   "cell_type": "markdown",
   "metadata": {},
   "source": [
    "以下では、入力状態を固有状態$|{\\rm eigen}\\rangle$とその固有値$\\lambda$に限定して、位相推定アルゴリズムを説明していくことにする。しかし、線形和をとっても全く同じ議論が使えるので一般性は失われていない。 アダマールテストでは1つしか測定用の量子ビットを使わなかった。位相推定では、測定用の補助量子ビットとして$r$個の量子ビットを確保する。\n",
    "図（figure02.pdf）のように$r$個の量子ビットを用いて、\n",
    "アダマールテストと同様に制御ユニタリー演算を作用させる。\n",
    "ただし前節で行ったように、、$k$番目（$k=0,1,...,r-1$）の補助量子ビットは制御$U^{2^k}$演算\n",
    "をすることにする。\n",
    "前節と同様、ユニタリー演算$U$の固有値の位相$\\lambda$を$r$ビットの２進小数を用いて\n",
    "\\begin{eqnarray}\n",
    "\\lambda = (2\\pi) 0.j_1 j_2...j_r\n",
    "\\end{eqnarray}\n",
    "と書いておく。\n",
    "$k$番目のプローブ量子ビットには$e^{i \\lambda 2^k}$\n",
    "の位相が獲得される（位相キックバック）ので、\n",
    "前節で計算したように\n",
    "\\begin{eqnarray}\n",
    "\\bigotimes _{k=0}^{r-1} \\frac{|0\\rangle + e^{i (2\\pi)0.j_{r-k}...j_r} |1\\rangle }{\\sqrt{2}}\n",
    "\\otimes |{\\rm eigen} \\rangle\n",
    "\\end{eqnarray}\n",
    "という状態が得られる。\n",
    "固有値の位相を２進数小数表示で1ビットずつシフトしたものが\n",
    "各プローブ量子ビットの位相に格納されている。"
   ]
  },
  {
   "cell_type": "markdown",
   "metadata": {},
   "source": [
    "この$r$個のプローブ量子ビットの位相から固有値の位相を得るには、フーリエ変換（の逆）の量子版、**逆量子フーリエ変換**\n",
    "\\begin{eqnarray}\n",
    "\\bigotimes _{k=0}^{r-1} \\frac{|0\\rangle + e^{i (2\\pi)0.j_{r-k}...j_r} |1\\rangle }{\\sqrt{2}}\n",
    "\\rightarrow |j_1...j_r\\rangle\n",
    "\\end{eqnarray}\n",
    "を作用させる必要がある。"
   ]
  },
  {
   "cell_type": "markdown",
   "metadata": {},
   "source": [
    "逆量子フーリエ変換を実際にどのように構成するかを見ていこう。\n",
    "\n",
    "まず$r-1$番目の量子ビットの状態は$(|0\\rangle + e^{i(2\\pi)0.j_r}|1\\rangle)/\\sqrt{2}$であり、前節で計算した通りアダマール演算$H$を作用させれば$|j_r\\rangle$になる。\n",
    "\n",
    "次に、$r-2$番目の量子ビットを考える。$r-1$番目の量子ビットにアダマール演算を行なった後の$r-2$番目、$r-1$番目の量子ビットの状態は\n",
    "$$\n",
    "\\frac{|0\\rangle + e^{i(2\\pi)0.j_{r-1} j_r}|1\\rangle}{\\sqrt{2}}\n",
    "\\otimes |j_r\\rangle\n",
    "$$\n",
    "$j_r = 1$の場合のみ、$r-2$番目の量子ビットの位相を$e^{-i\\pi/2}$回転させたいので、$r-1$番目の量子ビットを制御、$r-2$番目の量子ビットをターゲットとする制御$R_2$演算を作用させる。\n",
    "$$\n",
    "\\Lambda(R_2)_{r-1, r-2}\n",
    "\\frac{|0\\rangle + e^{i(2\\pi)0.j_{r-1} j_r}|1\\rangle}{\\sqrt{2}}\n",
    "\\otimes |j_r\\rangle =\n",
    "\\frac{|0\\rangle + e^{i(2\\pi)0.j_{r-1}}|1\\rangle}{\\sqrt{2}}\n",
    "\\otimes |j_r\\rangle\n",
    "$$\n",
    "これで、$r-1$番目の量子ビットの場合と同じ形になっているので、$r-2$番目の量子ビットにもアダマール演算を作用させれば状態は$|j_{r-1}\\rangle\\otimes|j_r\\rangle$となる。\n",
    "\n",
    "残りの量子ビットについても同様に順番に制御演算を作用させていけばよい。$k$番目の量子ビットまで演算が済んでいる場合、$k-1$, $k, \\ldots,$ $r-1$番目の量子ビットの状態は\n",
    "$$\n",
    "\\frac{|0\\rangle + e^{i (2\\pi)0.j_{r-k+1}...j_r} |1\\rangle }{\\sqrt{2}}\n",
    "\\otimes |j_r-k\\rangle \\otimes \\ldots \\otimes |j_r\\rangle\n",
    "$$\n",
    "$k-1$番目の量子ビットの位相には小数第$r-k+1, \\ldots, r$位の情報が含まれているので、制御演算\n",
    "$$\n",
    "\\Lambda(R_{r-k+1})_{r-1, k-1} \\Lambda(R_{r-k})_{r-2, k-1} \\cdots\n",
    "\\Lambda(R_{2})_{k, k-1}\n",
    "$$\n",
    "を作用させた後にアダマール演算を作用させればよい。この様子を回路図にしたのが図？である。"
   ]
  },
  {
   "cell_type": "markdown",
   "metadata": {},
   "source": [
    "このように、測定用の各量子ビットを制御とする制御$U^{2^k}$演算を行なって固有値の位相の情報を補助量子ビットに移した後、逆量子フーリエ変換で位相の値を取り出すのが、位相推定アルゴリズムである。"
   ]
  },
  {
   "cell_type": "markdown",
   "metadata": {},
   "source": [
    "SymPyで具体例を見ていこう。T演算とS演算を用いて以下のような4×4行列をつくる。"
   ]
  },
  {
   "cell_type": "code",
   "execution_count": 10,
   "metadata": {},
   "outputs": [
    {
     "data": {
      "text/html": [
       "\n",
       "    <script>\n",
       "        if (!window.MathJax) {\n",
       "            var script = document.createElement(\"script\");\n",
       "            script.src = \"https://colab.research.google.com/static/mathjax/MathJax.js?config=TeX-AMS_HTML-full,Safe&delayStartupUntil=configured\";\n",
       "            document.head.appendChild(script);\n",
       "        }\n",
       "    </script>\n",
       "    <script>\n",
       "        window.Mathjax.Hub.Config({\n",
       "            'tex2jax': {\n",
       "                'inlineMath': [['$', '$'], ['\\(', '\\)']],\n",
       "                'displayMath': [['$$', '$$'], ['\\[', '\\]']],\n",
       "                'processEscapes': true,\n",
       "                'processEnvironments': true,\n",
       "                'skipTags': ['script', 'noscript', 'style', 'textarea', 'code'],\n",
       "                'displayAlign': 'center',\n",
       "            },\n",
       "            'HTML-CSS': {\n",
       "                'styles': {'.MathJax_Display': {'margin': 0}},\n",
       "                'linebreaks': {'automatic': true},\n",
       "                // Disable to prevent OTF font loading, which aren't part of our\n",
       "                // distribution.\n",
       "                'imageFont': null,\n",
       "            },\n",
       "            'messageStyle': 'none'\n",
       "        });\n",
       "        window.Mathjax.Hub.Configured();\n",
       "    </script>\n",
       "    "
      ],
      "text/plain": [
       "<IPython.core.display.HTML object>"
      ]
     },
     "metadata": {},
     "output_type": "display_data"
    },
    {
     "data": {
      "image/png": "[encoded data removed]",
      "text/latex": [
       "$$\\left[\\begin{matrix}1 & 0 & 0 & 0\\\\0 & e^{\\frac{i \\pi}{4}} & 0 & 0\\\\0 & 0 & i & 0\\\\0 & 0 & 0 & i e^{\\frac{i \\pi}{4}}\\end{matrix}\\right]$$"
      ],
      "text/plain": [
       "⎡1   0    0    0   ⎤\n",
       "⎢                  ⎥\n",
       "⎢    ⅈ⋅π           ⎥\n",
       "⎢    ───           ⎥\n",
       "⎢     4            ⎥\n",
       "⎢0  ℯ     0    0   ⎥\n",
       "⎢                  ⎥\n",
       "⎢0   0    ⅈ    0   ⎥\n",
       "⎢                  ⎥\n",
       "⎢               ⅈ⋅π⎥\n",
       "⎢               ───⎥\n",
       "⎢                4 ⎥\n",
       "⎣0   0    0  ⅈ⋅ℯ   ⎦"
      ]
     },
     "execution_count": 10,
     "metadata": {},
     "output_type": "execute_result"
    }
   ],
   "source": [
    "represent(T(0)*S(1),nqubits = 2)"
   ]
  },
  {
   "cell_type": "markdown",
   "metadata": {},
   "source": [
    "すでに対角化されており、固有値の位相の２進数表示は、0.0,0.001,0.01,0.011であり、これらを誤差なく測定するためには３つの補助量子ビットが必要である。` CGateS ` を用いてこれを制御化した ` cP_2,3,4 `を定義しよう。（2,3,4が３つの補助量子ビットに対応している。）"
   ]
  },
  {
   "cell_type": "code",
   "execution_count": 11,
   "metadata": {},
   "outputs": [
    {
     "data": {
      "text/html": [
       "\n",
       "    <script>\n",
       "        if (!window.MathJax) {\n",
       "            var script = document.createElement(\"script\");\n",
       "            script.src = \"https://colab.research.google.com/static/mathjax/MathJax.js?config=TeX-AMS_HTML-full,Safe&delayStartupUntil=configured\";\n",
       "            document.head.appendChild(script);\n",
       "        }\n",
       "    </script>\n",
       "    <script>\n",
       "        window.Mathjax.Hub.Config({\n",
       "            'tex2jax': {\n",
       "                'inlineMath': [['$', '$'], ['\\(', '\\)']],\n",
       "                'displayMath': [['$$', '$$'], ['\\[', '\\]']],\n",
       "                'processEscapes': true,\n",
       "                'processEnvironments': true,\n",
       "                'skipTags': ['script', 'noscript', 'style', 'textarea', 'code'],\n",
       "                'displayAlign': 'center',\n",
       "            },\n",
       "            'HTML-CSS': {\n",
       "                'styles': {'.MathJax_Display': {'margin': 0}},\n",
       "                'linebreaks': {'automatic': true},\n",
       "                // Disable to prevent OTF font loading, which aren't part of our\n",
       "                // distribution.\n",
       "                'imageFont': null,\n",
       "            },\n",
       "            'messageStyle': 'none'\n",
       "        });\n",
       "        window.Mathjax.Hub.Configured();\n",
       "    </script>\n",
       "    "
      ],
      "text/plain": [
       "<IPython.core.display.HTML object>"
      ]
     },
     "metadata": {},
     "output_type": "display_data"
    }
   ],
   "source": [
    "cP_2 = CGateS(2,T(0))*CGateS(2,S(1))\n",
    "cP_3 = CGateS(3,T(0))*CGateS(3,S(1))\n",
    "cP_4 = CGateS(4,T(0))*CGateS(4,S(1))"
   ]
  },
  {
   "cell_type": "markdown",
   "metadata": {},
   "source": [
    "３つの補助量子ビットを用いて、位相推定アルゴリズムを構成していこう。"
   ]
  },
  {
   "cell_type": "code",
   "execution_count": 12,
   "metadata": {},
   "outputs": [
    {
     "data": {
      "text/html": [
       "\n",
       "    <script>\n",
       "        if (!window.MathJax) {\n",
       "            var script = document.createElement(\"script\");\n",
       "            script.src = \"https://colab.research.google.com/static/mathjax/MathJax.js?config=TeX-AMS_HTML-full,Safe&delayStartupUntil=configured\";\n",
       "            document.head.appendChild(script);\n",
       "        }\n",
       "    </script>\n",
       "    <script>\n",
       "        window.Mathjax.Hub.Config({\n",
       "            'tex2jax': {\n",
       "                'inlineMath': [['$', '$'], ['\\(', '\\)']],\n",
       "                'displayMath': [['$$', '$$'], ['\\[', '\\]']],\n",
       "                'processEscapes': true,\n",
       "                'processEnvironments': true,\n",
       "                'skipTags': ['script', 'noscript', 'style', 'textarea', 'code'],\n",
       "                'displayAlign': 'center',\n",
       "            },\n",
       "            'HTML-CSS': {\n",
       "                'styles': {'.MathJax_Display': {'margin': 0}},\n",
       "                'linebreaks': {'automatic': true},\n",
       "                // Disable to prevent OTF font loading, which aren't part of our\n",
       "                // distribution.\n",
       "                'imageFont': null,\n",
       "            },\n",
       "            'messageStyle': 'none'\n",
       "        });\n",
       "        window.Mathjax.Hub.Configured();\n",
       "    </script>\n",
       "    "
      ],
      "text/plain": [
       "<IPython.core.display.HTML object>"
      ]
     },
     "metadata": {},
     "output_type": "display_data"
    },
    {
     "data": {
      "image/png": "[encoded data removed]",
      "text/latex": [
       "$$H_{4} H_{3} H_{2}$$"
      ],
      "text/plain": [
       "H ⋅H ⋅H \n",
       " 4  3  2"
      ]
     },
     "execution_count": 12,
     "metadata": {},
     "output_type": "execute_result"
    }
   ],
   "source": [
    "PhaEst = H(4)*H(3)*H(2)\n",
    "PhaEst"
   ]
  },
  {
   "cell_type": "markdown",
   "metadata": {},
   "source": [
    "制御ユニタリーをそれぞれ、1回、２回、４回と作用させていく。"
   ]
  },
  {
   "cell_type": "code",
   "execution_count": 13,
   "metadata": {},
   "outputs": [
    {
     "data": {
      "text/html": [
       "\n",
       "    <script>\n",
       "        if (!window.MathJax) {\n",
       "            var script = document.createElement(\"script\");\n",
       "            script.src = \"https://colab.research.google.com/static/mathjax/MathJax.js?config=TeX-AMS_HTML-full,Safe&delayStartupUntil=configured\";\n",
       "            document.head.appendChild(script);\n",
       "        }\n",
       "    </script>\n",
       "    <script>\n",
       "        window.Mathjax.Hub.Config({\n",
       "            'tex2jax': {\n",
       "                'inlineMath': [['$', '$'], ['\\(', '\\)']],\n",
       "                'displayMath': [['$$', '$$'], ['\\[', '\\]']],\n",
       "                'processEscapes': true,\n",
       "                'processEnvironments': true,\n",
       "                'skipTags': ['script', 'noscript', 'style', 'textarea', 'code'],\n",
       "                'displayAlign': 'center',\n",
       "            },\n",
       "            'HTML-CSS': {\n",
       "                'styles': {'.MathJax_Display': {'margin': 0}},\n",
       "                'linebreaks': {'automatic': true},\n",
       "                // Disable to prevent OTF font loading, which aren't part of our\n",
       "                // distribution.\n",
       "                'imageFont': null,\n",
       "            },\n",
       "            'messageStyle': 'none'\n",
       "        });\n",
       "        window.Mathjax.Hub.Configured();\n",
       "    </script>\n",
       "    "
      ],
      "text/plain": [
       "<IPython.core.display.HTML object>"
      ]
     },
     "metadata": {},
     "output_type": "display_data"
    }
   ],
   "source": [
    "PhaEst = cP_2*cP_3*cP_3*cP_4*cP_4*cP_4*cP_4*PhaEst"
   ]
  },
  {
   "cell_type": "markdown",
   "metadata": {},
   "source": [
    "ここから逆量子フーリエ変換を構築する。小数第3位については、補助量子ビット4にH演算を作用させればよい。"
   ]
  },
  {
   "cell_type": "code",
   "execution_count": 14,
   "metadata": {},
   "outputs": [
    {
     "data": {
      "text/html": [
       "\n",
       "    <script>\n",
       "        if (!window.MathJax) {\n",
       "            var script = document.createElement(\"script\");\n",
       "            script.src = \"https://colab.research.google.com/static/mathjax/MathJax.js?config=TeX-AMS_HTML-full,Safe&delayStartupUntil=configured\";\n",
       "            document.head.appendChild(script);\n",
       "        }\n",
       "    </script>\n",
       "    <script>\n",
       "        window.Mathjax.Hub.Config({\n",
       "            'tex2jax': {\n",
       "                'inlineMath': [['$', '$'], ['\\(', '\\)']],\n",
       "                'displayMath': [['$$', '$$'], ['\\[', '\\]']],\n",
       "                'processEscapes': true,\n",
       "                'processEnvironments': true,\n",
       "                'skipTags': ['script', 'noscript', 'style', 'textarea', 'code'],\n",
       "                'displayAlign': 'center',\n",
       "            },\n",
       "            'HTML-CSS': {\n",
       "                'styles': {'.MathJax_Display': {'margin': 0}},\n",
       "                'linebreaks': {'automatic': true},\n",
       "                // Disable to prevent OTF font loading, which aren't part of our\n",
       "                // distribution.\n",
       "                'imageFont': null,\n",
       "            },\n",
       "            'messageStyle': 'none'\n",
       "        });\n",
       "        window.Mathjax.Hub.Configured();\n",
       "    </script>\n",
       "    "
      ],
      "text/plain": [
       "<IPython.core.display.HTML object>"
      ]
     },
     "metadata": {},
     "output_type": "display_data"
    }
   ],
   "source": [
    "PhaEst = H(4)*PhaEst"
   ]
  },
  {
   "cell_type": "markdown",
   "metadata": {},
   "source": [
    "補助量子ビット3には、まず補助量子ビット4を制御とする制御$R_2=S^{-1}=SZ$演算を作用させる。"
   ]
  },
  {
   "cell_type": "code",
   "execution_count": 15,
   "metadata": {},
   "outputs": [
    {
     "data": {
      "text/html": [
       "\n",
       "    <script>\n",
       "        if (!window.MathJax) {\n",
       "            var script = document.createElement(\"script\");\n",
       "            script.src = \"https://colab.research.google.com/static/mathjax/MathJax.js?config=TeX-AMS_HTML-full,Safe&delayStartupUntil=configured\";\n",
       "            document.head.appendChild(script);\n",
       "        }\n",
       "    </script>\n",
       "    <script>\n",
       "        window.Mathjax.Hub.Config({\n",
       "            'tex2jax': {\n",
       "                'inlineMath': [['$', '$'], ['\\(', '\\)']],\n",
       "                'displayMath': [['$$', '$$'], ['\\[', '\\]']],\n",
       "                'processEscapes': true,\n",
       "                'processEnvironments': true,\n",
       "                'skipTags': ['script', 'noscript', 'style', 'textarea', 'code'],\n",
       "                'displayAlign': 'center',\n",
       "            },\n",
       "            'HTML-CSS': {\n",
       "                'styles': {'.MathJax_Display': {'margin': 0}},\n",
       "                'linebreaks': {'automatic': true},\n",
       "                // Disable to prevent OTF font loading, which aren't part of our\n",
       "                // distribution.\n",
       "                'imageFont': null,\n",
       "            },\n",
       "            'messageStyle': 'none'\n",
       "        });\n",
       "        window.Mathjax.Hub.Configured();\n",
       "    </script>\n",
       "    "
      ],
      "text/plain": [
       "<IPython.core.display.HTML object>"
      ]
     },
     "metadata": {},
     "output_type": "display_data"
    }
   ],
   "source": [
    "PhaEst = CGateS(4,S(3))*PhaEst\n",
    "PhaEst = CGateS(4,Z(3))*PhaEst"
   ]
  },
  {
   "cell_type": "markdown",
   "metadata": {},
   "source": [
    "その後にH演算を作用させる。"
   ]
  },
  {
   "cell_type": "code",
   "execution_count": 16,
   "metadata": {},
   "outputs": [
    {
     "data": {
      "text/html": [
       "\n",
       "    <script>\n",
       "        if (!window.MathJax) {\n",
       "            var script = document.createElement(\"script\");\n",
       "            script.src = \"https://colab.research.google.com/static/mathjax/MathJax.js?config=TeX-AMS_HTML-full,Safe&delayStartupUntil=configured\";\n",
       "            document.head.appendChild(script);\n",
       "        }\n",
       "    </script>\n",
       "    <script>\n",
       "        window.Mathjax.Hub.Config({\n",
       "            'tex2jax': {\n",
       "                'inlineMath': [['$', '$'], ['\\(', '\\)']],\n",
       "                'displayMath': [['$$', '$$'], ['\\[', '\\]']],\n",
       "                'processEscapes': true,\n",
       "                'processEnvironments': true,\n",
       "                'skipTags': ['script', 'noscript', 'style', 'textarea', 'code'],\n",
       "                'displayAlign': 'center',\n",
       "            },\n",
       "            'HTML-CSS': {\n",
       "                'styles': {'.MathJax_Display': {'margin': 0}},\n",
       "                'linebreaks': {'automatic': true},\n",
       "                // Disable to prevent OTF font loading, which aren't part of our\n",
       "                // distribution.\n",
       "                'imageFont': null,\n",
       "            },\n",
       "            'messageStyle': 'none'\n",
       "        });\n",
       "        window.Mathjax.Hub.Configured();\n",
       "    </script>\n",
       "    "
      ],
      "text/plain": [
       "<IPython.core.display.HTML object>"
      ]
     },
     "metadata": {},
     "output_type": "display_data"
    }
   ],
   "source": [
    "PhaEst = H(3)*PhaEst"
   ]
  },
  {
   "cell_type": "markdown",
   "metadata": {},
   "source": [
    "補助量子ビット2には、\n",
    "\n",
    "- 補助量子ビット3を制御とする制御$R_2 = S^{-1} = SZ$演算\n",
    "- 補助量子ビット4を制御とする制御$R_3 = TS^{-1} = TSZ$演算\n",
    "- H演算\n",
    "\n",
    "の3つを作用させる。"
   ]
  },
  {
   "cell_type": "code",
   "execution_count": 17,
   "metadata": {},
   "outputs": [
    {
     "data": {
      "text/html": [
       "\n",
       "    <script>\n",
       "        if (!window.MathJax) {\n",
       "            var script = document.createElement(\"script\");\n",
       "            script.src = \"https://colab.research.google.com/static/mathjax/MathJax.js?config=TeX-AMS_HTML-full,Safe&delayStartupUntil=configured\";\n",
       "            document.head.appendChild(script);\n",
       "        }\n",
       "    </script>\n",
       "    <script>\n",
       "        window.Mathjax.Hub.Config({\n",
       "            'tex2jax': {\n",
       "                'inlineMath': [['$', '$'], ['\\(', '\\)']],\n",
       "                'displayMath': [['$$', '$$'], ['\\[', '\\]']],\n",
       "                'processEscapes': true,\n",
       "                'processEnvironments': true,\n",
       "                'skipTags': ['script', 'noscript', 'style', 'textarea', 'code'],\n",
       "                'displayAlign': 'center',\n",
       "            },\n",
       "            'HTML-CSS': {\n",
       "                'styles': {'.MathJax_Display': {'margin': 0}},\n",
       "                'linebreaks': {'automatic': true},\n",
       "                // Disable to prevent OTF font loading, which aren't part of our\n",
       "                // distribution.\n",
       "                'imageFont': null,\n",
       "            },\n",
       "            'messageStyle': 'none'\n",
       "        });\n",
       "        window.Mathjax.Hub.Configured();\n",
       "    </script>\n",
       "    "
      ],
      "text/plain": [
       "<IPython.core.display.HTML object>"
      ]
     },
     "metadata": {},
     "output_type": "display_data"
    }
   ],
   "source": [
    "PhaEst = CGateS(3,S(2))*PhaEst\n",
    "PhaEst = CGateS(3,Z(2))*PhaEst"
   ]
  },
  {
   "cell_type": "code",
   "execution_count": 18,
   "metadata": {},
   "outputs": [
    {
     "data": {
      "text/html": [
       "\n",
       "    <script>\n",
       "        if (!window.MathJax) {\n",
       "            var script = document.createElement(\"script\");\n",
       "            script.src = \"https://colab.research.google.com/static/mathjax/MathJax.js?config=TeX-AMS_HTML-full,Safe&delayStartupUntil=configured\";\n",
       "            document.head.appendChild(script);\n",
       "        }\n",
       "    </script>\n",
       "    <script>\n",
       "        window.Mathjax.Hub.Config({\n",
       "            'tex2jax': {\n",
       "                'inlineMath': [['$', '$'], ['\\(', '\\)']],\n",
       "                'displayMath': [['$$', '$$'], ['\\[', '\\]']],\n",
       "                'processEscapes': true,\n",
       "                'processEnvironments': true,\n",
       "                'skipTags': ['script', 'noscript', 'style', 'textarea', 'code'],\n",
       "                'displayAlign': 'center',\n",
       "            },\n",
       "            'HTML-CSS': {\n",
       "                'styles': {'.MathJax_Display': {'margin': 0}},\n",
       "                'linebreaks': {'automatic': true},\n",
       "                // Disable to prevent OTF font loading, which aren't part of our\n",
       "                // distribution.\n",
       "                'imageFont': null,\n",
       "            },\n",
       "            'messageStyle': 'none'\n",
       "        });\n",
       "        window.Mathjax.Hub.Configured();\n",
       "    </script>\n",
       "    "
      ],
      "text/plain": [
       "<IPython.core.display.HTML object>"
      ]
     },
     "metadata": {},
     "output_type": "display_data"
    }
   ],
   "source": [
    "PhaEst = CGateS(4,T(2))*PhaEst\n",
    "PhaEst = CGateS(4,S(2))*PhaEst\n",
    "PhaEst = CGateS(4,Z(2))*PhaEst\n",
    "PhaEst = H(2)*PhaEst"
   ]
  },
  {
   "cell_type": "markdown",
   "metadata": {},
   "source": [
    "このように構成した位相推定アルゴリズムを固有ベクトルに作用させてみよう。アルゴリズム自体は非常に複雑だ。"
   ]
  },
  {
   "cell_type": "code",
   "execution_count": 19,
   "metadata": {},
   "outputs": [
    {
     "data": {
      "text/html": [
       "\n",
       "    <script>\n",
       "        if (!window.MathJax) {\n",
       "            var script = document.createElement(\"script\");\n",
       "            script.src = \"https://colab.research.google.com/static/mathjax/MathJax.js?config=TeX-AMS_HTML-full,Safe&delayStartupUntil=configured\";\n",
       "            document.head.appendChild(script);\n",
       "        }\n",
       "    </script>\n",
       "    <script>\n",
       "        window.Mathjax.Hub.Config({\n",
       "            'tex2jax': {\n",
       "                'inlineMath': [['$', '$'], ['\\(', '\\)']],\n",
       "                'displayMath': [['$$', '$$'], ['\\[', '\\]']],\n",
       "                'processEscapes': true,\n",
       "                'processEnvironments': true,\n",
       "                'skipTags': ['script', 'noscript', 'style', 'textarea', 'code'],\n",
       "                'displayAlign': 'center',\n",
       "            },\n",
       "            'HTML-CSS': {\n",
       "                'styles': {'.MathJax_Display': {'margin': 0}},\n",
       "                'linebreaks': {'automatic': true},\n",
       "                // Disable to prevent OTF font loading, which aren't part of our\n",
       "                // distribution.\n",
       "                'imageFont': null,\n",
       "            },\n",
       "            'messageStyle': 'none'\n",
       "        });\n",
       "        window.Mathjax.Hub.Configured();\n",
       "    </script>\n",
       "    "
      ],
      "text/plain": [
       "<IPython.core.display.HTML object>"
      ]
     },
     "metadata": {},
     "output_type": "display_data"
    },
    {
     "data": {
      "image/png": "[encoded data removed]",
      "text/latex": [
       "$$H_{2} C_{4}{\\left(Z_{2}\\right)} C_{4}{\\left(S_{2}\\right)} C_{4}{\\left(T_{2}\\right)} C_{3}{\\left(Z_{2}\\right)} C_{3}{\\left(S_{2}\\right)} H_{3} C_{4}{\\left(Z_{3}\\right)} C_{4}{\\left(S_{3}\\right)} H_{4} C_{2}{\\left(T_{0}\\right)} C_{2}{\\left(S_{1}\\right)} C_{3}{\\left(T_{0}\\right)} C_{3}{\\left(S_{1}\\right)} C_{3}{\\left(T_{0}\\right)} C_{3}{\\left(S_{1}\\right)} C_{4}{\\left(T_{0}\\right)} C_{4}{\\left(S_{1}\\right)} C_{4}{\\left(T_{0}\\right)} C_{4}{\\left(S_{1}\\right)} C_{4}{\\left(T_{0}\\right)} C_{4}{\\left(S_{1}\\right)} C_{4}{\\left(T_{0}\\right)} C_{4}{\\left(S_{1}\\right)} H_{4} H_{3} H_{2}$$"
      ],
      "text/plain": [
       "H ⋅C ⎛Z ⎞⋅C ⎛S ⎞⋅C ⎛T ⎞⋅C ⎛Z ⎞⋅C ⎛S ⎞⋅H ⋅C ⎛Z ⎞⋅C ⎛S ⎞⋅H ⋅C ⎛T ⎞⋅C ⎛S ⎞⋅C ⎛T ⎞\n",
       " 2  4⎝ 2⎠  4⎝ 2⎠  4⎝ 2⎠  3⎝ 2⎠  3⎝ 2⎠  3  4⎝ 3⎠  4⎝ 3⎠  4  2⎝ 0⎠  2⎝ 1⎠  3⎝ 0⎠\n",
       "\n",
       "⋅C ⎛S ⎞⋅C ⎛T ⎞⋅C ⎛S ⎞⋅C ⎛T ⎞⋅C ⎛S ⎞⋅C ⎛T ⎞⋅C ⎛S ⎞⋅C ⎛T ⎞⋅C ⎛S ⎞⋅C ⎛T ⎞⋅C ⎛S ⎞⋅\n",
       "  3⎝ 1⎠  3⎝ 0⎠  3⎝ 1⎠  4⎝ 0⎠  4⎝ 1⎠  4⎝ 0⎠  4⎝ 1⎠  4⎝ 0⎠  4⎝ 1⎠  4⎝ 0⎠  4⎝ 1⎠ \n",
       "\n",
       "H ⋅H ⋅H \n",
       " 4  3  2"
      ]
     },
     "execution_count": 19,
     "metadata": {},
     "output_type": "execute_result"
    }
   ],
   "source": [
    "PhaEst"
   ]
  },
  {
   "cell_type": "markdown",
   "metadata": {},
   "source": [
    "しかし実際、入力に作用させると、"
   ]
  },
  {
   "cell_type": "code",
   "execution_count": 20,
   "metadata": {},
   "outputs": [
    {
     "data": {
      "text/html": [
       "\n",
       "    <script>\n",
       "        if (!window.MathJax) {\n",
       "            var script = document.createElement(\"script\");\n",
       "            script.src = \"https://colab.research.google.com/static/mathjax/MathJax.js?config=TeX-AMS_HTML-full,Safe&delayStartupUntil=configured\";\n",
       "            document.head.appendChild(script);\n",
       "        }\n",
       "    </script>\n",
       "    <script>\n",
       "        window.Mathjax.Hub.Config({\n",
       "            'tex2jax': {\n",
       "                'inlineMath': [['$', '$'], ['\\(', '\\)']],\n",
       "                'displayMath': [['$$', '$$'], ['\\[', '\\]']],\n",
       "                'processEscapes': true,\n",
       "                'processEnvironments': true,\n",
       "                'skipTags': ['script', 'noscript', 'style', 'textarea', 'code'],\n",
       "                'displayAlign': 'center',\n",
       "            },\n",
       "            'HTML-CSS': {\n",
       "                'styles': {'.MathJax_Display': {'margin': 0}},\n",
       "                'linebreaks': {'automatic': true},\n",
       "                // Disable to prevent OTF font loading, which aren't part of our\n",
       "                // distribution.\n",
       "                'imageFont': null,\n",
       "            },\n",
       "            'messageStyle': 'none'\n",
       "        });\n",
       "        window.Mathjax.Hub.Configured();\n",
       "    </script>\n",
       "    "
      ],
      "text/plain": [
       "<IPython.core.display.HTML object>"
      ]
     },
     "metadata": {},
     "output_type": "display_data"
    },
    {
     "data": {
      "image/png": "[encoded data removed]",
      "text/latex": [
       "$${\\left|11011\\right\\rangle }$$"
      ],
      "text/plain": [
       "❘11011⟩"
      ]
     },
     "execution_count": 20,
     "metadata": {},
     "output_type": "execute_result"
    }
   ],
   "source": [
    "simplify(qapply(PhaEst*Qubit(\"00011\")))"
   ]
  },
  {
   "cell_type": "markdown",
   "metadata": {},
   "source": [
    "のように設計通り単純な解が得られることが確認できる。実際、補助量子ビット2,3,4にそれぞれ、011が得られたので固有値の位相の２進小数0.011が得られている！他の入力に対しても、"
   ]
  },
  {
   "cell_type": "code",
   "execution_count": 21,
   "metadata": {},
   "outputs": [
    {
     "data": {
      "text/html": [
       "\n",
       "    <script>\n",
       "        if (!window.MathJax) {\n",
       "            var script = document.createElement(\"script\");\n",
       "            script.src = \"https://colab.research.google.com/static/mathjax/MathJax.js?config=TeX-AMS_HTML-full,Safe&delayStartupUntil=configured\";\n",
       "            document.head.appendChild(script);\n",
       "        }\n",
       "    </script>\n",
       "    <script>\n",
       "        window.Mathjax.Hub.Config({\n",
       "            'tex2jax': {\n",
       "                'inlineMath': [['$', '$'], ['\\(', '\\)']],\n",
       "                'displayMath': [['$$', '$$'], ['\\[', '\\]']],\n",
       "                'processEscapes': true,\n",
       "                'processEnvironments': true,\n",
       "                'skipTags': ['script', 'noscript', 'style', 'textarea', 'code'],\n",
       "                'displayAlign': 'center',\n",
       "            },\n",
       "            'HTML-CSS': {\n",
       "                'styles': {'.MathJax_Display': {'margin': 0}},\n",
       "                'linebreaks': {'automatic': true},\n",
       "                // Disable to prevent OTF font loading, which aren't part of our\n",
       "                // distribution.\n",
       "                'imageFont': null,\n",
       "            },\n",
       "            'messageStyle': 'none'\n",
       "        });\n",
       "        window.Mathjax.Hub.Configured();\n",
       "    </script>\n",
       "    "
      ],
      "text/plain": [
       "<IPython.core.display.HTML object>"
      ]
     },
     "metadata": {},
     "output_type": "display_data"
    },
    {
     "data": {
      "image/png": "[encoded data removed]",
      "text/latex": [
       "$${\\left|00000\\right\\rangle }$$"
      ],
      "text/plain": [
       "❘00000⟩"
      ]
     },
     "execution_count": 21,
     "metadata": {},
     "output_type": "execute_result"
    }
   ],
   "source": [
    "simplify(qapply(PhaEst*Qubit(\"00000\")))"
   ]
  },
  {
   "cell_type": "code",
   "execution_count": 22,
   "metadata": {},
   "outputs": [
    {
     "data": {
      "text/html": [
       "\n",
       "    <script>\n",
       "        if (!window.MathJax) {\n",
       "            var script = document.createElement(\"script\");\n",
       "            script.src = \"https://colab.research.google.com/static/mathjax/MathJax.js?config=TeX-AMS_HTML-full,Safe&delayStartupUntil=configured\";\n",
       "            document.head.appendChild(script);\n",
       "        }\n",
       "    </script>\n",
       "    <script>\n",
       "        window.Mathjax.Hub.Config({\n",
       "            'tex2jax': {\n",
       "                'inlineMath': [['$', '$'], ['\\(', '\\)']],\n",
       "                'displayMath': [['$$', '$$'], ['\\[', '\\]']],\n",
       "                'processEscapes': true,\n",
       "                'processEnvironments': true,\n",
       "                'skipTags': ['script', 'noscript', 'style', 'textarea', 'code'],\n",
       "                'displayAlign': 'center',\n",
       "            },\n",
       "            'HTML-CSS': {\n",
       "                'styles': {'.MathJax_Display': {'margin': 0}},\n",
       "                'linebreaks': {'automatic': true},\n",
       "                // Disable to prevent OTF font loading, which aren't part of our\n",
       "                // distribution.\n",
       "                'imageFont': null,\n",
       "            },\n",
       "            'messageStyle': 'none'\n",
       "        });\n",
       "        window.Mathjax.Hub.Configured();\n",
       "    </script>\n",
       "    "
      ],
      "text/plain": [
       "<IPython.core.display.HTML object>"
      ]
     },
     "metadata": {},
     "output_type": "display_data"
    },
    {
     "data": {
      "image/png": "[encoded data removed]",
      "text/latex": [
       "$${\\left|01010\\right\\rangle }$$"
      ],
      "text/plain": [
       "❘01010⟩"
      ]
     },
     "execution_count": 22,
     "metadata": {},
     "output_type": "execute_result"
    }
   ],
   "source": [
    "simplify(qapply(PhaEst*Qubit(\"00010\")))"
   ]
  },
  {
   "cell_type": "code",
   "execution_count": 23,
   "metadata": {},
   "outputs": [
    {
     "data": {
      "text/html": [
       "\n",
       "    <script>\n",
       "        if (!window.MathJax) {\n",
       "            var script = document.createElement(\"script\");\n",
       "            script.src = \"https://colab.research.google.com/static/mathjax/MathJax.js?config=TeX-AMS_HTML-full,Safe&delayStartupUntil=configured\";\n",
       "            document.head.appendChild(script);\n",
       "        }\n",
       "    </script>\n",
       "    <script>\n",
       "        window.Mathjax.Hub.Config({\n",
       "            'tex2jax': {\n",
       "                'inlineMath': [['$', '$'], ['\\(', '\\)']],\n",
       "                'displayMath': [['$$', '$$'], ['\\[', '\\]']],\n",
       "                'processEscapes': true,\n",
       "                'processEnvironments': true,\n",
       "                'skipTags': ['script', 'noscript', 'style', 'textarea', 'code'],\n",
       "                'displayAlign': 'center',\n",
       "            },\n",
       "            'HTML-CSS': {\n",
       "                'styles': {'.MathJax_Display': {'margin': 0}},\n",
       "                'linebreaks': {'automatic': true},\n",
       "                // Disable to prevent OTF font loading, which aren't part of our\n",
       "                // distribution.\n",
       "                'imageFont': null,\n",
       "            },\n",
       "            'messageStyle': 'none'\n",
       "        });\n",
       "        window.Mathjax.Hub.Configured();\n",
       "    </script>\n",
       "    "
      ],
      "text/plain": [
       "<IPython.core.display.HTML object>"
      ]
     },
     "metadata": {},
     "output_type": "display_data"
    },
    {
     "data": {
      "image/png": "[encoded data removed]",
      "text/latex": [
       "$${\\left|10001\\right\\rangle }$$"
      ],
      "text/plain": [
       "❘10001⟩"
      ]
     },
     "execution_count": 23,
     "metadata": {},
     "output_type": "execute_result"
    }
   ],
   "source": [
    "simplify(qapply(PhaEst*Qubit(\"00001\")))"
   ]
  },
  {
   "cell_type": "markdown",
   "metadata": {},
   "source": [
    "のように、４種類の固有値の位相情報が３つの補助量子ビットに得られた。入力状態が、重ね合わせ状態の場合は、"
   ]
  },
  {
   "cell_type": "code",
   "execution_count": 24,
   "metadata": {},
   "outputs": [
    {
     "data": {
      "text/html": [
       "\n",
       "    <script>\n",
       "        if (!window.MathJax) {\n",
       "            var script = document.createElement(\"script\");\n",
       "            script.src = \"https://colab.research.google.com/static/mathjax/MathJax.js?config=TeX-AMS_HTML-full,Safe&delayStartupUntil=configured\";\n",
       "            document.head.appendChild(script);\n",
       "        }\n",
       "    </script>\n",
       "    <script>\n",
       "        window.Mathjax.Hub.Config({\n",
       "            'tex2jax': {\n",
       "                'inlineMath': [['$', '$'], ['\\(', '\\)']],\n",
       "                'displayMath': [['$$', '$$'], ['\\[', '\\]']],\n",
       "                'processEscapes': true,\n",
       "                'processEnvironments': true,\n",
       "                'skipTags': ['script', 'noscript', 'style', 'textarea', 'code'],\n",
       "                'displayAlign': 'center',\n",
       "            },\n",
       "            'HTML-CSS': {\n",
       "                'styles': {'.MathJax_Display': {'margin': 0}},\n",
       "                'linebreaks': {'automatic': true},\n",
       "                // Disable to prevent OTF font loading, which aren't part of our\n",
       "                // distribution.\n",
       "                'imageFont': null,\n",
       "            },\n",
       "            'messageStyle': 'none'\n",
       "        });\n",
       "        window.Mathjax.Hub.Configured();\n",
       "    </script>\n",
       "    "
      ],
      "text/plain": [
       "<IPython.core.display.HTML object>"
      ]
     },
     "metadata": {},
     "output_type": "display_data"
    },
    {
     "data": {
      "image/png": "[encoded data removed]",
      "text/latex": [
       "$$\\frac{{\\left|00000\\right\\rangle } + {\\left|01010\\right\\rangle } + {\\left|10001\\right\\rangle } + {\\left|11011\\right\\rangle }}{2}$$"
      ],
      "text/plain": [
       "❘00000⟩ + ❘01010⟩ + ❘10001⟩ + ❘11011⟩\n",
       "─────────────────────────────────────\n",
       "                  2                  "
      ]
     },
     "execution_count": 24,
     "metadata": {},
     "output_type": "execute_result"
    }
   ],
   "source": [
    "simplify(qapply(PhaEst*H(0)*H(1)*Qubit(\"00000\")))"
   ]
  },
  {
   "cell_type": "markdown",
   "metadata": {},
   "source": [
    "のように、それぞれの固有ベクトルに対して、固有値の位相が３つの補助量子ビットへと重ね合わせのまま取り出されている。補助量子ビットを測定すると、確率的に、どれか一つの固有ベクトルと固有値が得られる。簡単のためあらかじめ対角化された4×4行列の位相推定を構成したが、もちろん一般のユニタリ$U$に対して動作する。\n",
    "\n",
    "### 素因数分解と位相推定\n",
    "\n",
    "位相推定の最も重要な応用の一つである素因数分解アルゴリズムを紹介する．\n",
    "素因数分解問題は$n$桁の整数$N$が与えられた時に$N$の1ではない約数を\n",
    "見つける問題であり，従来のコンピュータでは多項式時間で解けるアルゴルズムは\n",
    "見つかっていない．現在のベストアルゴリズムの計算コストは，\n",
    "\\begin{eqnarray}\n",
    "O(\\exp \\left[\\frac{64}{9} n (\\log n )^2 \\right]^{1/3})\n",
    "\\end{eqnarray}\n",
    "であり，準指数的な計算時間がかかる．\n",
    "このような素因数分解問題の難しさを利用した暗号RSA暗号などが日常的にも使われている．\n",
    "\n",
    "P. Shorは1994年に，\n",
    "量子コンピュータを用いることによって素因数分解問題が桁数$n$に対して多項式時間で解くことができる\n",
    "ことを示した．これがいわゆるShorの素因数分解アルゴリズムである．\n",
    "\n",
    "$N$を素因数分解したい整数だとしよう．\n",
    "$N$と互いに素な整数$x$を見つけてくる．\n",
    "適当に$x$を選んできて，ユークリッドの互除法によって\n",
    "最大公約数を計算し，1以外の整数であれば非自明な約数がみつかったことになり，\n",
    "1しかなければ互いに素な整数であることになる．\n",
    "この$N$と$x$から公約数を見つけるために，位数$r$を求めることになる．\n",
    "位数$r$とは，\n",
    "\\begin{eqnarray}\n",
    "x^r = 1 \\textrm{ (mod $N$)}\n",
    "\\label{eq:factor}\n",
    "\\end{eqnarray}\n",
    "を満たす最小の整数である．\n",
    "ランダムに$x$を選ぶと，高い確率で$r$は偶数になることが知られている．\n",
    "$r$が偶数であると，\n",
    "(\\ref{eq:factor})式から\n",
    "\\begin{eqnarray}\n",
    "(x^{r/2} + 1) (x^{r/2} - 1)  \\equiv 0  \\textrm{ (mod $N$)}\n",
    "\\end{eqnarray}\n",
    "のように変形することができる．\n",
    "このとき，$x^{r/2} + 1$もしくは$x^{r/2} - 1$\n",
    "の積が mod $N$ で0なので，$x^{r/2} + 1 = 0 \\textrm{ (mod $N$)}$になるか，\n",
    "$x^{r/2} + 1$と$x^{r/2} - 1$が$N$と非自明な公約数をもつかのどちらかになる．\n",
    "$x$をランダムに選ぶと後者の確率が十分高いことも示すことができ，\n",
    "最終的に非自明な公約数が見つかることになる．\n",
    "これを繰り返していくことによって，素数因数へと分解することができる．\n",
    "\n",
    "　素因数分解の鍵となる位数$r$は、実は入力yをmod Nのもとでx倍するという古典計算に対応したユニタリ行列\n",
    "$$\n",
    "U_x = \\sum _y |yx {\\rm (mod N)}\\rangle \\langle y|\n",
    "$$\n",
    "の固有値を求めることによって決定することができる。実際、固有状態のラベル$0 \\leq s \\leq r-1$を用いて，固有ベクトルは \n",
    "$$\n",
    "|u_s\\rangle = \\frac{1}{\\sqrt{r}}\n",
    "\\sum _{k=0}^{r-1} e^ {-2 \\pi i (s/r) k }|x^k \\textrm{ (mod $N$)}\\rangle.\n",
    "$$\n",
    "と書き下すことができ、\n",
    "$$\n",
    "U_x |u_s \\rangle =  e^{2 \\pi i (s/r)} |u_s \\rangle\n",
    "$$\n",
    "を満たす。つまり固有値の位相推定から$s/r$を求めその分母として$r$を得ることができる。これがいわゆる、ショアによる素因数分解アルゴリズム（キタエフの位相推定を利用したバージョン）である。"
   ]
  },
  {
   "cell_type": "markdown",
   "metadata": {},
   "source": [
    "### まとめ\n",
    "ここでは、SymPyの代数処理機能を用いて、量子力学、特にテンソル積の代数を実際に手を動かしながら確認してきた。簡単な系であれば、このように直接状態をシンボルとして書き出すことができるので、計算の確認などに便利である。そして、SymPyを用いながら、もっとも重要な量子アルゴリズムの一つである位相推定アルゴリズムを紹介した。位相推定アルゴリズムは、あるユニタリ行列$U$の固有値を補助量子ビットに取り出すことができる量子アルゴリズムである。素因数分解は、この位相推定アルゴリズムによって、位数という数字を推定することによって解くことができる。また、量子力学においてエネルギーはハミルトニアンと呼ばれる行列の固有値によって与えられる。もっとも安定的な状態のエネルギーはもっとも小さい値の固有値、安定な状態は対応する固有ベクトルで与えられる。ハミルトニアン自体はユニタリー行列ではないので、行列の指数関数で定義される時間発展に対応するユニタリ行列$e^{-i H t}$に対して位相推定を行うことによって、エネルギーを計算することができる。ほかにも、位相推定による固有値の取り出しを用いて、線形連立方程式の解法や、その機械学習への応用が研究されている。"
   ]
  }
 ],
 "metadata": {
  "kernelspec": {
   "display_name": "Python 3",
   "language": "python",
   "name": "python3"
  },
  "language_info": {
   "codemirror_mode": {
    "name": "ipython",
    "version": 3
   },
   "file_extension": ".py",
   "mimetype": "text/x-python",
   "name": "python",
   "nbconvert_exporter": "python",
   "pygments_lexer": "ipython3",
   "version": "3.7.2"
  }
 },
 "nbformat": 4,
 "nbformat_minor": 2
}
