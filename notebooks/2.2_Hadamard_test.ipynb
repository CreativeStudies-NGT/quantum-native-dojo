{
 "cells": [
  {
   "cell_type": "markdown",
   "metadata": {},
   "source": [
    "## 2-2. アダマールテスト"
   ]
  },
  {
   "cell_type": "markdown",
   "metadata": {},
   "source": [
    "最も簡単な量子アルゴリズムとして、アダマールテストとよばれる以下のような量子回路（図1）を考える。つまり、第1ビットは$|0\\rangle$に、第2ビット以降は状態$|\\psi\\rangle$に初期化されていて、まず第1ビットにアダマールゲートをかける。そして、全体に制御ユニタリ演算子$\\Lambda(U)$（後述）を作用させ、再び第1ビットにアダマールゲートをかけて、最後にその第1ビットを測定する。\n",
    "![図1](figs/2/Hadamard_test.png)"
   ]
  },
  {
   "cell_type": "markdown",
   "metadata": {},
   "source": [
    "ここで制御ユニタリ演算子$\\Lambda(U)$というのは、第1量子ビットが$|0\\rangle$の場合にはなにもせず、$|1\\rangle$の場合には$U$を作用させるユニタリ演算である。\n",
    "\n",
    "$$\n",
    "\\Lambda (U) = |0\\rangle \\langle 0| \\otimes I + |1\\rangle \\langle 1|  \\otimes U.\n",
    "$$\n",
    "\n",
    "つまり、１つ目の量子ビットが$|0\\rangle$か$|1\\rangle$かによって条件分岐して、「なにもしない」または「$U$を作用させる」という演算が実行される。従来のコンピュータでは条件分岐は同時に実行することができないが、量子コンピュータでは状態の重ね合わせを利用して、条件分岐を**同時並列的に実行することができる**。"
   ]
  },
  {
   "cell_type": "markdown",
   "metadata": {},
   "source": [
    "このアダマールテストの動作について考えていく。最初は簡単のために、量子状態$|\\psi \\rangle$が\n",
    "ユニタリー演算（行列）$U$の固有値$e^{i \\lambda}$の固有状態（固有ベクトル）である場合を考える：\n",
    "\\begin{eqnarray}\n",
    "U|\\psi \\rangle = e^{i \\lambda} |\\psi\\rangle.\n",
    "\\end{eqnarray}"
   ]
  },
  {
   "cell_type": "markdown",
   "metadata": {},
   "source": [
    "１つ目の量子ビットにアダマール演算$H$を作用させることで\n",
    "\\begin{eqnarray}\n",
    "\\frac{1}{\\sqrt{2}} (|0\\rangle  + |1\\rangle) \\otimes |\\psi  \\rangle \n",
    "\\end{eqnarray}\n",
    "が得られる。\n",
    "その後、制御$U$演算を作用させることによって、\n",
    "**固有値**$e^{i\\lambda}$**が１つめの量子ビットの相対位相として得られる**（このことを**位相キックバック**と呼ぶ）:\n",
    "\\begin{eqnarray}\n",
    "&&\\frac{1}{\\sqrt{2}} (|0\\rangle \\otimes |\\psi  \\rangle  \n",
    "+ |1\\rangle \\otimes U|\\psi \\rangle )\n",
    "\\\\\n",
    "&=&\\frac{1}{\\sqrt{2}} (|0\\rangle \\otimes |\\psi  \\rangle  \n",
    "+e^{i \\lambda} |1\\rangle \\otimes |\\psi \\rangle )\n",
    "\\\\\n",
    "&=&\n",
    "\\frac{1}{\\sqrt{2}} (|0\\rangle   \n",
    "+e^{i \\lambda} |1\\rangle )\\otimes |\\psi  \\rangle.\n",
    "\\end{eqnarray}\n",
    "最後に、１つ目の量子ビットに再度アダマール演算を行い\n",
    "\\begin{eqnarray}\n",
    "\\left(\\frac{1+e^{i\\lambda}}{2}|0\\rangle  \n",
    "+\\frac{1-e^{i\\lambda}}{2} |1\\rangle \\right)\\otimes |\\psi  \\rangle \n",
    "\\label{eq01}\n",
    "\\end{eqnarray}\n",
    "が得られる。\n",
    "１つ目の量子ビットを測定すると測定結果$m=0,1$を得る確率は\n",
    "\\begin{eqnarray}\n",
    "p_{m}=\\left|\\frac{1+(-1)^m e^{i\\lambda}}{2}\\right|^2 =\\frac{1+(-1)^m \\cos \\lambda}{2}\n",
    "\\end{eqnarray}\n",
    "となる。\n",
    "$|\\psi \\rangle$、$U$、$\\langle \\psi |$は\n",
    "それぞれ$2^n$次元の列ベクトル、$2^n \\times 2^n$行列、\n",
    "$2^n$次元の行ベクトルなので、\n",
    "このアダマールテストを古典コンピュータ上で愚直に計算すると\n",
    "指数的に大きなメモリーの確保と演算回数が必要になる。\n",
    "一方で、量子コンピューターでは、\n",
    "確率分布$p_m$のもとで$m$がサンプルされる。\n",
    "$\\cos \\lambda$を\n",
    "ある誤差$\\epsilon$で推定したい場合は、\n",
    "その逆数$1/\\epsilon$の多項式回程度サンプルすればよいことになる。"
   ]
  },
  {
   "cell_type": "markdown",
   "metadata": {},
   "source": [
    "同じ計算を、必ずしも固有ベクトルとは限らない、一般の入力に対して行うと、測定前の状態は、\n",
    "\n",
    "$$\n",
    " |0\\rangle \\frac{I+U}{2} |\\psi \\rangle  +  |1\\rangle  \\frac{I-U}{2} |\\psi \\rangle \n",
    "$$\n",
    "\n",
    "となり、0もしくは1が得られる確率は、\n",
    "\n",
    "\\begin{align}\n",
    "p_0 &= \\frac{1+ {\\rm Re} \\langle \\psi | U | \\psi \\rangle }{2} \\\\\n",
    "p_1 &= \\frac{1- {\\rm Re} \\langle \\psi | U | \\psi \\rangle }{2} \\tag{1}\n",
    "\\end{align}\n",
    "\n",
    "となる。つまり、量子コンピュータ上でアダマールテストを実行すれば、その測定結果のサンプル平均をとることで**ベクトル**$|\\psi \\rangle$**でユニタリ行列**$U$**を挟んだ値を推定することができる**。同じ値を古典コンピュータで求めようとした場合、量子ビット数$n$が大きくなるにつれベクトルや行列の次元は指数的に大きくなるので、指数的な時間を要する。"
   ]
  },
  {
   "cell_type": "markdown",
   "metadata": {},
   "source": [
    "なお、１つ目の量子ビットを測定した後の、２つ目の量子ビットの状態は、測定結果$m = 0, 1$に応じて以下の状態になる（規格化因子は省略）：\n",
    "\n",
    "$$\n",
    "|\\psi_0\\rangle = \\frac{I + U}{2}|\\psi\\rangle,\n",
    "\\quad\n",
    "|\\psi_1\\rangle = \\frac{I - U}{2}|\\psi\\rangle.\n",
    "$$\n",
    "\n",
    "ここで、$U$が１量子ビットのユニタリ演算で、かつその固有値が$\\pm 1$であるような場合を考える。固有値$\\pm 1$に対応する固有ベクトル$|u_1\\rangle$, $|u_{-1}\\rangle$を使って$|\\psi\\rangle = c_1|u_1\\rangle + c_2|u_2\\rangle$と展開し代入することで、測定後の状態$|\\psi_0\\rangle$, $|\\psi_1\\rangle$はそれぞれ固有値$\\pm 1$に対応する固有状態であることが分かる。固有値が$\\pm 1$ではない場合も、アダマールテストの出力を入力として繰り返すと$U$の固有状態に状態が収束していく（興味のある人は、以下の例を参考にして試してもらいたい）。"
   ]
  },
  {
   "cell_type": "markdown",
   "metadata": {},
   "source": [
    "### SymPyでの実装\n",
    "具体的な例として、$U=H$（アダマールゲート）の場合を考えてみよう。補助量子ビットを$|0\\rangle$、アダマールテストの入力$|\\psi\\rangle$も$|0\\rangle$とする。"
   ]
  },
  {
   "cell_type": "code",
   "execution_count": 1,
   "metadata": {},
   "outputs": [],
   "source": [
    "from sympy import *\n",
    "from sympy.physics.quantum import *\n",
    "from sympy.physics.quantum.qubit import Qubit,QubitBra\n",
    "init_printing() # ベクトルや行列を綺麗に表示するため\n",
    "from sympy.physics.quantum.gate import X,Y,Z,H,S,T,CNOT,SWAP,CPHASE,CGateS"
   ]
  },
  {
   "cell_type": "code",
   "execution_count": 2,
   "metadata": {
    "nbsphinx": "hidden"
   },
   "outputs": [],
   "source": [
    "# Google Colaboratory上でのみ実行してください\n",
    "from IPython.display import HTML\n",
    "def setup_mathjax():\n",
    "    display(HTML('''\n",
    "    <script>\n",
    "        if (!window.MathJax && window.google && window.google.colab) {\n",
    "            window.MathJax = {\n",
    "                'tex2jax': {\n",
    "                    'inlineMath': [['$', '$'], ['\\\\(', '\\\\)']],\n",
    "                    'displayMath': [['$$', '$$'], ['\\\\[', '\\\\]']],\n",
    "                    'processEscapes': true,\n",
    "                    'processEnvironments': true,\n",
    "                    'skipTags': ['script', 'noscript', 'style', 'textarea', 'code'],\n",
    "                    'displayAlign': 'center',\n",
    "                },\n",
    "                'HTML-CSS': {\n",
    "                    'styles': {'.MathJax_Display': {'margin': 0}},\n",
    "                    'linebreaks': {'automatic': true},\n",
    "                    // Disable to prevent OTF font loading, which aren't part of our\n",
    "                    // distribution.\n",
    "                    'imageFont': null,\n",
    "                },\n",
    "               'messageStyle': 'none'\n",
    "            };\n",
    "            var script = document.createElement(\"script\");\n",
    "            script.src = \"https://colab.research.google.com/static/mathjax/MathJax.js?config=TeX-AMS_HTML-full,Safe\";\n",
    "            document.head.appendChild(script);\n",
    "        }\n",
    "    </script>\n",
    "    '''))\n",
    "get_ipython().events.register('pre_run_cell', setup_mathjax)"
   ]
  },
  {
   "cell_type": "code",
   "execution_count": 3,
   "metadata": {},
   "outputs": [
    {
     "data": {
      "text/html": [
       "\n",
       "    <script>\n",
       "        if (!window.MathJax && window.google && window.google.colab) {\n",
       "            window.MathJax = {\n",
       "                'tex2jax': {\n",
       "                    'inlineMath': [['$', '$'], ['\\(', '\\)']],\n",
       "                    'displayMath': [['$$', '$$'], ['\\[', '\\]']],\n",
       "                    'processEscapes': true,\n",
       "                    'processEnvironments': true,\n",
       "                    'skipTags': ['script', 'noscript', 'style', 'textarea', 'code'],\n",
       "                    'displayAlign': 'center',\n",
       "                },\n",
       "                'HTML-CSS': {\n",
       "                    'styles': {'.MathJax_Display': {'margin': 0}},\n",
       "                    'linebreaks': {'automatic': true},\n",
       "                    // Disable to prevent OTF font loading, which aren't part of our\n",
       "                    // distribution.\n",
       "                    'imageFont': null,\n",
       "                },\n",
       "               'messageStyle': 'none'\n",
       "            };\n",
       "            var script = document.createElement(\"script\");\n",
       "            script.src = \"https://colab.research.google.com/static/mathjax/MathJax.js?config=TeX-AMS_HTML-full,Safe\";\n",
       "            document.head.appendChild(script);\n",
       "        }\n",
       "    </script>\n",
       "    "
      ],
      "text/plain": [
       "<IPython.core.display.HTML object>"
      ]
     },
     "metadata": {},
     "output_type": "display_data"
    }
   ],
   "source": [
    "state = Qubit('00')"
   ]
  },
  {
   "cell_type": "markdown",
   "metadata": {},
   "source": [
    "制御H演算は、`CGateS()`を用いて"
   ]
  },
  {
   "cell_type": "code",
   "execution_count": 4,
   "metadata": {},
   "outputs": [
    {
     "data": {
      "text/html": [
       "\n",
       "    <script>\n",
       "        if (!window.MathJax && window.google && window.google.colab) {\n",
       "            window.MathJax = {\n",
       "                'tex2jax': {\n",
       "                    'inlineMath': [['$', '$'], ['\\(', '\\)']],\n",
       "                    'displayMath': [['$$', '$$'], ['\\[', '\\]']],\n",
       "                    'processEscapes': true,\n",
       "                    'processEnvironments': true,\n",
       "                    'skipTags': ['script', 'noscript', 'style', 'textarea', 'code'],\n",
       "                    'displayAlign': 'center',\n",
       "                },\n",
       "                'HTML-CSS': {\n",
       "                    'styles': {'.MathJax_Display': {'margin': 0}},\n",
       "                    'linebreaks': {'automatic': true},\n",
       "                    // Disable to prevent OTF font loading, which aren't part of our\n",
       "                    // distribution.\n",
       "                    'imageFont': null,\n",
       "                },\n",
       "               'messageStyle': 'none'\n",
       "            };\n",
       "            var script = document.createElement(\"script\");\n",
       "            script.src = \"https://colab.research.google.com/static/mathjax/MathJax.js?config=TeX-AMS_HTML-full,Safe\";\n",
       "            document.head.appendChild(script);\n",
       "        }\n",
       "    </script>\n",
       "    "
      ],
      "text/plain": [
       "<IPython.core.display.HTML object>"
      ]
     },
     "metadata": {},
     "output_type": "display_data"
    },
    {
     "data": {
      "image/png": "[encoded data removed]",
      "text/latex": [
       "$$\\left[\\begin{matrix}1 & 0 & 0 & 0\\\\0 & 1 & 0 & 0\\\\0 & 0 & \\frac{\\sqrt{2}}{2} & \\frac{1}{\\sqrt{2}}\\\\0 & 0 & \\frac{1}{\\sqrt{2}} & - \\frac{\\sqrt{2}}{2}\\end{matrix}\\right]$$"
      ],
      "text/plain": [
       "⎡1  0  0    0  ⎤\n",
       "⎢              ⎥\n",
       "⎢0  1  0    0  ⎥\n",
       "⎢              ⎥\n",
       "⎢      √2   1  ⎥\n",
       "⎢0  0  ──   ── ⎥\n",
       "⎢      2    √2 ⎥\n",
       "⎢              ⎥\n",
       "⎢      1   -√2 ⎥\n",
       "⎢0  0  ──  ────⎥\n",
       "⎣      √2   2  ⎦"
      ]
     },
     "execution_count": 4,
     "metadata": {},
     "output_type": "execute_result"
    }
   ],
   "source": [
    "ctrlH = CGateS(1,H(0))\n",
    "represent(ctrlH,nqubits=2)"
   ]
  },
  {
   "cell_type": "markdown",
   "metadata": {},
   "source": [
    "と行列表示される。\n",
    "測定前の状態は、"
   ]
  },
  {
   "cell_type": "code",
   "execution_count": 5,
   "metadata": {},
   "outputs": [
    {
     "data": {
      "text/html": [
       "\n",
       "    <script>\n",
       "        if (!window.MathJax && window.google && window.google.colab) {\n",
       "            window.MathJax = {\n",
       "                'tex2jax': {\n",
       "                    'inlineMath': [['$', '$'], ['\\(', '\\)']],\n",
       "                    'displayMath': [['$$', '$$'], ['\\[', '\\]']],\n",
       "                    'processEscapes': true,\n",
       "                    'processEnvironments': true,\n",
       "                    'skipTags': ['script', 'noscript', 'style', 'textarea', 'code'],\n",
       "                    'displayAlign': 'center',\n",
       "                },\n",
       "                'HTML-CSS': {\n",
       "                    'styles': {'.MathJax_Display': {'margin': 0}},\n",
       "                    'linebreaks': {'automatic': true},\n",
       "                    // Disable to prevent OTF font loading, which aren't part of our\n",
       "                    // distribution.\n",
       "                    'imageFont': null,\n",
       "                },\n",
       "               'messageStyle': 'none'\n",
       "            };\n",
       "            var script = document.createElement(\"script\");\n",
       "            script.src = \"https://colab.research.google.com/static/mathjax/MathJax.js?config=TeX-AMS_HTML-full,Safe\";\n",
       "            document.head.appendChild(script);\n",
       "        }\n",
       "    </script>\n",
       "    "
      ],
      "text/plain": [
       "<IPython.core.display.HTML object>"
      ]
     },
     "metadata": {},
     "output_type": "display_data"
    },
    {
     "data": {
      "image/png": "[encoded data removed]",
      "text/latex": [
       "$$H_{1} C_{1}{\\left(H_{0}\\right)} H_{1} {\\left|00\\right\\rangle }$$"
      ],
      "text/plain": [
       "H ⋅C ⎛H ⎞⋅H ⋅❘00⟩\n",
       " 1  1⎝ 0⎠  1     "
      ]
     },
     "execution_count": 5,
     "metadata": {},
     "output_type": "execute_result"
    }
   ],
   "source": [
    "H(1)*ctrlH*H(1)*state"
   ]
  },
  {
   "cell_type": "markdown",
   "metadata": {},
   "source": [
    "とかけるが、SymPyに計算させてみると"
   ]
  },
  {
   "cell_type": "code",
   "execution_count": 6,
   "metadata": {
    "scrolled": true
   },
   "outputs": [
    {
     "data": {
      "text/html": [
       "\n",
       "    <script>\n",
       "        if (!window.MathJax && window.google && window.google.colab) {\n",
       "            window.MathJax = {\n",
       "                'tex2jax': {\n",
       "                    'inlineMath': [['$', '$'], ['\\(', '\\)']],\n",
       "                    'displayMath': [['$$', '$$'], ['\\[', '\\]']],\n",
       "                    'processEscapes': true,\n",
       "                    'processEnvironments': true,\n",
       "                    'skipTags': ['script', 'noscript', 'style', 'textarea', 'code'],\n",
       "                    'displayAlign': 'center',\n",
       "                },\n",
       "                'HTML-CSS': {\n",
       "                    'styles': {'.MathJax_Display': {'margin': 0}},\n",
       "                    'linebreaks': {'automatic': true},\n",
       "                    // Disable to prevent OTF font loading, which aren't part of our\n",
       "                    // distribution.\n",
       "                    'imageFont': null,\n",
       "                },\n",
       "               'messageStyle': 'none'\n",
       "            };\n",
       "            var script = document.createElement(\"script\");\n",
       "            script.src = \"https://colab.research.google.com/static/mathjax/MathJax.js?config=TeX-AMS_HTML-full,Safe\";\n",
       "            document.head.appendChild(script);\n",
       "        }\n",
       "    </script>\n",
       "    "
      ],
      "text/plain": [
       "<IPython.core.display.HTML object>"
      ]
     },
     "metadata": {},
     "output_type": "display_data"
    },
    {
     "data": {
      "image/png": "[encoded data removed]",
      "text/latex": [
       "$$\\frac{\\sqrt{2} {\\left|00\\right\\rangle }}{4} + \\frac{{\\left|00\\right\\rangle }}{2} + \\frac{\\sqrt{2} {\\left|01\\right\\rangle }}{4} - \\frac{\\sqrt{2} {\\left|10\\right\\rangle }}{4} + \\frac{{\\left|10\\right\\rangle }}{2} - \\frac{\\sqrt{2} {\\left|11\\right\\rangle }}{4}$$"
      ],
      "text/plain": [
       "√2⋅❘00⟩   ❘00⟩   √2⋅❘01⟩   √2⋅❘10⟩   ❘10⟩   √2⋅❘11⟩\n",
       "─────── + ──── + ─────── - ─────── + ──── - ───────\n",
       "   4       2        4         4       2        4   "
      ]
     },
     "execution_count": 6,
     "metadata": {},
     "output_type": "execute_result"
    }
   ],
   "source": [
    "qapply(H(1)*ctrlH*H(1)*state)"
   ]
  },
  {
   "cell_type": "markdown",
   "metadata": {},
   "source": [
    "となる。第１章で紹介したSymPyの`measure_partial`関数を用いて、1つ目の量子ビットの測定結果が0だった場合の量子状態と確率を求めると、"
   ]
  },
  {
   "cell_type": "code",
   "execution_count": 7,
   "metadata": {},
   "outputs": [
    {
     "data": {
      "text/html": [
       "\n",
       "    <script>\n",
       "        if (!window.MathJax && window.google && window.google.colab) {\n",
       "            window.MathJax = {\n",
       "                'tex2jax': {\n",
       "                    'inlineMath': [['$', '$'], ['\\(', '\\)']],\n",
       "                    'displayMath': [['$$', '$$'], ['\\[', '\\]']],\n",
       "                    'processEscapes': true,\n",
       "                    'processEnvironments': true,\n",
       "                    'skipTags': ['script', 'noscript', 'style', 'textarea', 'code'],\n",
       "                    'displayAlign': 'center',\n",
       "                },\n",
       "                'HTML-CSS': {\n",
       "                    'styles': {'.MathJax_Display': {'margin': 0}},\n",
       "                    'linebreaks': {'automatic': true},\n",
       "                    // Disable to prevent OTF font loading, which aren't part of our\n",
       "                    // distribution.\n",
       "                    'imageFont': null,\n",
       "                },\n",
       "               'messageStyle': 'none'\n",
       "            };\n",
       "            var script = document.createElement(\"script\");\n",
       "            script.src = \"https://colab.research.google.com/static/mathjax/MathJax.js?config=TeX-AMS_HTML-full,Safe\";\n",
       "            document.head.appendChild(script);\n",
       "        }\n",
       "    </script>\n",
       "    "
      ],
      "text/plain": [
       "<IPython.core.display.HTML object>"
      ]
     },
     "metadata": {},
     "output_type": "display_data"
    },
    {
     "data": {
      "image/png": "[encoded data removed]",
      "text/latex": [
       "$$\\left ( \\frac{\\left(\\sqrt{2} + 2\\right) {\\left|00\\right\\rangle } + \\sqrt{2} {\\left|01\\right\\rangle }}{2 \\sqrt{\\sqrt{2} + 2}}, \\quad \\frac{\\sqrt{2}}{4} + \\frac{1}{2}\\right )$$"
      ],
      "text/plain": [
       "⎛(√2 + 2)⋅❘00⟩ + √2⋅❘01⟩  √2   1⎞\n",
       "⎜───────────────────────, ── + ─⎟\n",
       "⎜          ________       4    2⎟\n",
       "⎝      2⋅╲╱ √2 + 2              ⎠"
      ]
     },
     "execution_count": 7,
     "metadata": {},
     "output_type": "execute_result"
    }
   ],
   "source": [
    "from sympy.physics.quantum.qubit import measure_all, measure_partial, measure_all_oneshot, measure_partial_oneshot\n",
    "measured_state_and_probability_zero = measure_partial(qapply(H(1)*ctrlH*H(1)*state),(1,))[0]\n",
    "simplify(measured_state_and_probability_zero)"
   ]
  },
  {
   "cell_type": "markdown",
   "metadata": {},
   "source": [
    "となる。$\\langle 0 | H | 0\\rangle = 1/\\sqrt{2}$だから、測定確率が式(1)と一致していることが分かる。   \n",
    "また、２つめの量子ビットに$H$を作用させてみると、測定後の状態が$H$の固有ベクトルになっていることが分かる（SymPyのインデックスは左から１つ目が1、２つ目が0になるよう対応させていることに注意）。"
   ]
  },
  {
   "cell_type": "code",
   "execution_count": 8,
   "metadata": {},
   "outputs": [
    {
     "data": {
      "text/html": [
       "\n",
       "    <script>\n",
       "        if (!window.MathJax && window.google && window.google.colab) {\n",
       "            window.MathJax = {\n",
       "                'tex2jax': {\n",
       "                    'inlineMath': [['$', '$'], ['\\(', '\\)']],\n",
       "                    'displayMath': [['$$', '$$'], ['\\[', '\\]']],\n",
       "                    'processEscapes': true,\n",
       "                    'processEnvironments': true,\n",
       "                    'skipTags': ['script', 'noscript', 'style', 'textarea', 'code'],\n",
       "                    'displayAlign': 'center',\n",
       "                },\n",
       "                'HTML-CSS': {\n",
       "                    'styles': {'.MathJax_Display': {'margin': 0}},\n",
       "                    'linebreaks': {'automatic': true},\n",
       "                    // Disable to prevent OTF font loading, which aren't part of our\n",
       "                    // distribution.\n",
       "                    'imageFont': null,\n",
       "                },\n",
       "               'messageStyle': 'none'\n",
       "            };\n",
       "            var script = document.createElement(\"script\");\n",
       "            script.src = \"https://colab.research.google.com/static/mathjax/MathJax.js?config=TeX-AMS_HTML-full,Safe\";\n",
       "            document.head.appendChild(script);\n",
       "        }\n",
       "    </script>\n",
       "    "
      ],
      "text/plain": [
       "<IPython.core.display.HTML object>"
      ]
     },
     "metadata": {},
     "output_type": "display_data"
    },
    {
     "data": {
      "image/png": "[encoded data removed]",
      "text/latex": [
       "$$\\frac{\\sqrt{2} {\\left|00\\right\\rangle } + 2 {\\left|00\\right\\rangle } + \\sqrt{2} {\\left|01\\right\\rangle }}{2 \\sqrt{\\sqrt{2} + 2}}$$"
      ],
      "text/plain": [
       "√2⋅❘00⟩ + 2⋅❘00⟩ + √2⋅❘01⟩\n",
       "──────────────────────────\n",
       "           ________       \n",
       "       2⋅╲╱ √2 + 2        "
      ]
     },
     "execution_count": 8,
     "metadata": {},
     "output_type": "execute_result"
    }
   ],
   "source": [
    "measured_state_zero = measured_state_and_probability_zero[0]\n",
    "simplify(qapply(H(0)*measured_state_zero))"
   ]
  },
  {
   "cell_type": "markdown",
   "metadata": {},
   "source": [
    "同様に1の測定結果を得た場合は、固有値−1の固有状態であることも確認できるので試してもらいたい。"
   ]
  },
  {
   "cell_type": "code",
   "execution_count": 9,
   "metadata": {},
   "outputs": [
    {
     "data": {
      "text/html": [
       "\n",
       "    <script>\n",
       "        if (!window.MathJax && window.google && window.google.colab) {\n",
       "            window.MathJax = {\n",
       "                'tex2jax': {\n",
       "                    'inlineMath': [['$', '$'], ['\\(', '\\)']],\n",
       "                    'displayMath': [['$$', '$$'], ['\\[', '\\]']],\n",
       "                    'processEscapes': true,\n",
       "                    'processEnvironments': true,\n",
       "                    'skipTags': ['script', 'noscript', 'style', 'textarea', 'code'],\n",
       "                    'displayAlign': 'center',\n",
       "                },\n",
       "                'HTML-CSS': {\n",
       "                    'styles': {'.MathJax_Display': {'margin': 0}},\n",
       "                    'linebreaks': {'automatic': true},\n",
       "                    // Disable to prevent OTF font loading, which aren't part of our\n",
       "                    // distribution.\n",
       "                    'imageFont': null,\n",
       "                },\n",
       "               'messageStyle': 'none'\n",
       "            };\n",
       "            var script = document.createElement(\"script\");\n",
       "            script.src = \"https://colab.research.google.com/static/mathjax/MathJax.js?config=TeX-AMS_HTML-full,Safe\";\n",
       "            document.head.appendChild(script);\n",
       "        }\n",
       "    </script>\n",
       "    "
      ],
      "text/plain": [
       "<IPython.core.display.HTML object>"
      ]
     },
     "metadata": {},
     "output_type": "display_data"
    },
    {
     "data": {
      "image/png": "[encoded data removed]",
      "text/latex": [
       "$$\\frac{- 2 {\\left|10\\right\\rangle } + \\sqrt{2} {\\left|10\\right\\rangle } + \\sqrt{2} {\\left|11\\right\\rangle }}{2 \\sqrt{- \\sqrt{2} + 2}}$$"
      ],
      "text/plain": [
       "-2⋅❘10⟩ + √2⋅❘10⟩ + √2⋅❘11⟩\n",
       "───────────────────────────\n",
       "           _________       \n",
       "       2⋅╲╱ -√2 + 2        "
      ]
     },
     "execution_count": 9,
     "metadata": {},
     "output_type": "execute_result"
    }
   ],
   "source": [
    "measured_state_one = measure_partial(qapply(H(1)*ctrlH*H(1)*state),(1,))[1][0]\n",
    "simplify(qapply(H(0)*measured_state_one))"
   ]
  }
 ],
 "metadata": {
  "kernelspec": {
   "display_name": "Python 3",
   "language": "python",
   "name": "python3"
  },
  "language_info": {
   "codemirror_mode": {
    "name": "ipython",
    "version": 3
   },
   "file_extension": ".py",
   "mimetype": "text/x-python",
   "name": "python",
   "nbconvert_exporter": "python",
   "pygments_lexer": "ipython3",
   "version": "3.7.0"
  },
  "varInspector": {
   "cols": {
    "lenName": 16,
    "lenType": 16,
    "lenVar": 40
   },
   "kernels_config": {
    "python": {
     "delete_cmd_postfix": "",
     "delete_cmd_prefix": "del ",
     "library": "var_list.py",
     "varRefreshCmd": "print(var_dic_list())"
    },
    "r": {
     "delete_cmd_postfix": ") ",
     "delete_cmd_prefix": "rm(",
     "library": "var_list.r",
     "varRefreshCmd": "cat(var_dic_list()) "
    }
   },
   "types_to_exclude": [
    "module",
    "function",
    "builtin_function_or_method",
    "instance",
    "_Feature"
   ],
   "window_display": false
  }
 },
 "nbformat": 4,
 "nbformat_minor": 2
}
