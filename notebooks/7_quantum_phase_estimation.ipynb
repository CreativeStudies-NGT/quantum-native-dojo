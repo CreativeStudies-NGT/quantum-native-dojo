{
 "cells": [
  {
   "cell_type": "markdown",
   "metadata": {},
   "source": [
    "# 第7章 量子位相推定アルゴリズムの応用\n",
    "\n",
    "第7章では、量子アルゴリズムの中でも最も重要なものの一つで、多くのアルゴリズムのサブルーチンとして応用されている、 「量子位相推定アルゴリズム」について解説する。これの実用的な応用先として、局所ハミルトニアンの固有値問題や量子線形代数問題を取り上げる。これらの問題は、量子多体系のエネルギー計算や、量子機械学習など幅広い分野への応用が期待されているため、読者の方にはここで紹介する参考文献などにも当たって興味を広げて頂きたい。\n",
    "\n",
    "- [7-1. 量子位相推定](7.1_quantum_phase_estimation_application.ipynb)\n",
    "- [7-2. 量子線形代数問題](7.2_quantum_linear_system_problem.ipynb)\n",
    "- [7-3. 量子ランダムアクセスメモリー](7.3_quantum_random_access_memory.ipynb)\n",
    "- [7-4. HHLアルゴリズムの応用](7.4_application_of_HHL_algorithm.ipynb)\n",
    "- [コラム: 量子-インスパイアードアルゴリズム](7.c_quantum_inspired_algorithm.ipynb)"
   ]
  },
  {
   "cell_type": "code",
   "execution_count": null,
   "metadata": {},
   "outputs": [],
   "source": []
  }
 ],
 "metadata": {
  "kernelspec": {
   "display_name": "Python 3",
   "language": "python",
   "name": "python3"
  },
  "language_info": {
   "codemirror_mode": {
    "name": "ipython",
    "version": 3
   },
   "file_extension": ".py",
   "mimetype": "text/x-python",
   "name": "python",
   "nbconvert_exporter": "python",
   "pygments_lexer": "ipython3",
   "version": "3.7.1"
  }
 },
 "nbformat": 4,
 "nbformat_minor": 2
}
