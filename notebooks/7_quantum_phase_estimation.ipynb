{
 "cells": [
  {
   "cell_type": "markdown",
   "metadata": {},
   "source": [
    "# 第7章 量子位相推定アルゴリズムの発展\n",
    "\n",
    "第7章では、最も重要な量子アルゴリズムの一つである「量子位相推定アルゴリズム」と、それをサブルーチンとして用いて一次連立方程式を高速に解く  Harrow-Hassidim-Lloyd (HHL) アルゴリズムについて解説する（量子位相推定アルゴリズムそのものは、既に[2-4節](2.4_phase_estimation_beginner.ipynb)で簡単に紹介している）。\n",
    "さらに、HHLアルゴリズムを実際の問題に応用するときに必要になる量子ランダムアクセルメモリー（QRAM）や、HHLアルゴリズムをポートフォリオ最適化という金融工学の問題に適用した例も紹介する。本章の内容は、量子コンピュータを用いた機械学習の高速化や大規模分子の高精度エネルギー計算など幅広い分野への応用が期待されているため、読者の方には参考文献などにも当たりつつ興味を広げて頂きたい。\n",
    "(なお、この章で紹介するアルゴリズムは long-term アルゴリズム（量子誤り訂正が実装された量子コンピュータでないと動作しないであろうアルゴリズム）である。)"
   ]
  },
  {
   "cell_type": "markdown",
   "metadata": {},
   "source": [
    "- [7-1. 量子位相推定アルゴリズム詳説：水素分子への応用を例として](7.1_quantum_phase_estimation_detailed.ipynb)\n",
    "- [7-2. Harrow-Hassidim-Lloyd (HHL) アルゴリズム](7.2_Harrow-Hassidim-Lloyd_algorithm.ipynb)\n",
    "- [コラム：量子ランダムアクセスメモリー (qRAM)](7.2c_quantum_random_access_memory.ipynb)\n",
    "- [7-3. HHLアルゴリズムを用いたポートフォリオ最適化](7.3_application_of_HHL_algorithm.ipynb)\n",
    "- [コラム: 低ランク行列に対する高速な特異値分解とサンプリング（量子-inspiredアルゴリズム](7.3c_quantum_inspired_algorithm.ipynb)"
   ]
  }
 ],
 "metadata": {
  "kernelspec": {
   "display_name": "Python 3",
   "language": "python",
   "name": "python3"
  },
  "language_info": {
   "codemirror_mode": {
    "name": "ipython",
    "version": 3
   },
   "file_extension": ".py",
   "mimetype": "text/x-python",
   "name": "python",
   "nbconvert_exporter": "python",
   "pygments_lexer": "ipython3",
   "version": "3.7.5"
  },
  "metadata": {
   "nbsphinx-toctree": {}
  }
 },
 "nbformat": 4,
 "nbformat_minor": 2
}
