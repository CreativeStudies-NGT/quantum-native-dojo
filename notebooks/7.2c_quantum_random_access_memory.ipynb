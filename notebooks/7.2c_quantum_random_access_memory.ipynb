{
 "cells": [
  {
   "cell_type": "markdown",
   "metadata": {},
   "source": [
    "## コラム：量子ランダムアクセスメモリー (qRAM)\n",
    "前項 [Harrow-Hassidim-Lloyd (HHL) アルゴリズム](7.2_Harrow-Hassidim-Lloyd_algorithm.ipynb) の説明でも述べたように、量子コンピュータ上で古典データを扱う際は、そのデータを量子状態としてエンコードする必要がある。とくにバイナリデータの集まり（ベクトル）を量子状態として効率的に読み出すことは、量子機械学習などの応用において極めて重要である。本コラムでは、そうした`Quantum Random Access Memory (qRAM)` について簡単に解説する。"
   ]
  },
  {
   "cell_type": "markdown",
   "metadata": {},
   "source": [
    "### RAM\n",
    "古典コンピュータにおける `random access memory (RAM)` とは、メモリアドレスと対応するデータをセットとして格納し、引き出せるようにする装置である。すなわち、RAMにメモリアドレス $i$ を与えると、バイナリデータ$x_i$ を引き出すことができる。\n",
    "\n",
    "$$\n",
    "i \\quad \\xrightarrow{RAM} \\quad x_i\n",
    "$$\n",
    "\n",
    "同様に、qRAM はあるバイナリデータ $x_i$ のアドレス $i$ を記述する量子ビット列 $|i \\rangle$ から、対応するデータを何らかの規則でエンコードした量子状態 $|x_i \\rangle$ を引き出せるようにする装置である。\n",
    "\n",
    "$$\n",
    "| i \\rangle \\otimes | 0 \\rangle \\xrightarrow{qRAM} | i \\rangle \\otimes | x_i \\rangle\n",
    "$$\n",
    "\n",
    "とくに、メモリアドレスとデータを重ね合わせ状態として引き出せるということは、qRAMのもつべき重要な性質である。すなわちメモリアドレス状態の重ね合わせに対して、qRAMはアドレスとデータがエンタングルした次の状態を与える。\n",
    "\n",
    "$$\n",
    "\\frac{1}{\\sqrt{N}}\\sum_{i=1}^N | i \\rangle \\otimes | 0 \\rangle \\xrightarrow{qRAM} \\frac{1}{\\sqrt{N}}\\sum_i | i \\rangle \\otimes | x_i \\rangle\n",
    "$$\n",
    "\n",
    "$N$はデータの件数である。\n",
    "\n",
    "ここでの定義では、qRAMは必ずしも量子状態を常に保持する必要がないということに注意されたい。バイナリデータのアドレス達が与えられた時、効率的に上記のような重ね合わせ状態を生成する量子回路が計算され、実際に状態が出力されれば、qRAMとしての役割を果たす。\n",
    "\n",
    "通常 qRAM はユニタリーなプロセスとして実現することが仮定される。\n",
    "qRAM の仕組みを実現するアーキテクチャにはとくに決まったものはなく、現在も研究途上である。\n",
    "例えば、[1] などで具体的な実装方法が提案されている。"
   ]
  },
  {
   "cell_type": "markdown",
   "metadata": {},
   "source": [
    "### 振幅エンコーディング\n",
    "前項で学んだように、HHLアルゴリズムおよびそれをベースとする機械学習アルゴリズムでは、qRAM上のデータを状態としてではなく、振幅として利用したい場合がある。そのためには、qRAMから読み出したデータに対して次のような変換を行いたい。\n",
    "\n",
    "$$ \\sum_{i=1}^N |i \\rangle \\otimes |x_i \\rangle \\quad \\to \\quad \\frac{1}{\\sum_i |x_i|^2} \\sum_{i=1}^N x_i |i \\rangle $$\n",
    "\n",
    "この変換をユニタリ変換として効率よく実現する方法はPrakashの博士論文において提案された[2]。具体的な実現方法の解説は[3,4]に詳しい。"
   ]
  },
  {
   "cell_type": "markdown",
   "metadata": {},
   "source": [
    "### 参考文献\n",
    "[1] V. Giovannetti, S. Lloyd, and L. Maccone, \"Architectures for a quantum random access memory\",  [Phys. Rev. A 78, 052310 (2008)](https://journals.aps.org/pra/abstract/10.1103/PhysRevA.78.052310) <br>\n",
    "[2] Anupam Prakash. \\\"Quantum Algorithms for Linear Algebra and Machine Learning\\\". PhD thesis, EECS Department, University of California, Berkeley, Dec 2014. <br>\n",
    "[3] 御手洗光祐, 京大基研量子情報スクール用ノート, https://www2.yukawa.kyoto-u.ac.jp/~qischool2019/mitaraiCTO.pdf <br>\n",
    "[4] Danial Dervovic _et al._ , \"Quantum linear systems algorithms: a primer\", https://arxiv.org/abs/1802.08227 "
   ]
  }
 ],
 "metadata": {
  "kernelspec": {
   "display_name": "Python 3",
   "language": "python",
   "name": "python3"
  },
  "language_info": {
   "codemirror_mode": {
    "name": "ipython",
    "version": 3
   },
   "file_extension": ".py",
   "mimetype": "text/x-python",
   "name": "python",
   "nbconvert_exporter": "python",
   "pygments_lexer": "ipython3",
   "version": "3.7.5"
  }
 },
 "nbformat": 4,
 "nbformat_minor": 2
}
