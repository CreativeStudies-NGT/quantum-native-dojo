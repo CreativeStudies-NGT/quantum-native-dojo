{
 "cells": [
  {
   "cell_type": "markdown",
   "metadata": {},
   "source": [
    "# 第6章 量子化学計算\n",
    "\n",
    "この章では、NISQデバイスの最も重要で有望な応用先の一つと考えられている、量子化学計算について学ぶ。まずは量子化学計算に便利なライブラリであるOpenFermionの扱い方について学び、量子化学の問題を量子コンピュータで解ける形に変換する手法を習得する（6-1節）。その後、[5-1節](5.1_variational_quantum_eigensolver.ipynb)で学んだvariational quantum eigensolver をQulacsを用いて実装する（6-2節）。6-3節では、基底状態だけではなく励起状態も求められるsubspace-variational quantum eigensolver (SS-VQE)という手法について学ぶ。\n",
    "\n",
    "※ この章は量子化学の前提知識が必要になるので、分からないところは他の文献を見たり飛ばしたりしながら読み進めてほしい。"
   ]
  },
  {
   "cell_type": "markdown",
   "metadata": {
    "nbsphinx-toctree": {}
   },
   "source": [
    "- [6-1. OpenFermionの使い方](6.1_openfermion_basics.ipynb)\n",
    "- [6-2. Qulacs を用いた variational quantum eigensolver (VQE) の実装](6.2_qulacs_VQE.ipynb)\n",
    "- [6-3. 励起状態の探索手法 (subspace-search variational quantum eigensolver)](6.3_subspace_search_VQE.ipynb)"
   ]
  }
 ],
 "metadata": {
  "celltoolbar": "Edit Metadata",
  "kernelspec": {
   "display_name": "Python 3",
   "language": "python",
   "name": "python3"
  },
  "language_info": {
   "codemirror_mode": {
    "name": "ipython",
    "version": 3
   },
   "file_extension": ".py",
   "mimetype": "text/x-python",
   "name": "python",
   "nbconvert_exporter": "python",
   "pygments_lexer": "ipython3",
   "version": "3.7.5"
  }
 },
 "nbformat": 4,
 "nbformat_minor": 2
}
