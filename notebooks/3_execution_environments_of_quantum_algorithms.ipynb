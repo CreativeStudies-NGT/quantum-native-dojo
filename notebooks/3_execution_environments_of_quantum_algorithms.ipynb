{
 "cells": [
  {
   "cell_type": "markdown",
   "metadata": {},
   "source": [
    "# 第3章 量子アルゴリズムの実行環境\n",
    "\n",
    "量子アルゴリズムを開発し、それが実際の問題に対して有効かを確かめるためには、何らかの実行環境を用意しなければならない。量子コンピュータの実機に直接アクセスしてアルゴリズムを実行し、試行錯誤で結果をデバックできれば一番良いのだが、現在つくられている量子コンピュータ（NISQデバイス）は世界にせいぜい数十台しかないのでそれは難しい。さらにそもそも、現在(2019年4月)の実機はノイズが非常に大きく、新たに開発したアルゴリズムの性能を正確に評価するのは困難である。こういった要因から、**量子アルゴリズムの開発には量子コンピュータの動作をシミュレーションするシミュレータの利用が必須**である。\n",
    "\n",
    "そこでこの章では、さまざまな量子アルゴリズムを実行・開発するための環境について紹介する。\n",
    "\n",
    "- 3-1節では、量子コンピュータの動作を超高速にシミュレーション可能で、量子アルゴリズムの開発・デバッグに有用なライブラリ [Qulacs](https://github.com/qulacs/qulacs) の使い方について紹介する。\n",
    "- 3-2節では、IBMの量子コンピュータシミュレーションライブラリ [Qiskit](https://qiskit.org) と、実際の量子コンピュータをクラウド公開しているサービス [IBM Q Experience](https://quantumexperience.ng.bluemix.net/qx/editor) の使い方について紹介する。"
   ]
  },
  {
   "cell_type": "markdown",
   "metadata": {
    "nbsphinx-toctree": {}
   },
   "source": [
    "- [3-1. 世界最高速シミュレータQulacsの使い方](3.1_Qulacs_tutorial.ipynb)\n",
    "- [3-2. QiskitとIBM Q Experienceの使い方](3.2_Qiskit_IBMQ.ipynb)"
   ]
  }
 ],
 "metadata": {
  "celltoolbar": "Edit Metadata",
  "kernelspec": {
   "display_name": "Python 3",
   "language": "python",
   "name": "python3"
  },
  "language_info": {
   "codemirror_mode": {
    "name": "ipython",
    "version": 3
   },
   "file_extension": ".py",
   "mimetype": "text/x-python",
   "name": "python",
   "nbconvert_exporter": "python",
   "pygments_lexer": "ipython3",
   "version": "3.7.3"
  }
 },
 "nbformat": 4,
 "nbformat_minor": 2
}
