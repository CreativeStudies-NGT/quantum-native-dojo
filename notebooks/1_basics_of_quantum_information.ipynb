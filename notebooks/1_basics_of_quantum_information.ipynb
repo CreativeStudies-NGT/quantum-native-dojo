{
 "cells": [
  {
   "cell_type": "markdown",
   "metadata": {
    "colab_type": "text",
    "id": "A46fkXZnkD6Z"
   },
   "source": [
    "# 第1章 量子情報の基礎"
   ]
  },
  {
   "cell_type": "markdown",
   "metadata": {
    "colab_type": "text",
    "id": "va9-CH5yj8be"
   },
   "source": [
    "第1章では、量子コンピュータの仕組みを完全に理解するために必要な量子力学をマスターし、量子コンピュータの状態や操作をどのように記述すればいいのかを学ぶ。特に、テンソル積という考え方が量子コンピュータを深く理解するうえで必須である。テンソル積の計算は少し複雑であるが、Pythonの数式処理ライブラリ[SymPy](https://www.sympy.org/en/index.html)では、テンソル積を含めた量子力学の代数処理がサポートされているので、SymPyを用いた計算結果を見ながら量子力学と量子コンピュータの基礎の理解をすすめていこう。"
   ]
  },
  {
   "cell_type": "markdown",
   "metadata": {
    "colab_type": "text",
    "id": "cArDQYeJjDi5"
   },
   "source": [
    "## 1-1. 量子ビット\n",
    "古典コンピュータ（量子コンピュータではない既存のコンピュータのこと）内部では情報は 0 と 1 の２つの状態で表現されている。例えば、スイッチのオン・オフの状態や、電荷がたまった状態とそうでない状態、電圧の高・低などでその２状態を表現している。一方、量子力学では異なる２つの状態の**重ね合わせ状態**というのが許されているので、量子の世界の情報の最小単位である**“量子”ビット**は $\\alpha$と$\\beta$という二つの複素数を用いた複素ベクトルを用いて\n",
    "$$\n",
    "\\left(\n",
    "\\begin{array}{c}\n",
    "\\alpha \n",
    "\\\\\n",
    "\\beta \n",
    "\\end{array}\n",
    "\\right)\n",
    "$$\n",
    "のようにその量子状態が記述される。"
   ]
  },
  {
   "cell_type": "markdown",
   "metadata": {
    "colab_type": "text",
    "id": "rhuRq2WujDi5"
   },
   "source": [
    "$\\alpha$や$\\beta$はどの程度の重みで0状態と1状態が重ね合わさっているかを表しており、**複素確率振幅**と呼ばれる。\n",
    "$\\alpha$や$\\beta$が複素数になっているのは、量子の世界では0や1といった離散的な量も波の性質をもち干渉するためである。\n",
    "\n",
    "古典ビットの0に対応する状態は\n",
    "$$\n",
    "\\left(\n",
    "\\begin{array}{c}\n",
    "1 \n",
    "\\\\\n",
    "0\n",
    "\\end{array}\n",
    "\\right)\n",
    "$$\n",
    "1に対応する状態は\n",
    "$$\n",
    "\\left(\n",
    "\\begin{array}{c}\n",
    "0 \n",
    "\\\\\n",
    "1\n",
    "\\end{array}\n",
    "\\right)\n",
    "$$\n",
    "となる。"
   ]
  },
  {
   "cell_type": "markdown",
   "metadata": {
    "colab_type": "text",
    "id": "jyz8NYXVjDi6"
   },
   "source": [
    "列ベクトルを毎回書いているとスペースが無駄なので、**ディラックのブラケット表記**という簡略化した表記を導入する。これは列ベクトルである、という量子状態の型宣言のようなもので、この記号がついていると量子状態をあらわす複素ベクトルであることが一目でわかるようになっている。\n",
    "\n",
    "$$\n",
    "|0\\rangle = \\left(\n",
    "\\begin{array}{c}\n",
    "1 \n",
    "\\\\\n",
    "0\n",
    "\\end{array}\n",
    "\\right)\n",
    "$$\n",
    "$$\n",
    "|1\\rangle = \\left(\n",
    "\\begin{array}{c}\n",
    "0\n",
    "\\\\\n",
    "1\n",
    "\\end{array}\n",
    "\\right)\n",
    "$$\n",
    "この表記を用いると量子ビットは\n",
    "$$\n",
    "|\\psi \\rangle = \\alpha |0\\rangle + \\beta |1\\rangle \n",
    "$$\n",
    "と書かれる（スペースが省略できた！）。\n",
    "\n"
   ]
  },
  {
   "cell_type": "markdown",
   "metadata": {
    "colab_type": "text",
    "id": "qdjvhYqrjDi7"
   },
   "source": [
    "### 複素確率振幅の意味"
   ]
  },
  {
   "cell_type": "markdown",
   "metadata": {
    "colab_type": "text",
    "id": "beNKd2n8jDi9"
   },
   "source": [
    "複素確率振幅はいったいどのような物理的実体に対応するだろうか。実は、量子力学では観測者（人間）は直接複素確率振幅にはアクセスすることができず、**測定という操作をした時に初めて0か1かが確率的にきまる**。測定結果の確率分布に影響するのが複素確率振幅である。測定結果が0になる確率$p_0$, 1になる確率$p_1$は複素確率振幅の絶対値の2乗で表される:\n",
    "$$ \n",
    "p_0 = |\\alpha |^2,\n",
    "\\\\\n",
    "p_1 = |\\beta |^2\n",
    "$$\n",
    "確率の和が1になるように、規格化条件 $|\\alpha |^2 + |\\beta |^2 =1$を課す。\n",
    "\n",
    "**測定を行うと、量子状態は測定結果に対応する状態に変化する**。具体的には、測定結果が0の場合は$|0\\rangle$、1の場合は$|1\\rangle$に変化する。この測定を、正規直交基底$|0\\rangle$, $|1\\rangle$での射影測定と呼ぶ。$|0\\rangle$, $|1\\rangle$以外の正規直交基底での射影測定や、より一般の測定もあるが、ここでは扱わない。\n",
    "\n",
    "まとめると、\n",
    "\n",
    "- 量子状態は、大きさが１に規格化された複素ベクトルによって記述される。\n",
    "- 各成分の絶対値の２乗が、測定をしたときにその成分に対応する状態を得る確率である。\n",
    "- 測定後の量子状態は、測定結果に応じて$|0\\rangle$または$|1\\rangle$となる。\n",
    "\n",
    "したがって、\n",
    "$$\n",
    "|0\\rangle = \\left(\n",
    "\\begin{array}{c}\n",
    "1 \n",
    "\\\\\n",
    "0\n",
    "\\end{array}\n",
    "\\right), |1\\rangle = \\left(\n",
    "\\begin{array}{c}\n",
    "0\n",
    "\\\\\n",
    "1\n",
    "\\end{array}\n",
    "\\right)\n",
    "$$\n",
    "は、確実に0や1が得られる古典的な状態に対応し、\n",
    "$$\n",
    "\\frac{1}{\\sqrt{2}}\n",
    "(|0\\rangle + |1\\rangle) = \\left(\n",
    "\\begin{array}{c}\n",
    "\\frac{1}{\\sqrt{2}}\n",
    "\\\\\n",
    "\\frac{1}{\\sqrt{2}}\n",
    "\\end{array}\n",
    "\\right)\n",
    "$$\n",
    "は0と1が同じおもみで重ね合わさった状態であり、測定をすると0と1が確率1/2で完全にランダムに得られる。\n",
    "\n",
    "複素確率振幅は複素数なので、\n",
    "$$\n",
    "\\frac{1}{\\sqrt{2}}(|0\\rangle + i|1\\rangle ) =\n",
    "\\left( \n",
    "\\begin{array}{c}\n",
    "\\frac{1}{\\sqrt{2}}\n",
    "\\\\\n",
    "\\frac{i}{\\sqrt{2}}\n",
    "\\end{array}\n",
    "\\right)\n",
    "$$\n",
    "といった状態も許されている。より一般に、\n",
    "$$\n",
    "\\frac{1}{\\sqrt{2}} ( |0\\rangle + e^{ i \\phi } |1\\rangle )\n",
    "$$\n",
    "なども許されている。この状態の場合、状態0に対する確率振幅 ($1/\\sqrt{2}$) が正の実数であるのに対して、状態1に対する確率振幅 ($e^{i\\phi}/\\sqrt{2}$) は、複素平面上で$\\phi$回転している。このような、重ね合わせ状態における確率振幅間の相対的な偏角のことを**位相**と呼び、量子力学全般において重要な役割を果たす。\n",
    "\n",
    "(詳細は Nielsen-Chuang の `1.2 Quantum bits` を参照)"
   ]
  },
  {
   "cell_type": "markdown",
   "metadata": {
    "colab_type": "text",
    "id": "Oi3PkG3KjDi9"
   },
   "source": [
    "### SymPyを用いて量子ビットを表示してみる\n",
    "SymPyでは、量子状態を扱うことができる。初期化された量子ビットを準備する場合は ` Qubit() ` 関数を用いる。\n"
   ]
  },
  {
   "cell_type": "code",
   "execution_count": 1,
   "metadata": {
    "colab": {},
    "colab_type": "code",
    "id": "U-NFd2sGjDi-"
   },
   "outputs": [],
   "source": [
    "from IPython.display import Image, display_png\n",
    "from sympy import *\n",
    "from sympy.physics.quantum import *\n",
    "from sympy.physics.quantum.qubit import Qubit,QubitBra\n",
    "init_printing() # ベクトルや行列を綺麗に表示するため"
   ]
  },
  {
   "cell_type": "code",
   "execution_count": 2,
   "metadata": {},
   "outputs": [],
   "source": [
    "# Google Colaboratory上でのみ実行してください\n",
    "from IPython.display import HTML\n",
    "def setup_mathjax():\n",
    "    display(HTML('''\n",
    "    <script>\n",
    "        if (!window.MathJax) {\n",
    "            var script = document.createElement(\"script\");\n",
    "            script.src = \"https://colab.research.google.com/static/mathjax/MathJax.js?config=TeX-AMS_HTML-full,Safe\";\n",
    "            document.head.appendChild(script);\n",
    "        }\n",
    "    </script>\n",
    "    <script>\n",
    "        window.Mathjax.Hub.Config({\n",
    "            'tex2jax': {\n",
    "                'inlineMath': [['$', '$'], ['\\\\(', '\\\\)']],\n",
    "                'displayMath': [['$$', '$$'], ['\\\\[', '\\\\]']],\n",
    "                'processEscapes': true,\n",
    "                'processEnvironments': true,\n",
    "                'skipTags': ['script', 'noscript', 'style', 'textarea', 'code'],\n",
    "                'displayAlign': 'center',\n",
    "            },\n",
    "            'HTML-CSS': {\n",
    "                'styles': {'.MathJax_Display': {'margin': 0}},\n",
    "                'linebreaks': {'automatic': true},\n",
    "                // Disable to prevent OTF font loading, which aren't part of our\n",
    "                // distribution.\n",
    "                'imageFont': null,\n",
    "            },\n",
    "            'messageStyle': 'none'\n",
    "        });\n",
    "        window.Mathjax.Hub.Configured();\n",
    "    </script>\n",
    "    '''))\n",
    "get_ipython().events.register('pre_run_cell', setup_mathjax)"
   ]
  },
  {
   "cell_type": "code",
   "execution_count": 3,
   "metadata": {},
   "outputs": [
    {
     "data": {
      "text/html": [
       "\n",
       "    <script>\n",
       "        if (!window.MathJax) {\n",
       "            var script = document.createElement(\"script\");\n",
       "            script.src = \"https://colab.research.google.com/static/mathjax/MathJax.js?config=TeX-AMS_HTML-full,Safe\";\n",
       "            document.head.appendChild(script);\n",
       "        }\n",
       "    </script>\n",
       "    <script>\n",
       "        window.Mathjax.Hub.Config({\n",
       "            'tex2jax': {\n",
       "                'inlineMath': [['$', '$'], ['\\(', '\\)']],\n",
       "                'displayMath': [['$$', '$$'], ['\\[', '\\]']],\n",
       "                'processEscapes': true,\n",
       "                'processEnvironments': true,\n",
       "                'skipTags': ['script', 'noscript', 'style', 'textarea', 'code'],\n",
       "                'displayAlign': 'center',\n",
       "            },\n",
       "            'HTML-CSS': {\n",
       "                'styles': {'.MathJax_Display': {'margin': 0}},\n",
       "                'linebreaks': {'automatic': true},\n",
       "                // Disable to prevent OTF font loading, which aren't part of our\n",
       "                // distribution.\n",
       "                'imageFont': null,\n",
       "            },\n",
       "            'messageStyle': 'none'\n",
       "        });\n",
       "        window.Mathjax.Hub.Configured();\n",
       "    </script>\n",
       "    "
      ],
      "text/plain": [
       "<IPython.core.display.HTML object>"
      ]
     },
     "metadata": {},
     "output_type": "display_data"
    }
   ],
   "source": [
    "psi = Qubit('0')"
   ]
  },
  {
   "cell_type": "code",
   "execution_count": 4,
   "metadata": {
    "colab": {},
    "colab_type": "code",
    "id": "23yD1G8LjDjB",
    "outputId": "10f115e7-14df-4157-ef75-bde1a60fcb57"
   },
   "outputs": [
    {
     "data": {
      "text/html": [
       "\n",
       "    <script>\n",
       "        if (!window.MathJax) {\n",
       "            var script = document.createElement(\"script\");\n",
       "            script.src = \"https://colab.research.google.com/static/mathjax/MathJax.js?config=TeX-AMS_HTML-full,Safe\";\n",
       "            document.head.appendChild(script);\n",
       "        }\n",
       "    </script>\n",
       "    <script>\n",
       "        window.Mathjax.Hub.Config({\n",
       "            'tex2jax': {\n",
       "                'inlineMath': [['$', '$'], ['\\(', '\\)']],\n",
       "                'displayMath': [['$$', '$$'], ['\\[', '\\]']],\n",
       "                'processEscapes': true,\n",
       "                'processEnvironments': true,\n",
       "                'skipTags': ['script', 'noscript', 'style', 'textarea', 'code'],\n",
       "                'displayAlign': 'center',\n",
       "            },\n",
       "            'HTML-CSS': {\n",
       "                'styles': {'.MathJax_Display': {'margin': 0}},\n",
       "                'linebreaks': {'automatic': true},\n",
       "                // Disable to prevent OTF font loading, which aren't part of our\n",
       "                // distribution.\n",
       "                'imageFont': null,\n",
       "            },\n",
       "            'messageStyle': 'none'\n",
       "        });\n",
       "        window.Mathjax.Hub.Configured();\n",
       "    </script>\n",
       "    "
      ],
      "text/plain": [
       "<IPython.core.display.HTML object>"
      ]
     },
     "metadata": {},
     "output_type": "display_data"
    },
    {
     "data": {
      "image/png": "[encoded data removed]",
      "text/latex": [
       "$${\\left|0\\right\\rangle }$$"
      ],
      "text/plain": [
       "❘0⟩"
      ]
     },
     "execution_count": 4,
     "metadata": {},
     "output_type": "execute_result"
    }
   ],
   "source": [
    "psi #ブラケット表示"
   ]
  },
  {
   "cell_type": "code",
   "execution_count": 5,
   "metadata": {
    "colab": {},
    "colab_type": "code",
    "id": "mBiG7DB7jDjE",
    "outputId": "edfa2ecb-75fc-427d-9b30-9f93bddd8d1a"
   },
   "outputs": [
    {
     "data": {
      "text/html": [
       "\n",
       "    <script>\n",
       "        if (!window.MathJax) {\n",
       "            var script = document.createElement(\"script\");\n",
       "            script.src = \"https://colab.research.google.com/static/mathjax/MathJax.js?config=TeX-AMS_HTML-full,Safe\";\n",
       "            document.head.appendChild(script);\n",
       "        }\n",
       "    </script>\n",
       "    <script>\n",
       "        window.Mathjax.Hub.Config({\n",
       "            'tex2jax': {\n",
       "                'inlineMath': [['$', '$'], ['\\(', '\\)']],\n",
       "                'displayMath': [['$$', '$$'], ['\\[', '\\]']],\n",
       "                'processEscapes': true,\n",
       "                'processEnvironments': true,\n",
       "                'skipTags': ['script', 'noscript', 'style', 'textarea', 'code'],\n",
       "                'displayAlign': 'center',\n",
       "            },\n",
       "            'HTML-CSS': {\n",
       "                'styles': {'.MathJax_Display': {'margin': 0}},\n",
       "                'linebreaks': {'automatic': true},\n",
       "                // Disable to prevent OTF font loading, which aren't part of our\n",
       "                // distribution.\n",
       "                'imageFont': null,\n",
       "            },\n",
       "            'messageStyle': 'none'\n",
       "        });\n",
       "        window.Mathjax.Hub.Configured();\n",
       "    </script>\n",
       "    "
      ],
      "text/plain": [
       "<IPython.core.display.HTML object>"
      ]
     },
     "metadata": {},
     "output_type": "display_data"
    },
    {
     "data": {
      "image/png": "[encoded data removed]",
      "text/latex": [
       "$$\\left[\\begin{matrix}1\\\\0\\end{matrix}\\right]$$"
      ],
      "text/plain": [
       "⎡1⎤\n",
       "⎢ ⎥\n",
       "⎣0⎦"
      ]
     },
     "execution_count": 5,
     "metadata": {},
     "output_type": "execute_result"
    }
   ],
   "source": [
    "represent(psi) #列ベクトル表示"
   ]
  },
  {
   "cell_type": "markdown",
   "metadata": {
    "colab_type": "text",
    "id": "5WFFlU7PjDjI"
   },
   "source": [
    "SymPyでは文字をシンボルとして扱うことができるので、一般的な量子ビットも簡単に書ける。"
   ]
  },
  {
   "cell_type": "code",
   "execution_count": 6,
   "metadata": {
    "colab": {},
    "colab_type": "code",
    "id": "rFqkqRPgjDjI",
    "outputId": "a68c9e22-ab40-49c6-98c4-b03d84a28e92"
   },
   "outputs": [
    {
     "data": {
      "text/html": [
       "\n",
       "    <script>\n",
       "        if (!window.MathJax) {\n",
       "            var script = document.createElement(\"script\");\n",
       "            script.src = \"https://colab.research.google.com/static/mathjax/MathJax.js?config=TeX-AMS_HTML-full,Safe\";\n",
       "            document.head.appendChild(script);\n",
       "        }\n",
       "    </script>\n",
       "    <script>\n",
       "        window.Mathjax.Hub.Config({\n",
       "            'tex2jax': {\n",
       "                'inlineMath': [['$', '$'], ['\\(', '\\)']],\n",
       "                'displayMath': [['$$', '$$'], ['\\[', '\\]']],\n",
       "                'processEscapes': true,\n",
       "                'processEnvironments': true,\n",
       "                'skipTags': ['script', 'noscript', 'style', 'textarea', 'code'],\n",
       "                'displayAlign': 'center',\n",
       "            },\n",
       "            'HTML-CSS': {\n",
       "                'styles': {'.MathJax_Display': {'margin': 0}},\n",
       "                'linebreaks': {'automatic': true},\n",
       "                // Disable to prevent OTF font loading, which aren't part of our\n",
       "                // distribution.\n",
       "                'imageFont': null,\n",
       "            },\n",
       "            'messageStyle': 'none'\n",
       "        });\n",
       "        window.Mathjax.Hub.Configured();\n",
       "    </script>\n",
       "    "
      ],
      "text/plain": [
       "<IPython.core.display.HTML object>"
      ]
     },
     "metadata": {},
     "output_type": "display_data"
    },
    {
     "data": {
      "image/png": "[encoded data removed]",
      "text/latex": [
       "$$\\alpha {\\left|0\\right\\rangle } + \\beta {\\left|1\\right\\rangle }$$"
      ],
      "text/plain": [
       "α⋅❘0⟩ + β⋅❘1⟩"
      ]
     },
     "execution_count": 6,
     "metadata": {},
     "output_type": "execute_result"
    }
   ],
   "source": [
    "a, b = symbols('alpha, beta')  #a, bをシンボルとして、alpha, betaとして表示\n",
    "ket0 = Qubit('0')\n",
    "ket1 = Qubit('1')\n",
    "psi = a * ket0 + b* ket1\n",
    "psi # 状態をそのまま書くとケットで表示してくれる"
   ]
  },
  {
   "cell_type": "code",
   "execution_count": 7,
   "metadata": {
    "colab": {},
    "colab_type": "code",
    "id": "dITE71DOjDjM",
    "outputId": "dc31b38a-0c7c-4c74-d700-273442527fb5"
   },
   "outputs": [
    {
     "data": {
      "text/html": [
       "\n",
       "    <script>\n",
       "        if (!window.MathJax) {\n",
       "            var script = document.createElement(\"script\");\n",
       "            script.src = \"https://colab.research.google.com/static/mathjax/MathJax.js?config=TeX-AMS_HTML-full,Safe\";\n",
       "            document.head.appendChild(script);\n",
       "        }\n",
       "    </script>\n",
       "    <script>\n",
       "        window.Mathjax.Hub.Config({\n",
       "            'tex2jax': {\n",
       "                'inlineMath': [['$', '$'], ['\\(', '\\)']],\n",
       "                'displayMath': [['$$', '$$'], ['\\[', '\\]']],\n",
       "                'processEscapes': true,\n",
       "                'processEnvironments': true,\n",
       "                'skipTags': ['script', 'noscript', 'style', 'textarea', 'code'],\n",
       "                'displayAlign': 'center',\n",
       "            },\n",
       "            'HTML-CSS': {\n",
       "                'styles': {'.MathJax_Display': {'margin': 0}},\n",
       "                'linebreaks': {'automatic': true},\n",
       "                // Disable to prevent OTF font loading, which aren't part of our\n",
       "                // distribution.\n",
       "                'imageFont': null,\n",
       "            },\n",
       "            'messageStyle': 'none'\n",
       "        });\n",
       "        window.Mathjax.Hub.Configured();\n",
       "    </script>\n",
       "    "
      ],
      "text/plain": [
       "<IPython.core.display.HTML object>"
      ]
     },
     "metadata": {},
     "output_type": "display_data"
    },
    {
     "data": {
      "image/png": "[encoded data removed]",
      "text/latex": [
       "$$\\left[\\begin{matrix}\\alpha\\\\\\beta\\end{matrix}\\right]$$"
      ],
      "text/plain": [
       "⎡α⎤\n",
       "⎢ ⎥\n",
       "⎣β⎦"
      ]
     },
     "execution_count": 7,
     "metadata": {},
     "output_type": "execute_result"
    }
   ],
   "source": [
    "represent(psi)"
   ]
  },
  {
   "cell_type": "markdown",
   "metadata": {
    "colab_type": "text",
    "id": "suKiATZ5jDjP"
   },
   "source": [
    "もちろん具体的な数値を代入することもできる。"
   ]
  },
  {
   "cell_type": "code",
   "execution_count": 8,
   "metadata": {
    "colab": {},
    "colab_type": "code",
    "id": "55qn4NVHjDjP",
    "outputId": "564385b8-150e-4110-fa37-58134acf3abc",
    "scrolled": true
   },
   "outputs": [
    {
     "data": {
      "text/html": [
       "\n",
       "    <script>\n",
       "        if (!window.MathJax) {\n",
       "            var script = document.createElement(\"script\");\n",
       "            script.src = \"https://colab.research.google.com/static/mathjax/MathJax.js?config=TeX-AMS_HTML-full,Safe\";\n",
       "            document.head.appendChild(script);\n",
       "        }\n",
       "    </script>\n",
       "    <script>\n",
       "        window.Mathjax.Hub.Config({\n",
       "            'tex2jax': {\n",
       "                'inlineMath': [['$', '$'], ['\\(', '\\)']],\n",
       "                'displayMath': [['$$', '$$'], ['\\[', '\\]']],\n",
       "                'processEscapes': true,\n",
       "                'processEnvironments': true,\n",
       "                'skipTags': ['script', 'noscript', 'style', 'textarea', 'code'],\n",
       "                'displayAlign': 'center',\n",
       "            },\n",
       "            'HTML-CSS': {\n",
       "                'styles': {'.MathJax_Display': {'margin': 0}},\n",
       "                'linebreaks': {'automatic': true},\n",
       "                // Disable to prevent OTF font loading, which aren't part of our\n",
       "                // distribution.\n",
       "                'imageFont': null,\n",
       "            },\n",
       "            'messageStyle': 'none'\n",
       "        });\n",
       "        window.Mathjax.Hub.Configured();\n",
       "    </script>\n",
       "    "
      ],
      "text/plain": [
       "<IPython.core.display.HTML object>"
      ]
     },
     "metadata": {},
     "output_type": "display_data"
    },
    {
     "data": {
      "image/png": "[encoded data removed]",
      "text/latex": [
       "$$\\frac{\\sqrt{2} {\\left|0\\right\\rangle }}{2} + \\frac{\\sqrt{2} {\\left|1\\right\\rangle }}{2}$$"
      ],
      "text/plain": [
       "√2⋅❘0⟩   √2⋅❘1⟩\n",
       "────── + ──────\n",
       "  2        2   "
      ]
     },
     "execution_count": 8,
     "metadata": {},
     "output_type": "execute_result"
    }
   ],
   "source": [
    "psi.subs([([a,1/sqrt(2)]),([b,1/sqrt(2)])]) # alpha, betaに具体的な数字を代入"
   ]
  },
  {
   "cell_type": "markdown",
   "metadata": {
    "colab_type": "text",
    "id": "qsfA88EQjDjS"
   },
   "source": [
    "## 1-2. 量子ビットに対する基本演算"
   ]
  },
  {
   "cell_type": "markdown",
   "metadata": {
    "colab_type": "text",
    "id": "-kTiAS2zjDjS"
   },
   "source": [
    "量子ビットについて理解が深まったところで、次に量子ビットに対する演算がどのように表されるかについて見ていこう。\n",
    "これには、量子力学の性質が深く関わっている。\n",
    "\n",
    "1. 線型性：   \n",
    "詳しくは第4章で学ぶのだが、量子力学では状態（量子ビット）の時間変化はつねに（状態の重ね合わせに対して）線型になっている。つまり、**量子コンピュータ上で許された操作は状態ベクトルに対する線型変換**ということになる\n",
    "。１つの量子ビットの量子状態は規格化された２次元複素ベクトルとして表現されるのだったから、\n",
    "１つの量子ビットに対する操作＝線型演算は**$2 \\times 2$の複素行列**によって表現される。\n",
    "\n",
    "2. ユニタリ性：   \n",
    "さらに、確率の合計は常に1であるという規格化条件から、量子操作に表す線形演算（量子演算）に対してさらなる制限を導くことができる。まず、各測定結果を得る確率は複素確率振幅の絶対値の2乗で与えられるので、その合計は状態ベクトルの（自分自身との）内積と一致することに注目する:\n",
    "$$\n",
    "|\\alpha|^2 + |\\beta|^2 =\n",
    "(\\alpha^*, \\beta^*)\n",
    "\\left(\n",
    "\\begin{array}{c}\n",
    "\\alpha \n",
    "\\\\\n",
    "\\beta \n",
    "\\end{array}\n",
    "\\right) = 1.\n",
    "$$\n",
    "（アスタリスク $^*$ は複素共役を表す）   \n",
    " 量子コンピュータで操作した後の状態は、量子演算に対応する線形変換(行列)を$U$とすると、\n",
    "$$\n",
    "U\n",
    "\\left(\n",
    "\\begin{array}{c}\n",
    "\\alpha \n",
    "\\\\\n",
    "\\beta \n",
    "\\end{array}\n",
    "\\right)\n",
    "$$\n",
    "と書ける。この状態についても上記の規格化条件が成り立つ必要があるので、\n",
    "$$\n",
    "(\\alpha^*, \\beta^*)\n",
    "U^\\dagger U\n",
    "\\left(\n",
    "\\begin{array}{c}\n",
    "\\alpha \n",
    "\\\\\n",
    "\\beta \n",
    "\\end{array}\n",
    "\\right) = 1\n",
    "$$\n",
    "が要請される。（ダガー $^\\dagger$ は行列の転置と複素共役を両方適用したものを表し、エルミート共役という）\n",
    "\n",
    " この関係式が任意の$\\alpha$, $\\beta$について成り立つ必要があるので、量子演算$U$は以下の条件を満たす**ユニタリー行列**に対応する:\n",
    "$$\n",
    "U^{\\dagger} U = U U^{\\dagger} = I.\n",
    "$$\n",
    "\n",
    "すなわち、**量子ビットに対する操作は、ユニタリー行列で表される**のである。"
   ]
  },
  {
   "cell_type": "markdown",
   "metadata": {},
   "source": [
    "ここで、用語を整理しておく。量子力学では、状態ベクトルに対する線形変換のことを**演算子** (operator) と呼ぶ。単に演算子という場合は、ユニタリーとは限らない任意の線形変換を指す。それに対して、上記のユニタリー性を満たす線形変換のことを**量子演算** (quantum gate) と呼ぶ。量子演算は、量子状態に対する演算子のうち、（少なくとも理論的には）**物理的に実現可能なもの**と考えることができる。"
   ]
  },
  {
   "cell_type": "markdown",
   "metadata": {
    "colab_type": "text",
    "id": "BCw0oDA2jDjW"
   },
   "source": [
    "### １量子ビット演算の例：パウリ演算子\n",
    "１つの量子ビットに作用する基本的な量子演算として**パウリ演算子**を導入する。\n",
    "これは量子コンピュータを学んでいく上で最も重要な演算子であるので、定義を体に染み込ませておこう。\n",
    "$$\n",
    "\\begin{eqnarray}\n",
    "I&=&\n",
    "\\left(\\begin{array}{cc}\n",
    "1 & 0\n",
    "\\\\\n",
    "0 & 1\n",
    "\\end{array}\n",
    "\\right),\\;\\;\\;\n",
    "X=\n",
    "\\left(\\begin{array}{cc}\n",
    "0 & 1\n",
    "\\\\\n",
    "1 & 0\n",
    "\\end{array}\n",
    "\\right),\\;\\;\\;\n",
    "Y &=&\n",
    "\\left(\\begin{array}{cc}\n",
    "0 & -i\n",
    "\\\\\n",
    "i & 0\n",
    "\\end{array}\n",
    "\\right),\\;\\;\\;\n",
    "Z=\n",
    "\\left(\\begin{array}{cc}\n",
    "1 & 0\n",
    "\\\\\n",
    "0 & -1\n",
    "\\end{array}\n",
    "\\right).\n",
    "\\end{eqnarray}\n",
    "$$\n",
    "\n",
    "各演算子のイメージを説明する。\n",
    "\n",
    "まず、$I$は恒等演算子で、要するに「何もしない」ことを表す。\n",
    "\n",
    "$X$は古典ビットの反転（NOT）に対応し\n",
    "$$X|0\\rangle = |1\\rangle, \\;\\;\n",
    "X|1\\rangle = |0\\rangle\n",
    "$$\n",
    "のように作用する。（※ブラケット表記を用いた。下記コラムも参照。）\n",
    "\n",
    "$Z$演算子は$|0\\rangle$と$|1\\rangle$の位相を反転させる操作で、\n",
    "$$\n",
    "Z|0\\rangle = |0\\rangle, \\;\\;\n",
    "Z|1\\rangle = -|1\\rangle\n",
    "$$\n",
    "と作用する。\n",
    "これは$|0\\rangle$と$|1\\rangle$の重ね合わせの「位相」という情報を保持できる量子コンピュータ特有の演算である。\n",
    "例えば、\n",
    "$$\n",
    "Z \\frac{1}{\\sqrt{2}} ( |0\\rangle + |1\\rangle ) = \\frac{1}{\\sqrt{2}} ( |0\\rangle - |1\\rangle ) \n",
    "$$\n",
    "となる。\n",
    "\n",
    "$Y$演算子は$Y=iXZ$と書け、\n",
    "位相の反転とビットの反転を組み合わせたもの（全体にかかる複素数$i$を除いて）であると考えることができる。\n",
    "\n",
    "(詳細は Nielsen-Chuang の `1.3.1 Single qubit gates` を参照)"
   ]
  },
  {
   "cell_type": "markdown",
   "metadata": {
    "colab_type": "text",
    "id": "xDZ-Dd29jDjY"
   },
   "source": [
    "### SymPyを用いた一量子ビット演算\n",
    "SymPyではよく使う基本演算はあらかじめ定義されている。"
   ]
  },
  {
   "cell_type": "code",
   "execution_count": 9,
   "metadata": {
    "colab": {},
    "colab_type": "code",
    "id": "429oA41QjDjY"
   },
   "outputs": [
    {
     "data": {
      "text/html": [
       "\n",
       "    <script>\n",
       "        if (!window.MathJax) {\n",
       "            var script = document.createElement(\"script\");\n",
       "            script.src = \"https://colab.research.google.com/static/mathjax/MathJax.js?config=TeX-AMS_HTML-full,Safe\";\n",
       "            document.head.appendChild(script);\n",
       "        }\n",
       "    </script>\n",
       "    <script>\n",
       "        window.Mathjax.Hub.Config({\n",
       "            'tex2jax': {\n",
       "                'inlineMath': [['$', '$'], ['\\(', '\\)']],\n",
       "                'displayMath': [['$$', '$$'], ['\\[', '\\]']],\n",
       "                'processEscapes': true,\n",
       "                'processEnvironments': true,\n",
       "                'skipTags': ['script', 'noscript', 'style', 'textarea', 'code'],\n",
       "                'displayAlign': 'center',\n",
       "            },\n",
       "            'HTML-CSS': {\n",
       "                'styles': {'.MathJax_Display': {'margin': 0}},\n",
       "                'linebreaks': {'automatic': true},\n",
       "                // Disable to prevent OTF font loading, which aren't part of our\n",
       "                // distribution.\n",
       "                'imageFont': null,\n",
       "            },\n",
       "            'messageStyle': 'none'\n",
       "        });\n",
       "        window.Mathjax.Hub.Configured();\n",
       "    </script>\n",
       "    "
      ],
      "text/plain": [
       "<IPython.core.display.HTML object>"
      ]
     },
     "metadata": {},
     "output_type": "display_data"
    }
   ],
   "source": [
    "from sympy.physics.quantum.gate import X,Y,Z,H,S,T,CNOT,SWAP, CPHASE"
   ]
  },
  {
   "cell_type": "markdown",
   "metadata": {
    "colab_type": "text",
    "id": "iTzqkUUHjDjb"
   },
   "source": [
    "演算子は何番目の量子ビットに作用するか、\n",
    "というのを指定して `X(0)` のように定義する。\n",
    "また、これを行列表示するときには、いくつの量子ビットの空間で表現するか \n",
    "`nqubits`というのを指定する必要がある。\n",
    "まだ、量子ビットは１つしかいないので、\n",
    "`X(0)`、`nqubits=1`としておこう。"
   ]
  },
  {
   "cell_type": "code",
   "execution_count": 10,
   "metadata": {
    "colab": {},
    "colab_type": "code",
    "id": "Z17Vx3EZjDjc",
    "outputId": "4a0298a1-c6c0-417c-9f08-c2dc8f21da79"
   },
   "outputs": [
    {
     "data": {
      "text/html": [
       "\n",
       "    <script>\n",
       "        if (!window.MathJax) {\n",
       "            var script = document.createElement(\"script\");\n",
       "            script.src = \"https://colab.research.google.com/static/mathjax/MathJax.js?config=TeX-AMS_HTML-full,Safe\";\n",
       "            document.head.appendChild(script);\n",
       "        }\n",
       "    </script>\n",
       "    <script>\n",
       "        window.Mathjax.Hub.Config({\n",
       "            'tex2jax': {\n",
       "                'inlineMath': [['$', '$'], ['\\(', '\\)']],\n",
       "                'displayMath': [['$$', '$$'], ['\\[', '\\]']],\n",
       "                'processEscapes': true,\n",
       "                'processEnvironments': true,\n",
       "                'skipTags': ['script', 'noscript', 'style', 'textarea', 'code'],\n",
       "                'displayAlign': 'center',\n",
       "            },\n",
       "            'HTML-CSS': {\n",
       "                'styles': {'.MathJax_Display': {'margin': 0}},\n",
       "                'linebreaks': {'automatic': true},\n",
       "                // Disable to prevent OTF font loading, which aren't part of our\n",
       "                // distribution.\n",
       "                'imageFont': null,\n",
       "            },\n",
       "            'messageStyle': 'none'\n",
       "        });\n",
       "        window.Mathjax.Hub.Configured();\n",
       "    </script>\n",
       "    "
      ],
      "text/plain": [
       "<IPython.core.display.HTML object>"
      ]
     },
     "metadata": {},
     "output_type": "display_data"
    },
    {
     "data": {
      "image/png": "[encoded data removed]",
      "text/latex": [
       "$$X_{0}$$"
      ],
      "text/plain": [
       "X \n",
       " 0"
      ]
     },
     "execution_count": 10,
     "metadata": {},
     "output_type": "execute_result"
    }
   ],
   "source": [
    "X(0)"
   ]
  },
  {
   "cell_type": "code",
   "execution_count": 11,
   "metadata": {
    "colab": {},
    "colab_type": "code",
    "id": "M5-QaSjVjDjh",
    "outputId": "62f03195-21d1-42d6-f8e1-e0be2935736f"
   },
   "outputs": [
    {
     "data": {
      "text/html": [
       "\n",
       "    <script>\n",
       "        if (!window.MathJax) {\n",
       "            var script = document.createElement(\"script\");\n",
       "            script.src = \"https://colab.research.google.com/static/mathjax/MathJax.js?config=TeX-AMS_HTML-full,Safe\";\n",
       "            document.head.appendChild(script);\n",
       "        }\n",
       "    </script>\n",
       "    <script>\n",
       "        window.Mathjax.Hub.Config({\n",
       "            'tex2jax': {\n",
       "                'inlineMath': [['$', '$'], ['\\(', '\\)']],\n",
       "                'displayMath': [['$$', '$$'], ['\\[', '\\]']],\n",
       "                'processEscapes': true,\n",
       "                'processEnvironments': true,\n",
       "                'skipTags': ['script', 'noscript', 'style', 'textarea', 'code'],\n",
       "                'displayAlign': 'center',\n",
       "            },\n",
       "            'HTML-CSS': {\n",
       "                'styles': {'.MathJax_Display': {'margin': 0}},\n",
       "                'linebreaks': {'automatic': true},\n",
       "                // Disable to prevent OTF font loading, which aren't part of our\n",
       "                // distribution.\n",
       "                'imageFont': null,\n",
       "            },\n",
       "            'messageStyle': 'none'\n",
       "        });\n",
       "        window.Mathjax.Hub.Configured();\n",
       "    </script>\n",
       "    "
      ],
      "text/plain": [
       "<IPython.core.display.HTML object>"
      ]
     },
     "metadata": {},
     "output_type": "display_data"
    },
    {
     "data": {
      "image/png": "[encoded data removed]",
      "text/latex": [
       "$$\\left[\\begin{matrix}0 & 1\\\\1 & 0\\end{matrix}\\right]$$"
      ],
      "text/plain": [
       "⎡0  1⎤\n",
       "⎢    ⎥\n",
       "⎣1  0⎦"
      ]
     },
     "execution_count": 11,
     "metadata": {},
     "output_type": "execute_result"
    }
   ],
   "source": [
    "represent(X(0),nqubits=1)  # パウリX"
   ]
  },
  {
   "cell_type": "markdown",
   "metadata": {
    "colab_type": "text",
    "id": "wYqb2xMTjDjl"
   },
   "source": [
    "同様に、`Y`, `Z`なども利用することができる。それに加え、アダマール演算 `H` や、位相演算 `S`、そして$\\pi/4$の位相演算 `T` も利用することができる（これらもよく出てくる演算で、定義は各行列を見てほしい）："
   ]
  },
  {
   "cell_type": "code",
   "execution_count": 12,
   "metadata": {
    "colab": {},
    "colab_type": "code",
    "id": "GoetLCZMjDjm",
    "outputId": "0d419848-4d69-4649-c348-0e0c8edf8f71"
   },
   "outputs": [
    {
     "data": {
      "text/html": [
       "\n",
       "    <script>\n",
       "        if (!window.MathJax) {\n",
       "            var script = document.createElement(\"script\");\n",
       "            script.src = \"https://colab.research.google.com/static/mathjax/MathJax.js?config=TeX-AMS_HTML-full,Safe\";\n",
       "            document.head.appendChild(script);\n",
       "        }\n",
       "    </script>\n",
       "    <script>\n",
       "        window.Mathjax.Hub.Config({\n",
       "            'tex2jax': {\n",
       "                'inlineMath': [['$', '$'], ['\\(', '\\)']],\n",
       "                'displayMath': [['$$', '$$'], ['\\[', '\\]']],\n",
       "                'processEscapes': true,\n",
       "                'processEnvironments': true,\n",
       "                'skipTags': ['script', 'noscript', 'style', 'textarea', 'code'],\n",
       "                'displayAlign': 'center',\n",
       "            },\n",
       "            'HTML-CSS': {\n",
       "                'styles': {'.MathJax_Display': {'margin': 0}},\n",
       "                'linebreaks': {'automatic': true},\n",
       "                // Disable to prevent OTF font loading, which aren't part of our\n",
       "                // distribution.\n",
       "                'imageFont': null,\n",
       "            },\n",
       "            'messageStyle': 'none'\n",
       "        });\n",
       "        window.Mathjax.Hub.Configured();\n",
       "    </script>\n",
       "    "
      ],
      "text/plain": [
       "<IPython.core.display.HTML object>"
      ]
     },
     "metadata": {},
     "output_type": "display_data"
    },
    {
     "data": {
      "image/png": "[encoded data removed]",
      "text/latex": [
       "$$\\left[\\begin{matrix}\\frac{1}{\\sqrt{2}} & \\frac{1}{\\sqrt{2}}\\\\\\frac{1}{\\sqrt{2}} & - \\frac{\\sqrt{2}}{2}\\end{matrix}\\right]$$"
      ],
      "text/plain": [
       "⎡1    1  ⎤\n",
       "⎢──   ── ⎥\n",
       "⎢√2   √2 ⎥\n",
       "⎢        ⎥\n",
       "⎢1   -√2 ⎥\n",
       "⎢──  ────⎥\n",
       "⎣√2   2  ⎦"
      ]
     },
     "execution_count": 12,
     "metadata": {},
     "output_type": "execute_result"
    }
   ],
   "source": [
    "represent(H(0),nqubits=1)"
   ]
  },
  {
   "cell_type": "code",
   "execution_count": 13,
   "metadata": {
    "colab": {},
    "colab_type": "code",
    "id": "KHlhSKyAjDjp",
    "outputId": "718387c4-d682-435e-c0f6-e00a2d512f40"
   },
   "outputs": [
    {
     "data": {
      "text/html": [
       "\n",
       "    <script>\n",
       "        if (!window.MathJax) {\n",
       "            var script = document.createElement(\"script\");\n",
       "            script.src = \"https://colab.research.google.com/static/mathjax/MathJax.js?config=TeX-AMS_HTML-full,Safe\";\n",
       "            document.head.appendChild(script);\n",
       "        }\n",
       "    </script>\n",
       "    <script>\n",
       "        window.Mathjax.Hub.Config({\n",
       "            'tex2jax': {\n",
       "                'inlineMath': [['$', '$'], ['\\(', '\\)']],\n",
       "                'displayMath': [['$$', '$$'], ['\\[', '\\]']],\n",
       "                'processEscapes': true,\n",
       "                'processEnvironments': true,\n",
       "                'skipTags': ['script', 'noscript', 'style', 'textarea', 'code'],\n",
       "                'displayAlign': 'center',\n",
       "            },\n",
       "            'HTML-CSS': {\n",
       "                'styles': {'.MathJax_Display': {'margin': 0}},\n",
       "                'linebreaks': {'automatic': true},\n",
       "                // Disable to prevent OTF font loading, which aren't part of our\n",
       "                // distribution.\n",
       "                'imageFont': null,\n",
       "            },\n",
       "            'messageStyle': 'none'\n",
       "        });\n",
       "        window.Mathjax.Hub.Configured();\n",
       "    </script>\n",
       "    "
      ],
      "text/plain": [
       "<IPython.core.display.HTML object>"
      ]
     },
     "metadata": {},
     "output_type": "display_data"
    },
    {
     "data": {
      "image/png": "[encoded data removed]",
      "text/latex": [
       "$$\\left[\\begin{matrix}1 & 0\\\\0 & i\\end{matrix}\\right]$$"
      ],
      "text/plain": [
       "⎡1  0⎤\n",
       "⎢    ⎥\n",
       "⎣0  ⅈ⎦"
      ]
     },
     "execution_count": 13,
     "metadata": {},
     "output_type": "execute_result"
    }
   ],
   "source": [
    "represent(S(0),nqubits=1)"
   ]
  },
  {
   "cell_type": "code",
   "execution_count": 14,
   "metadata": {
    "colab": {},
    "colab_type": "code",
    "id": "JY4XPi5-jDjt",
    "outputId": "17949ae7-7d91-4070-a5dc-a6438a933f1e"
   },
   "outputs": [
    {
     "data": {
      "text/html": [
       "\n",
       "    <script>\n",
       "        if (!window.MathJax) {\n",
       "            var script = document.createElement(\"script\");\n",
       "            script.src = \"https://colab.research.google.com/static/mathjax/MathJax.js?config=TeX-AMS_HTML-full,Safe\";\n",
       "            document.head.appendChild(script);\n",
       "        }\n",
       "    </script>\n",
       "    <script>\n",
       "        window.Mathjax.Hub.Config({\n",
       "            'tex2jax': {\n",
       "                'inlineMath': [['$', '$'], ['\\(', '\\)']],\n",
       "                'displayMath': [['$$', '$$'], ['\\[', '\\]']],\n",
       "                'processEscapes': true,\n",
       "                'processEnvironments': true,\n",
       "                'skipTags': ['script', 'noscript', 'style', 'textarea', 'code'],\n",
       "                'displayAlign': 'center',\n",
       "            },\n",
       "            'HTML-CSS': {\n",
       "                'styles': {'.MathJax_Display': {'margin': 0}},\n",
       "                'linebreaks': {'automatic': true},\n",
       "                // Disable to prevent OTF font loading, which aren't part of our\n",
       "                // distribution.\n",
       "                'imageFont': null,\n",
       "            },\n",
       "            'messageStyle': 'none'\n",
       "        });\n",
       "        window.Mathjax.Hub.Configured();\n",
       "    </script>\n",
       "    "
      ],
      "text/plain": [
       "<IPython.core.display.HTML object>"
      ]
     },
     "metadata": {},
     "output_type": "display_data"
    },
    {
     "data": {
      "image/png": "[encoded data removed]",
      "text/latex": [
       "$$\\left[\\begin{matrix}1 & 0\\\\0 & e^{\\frac{i \\pi}{4}}\\end{matrix}\\right]$$"
      ],
      "text/plain": [
       "⎡1   0  ⎤\n",
       "⎢       ⎥\n",
       "⎢    ⅈ⋅π⎥\n",
       "⎢    ───⎥\n",
       "⎢     4 ⎥\n",
       "⎣0  ℯ   ⎦"
      ]
     },
     "execution_count": 14,
     "metadata": {},
     "output_type": "execute_result"
    }
   ],
   "source": [
    "represent(T(0),nqubits=1)"
   ]
  },
  {
   "cell_type": "markdown",
   "metadata": {
    "colab_type": "text",
    "id": "WHJnjJlUjDjw"
   },
   "source": [
    "これらの演算を状態に作用させるのは、"
   ]
  },
  {
   "cell_type": "code",
   "execution_count": 15,
   "metadata": {
    "colab": {},
    "colab_type": "code",
    "id": "PDa71nXCjDjw",
    "outputId": "c10c626d-5fd4-453a-fc96-d3d77bcbdfa6"
   },
   "outputs": [
    {
     "data": {
      "text/html": [
       "\n",
       "    <script>\n",
       "        if (!window.MathJax) {\n",
       "            var script = document.createElement(\"script\");\n",
       "            script.src = \"https://colab.research.google.com/static/mathjax/MathJax.js?config=TeX-AMS_HTML-full,Safe\";\n",
       "            document.head.appendChild(script);\n",
       "        }\n",
       "    </script>\n",
       "    <script>\n",
       "        window.Mathjax.Hub.Config({\n",
       "            'tex2jax': {\n",
       "                'inlineMath': [['$', '$'], ['\\(', '\\)']],\n",
       "                'displayMath': [['$$', '$$'], ['\\[', '\\]']],\n",
       "                'processEscapes': true,\n",
       "                'processEnvironments': true,\n",
       "                'skipTags': ['script', 'noscript', 'style', 'textarea', 'code'],\n",
       "                'displayAlign': 'center',\n",
       "            },\n",
       "            'HTML-CSS': {\n",
       "                'styles': {'.MathJax_Display': {'margin': 0}},\n",
       "                'linebreaks': {'automatic': true},\n",
       "                // Disable to prevent OTF font loading, which aren't part of our\n",
       "                // distribution.\n",
       "                'imageFont': null,\n",
       "            },\n",
       "            'messageStyle': 'none'\n",
       "        });\n",
       "        window.Mathjax.Hub.Configured();\n",
       "    </script>\n",
       "    "
      ],
      "text/plain": [
       "<IPython.core.display.HTML object>"
      ]
     },
     "metadata": {},
     "output_type": "display_data"
    },
    {
     "data": {
      "image/png": "[encoded data removed]",
      "text/latex": [
       "$$S_{0} Y_{0} X_{0} H_{0} {\\left|0\\right\\rangle }$$"
      ],
      "text/plain": [
       "S ⋅Y ⋅X ⋅H ⋅❘0⟩\n",
       " 0  0  0  0    "
      ]
     },
     "execution_count": 15,
     "metadata": {},
     "output_type": "execute_result"
    }
   ],
   "source": [
    "S(0)*Y(0)*X(0)*H(0)*ket0"
   ]
  },
  {
   "cell_type": "markdown",
   "metadata": {
    "colab_type": "text",
    "id": "fC08tDbvjDjy"
   },
   "source": [
    "のように `*`で書くことができる。実際に計算をする場合は `qapply()`を利用する。"
   ]
  },
  {
   "cell_type": "code",
   "execution_count": 16,
   "metadata": {
    "colab": {},
    "colab_type": "code",
    "id": "lJvga4X4jDj5",
    "outputId": "372213bc-d074-44c8-b1ea-0c635a8c5acb"
   },
   "outputs": [
    {
     "data": {
      "text/html": [
       "\n",
       "    <script>\n",
       "        if (!window.MathJax) {\n",
       "            var script = document.createElement(\"script\");\n",
       "            script.src = \"https://colab.research.google.com/static/mathjax/MathJax.js?config=TeX-AMS_HTML-full,Safe\";\n",
       "            document.head.appendChild(script);\n",
       "        }\n",
       "    </script>\n",
       "    <script>\n",
       "        window.Mathjax.Hub.Config({\n",
       "            'tex2jax': {\n",
       "                'inlineMath': [['$', '$'], ['\\(', '\\)']],\n",
       "                'displayMath': [['$$', '$$'], ['\\[', '\\]']],\n",
       "                'processEscapes': true,\n",
       "                'processEnvironments': true,\n",
       "                'skipTags': ['script', 'noscript', 'style', 'textarea', 'code'],\n",
       "                'displayAlign': 'center',\n",
       "            },\n",
       "            'HTML-CSS': {\n",
       "                'styles': {'.MathJax_Display': {'margin': 0}},\n",
       "                'linebreaks': {'automatic': true},\n",
       "                // Disable to prevent OTF font loading, which aren't part of our\n",
       "                // distribution.\n",
       "                'imageFont': null,\n",
       "            },\n",
       "            'messageStyle': 'none'\n",
       "        });\n",
       "        window.Mathjax.Hub.Configured();\n",
       "    </script>\n",
       "    "
      ],
      "text/plain": [
       "<IPython.core.display.HTML object>"
      ]
     },
     "metadata": {},
     "output_type": "display_data"
    },
    {
     "data": {
      "image/png": "[encoded data removed]",
      "text/latex": [
       "$$- \\frac{\\sqrt{2} i {\\left|0\\right\\rangle }}{2} - \\frac{\\sqrt{2} {\\left|1\\right\\rangle }}{2}$$"
      ],
      "text/plain": [
       "  √2⋅ⅈ⋅❘0⟩   √2⋅❘1⟩\n",
       "- ──────── - ──────\n",
       "     2         2   "
      ]
     },
     "execution_count": 16,
     "metadata": {},
     "output_type": "execute_result"
    }
   ],
   "source": [
    "qapply(S(0)*Y(0)*X(0)*H(0)*ket0)"
   ]
  },
  {
   "cell_type": "markdown",
   "metadata": {
    "colab_type": "text",
    "id": "kl_ZWf5sjDj6"
   },
   "source": [
    "この列ベクトル表示が必要な場合は、"
   ]
  },
  {
   "cell_type": "code",
   "execution_count": 17,
   "metadata": {
    "colab": {},
    "colab_type": "code",
    "id": "FrP7AO4XjDj6",
    "outputId": "8b5b8ca1-0082-4dca-a017-6b01caac9efb"
   },
   "outputs": [
    {
     "data": {
      "text/html": [
       "\n",
       "    <script>\n",
       "        if (!window.MathJax) {\n",
       "            var script = document.createElement(\"script\");\n",
       "            script.src = \"https://colab.research.google.com/static/mathjax/MathJax.js?config=TeX-AMS_HTML-full,Safe\";\n",
       "            document.head.appendChild(script);\n",
       "        }\n",
       "    </script>\n",
       "    <script>\n",
       "        window.Mathjax.Hub.Config({\n",
       "            'tex2jax': {\n",
       "                'inlineMath': [['$', '$'], ['\\(', '\\)']],\n",
       "                'displayMath': [['$$', '$$'], ['\\[', '\\]']],\n",
       "                'processEscapes': true,\n",
       "                'processEnvironments': true,\n",
       "                'skipTags': ['script', 'noscript', 'style', 'textarea', 'code'],\n",
       "                'displayAlign': 'center',\n",
       "            },\n",
       "            'HTML-CSS': {\n",
       "                'styles': {'.MathJax_Display': {'margin': 0}},\n",
       "                'linebreaks': {'automatic': true},\n",
       "                // Disable to prevent OTF font loading, which aren't part of our\n",
       "                // distribution.\n",
       "                'imageFont': null,\n",
       "            },\n",
       "            'messageStyle': 'none'\n",
       "        });\n",
       "        window.Mathjax.Hub.Configured();\n",
       "    </script>\n",
       "    "
      ],
      "text/plain": [
       "<IPython.core.display.HTML object>"
      ]
     },
     "metadata": {},
     "output_type": "display_data"
    },
    {
     "data": {
      "image/png": "[encoded data removed]",
      "text/latex": [
       "$$\\left[\\begin{matrix}- \\frac{\\sqrt{2} i}{2}\\\\- \\frac{\\sqrt{2}}{2}\\end{matrix}\\right]$$"
      ],
      "text/plain": [
       "⎡-√2⋅ⅈ ⎤\n",
       "⎢──────⎥\n",
       "⎢  2   ⎥\n",
       "⎢      ⎥\n",
       "⎢ -√2  ⎥\n",
       "⎢ ──── ⎥\n",
       "⎣  2   ⎦"
      ]
     },
     "execution_count": 17,
     "metadata": {},
     "output_type": "execute_result"
    }
   ],
   "source": [
    "represent(qapply(S(0)*Y(0)*X(0)*H(0)*ket0))"
   ]
  },
  {
   "cell_type": "markdown",
   "metadata": {
    "colab_type": "text",
    "id": "Q0WS2GgrjDj8"
   },
   "source": [
    "のような感じで、SymPyは簡単な行列の計算はすべて自動的にやってくれる。"
   ]
  },
  {
   "cell_type": "markdown",
   "metadata": {
    "colab_type": "text",
    "id": "00CSXe8hjDj9"
   },
   "source": [
    "---\n",
    "### コラム：ブラケット記法\n",
    "ここで一旦、量子力学でよく用いられるブラケット記法というものについて整理しておく。ブラケット記法に慣れると非常に簡単に見通しよく計算を行うことができる。      \n",
    "\n",
    "列ベクトルは \n",
    "$$\n",
    "|\\psi \\rangle = \\left( \n",
    "\\begin{array}{c}\n",
    "\\alpha\n",
    "\\\\\n",
    "\\beta \n",
    "\\end{array}\n",
    "\\right)\n",
    "$$\n",
    "とかくのであった。これを**ケット**と呼ぶ。同様に、行ベクトルは\n",
    "$$\n",
    "\\langle \\psi | = ( |\\psi \\rangle ) ^{\\dagger} = ( \\alpha ^* , \\beta ^*)\n",
    "$$\n",
    "とかき、これを**ブラ**と呼ぶ。${\\dagger}$マークは転置と複素共役を取る操作で、列ベクトルを行ベクトルへと移す。\n",
    "\n",
    "２つのベクトル、\n",
    "$$\n",
    "|\\psi \\rangle = \\left( \n",
    "\\begin{array}{c}\n",
    "\\alpha\n",
    "\\\\\n",
    "\\beta \n",
    "\\end{array}\n",
    "\\right), \\;\\;\\;\n",
    "|\\phi \\rangle = \\left( \n",
    "\\begin{array}{c}\n",
    "\\gamma\n",
    "\\\\\n",
    "\\delta\n",
    "\\end{array}\n",
    "\\right)\n",
    "$$\n",
    "があったとする。ブラとケットを抱き合わせると\n",
    "$$\n",
    "\\langle \\phi | \\psi \\rangle = (\\gamma ^* , \\delta ^* ) \\left( \n",
    "\\begin{array}{c}\n",
    "\\alpha\n",
    "\\\\\n",
    "\\beta \n",
    "\\end{array}\n",
    "\\right) = \\gamma ^* \\alpha + \\delta ^* \\beta \n",
    "$$\n",
    "となり、**内積**に対応する。行ベクトルと列ベクトルをそれぞれブラ・ケットと呼ぶのは、このように並べて内積を取ると「ブラケット」になるからである。\n",
    "\n",
    "逆に、背中合わせにすると\n",
    "$$\n",
    "|\\phi \\rangle \\langle \\psi | = \\left( \n",
    "\\begin{array}{c}\n",
    "\\gamma\n",
    "\\\\\n",
    "\\delta\n",
    "\\end{array}\n",
    "\\right) (\\alpha ^* , \\beta ^*) = \\left( \n",
    "\\begin{array}{cc}\n",
    "\\gamma \\alpha ^*  & \\gamma \\beta ^* \n",
    "\\\\\n",
    "\\delta \\alpha ^*   & \\delta \\beta ^*\n",
    "\\end{array}\n",
    "\\right)\n",
    "$$\n",
    "となり、演算子となる。例えば、$X$演算子は\n",
    "$$\n",
    "X= \\left( \n",
    "\\begin{array}{cc}\n",
    "0 & 1 \n",
    "\\\\\n",
    "1 & 0 \n",
    "\\end{array}\n",
    "\\right)\n",
    "=\n",
    "|0\\rangle \\langle 1 | + |1\\rangle \\langle 0|\n",
    "$$\n",
    "のように書ける。このことを覚えておけば\n",
    "$$\n",
    "\\langle 0| 0\\rangle = \\langle 1 | 1\\rangle = 1, \\;\\;\\; \\langle 0 | 1 \\rangle = \\langle 1 | 0 \\rangle = 0\n",
    "$$\n",
    "から \n",
    "$$\n",
    "X |0\\rangle = |1\\rangle\n",
    "$$\n",
    "を行列を書かずに計算できるようになる。   \n",
    "**量子情報の解析計算においては、実際にベクトルの要素を書き下して計算をすることはほとんどなく、このようにブラケットを使って形式的に書いて計算してしまう場合が多い**（古典計算機上で量子コンピュータをシミュレーションする場合はベクトルをすべて書き下すことになる）。\n",
    "\n",
    "同様に、\n",
    "$$\n",
    "I = |0\\rangle \\langle 0 | + |1\\rangle \\langle 1| , \\;\\;\\; Z = |0\\rangle \\langle 0| - |1\\rangle \\langle 1| \n",
    "$$\n",
    "も覚えておくと便利である。\n",
    "\n",
    "---"
   ]
  },
  {
   "cell_type": "markdown",
   "metadata": {
    "colab_type": "text",
    "id": "S5qw4OA_jDj9"
   },
   "source": [
    "## 1-3. 複数量子ビットの記述"
   ]
  },
  {
   "cell_type": "markdown",
   "metadata": {
    "colab_type": "text",
    "id": "zZZSlrM5jDj-"
   },
   "source": [
    "ここまでは１量子ビットの状態とその操作（演算）の記述について学んできた。この章の締めくくりとして、$n$個の量子ビットがある場合の状態の記述について学んでいこう。テンソル積がたくさん出てきてややこしいが、コードをいじりながら身につけていってほしい。\n",
    "\n",
    "$n$個の_古典_ビットの状態は$n$個の$0,1$の数字によって表現され、そのパターンの総数は$2^n$個ある。\n",
    "量子力学では、これらすべてのパターンの重ね合わせ状態が許されているので、$n$個の_量子_ビットの状態$|\\psi \\rangle$はどのビット列がどのような重みで重ね合わせになっているかという$2^n$個の複素確率振幅で記述される：\n",
    "$$\n",
    "\\begin{eqnarray}\n",
    "|\\psi \\rangle &= & \n",
    "c_{00...0} |00...0\\rangle +\n",
    "c_{00...1} |00...1\\rangle + \\cdots +\n",
    "c_{11...1} |11...1\\rangle =\n",
    "\\left(\n",
    "\\begin{array}{c}\n",
    "c_{00...0}\n",
    "\\\\\n",
    "c_{00...1}\n",
    "\\\\\n",
    "\\vdots\n",
    "\\\\\n",
    "c_{11...1}\n",
    "\\end{array}\n",
    "\\right).\n",
    "\\end{eqnarray}\n",
    "$$\n",
    "ただし、\n",
    "複素確率振幅は規格化\n",
    "$\\sum _{i_1,..., i_n} |c_{i_1...i_n}|^2=1$\n",
    "されているものとする。  \n",
    "そして、この$n$量子ビットの量子状態を測定すると\n",
    "ビット列$i_1 ... i_n$が確率\n",
    "$$\n",
    "\\begin{eqnarray}\n",
    "p_{i_1 ... i_n} &=&|c_{i_1 ... i_n}|^2\n",
    "\\label{eq02}\n",
    "\\end{eqnarray}\n",
    "$$\n",
    "でランダムに得られ、測定後の状態は$|i_1 \\dotsc i_n\\rangle$となる。\n",
    "\n",
    "\n",
    "**このように$n$量子ビットの状態は、\n",
    "$n$に対して指数的に大きい$2^n$次元の\n",
    "複素ベクトルで記述する必要があり、\n",
    "ここに古典ビットと量子ビットの違いが顕著に現れる**。\n",
    "そして、$n$量子ビット系に対する操作は$2^n \\times 2^n$次元のユニタリ行列として表される。   \n",
    "言ってしまえば、量子コンピュータとは、量子ビット数に対して指数的なサイズの複素ベクトルを、物理法則に従ってユニタリ変換するコンピュータのことなのである。\n",
    "\n",
    "※ここで、複数量子ビットの順番と表記の関係について注意しておく。状態をケットで記述する際に、「1番目」の量子ビット、「2番目」の量子ビット、……の状態に対応する0と1を左から順番に並べて表記した。例えば$|011\\rangle$と書けば、1番目の量子ビットが0、2番目の量子ビットが1、3番目の量子ビットが1である状態を表す。一方、例えば011を2進数の表記と見た場合、上位ビットが左、下位ビットが右となることに注意しよう。すなわち、一番左の0は最上位ビットであって$2^2$の位に対応し、真ん中の1は$2^1$の位、一番右の1は最下位ビットであって$2^0=1$の位に対応する。つまり、「$i$番目」の量子ビットは、$n$桁の2進数表記の$n-i+1$桁目に対応している。このことは、SymPyなどのパッケージで複数量子ビットを扱う際に気を付ける必要がある（下記「SymPyを用いた演算子のテンソル積」も参照）。\n",
    "\n",
    "(詳細は Nielsen-Chuang の `1.2.1 Multiple qbits` を参照)"
   ]
  },
  {
   "cell_type": "markdown",
   "metadata": {
    "colab_type": "text",
    "id": "SYOr7Bq6jDj-"
   },
   "source": [
    "### 例：2量子ビットの場合\n",
    "2量子ビットの場合は、 00, 01, 10, 11 の４通りの状態の重ね合わせをとりうるので、その状態は一般的に\n",
    "$$\n",
    "c_{00} |00\\rangle + c_{01} |01\\rangle + c_{10}|10\\rangle + c_{11} |11\\rangle  = \n",
    "\\left( \n",
    "\\begin{array}{c}\n",
    "c_{00}\n",
    "\\\\\n",
    "c_{01}\n",
    "\\\\\n",
    "c_{10}\n",
    "\\\\\n",
    "c_{11}\n",
    "\\end{array}\n",
    "\\right)\n",
    "$$\n",
    "とかける。"
   ]
  },
  {
   "cell_type": "markdown",
   "metadata": {
    "colab_type": "text",
    "id": "4y2RvAV_jDj_"
   },
   "source": [
    "一方、2量子ビットに対する演算は$4 \\times 4$行列で書け、4行4列の行列成分はそれぞれ$|00\\rangle,|01\\rangle,|10\\rangle, |01\\rangle$に対応する。    \n",
    "このような2量子ビットに作用する演算としてもっとも重要なのが**制御NOT演算（CNOT演算）**であり、\n",
    "行列表示では\n",
    "$$\n",
    "\\begin{eqnarray}\n",
    "\\Lambda(X) =\n",
    "\\left(\n",
    "\\begin{array}{cccc}\n",
    "1 & 0 & 0& 0\n",
    "\\\\\n",
    "0 & 1 & 0& 0\n",
    "\\\\\n",
    "0 & 0 & 0 & 1\n",
    "\\\\\n",
    "0 & 0 & 1& 0\n",
    "\\end{array}\n",
    "\\right)\n",
    "\\end{eqnarray}\n",
    "$$\n",
    "となる。    \n",
    "CNOT演算が2つの量子ビットにどのように作用するか見てみよう。まず、1つ目の量子ビットが$|0\\rangle$の場合、$c_{10} = c_{11} = 0$なので、\n",
    "$$\n",
    "\\Lambda(X)\n",
    "\\left(\n",
    "\\begin{array}{c}\n",
    "c_{00}\\\\\n",
    "c_{01}\\\\\n",
    "0\\\\\n",
    "0\n",
    "\\end{array}\n",
    "\\right) =\n",
    "\\left(\n",
    "\\begin{array}{c}\n",
    "c_{00}\\\\\n",
    "c_{01}\\\\\n",
    "0\\\\\n",
    "0\n",
    "\\end{array}\n",
    "\\right)\n",
    "$$\n",
    "となり、状態は変化しない。一方、1つ目の量子ビットが$|1\\rangle$の場合、$c_{00} = c_{01} = 0$なので、\n",
    "$$\n",
    "\\Lambda(X)\n",
    "\\left(\n",
    "\\begin{array}{c}\n",
    "0\\\\\n",
    "0\\\\\n",
    "c_{10}\\\\\n",
    "c_{11}\n",
    "\\end{array}\n",
    "\\right) =\n",
    "\\left(\n",
    "\\begin{array}{c}\n",
    "0\\\\\n",
    "0\\\\\n",
    "c_{11}\\\\\n",
    "c_{10}\n",
    "\\end{array}\n",
    "\\right)\n",
    "$$\n",
    "となり、$|10\\rangle$と$|11\\rangle$の確率振幅が入れ替わる。すなわち、2つ目の量子ビットが反転している。\n",
    "\n",
    "つまり、CNOT演算は１つ目の量子ビットをそのままに保ちつつ、\n",
    "\n",
    "- １つ目の量子ビットが$|0\\rangle$の場合は、２つ目の量子ビットにも何もしない（恒等演算$I$が作用）\n",
    "- １つ目の量子ビットが$|1\\rangle$の場合は、２つ目の量子ビットを反転させる（$X$が作用）\n",
    "\n",
    "という効果を持つ。\n",
    "そこで、１つ目の量子ビットを**制御量子ビット**、２つ目の量子ビットを**ターゲット量子ビット**と呼ぶ。\n",
    "\n",
    "このCNOT演算の作用は、$\\oplus$を mod 2の足し算、つまり古典計算における排他的論理和（XOR）とすると、\n",
    "$$\n",
    "\\begin{eqnarray}\n",
    "\\Lambda(X) |ij \\rangle = |i \\;\\; (i\\oplus j)\\rangle \\:\\:\\: (i,j=0,1)\n",
    "\\end{eqnarray}\n",
    "$$\n",
    "とも書ける。よって、CNOT演算は古典計算でのXORを可逆にしたものとみなせる\n",
    "（ユニタリー行列は定義$U^\\dagger U = U U^\\dagger = I $より可逆であることに注意）。\n",
    "例えば、１つ目の量子ビットを$|0\\rangle$と$|1\\rangle$の\n",
    "重ね合わせ状態にし、２つ目の量子ビットを$|0\\rangle$として\n",
    "$$\n",
    "\\begin{eqnarray}\n",
    "\\frac{1}{\\sqrt{2}}(|0\\rangle + |1\\rangle )\\otimes |0\\rangle =\n",
    "\\frac{1}{\\sqrt{2}}\n",
    "\\left(\n",
    "\\begin{array}{c}\n",
    "1\n",
    "\\\\\n",
    "0\n",
    "\\\\\n",
    "1\n",
    "\\\\\n",
    "0\n",
    "\\end{array}\n",
    "\\right)\n",
    "\\end{eqnarray}\n",
    "$$\n",
    "にCNOTを作用させると、\n",
    "$$\n",
    "\\begin{eqnarray}\n",
    "\\frac{1}{\\sqrt{2}}( |00\\rangle + |11\\rangle ) =\n",
    "\\frac{1}{\\sqrt{2}}\n",
    "\\left(\n",
    "\\begin{array}{c}\n",
    "1\n",
    "\\\\\n",
    "0\n",
    "\\\\\n",
    "0\n",
    "\\\\\n",
    "1\n",
    "\\end{array}\n",
    "\\right)\n",
    "\\end{eqnarray}\n",
    "$$\n",
    "が得られ、2つ目の量子ビットがそのままである状態$|00\\rangle$と反転された状態$|11\\rangle$の重ね合わせになる。（記号$\\otimes$については次節参照）\n",
    "\n",
    "さらに、CNOT ゲートを組み合わせることで重要な2量子ビットゲートである**SWAP ゲート**を作ることができる。\n",
    "$$\\Lambda(X)_{i,j}$$ を$i$番目の量子ビットを制御、$j$番目の量子ビットをターゲットとするCNOT ゲートとして、\n",
    "$$\n",
    "\\begin{align}\n",
    "\\mathrm{SWAP} &= \\Lambda(X)_{1,2} \\Lambda(X)_{2,1} \\Lambda(X)_{1,2}\\\\\n",
    "&=\n",
    "\\left(\n",
    "\\begin{array}{cccc}\n",
    "1 & 0 & 0 & 0 \\\\\n",
    "0 & 1 & 0 & 0 \\\\\n",
    "0 & 0 & 0 & 1 \\\\\n",
    "0 & 0 & 1 & 0\n",
    "\\end{array}\n",
    "\\right)\n",
    "\\left(\n",
    "\\begin{array}{cccc}\n",
    "1 & 0 & 0 & 0 \\\\\n",
    "0 & 0 & 0 & 1 \\\\\n",
    "0 & 0 & 1 & 0 \\\\\n",
    "0 & 1 & 0 & 0\n",
    "\\end{array}\n",
    "\\right)\n",
    "\\left(\n",
    "\\begin{array}{cccc}\n",
    "1 & 0 & 0 & 0 \\\\\n",
    "0 & 1 & 0 & 0 \\\\\n",
    "0 & 0 & 0 & 1 \\\\\n",
    "0 & 0 & 1 & 0\n",
    "\\end{array}\n",
    "\\right)\\\\\n",
    "&=\n",
    "\\left(\n",
    "\\begin{array}{cccc}\n",
    "1 & 0 & 0 & 0 \\\\\n",
    "0 & 0 & 1 & 0 \\\\\n",
    "0 & 1 & 0 & 0 \\\\\n",
    "0 & 0 & 0 & 1\n",
    "\\end{array}\n",
    "\\right)\n",
    "\\end{align}\n",
    "$$\n",
    "のように書ける。これは1 番目の量子ビットと2 番目の量子ビットが交換するゲートであることが分かる。\n",
    "\n",
    "このことは、上記のmod 2の足し算$\\oplus$を使った表記で簡単に確かめることができる。3つのCNOTゲート$\\Lambda(X)_{1,2} \\Lambda(X)_{2,1} \\Lambda(X)_{1,2}$の$|ij\\rangle$への作用を1ステップずつ書くと、$i \\oplus (i \\oplus j) = (i \\oplus i) \\oplus j = 0 \\oplus j = j$であることを使って、\n",
    "$$\n",
    "\\begin{align}\n",
    "|ij\\rangle &\\longrightarrow\n",
    "|i \\;\\; (i\\oplus j)\\rangle\\\\\n",
    "&\\longrightarrow\n",
    "|(i\\oplus (i\\oplus j)) \\;\\; (i\\oplus j)\\rangle =\n",
    "|j \\;\\; (i\\oplus j)\\rangle\\\\\n",
    "&\\longrightarrow\n",
    "|j \\;\\; (j\\oplus (i\\oplus j))\\rangle =\n",
    "|ji\\rangle\n",
    "\\end{align}\n",
    "$$\n",
    "となり、2つの量子ビットが交換されていることが分かる。\n",
    "\n",
    "(詳細は Nielsen-Chuang の `1.3.2 Multiple qbit gates` を参照)"
   ]
  },
  {
   "cell_type": "markdown",
   "metadata": {
    "colab_type": "text",
    "id": "0Sy1atIsjDkA"
   },
   "source": [
    "### テンソル積の計算\n",
    "手計算や解析計算で威力を発揮するのは、**テンソル積**（$\\otimes$）である。\n",
    "これは、複数の量子ビットがある場合に、それをどのようにして、上で見た大きな一つのベクトルへと変換するのか？という計算のルールを与えてくれる。\n",
    "\n",
    "量子力学の世界では、２つの量子系があってそれぞれの状態が$|\\psi \\rangle$と$|\\phi \\rangle$のとき、\n",
    "$$\n",
    "|\\psi \\rangle \\otimes |\\phi\\rangle\n",
    "$$\n",
    "とテンソル積 $\\otimes$ を用いて書く。このような複数の量子系からなる系のことを**複合系**と呼ぶ。例えば２量子ビット系は複合系である。\n",
    "\n",
    "基本的にはテンソル積は、**多項式と同じような計算ルール**で計算してよい。\n",
    "例えば、\n",
    "$$ \n",
    "(\\alpha |0\\rangle + \\beta |1\\rangle )\\otimes (\\gamma |0\\rangle + \\delta |1\\rangle )\n",
    "= \\alpha \\gamma |0\\rangle |0\\rangle + \\alpha \\delta |0\\rangle |1\\rangle + \\beta \\gamma |1 \\rangle | 0\\rangle + \\beta \\delta |1\\rangle |1\\rangle \n",
    "$$\n",
    "のように計算する。列ベクトル表示すると、$|00\\rangle$, $|01\\rangle$, $|10\\rangle$, $|11\\rangle$に対応する4次元ベクトル、\n",
    "$$\n",
    "\\left(\n",
    "\\begin{array}{c}\n",
    "\\alpha\n",
    "\\\\\n",
    "\\beta\n",
    "\\end{array}\n",
    "\\right)\n",
    "\\otimes \n",
    "\\left(\n",
    "\\begin{array}{c}\n",
    "\\gamma\n",
    "\\\\\n",
    "\\delta\n",
    "\\end{array}\n",
    "\\right) =\n",
    "\\left(\n",
    "\\begin{array}{c}\n",
    "\\alpha \\gamma\n",
    "\\\\\n",
    "\\alpha \\delta\n",
    "\\\\\n",
    "\\beta \\gamma\n",
    "\\\\\n",
    "\\beta \\delta\n",
    "\\end{array}\n",
    "\\right)\n",
    "$$\n",
    "を得る計算になっている。\n"
   ]
  },
  {
   "cell_type": "markdown",
   "metadata": {
    "colab_type": "text",
    "id": "E0nP2YUBjDkA"
   },
   "source": [
    "### SymPyを用いたテンソル積の計算\n"
   ]
  },
  {
   "cell_type": "code",
   "execution_count": 18,
   "metadata": {
    "colab": {},
    "colab_type": "code",
    "id": "Zn8MxcqwjDkB"
   },
   "outputs": [
    {
     "data": {
      "text/html": [
       "\n",
       "    <script>\n",
       "        if (!window.MathJax) {\n",
       "            var script = document.createElement(\"script\");\n",
       "            script.src = \"https://colab.research.google.com/static/mathjax/MathJax.js?config=TeX-AMS_HTML-full,Safe\";\n",
       "            document.head.appendChild(script);\n",
       "        }\n",
       "    </script>\n",
       "    <script>\n",
       "        window.Mathjax.Hub.Config({\n",
       "            'tex2jax': {\n",
       "                'inlineMath': [['$', '$'], ['\\(', '\\)']],\n",
       "                'displayMath': [['$$', '$$'], ['\\[', '\\]']],\n",
       "                'processEscapes': true,\n",
       "                'processEnvironments': true,\n",
       "                'skipTags': ['script', 'noscript', 'style', 'textarea', 'code'],\n",
       "                'displayAlign': 'center',\n",
       "            },\n",
       "            'HTML-CSS': {\n",
       "                'styles': {'.MathJax_Display': {'margin': 0}},\n",
       "                'linebreaks': {'automatic': true},\n",
       "                // Disable to prevent OTF font loading, which aren't part of our\n",
       "                // distribution.\n",
       "                'imageFont': null,\n",
       "            },\n",
       "            'messageStyle': 'none'\n",
       "        });\n",
       "        window.Mathjax.Hub.Configured();\n",
       "    </script>\n",
       "    "
      ],
      "text/plain": [
       "<IPython.core.display.HTML object>"
      ]
     },
     "metadata": {},
     "output_type": "display_data"
    }
   ],
   "source": [
    "a,b,c,d = symbols('alpha,beta,gamma,delta')\n",
    "psi = a*Qubit('0')+b*Qubit('1')\n",
    "phi = c*Qubit('0')+d*Qubit('1')"
   ]
  },
  {
   "cell_type": "code",
   "execution_count": 19,
   "metadata": {
    "colab": {},
    "colab_type": "code",
    "id": "5H9b5lxXjDkD",
    "outputId": "e3b6bf9f-74ab-40cd-aa79-c95401c3d585"
   },
   "outputs": [
    {
     "data": {
      "text/html": [
       "\n",
       "    <script>\n",
       "        if (!window.MathJax) {\n",
       "            var script = document.createElement(\"script\");\n",
       "            script.src = \"https://colab.research.google.com/static/mathjax/MathJax.js?config=TeX-AMS_HTML-full,Safe\";\n",
       "            document.head.appendChild(script);\n",
       "        }\n",
       "    </script>\n",
       "    <script>\n",
       "        window.Mathjax.Hub.Config({\n",
       "            'tex2jax': {\n",
       "                'inlineMath': [['$', '$'], ['\\(', '\\)']],\n",
       "                'displayMath': [['$$', '$$'], ['\\[', '\\]']],\n",
       "                'processEscapes': true,\n",
       "                'processEnvironments': true,\n",
       "                'skipTags': ['script', 'noscript', 'style', 'textarea', 'code'],\n",
       "                'displayAlign': 'center',\n",
       "            },\n",
       "            'HTML-CSS': {\n",
       "                'styles': {'.MathJax_Display': {'margin': 0}},\n",
       "                'linebreaks': {'automatic': true},\n",
       "                // Disable to prevent OTF font loading, which aren't part of our\n",
       "                // distribution.\n",
       "                'imageFont': null,\n",
       "            },\n",
       "            'messageStyle': 'none'\n",
       "        });\n",
       "        window.Mathjax.Hub.Configured();\n",
       "    </script>\n",
       "    "
      ],
      "text/plain": [
       "<IPython.core.display.HTML object>"
      ]
     },
     "metadata": {},
     "output_type": "display_data"
    },
    {
     "data": {
      "image/png": "[encoded data removed]",
      "text/latex": [
       "$$\\left({\\alpha {\\left|0\\right\\rangle } + \\beta {\\left|1\\right\\rangle }}\\right)\\otimes \\left({\\delta {\\left|1\\right\\rangle } + \\gamma {\\left|0\\right\\rangle }}\\right)$$"
      ],
      "text/plain": [
       "(α⋅❘0⟩ + β⋅❘1⟩)⨂ (δ⋅❘1⟩ + γ⋅❘0⟩)"
      ]
     },
     "execution_count": 19,
     "metadata": {},
     "output_type": "execute_result"
    }
   ],
   "source": [
    "TensorProduct(psi, phi) #テンソル積"
   ]
  },
  {
   "cell_type": "code",
   "execution_count": 20,
   "metadata": {
    "colab": {},
    "colab_type": "code",
    "id": "4PLJcjG9jDkE",
    "outputId": "a5cac454-2a76-405e-e406-68291f1aa704"
   },
   "outputs": [
    {
     "data": {
      "text/html": [
       "\n",
       "    <script>\n",
       "        if (!window.MathJax) {\n",
       "            var script = document.createElement(\"script\");\n",
       "            script.src = \"https://colab.research.google.com/static/mathjax/MathJax.js?config=TeX-AMS_HTML-full,Safe\";\n",
       "            document.head.appendChild(script);\n",
       "        }\n",
       "    </script>\n",
       "    <script>\n",
       "        window.Mathjax.Hub.Config({\n",
       "            'tex2jax': {\n",
       "                'inlineMath': [['$', '$'], ['\\(', '\\)']],\n",
       "                'displayMath': [['$$', '$$'], ['\\[', '\\]']],\n",
       "                'processEscapes': true,\n",
       "                'processEnvironments': true,\n",
       "                'skipTags': ['script', 'noscript', 'style', 'textarea', 'code'],\n",
       "                'displayAlign': 'center',\n",
       "            },\n",
       "            'HTML-CSS': {\n",
       "                'styles': {'.MathJax_Display': {'margin': 0}},\n",
       "                'linebreaks': {'automatic': true},\n",
       "                // Disable to prevent OTF font loading, which aren't part of our\n",
       "                // distribution.\n",
       "                'imageFont': null,\n",
       "            },\n",
       "            'messageStyle': 'none'\n",
       "        });\n",
       "        window.Mathjax.Hub.Configured();\n",
       "    </script>\n",
       "    "
      ],
      "text/plain": [
       "<IPython.core.display.HTML object>"
      ]
     },
     "metadata": {},
     "output_type": "display_data"
    },
    {
     "data": {
      "image/png": "[encoded data removed]",
      "text/latex": [
       "$$\\left[\\begin{matrix}\\alpha \\gamma\\\\\\alpha \\delta\\\\\\beta \\gamma\\\\\\beta \\delta\\end{matrix}\\right]$$"
      ],
      "text/plain": [
       "⎡α⋅γ⎤\n",
       "⎢   ⎥\n",
       "⎢α⋅δ⎥\n",
       "⎢   ⎥\n",
       "⎢β⋅γ⎥\n",
       "⎢   ⎥\n",
       "⎣β⋅δ⎦"
      ]
     },
     "execution_count": 20,
     "metadata": {},
     "output_type": "execute_result"
    }
   ],
   "source": [
    "represent(TensorProduct(psi, phi))"
   ]
  },
  {
   "cell_type": "markdown",
   "metadata": {
    "colab_type": "text",
    "id": "qub7RTm2jDkG"
   },
   "source": [
    "さらに$|\\psi\\rangle$とのテンソル積をとると８次元のベクトルになる：\n"
   ]
  },
  {
   "cell_type": "code",
   "execution_count": 21,
   "metadata": {
    "colab": {},
    "colab_type": "code",
    "id": "sVC53glUjDkG",
    "outputId": "0a8e037b-4e03-4c13-aa0a-c9eda2dd139a"
   },
   "outputs": [
    {
     "data": {
      "text/html": [
       "\n",
       "    <script>\n",
       "        if (!window.MathJax) {\n",
       "            var script = document.createElement(\"script\");\n",
       "            script.src = \"https://colab.research.google.com/static/mathjax/MathJax.js?config=TeX-AMS_HTML-full,Safe\";\n",
       "            document.head.appendChild(script);\n",
       "        }\n",
       "    </script>\n",
       "    <script>\n",
       "        window.Mathjax.Hub.Config({\n",
       "            'tex2jax': {\n",
       "                'inlineMath': [['$', '$'], ['\\(', '\\)']],\n",
       "                'displayMath': [['$$', '$$'], ['\\[', '\\]']],\n",
       "                'processEscapes': true,\n",
       "                'processEnvironments': true,\n",
       "                'skipTags': ['script', 'noscript', 'style', 'textarea', 'code'],\n",
       "                'displayAlign': 'center',\n",
       "            },\n",
       "            'HTML-CSS': {\n",
       "                'styles': {'.MathJax_Display': {'margin': 0}},\n",
       "                'linebreaks': {'automatic': true},\n",
       "                // Disable to prevent OTF font loading, which aren't part of our\n",
       "                // distribution.\n",
       "                'imageFont': null,\n",
       "            },\n",
       "            'messageStyle': 'none'\n",
       "        });\n",
       "        window.Mathjax.Hub.Configured();\n",
       "    </script>\n",
       "    "
      ],
      "text/plain": [
       "<IPython.core.display.HTML object>"
      ]
     },
     "metadata": {},
     "output_type": "display_data"
    },
    {
     "data": {
      "image/png": "[encoded data removed]",
      "text/latex": [
       "$$\\left[\\begin{matrix}\\alpha^{2} \\gamma\\\\\\alpha^{2} \\delta\\\\\\alpha \\beta \\gamma\\\\\\alpha \\beta \\delta\\\\\\alpha \\beta \\gamma\\\\\\alpha \\beta \\delta\\\\\\beta^{2} \\gamma\\\\\\beta^{2} \\delta\\end{matrix}\\right]$$"
      ],
      "text/plain": [
       "⎡ 2   ⎤\n",
       "⎢α ⋅γ ⎥\n",
       "⎢     ⎥\n",
       "⎢ 2   ⎥\n",
       "⎢α ⋅δ ⎥\n",
       "⎢     ⎥\n",
       "⎢α⋅β⋅γ⎥\n",
       "⎢     ⎥\n",
       "⎢α⋅β⋅δ⎥\n",
       "⎢     ⎥\n",
       "⎢α⋅β⋅γ⎥\n",
       "⎢     ⎥\n",
       "⎢α⋅β⋅δ⎥\n",
       "⎢     ⎥\n",
       "⎢ 2   ⎥\n",
       "⎢β ⋅γ ⎥\n",
       "⎢     ⎥\n",
       "⎢ 2   ⎥\n",
       "⎣β ⋅δ ⎦"
      ]
     },
     "execution_count": 21,
     "metadata": {},
     "output_type": "execute_result"
    }
   ],
   "source": [
    "represent(TensorProduct(psi,TensorProduct(psi, phi)))"
   ]
  },
  {
   "cell_type": "markdown",
   "metadata": {
    "colab_type": "text",
    "id": "XFioeA99jDkJ"
   },
   "source": [
    "### 演算子のテンソル積\n",
    "演算子についても何番目の量子ビットに作用するのか、というのをテンソル積をもちいて表現することができる。たとえば、１つめの量子ビットには$A$という演算子、2つめの演算子には$B$を作用させるという場合には、\n",
    "$$ A \\otimes B$$\n",
    "としてテンソル積演算子が与えられる。\n",
    "$A$と$B$をそれぞれ、2×2の行列とすると、$A\\otimes B$は4×4の行列として\n",
    "$$\n",
    "\\left(\n",
    "\\begin{array}{cc}\n",
    "a_{11} & a_{12}\n",
    "\\\\\n",
    "a_{21} & a_{22}\n",
    "\\end{array}\n",
    "\\right)\n",
    "\\otimes \n",
    "\\left(\n",
    "\\begin{array}{cc}\n",
    "b_{11} & b_{12}\n",
    "\\\\\n",
    "b_{21} & b_{22}\n",
    "\\end{array}\n",
    "\\right) =\n",
    "\\left(\n",
    "\\begin{array}{cccc}\n",
    "a_{11} b_{11} & a_{11} b_{12} & a_{12} b_{11} & a_{12} b_{12}\n",
    "\\\\\n",
    "a_{11} b_{21} & a_{11} b_{22} & a_{12} b_{21} & a_{12} b_{22}\n",
    "\\\\\n",
    "a_{21} b_{11} & a_{21} b_{12} & a_{22} b_{11} & a_{22} b_{12}\n",
    "\\\\\n",
    "a_{21} b_{21} & a_{21} b_{22} & a_{22} b_{21} & a_{22} b_{22}\n",
    "\\end{array}\n",
    "\\right)\n",
    "$$\n",
    "のように計算される。\n",
    "\n",
    "\n",
    "\n",
    "テンソル積状態 \n",
    "$$|\\psi \\rangle \\otimes | \\phi \\rangle $$ \n",
    "に対する作用は、\n",
    "$$ (A|\\psi \\rangle ) \\otimes (B |\\phi \\rangle )$$\n",
    "となり、それぞれの部分系$|\\psi \\rangle$と$|\\phi\\rangle$に$A$と$B$が作用する。\n",
    "足し算に対しては、多項式のように展開してそれぞれの項を作用させればよい。\n",
    "$$\n",
    "(A+C)\\otimes (B+D) |\\psi \\rangle \\otimes | \\phi \\rangle =\n",
    "(A \\otimes B +A \\otimes D + C \\otimes B + C \\otimes D) |\\psi \\rangle \\otimes | \\phi \\rangle\\\\ =\n",
    "(A|\\psi \\rangle) \\otimes (B| \\phi \\rangle)\n",
    "+(A|\\psi \\rangle) \\otimes (D| \\phi \\rangle)\n",
    "+(C|\\psi \\rangle) \\otimes (B| \\phi \\rangle)\n",
    "+(C|\\psi \\rangle) \\otimes (D| \\phi \\rangle)\n",
    "$$\n",
    "\n",
    "\n",
    "テンソル積やテンソル積演算子は左右横並びで書いているが、本当は\n",
    "$$\n",
    "\\left(\n",
    "\\begin{array}{c}\n",
    "A\n",
    "\\\\\n",
    "\\otimes \n",
    "\\\\\n",
    "B\n",
    "\\end{array}\n",
    "\\right)\n",
    "\\begin{array}{c}\n",
    "|\\psi \\rangle \n",
    "\\\\\n",
    "\\otimes \n",
    "\\\\\n",
    "|\\phi\\rangle\n",
    "\\end{array}\n",
    "$$\n",
    "のように縦に並べた方がその作用の仕方わかりやすいのかもしれない。\n",
    "\n",
    "例えば、CNOT演算を用いて作られるエンタングル状態は、\n",
    "$$\n",
    "\\left(\n",
    "\\begin{array}{c}\n",
    "|0\\rangle \\langle 0|\n",
    "\\\\\n",
    "\\otimes \n",
    "\\\\\n",
    "I\n",
    "\\end{array}\n",
    "+\n",
    "\\begin{array}{c}\n",
    "|1\\rangle \\langle 1|\n",
    "\\\\\n",
    "\\otimes \n",
    "\\\\\n",
    "X\n",
    "\\end{array}\n",
    "\\right)\n",
    "\\left(\n",
    "\\begin{array}{c}\n",
    "\\frac{1}{\\sqrt{2}}(|0\\rangle + |1\\rangle)\n",
    "\\\\\n",
    "\\otimes \n",
    "\\\\\n",
    "|0\\rangle\n",
    "\\end{array}\n",
    "\\right) =\n",
    "\\frac{1}{\\sqrt{2}}\\left(\n",
    "\\begin{array}{c}\n",
    "|0 \\rangle \n",
    "\\\\\n",
    "\\otimes \n",
    "\\\\\n",
    "|0\\rangle\n",
    "\\end{array}\n",
    "+\n",
    "\\begin{array}{c}\n",
    "|1 \\rangle \n",
    "\\\\\n",
    "\\otimes \n",
    "\\\\\n",
    "|1\\rangle\n",
    "\\end{array}\n",
    "\\right)\n",
    "$$\n",
    "のようになる。"
   ]
  },
  {
   "cell_type": "markdown",
   "metadata": {
    "colab_type": "text",
    "id": "MYxxEJ8ejDkJ"
   },
   "source": [
    "### SymPyを用いた演算子のテンソル積\n",
    "SymPyで演算子を使用する時は、何桁目の量子ビットに作用する演算子かを常に指定する。「何_番目_」ではなく2進数表記の「何_桁目_」であることに注意しよう。$n$量子ビットのうちの左から$i$番目の量子ビットを指定する場合、SymPyのコードでは`n-i`を指定する（0を基点とするインデックス）。"
   ]
  },
  {
   "cell_type": "markdown",
   "metadata": {
    "colab_type": "text",
    "id": "t3L4MWITjDkL"
   },
   "source": [
    "`H(0)` は、1量子ビット空間で表示すると"
   ]
  },
  {
   "cell_type": "code",
   "execution_count": 22,
   "metadata": {
    "colab": {},
    "colab_type": "code",
    "id": "GQcwyGq3jDkL",
    "outputId": "2f4f2189-906a-44ba-8eb4-8560895bea53"
   },
   "outputs": [
    {
     "data": {
      "text/html": [
       "\n",
       "    <script>\n",
       "        if (!window.MathJax) {\n",
       "            var script = document.createElement(\"script\");\n",
       "            script.src = \"https://colab.research.google.com/static/mathjax/MathJax.js?config=TeX-AMS_HTML-full,Safe\";\n",
       "            document.head.appendChild(script);\n",
       "        }\n",
       "    </script>\n",
       "    <script>\n",
       "        window.Mathjax.Hub.Config({\n",
       "            'tex2jax': {\n",
       "                'inlineMath': [['$', '$'], ['\\(', '\\)']],\n",
       "                'displayMath': [['$$', '$$'], ['\\[', '\\]']],\n",
       "                'processEscapes': true,\n",
       "                'processEnvironments': true,\n",
       "                'skipTags': ['script', 'noscript', 'style', 'textarea', 'code'],\n",
       "                'displayAlign': 'center',\n",
       "            },\n",
       "            'HTML-CSS': {\n",
       "                'styles': {'.MathJax_Display': {'margin': 0}},\n",
       "                'linebreaks': {'automatic': true},\n",
       "                // Disable to prevent OTF font loading, which aren't part of our\n",
       "                // distribution.\n",
       "                'imageFont': null,\n",
       "            },\n",
       "            'messageStyle': 'none'\n",
       "        });\n",
       "        window.Mathjax.Hub.Configured();\n",
       "    </script>\n",
       "    "
      ],
      "text/plain": [
       "<IPython.core.display.HTML object>"
      ]
     },
     "metadata": {},
     "output_type": "display_data"
    },
    {
     "data": {
      "image/png": "[encoded data removed]",
      "text/latex": [
       "$$\\left[\\begin{matrix}\\frac{1}{\\sqrt{2}} & \\frac{1}{\\sqrt{2}}\\\\\\frac{1}{\\sqrt{2}} & - \\frac{\\sqrt{2}}{2}\\end{matrix}\\right]$$"
      ],
      "text/plain": [
       "⎡1    1  ⎤\n",
       "⎢──   ── ⎥\n",
       "⎢√2   √2 ⎥\n",
       "⎢        ⎥\n",
       "⎢1   -√2 ⎥\n",
       "⎢──  ────⎥\n",
       "⎣√2   2  ⎦"
      ]
     },
     "execution_count": 22,
     "metadata": {},
     "output_type": "execute_result"
    }
   ],
   "source": [
    "represent(H(0),nqubits=1)"
   ]
  },
  {
   "cell_type": "markdown",
   "metadata": {
    "colab_type": "text",
    "id": "RDIjIr1gjDkP"
   },
   "source": [
    "2量子ビット空間では$H \\otimes I$に対応しており、その表示は"
   ]
  },
  {
   "cell_type": "code",
   "execution_count": 23,
   "metadata": {
    "colab": {},
    "colab_type": "code",
    "id": "Kd_yAuLXjDkQ",
    "outputId": "87ce9361-229e-4e6a-a9a3-19b104977a2c"
   },
   "outputs": [
    {
     "data": {
      "text/html": [
       "\n",
       "    <script>\n",
       "        if (!window.MathJax) {\n",
       "            var script = document.createElement(\"script\");\n",
       "            script.src = \"https://colab.research.google.com/static/mathjax/MathJax.js?config=TeX-AMS_HTML-full,Safe\";\n",
       "            document.head.appendChild(script);\n",
       "        }\n",
       "    </script>\n",
       "    <script>\n",
       "        window.Mathjax.Hub.Config({\n",
       "            'tex2jax': {\n",
       "                'inlineMath': [['$', '$'], ['\\(', '\\)']],\n",
       "                'displayMath': [['$$', '$$'], ['\\[', '\\]']],\n",
       "                'processEscapes': true,\n",
       "                'processEnvironments': true,\n",
       "                'skipTags': ['script', 'noscript', 'style', 'textarea', 'code'],\n",
       "                'displayAlign': 'center',\n",
       "            },\n",
       "            'HTML-CSS': {\n",
       "                'styles': {'.MathJax_Display': {'margin': 0}},\n",
       "                'linebreaks': {'automatic': true},\n",
       "                // Disable to prevent OTF font loading, which aren't part of our\n",
       "                // distribution.\n",
       "                'imageFont': null,\n",
       "            },\n",
       "            'messageStyle': 'none'\n",
       "        });\n",
       "        window.Mathjax.Hub.Configured();\n",
       "    </script>\n",
       "    "
      ],
      "text/plain": [
       "<IPython.core.display.HTML object>"
      ]
     },
     "metadata": {},
     "output_type": "display_data"
    },
    {
     "data": {
      "image/png": "[encoded data removed]",
      "text/latex": [
       "$$\\left[\\begin{matrix}\\frac{1}{\\sqrt{2}} & 0 & \\frac{1}{\\sqrt{2}} & 0\\\\0 & \\frac{1}{\\sqrt{2}} & 0 & \\frac{1}{\\sqrt{2}}\\\\\\frac{1}{\\sqrt{2}} & 0 & - \\frac{\\sqrt{2}}{2} & 0\\\\0 & \\frac{1}{\\sqrt{2}} & 0 & - \\frac{\\sqrt{2}}{2}\\end{matrix}\\right]$$"
      ],
      "text/plain": [
       "⎡1        1        ⎤\n",
       "⎢──  0    ──    0  ⎥\n",
       "⎢√2       √2       ⎥\n",
       "⎢                  ⎥\n",
       "⎢    1          1  ⎥\n",
       "⎢0   ──   0     ── ⎥\n",
       "⎢    √2         √2 ⎥\n",
       "⎢                  ⎥\n",
       "⎢1       -√2       ⎥\n",
       "⎢──  0   ────   0  ⎥\n",
       "⎢√2       2        ⎥\n",
       "⎢                  ⎥\n",
       "⎢    1         -√2 ⎥\n",
       "⎢0   ──   0    ────⎥\n",
       "⎣    √2         2  ⎦"
      ]
     },
     "execution_count": 23,
     "metadata": {},
     "output_type": "execute_result"
    }
   ],
   "source": [
    "represent(H(1),nqubits=2)"
   ]
  },
  {
   "cell_type": "markdown",
   "metadata": {
    "colab_type": "text",
    "id": "tZpN1W-gjDkN"
   },
   "source": [
    "CNOT演算は、"
   ]
  },
  {
   "cell_type": "code",
   "execution_count": 24,
   "metadata": {
    "colab": {},
    "colab_type": "code",
    "id": "DqURihgDjDkN",
    "outputId": "d6305d23-fa04-44be-8166-6fad20ebab38"
   },
   "outputs": [
    {
     "data": {
      "text/html": [
       "\n",
       "    <script>\n",
       "        if (!window.MathJax) {\n",
       "            var script = document.createElement(\"script\");\n",
       "            script.src = \"https://colab.research.google.com/static/mathjax/MathJax.js?config=TeX-AMS_HTML-full,Safe\";\n",
       "            document.head.appendChild(script);\n",
       "        }\n",
       "    </script>\n",
       "    <script>\n",
       "        window.Mathjax.Hub.Config({\n",
       "            'tex2jax': {\n",
       "                'inlineMath': [['$', '$'], ['\\(', '\\)']],\n",
       "                'displayMath': [['$$', '$$'], ['\\[', '\\]']],\n",
       "                'processEscapes': true,\n",
       "                'processEnvironments': true,\n",
       "                'skipTags': ['script', 'noscript', 'style', 'textarea', 'code'],\n",
       "                'displayAlign': 'center',\n",
       "            },\n",
       "            'HTML-CSS': {\n",
       "                'styles': {'.MathJax_Display': {'margin': 0}},\n",
       "                'linebreaks': {'automatic': true},\n",
       "                // Disable to prevent OTF font loading, which aren't part of our\n",
       "                // distribution.\n",
       "                'imageFont': null,\n",
       "            },\n",
       "            'messageStyle': 'none'\n",
       "        });\n",
       "        window.Mathjax.Hub.Configured();\n",
       "    </script>\n",
       "    "
      ],
      "text/plain": [
       "<IPython.core.display.HTML object>"
      ]
     },
     "metadata": {},
     "output_type": "display_data"
    },
    {
     "data": {
      "image/png": "[encoded data removed]",
      "text/latex": [
       "$$\\left[\\begin{matrix}1 & 0 & 0 & 0\\\\0 & 1 & 0 & 0\\\\0 & 0 & 0 & 1\\\\0 & 0 & 1 & 0\\end{matrix}\\right]$$"
      ],
      "text/plain": [
       "⎡1  0  0  0⎤\n",
       "⎢          ⎥\n",
       "⎢0  1  0  0⎥\n",
       "⎢          ⎥\n",
       "⎢0  0  0  1⎥\n",
       "⎢          ⎥\n",
       "⎣0  0  1  0⎦"
      ]
     },
     "execution_count": 24,
     "metadata": {},
     "output_type": "execute_result"
    }
   ],
   "source": [
    "represent(CNOT(1,0),nqubits=2)"
   ]
  },
  {
   "cell_type": "markdown",
   "metadata": {
    "colab_type": "text",
    "id": "MW8u4BNvjDkT"
   },
   "source": [
    "パウリ演算子のテンソル積$X\\otimes Y \\otimes Z$も、"
   ]
  },
  {
   "cell_type": "code",
   "execution_count": 25,
   "metadata": {
    "colab": {},
    "colab_type": "code",
    "id": "omfY86udjDkU",
    "outputId": "317136da-ac9d-4d2c-f2ab-c3c7065b66f9"
   },
   "outputs": [
    {
     "data": {
      "text/html": [
       "\n",
       "    <script>\n",
       "        if (!window.MathJax) {\n",
       "            var script = document.createElement(\"script\");\n",
       "            script.src = \"https://colab.research.google.com/static/mathjax/MathJax.js?config=TeX-AMS_HTML-full,Safe\";\n",
       "            document.head.appendChild(script);\n",
       "        }\n",
       "    </script>\n",
       "    <script>\n",
       "        window.Mathjax.Hub.Config({\n",
       "            'tex2jax': {\n",
       "                'inlineMath': [['$', '$'], ['\\(', '\\)']],\n",
       "                'displayMath': [['$$', '$$'], ['\\[', '\\]']],\n",
       "                'processEscapes': true,\n",
       "                'processEnvironments': true,\n",
       "                'skipTags': ['script', 'noscript', 'style', 'textarea', 'code'],\n",
       "                'displayAlign': 'center',\n",
       "            },\n",
       "            'HTML-CSS': {\n",
       "                'styles': {'.MathJax_Display': {'margin': 0}},\n",
       "                'linebreaks': {'automatic': true},\n",
       "                // Disable to prevent OTF font loading, which aren't part of our\n",
       "                // distribution.\n",
       "                'imageFont': null,\n",
       "            },\n",
       "            'messageStyle': 'none'\n",
       "        });\n",
       "        window.Mathjax.Hub.Configured();\n",
       "    </script>\n",
       "    "
      ],
      "text/plain": [
       "<IPython.core.display.HTML object>"
      ]
     },
     "metadata": {},
     "output_type": "display_data"
    },
    {
     "data": {
      "image/png": "[encoded data removed]",
      "text/latex": [
       "$$\\left[\\begin{matrix}0 & 0 & 0 & 0 & 0 & 0 & - i & 0\\\\0 & 0 & 0 & 0 & 0 & 0 & 0 & i\\\\0 & 0 & 0 & 0 & i & 0 & 0 & 0\\\\0 & 0 & 0 & 0 & 0 & - i & 0 & 0\\\\0 & 0 & - i & 0 & 0 & 0 & 0 & 0\\\\0 & 0 & 0 & i & 0 & 0 & 0 & 0\\\\i & 0 & 0 & 0 & 0 & 0 & 0 & 0\\\\0 & - i & 0 & 0 & 0 & 0 & 0 & 0\\end{matrix}\\right]$$"
      ],
      "text/plain": [
       "⎡0  0   0   0  0  0   -ⅈ  0⎤\n",
       "⎢                          ⎥\n",
       "⎢0  0   0   0  0  0   0   ⅈ⎥\n",
       "⎢                          ⎥\n",
       "⎢0  0   0   0  ⅈ  0   0   0⎥\n",
       "⎢                          ⎥\n",
       "⎢0  0   0   0  0  -ⅈ  0   0⎥\n",
       "⎢                          ⎥\n",
       "⎢0  0   -ⅈ  0  0  0   0   0⎥\n",
       "⎢                          ⎥\n",
       "⎢0  0   0   ⅈ  0  0   0   0⎥\n",
       "⎢                          ⎥\n",
       "⎢ⅈ  0   0   0  0  0   0   0⎥\n",
       "⎢                          ⎥\n",
       "⎣0  -ⅈ  0   0  0  0   0   0⎦"
      ]
     },
     "execution_count": 25,
     "metadata": {},
     "output_type": "execute_result"
    }
   ],
   "source": [
    "represent(X(2)*Y(1)*Z(0),nqubits=3)"
   ]
  },
  {
   "cell_type": "markdown",
   "metadata": {
    "colab_type": "text",
    "id": "L4d9cIfbjDkV"
   },
   "source": [
    "このようにして、上記のテンソル積のルールを実際にたしかめてみることができる。"
   ]
  },
  {
   "cell_type": "markdown",
   "metadata": {},
   "source": [
    "### 複数の量子ビットの一部分だけを測定した場合\n",
    "\n",
    "複数の量子ビットを全て測定した場合の測定結果の確率については既に説明した。複数の量子ビットのうち、一部だけを測定することもできる。その場合、測定結果の確率は、測定結果に対応する（部分系の）基底で射影したベクトルの長さの2乗になり、測定後の状態は射影されたベクトルを規格化したものになる。\n",
    "\n",
    "具体的に見ていこう。以下の$n$量子ビットの状態を考える。\n",
    "\\begin{align}\n",
    "|\\psi\\rangle &=\n",
    "c_{00...0} |00...0\\rangle +\n",
    "c_{00...1} |00...1\\rangle + \\cdots +\n",
    "c_{11...1} |11...1\\rangle\\\\\n",
    "&= \\sum_{i_1 \\dotsc i_n} c_{i_1 \\dotsc i_n} |i_1 \\dotsc i_n\\rangle =\n",
    "\\sum_{i_1 \\dotsc i_n} c_{i_1 \\dotsc i_n} |i_1\\rangle \\otimes \\cdots \\otimes |i_n\\rangle\n",
    "\\end{align}\n",
    "1番目の量子ビットを測定するとしよう。1つ目の量子ビットの状態空間の正規直交基底$|0\\rangle$, $|1\\rangle$に対する射影演算子はそれぞれ$|0\\rangle\\langle0|$, $|1\\rangle\\langle1|$と書ける。1番目の量子ビットを$|0\\rangle$に射影し、他の量子ビットには何もしない演算子\n",
    "$$\n",
    "|0\\rangle\\langle0| \\otimes I \\otimes \\cdots \\otimes I\n",
    "$$\n",
    "を使って、測定値0が得られる確率は\n",
    "$$\n",
    "\\bigl\\Vert \\bigl(|0\\rangle\\langle0| \\otimes I \\otimes \\cdots \\otimes I\\bigr) |\\psi\\rangle \\bigr\\Vert^2 =\n",
    "\\langle \\psi | \\bigl(|0\\rangle\\langle0| \\otimes I \\otimes \\cdots \\otimes I\\bigr) | \\psi \\rangle\n",
    "$$\n",
    "である。ここで\n",
    "$$\n",
    "\\bigl(|0\\rangle\\langle0| \\otimes I \\otimes \\cdots \\otimes I\\bigr) | \\psi \\rangle =\n",
    "\\sum_{i_2 \\dotsc i_n} c_{0 i_2 \\dotsc i_n} |0\\rangle \\otimes |i_2\\rangle \\otimes \\cdots \\otimes |i_n\\rangle\n",
    "$$\n",
    "なので、求める確率は\n",
    "$$\n",
    "p_0 = \\sum_{i_2 \\dotsc i_n} |c_{0 i_2 \\dotsc i_n}|^2\n",
    "$$\n",
    "となり、測定後の状態は\n",
    "$$\n",
    "\\frac{1}{\\sqrt{p_0}}\\sum_{i_2 \\dotsc i_n} c_{0 i_2 \\dotsc i_n} |0\\rangle \\otimes |i_2\\rangle \\otimes \\cdots \\otimes |i_n\\rangle\n",
    "$$\n",
    "となる。0と1を入れ替えれば、測定値1が得られる確率と測定後の状態が得られる。\n",
    "\n",
    "ここで求めた$p_0$, $p_1$の表式は、測定値$i_1, \\dotsc, i_n$が得られる同時確率分布$p_{i_1, \\dotsc, i_n}$から計算される$i_1$の周辺確率分布と一致することに注意しよう。実際、\n",
    "$$\n",
    "\\sum_{i_2, \\dotsc, i_n} p_{i_1, \\dotsc, i_n} = \\sum_{i_2, \\dotsc, i_n} |c_{i_1, \\dotsc, i_n}|^2 = p_{i_1}\n",
    "$$\n",
    "である。\n",
    "\n",
    "測定される量子ビットを増やし、最初の$k$個の量子ビットを測定する場合も同様に計算できる。測定結果$i_1, \\dotsc, i_k$を得る確率は\n",
    "$$\n",
    "p_{i_1, \\dotsc, i_k} = \\sum_{i_{k+1}, \\dotsc, i_n} |c_{i_1, \\dotsc, i_n}|^2\n",
    "$$\n",
    "であり、測定後の状態は\n",
    "$$\n",
    "\\frac{1}{\\sqrt{p_{i_1, \\dotsc, i_k}}}\\sum_{i_{k+1} \\dotsc i_n} c_{i_1 \\dotsc i_n} |i_1 \\rangle \\otimes \\cdots \\otimes |i_n\\rangle\n",
    "$$\n",
    "となる。（和をとるのは$i_{k+1},\\cdots,i_n$だけであることに注意）"
   ]
  },
  {
   "cell_type": "markdown",
   "metadata": {},
   "source": [
    "SymPyを使ってさらに具体的な例を見てみよう。H演算とCNOT演算を組み合わせて作られる次の状態を考える。\n",
    "$$\n",
    "|\\psi\\rangle = \\Lambda(X) (H \\otimes H) |0\\rangle \\otimes |0\\rangle = \\frac{|00\\rangle + |10\\rangle + |01\\rangle + |11\\rangle}{2}\n",
    "$$"
   ]
  },
  {
   "cell_type": "code",
   "execution_count": 26,
   "metadata": {},
   "outputs": [
    {
     "data": {
      "text/html": [
       "\n",
       "    <script>\n",
       "        if (!window.MathJax) {\n",
       "            var script = document.createElement(\"script\");\n",
       "            script.src = \"https://colab.research.google.com/static/mathjax/MathJax.js?config=TeX-AMS_HTML-full,Safe\";\n",
       "            document.head.appendChild(script);\n",
       "        }\n",
       "    </script>\n",
       "    <script>\n",
       "        window.Mathjax.Hub.Config({\n",
       "            'tex2jax': {\n",
       "                'inlineMath': [['$', '$'], ['\\(', '\\)']],\n",
       "                'displayMath': [['$$', '$$'], ['\\[', '\\]']],\n",
       "                'processEscapes': true,\n",
       "                'processEnvironments': true,\n",
       "                'skipTags': ['script', 'noscript', 'style', 'textarea', 'code'],\n",
       "                'displayAlign': 'center',\n",
       "            },\n",
       "            'HTML-CSS': {\n",
       "                'styles': {'.MathJax_Display': {'margin': 0}},\n",
       "                'linebreaks': {'automatic': true},\n",
       "                // Disable to prevent OTF font loading, which aren't part of our\n",
       "                // distribution.\n",
       "                'imageFont': null,\n",
       "            },\n",
       "            'messageStyle': 'none'\n",
       "        });\n",
       "        window.Mathjax.Hub.Configured();\n",
       "    </script>\n",
       "    "
      ],
      "text/plain": [
       "<IPython.core.display.HTML object>"
      ]
     },
     "metadata": {},
     "output_type": "display_data"
    },
    {
     "data": {
      "image/png": "[encoded data removed]",
      "text/latex": [
       "$$\\frac{{\\left|00\\right\\rangle }}{2} + \\frac{{\\left|01\\right\\rangle }}{2} + \\frac{{\\left|10\\right\\rangle }}{2} + \\frac{{\\left|11\\right\\rangle }}{2}$$"
      ],
      "text/plain": [
       "❘00⟩   ❘01⟩   ❘10⟩   ❘11⟩\n",
       "──── + ──── + ──── + ────\n",
       " 2      2      2      2  "
      ]
     },
     "execution_count": 26,
     "metadata": {},
     "output_type": "execute_result"
    }
   ],
   "source": [
    "psi = qapply(CNOT(1, 0)*H(1)*H(0)*Qubit('00'))\n",
    "psi"
   ]
  },
  {
   "cell_type": "markdown",
   "metadata": {},
   "source": [
    "この状態の1つ目の量子ビットを測定して0になる確率は\n",
    "$$\n",
    "p_0 = \\langle \\psi | \\bigl( |0\\rangle\\langle0| \\otimes I \\bigr) | \\psi \\rangle =\n",
    "\\left(\\frac{\\langle 00 | + \\langle 10 | + \\langle 01 | + \\langle 11 |}{2}\\right)\n",
    "\\left(\\frac{| 00 \\rangle + | 01 \\rangle}{2}\\right) =\n",
    "\\frac{1}{2}\n",
    "$$\n",
    "で、測定後の状態は\n",
    "$$\n",
    "\\frac{1}{\\sqrt{p_0}} \\bigl( |0\\rangle\\langle0| \\otimes I \\bigr) | \\psi \\rangle =\n",
    "\\frac{| 00 \\rangle + | 01 \\rangle}{\\sqrt{2}}\n",
    "$$\n",
    "である。"
   ]
  },
  {
   "cell_type": "markdown",
   "metadata": {},
   "source": [
    "この結果をSymPyでも計算してみよう。SymPyには測定用の関数が数種類用意されていて、一部の量子ビットを測定した場合の確率と測定後の状態を計算するには、`measure_partial`を用いればよい。測定する状態と、測定を行う量子ビットのインデックスを引数として渡すと、測定後の状態と測定の確率の組がリストとして出力される。１つめの量子ビットが0だった場合の量子状態と確率は`[0]`要素を参照すればよい。"
   ]
  },
  {
   "cell_type": "code",
   "execution_count": 27,
   "metadata": {},
   "outputs": [
    {
     "data": {
      "text/html": [
       "\n",
       "    <script>\n",
       "        if (!window.MathJax) {\n",
       "            var script = document.createElement(\"script\");\n",
       "            script.src = \"https://colab.research.google.com/static/mathjax/MathJax.js?config=TeX-AMS_HTML-full,Safe\";\n",
       "            document.head.appendChild(script);\n",
       "        }\n",
       "    </script>\n",
       "    <script>\n",
       "        window.Mathjax.Hub.Config({\n",
       "            'tex2jax': {\n",
       "                'inlineMath': [['$', '$'], ['\\(', '\\)']],\n",
       "                'displayMath': [['$$', '$$'], ['\\[', '\\]']],\n",
       "                'processEscapes': true,\n",
       "                'processEnvironments': true,\n",
       "                'skipTags': ['script', 'noscript', 'style', 'textarea', 'code'],\n",
       "                'displayAlign': 'center',\n",
       "            },\n",
       "            'HTML-CSS': {\n",
       "                'styles': {'.MathJax_Display': {'margin': 0}},\n",
       "                'linebreaks': {'automatic': true},\n",
       "                // Disable to prevent OTF font loading, which aren't part of our\n",
       "                // distribution.\n",
       "                'imageFont': null,\n",
       "            },\n",
       "            'messageStyle': 'none'\n",
       "        });\n",
       "        window.Mathjax.Hub.Configured();\n",
       "    </script>\n",
       "    "
      ],
      "text/plain": [
       "<IPython.core.display.HTML object>"
      ]
     },
     "metadata": {},
     "output_type": "display_data"
    }
   ],
   "source": [
    "from sympy.physics.quantum.qubit import measure_all, measure_partial\n",
    "measured_state_and_probability = measure_partial(psi, (1,))"
   ]
  },
  {
   "cell_type": "code",
   "execution_count": 28,
   "metadata": {},
   "outputs": [
    {
     "data": {
      "text/html": [
       "\n",
       "    <script>\n",
       "        if (!window.MathJax) {\n",
       "            var script = document.createElement(\"script\");\n",
       "            script.src = \"https://colab.research.google.com/static/mathjax/MathJax.js?config=TeX-AMS_HTML-full,Safe\";\n",
       "            document.head.appendChild(script);\n",
       "        }\n",
       "    </script>\n",
       "    <script>\n",
       "        window.Mathjax.Hub.Config({\n",
       "            'tex2jax': {\n",
       "                'inlineMath': [['$', '$'], ['\\(', '\\)']],\n",
       "                'displayMath': [['$$', '$$'], ['\\[', '\\]']],\n",
       "                'processEscapes': true,\n",
       "                'processEnvironments': true,\n",
       "                'skipTags': ['script', 'noscript', 'style', 'textarea', 'code'],\n",
       "                'displayAlign': 'center',\n",
       "            },\n",
       "            'HTML-CSS': {\n",
       "                'styles': {'.MathJax_Display': {'margin': 0}},\n",
       "                'linebreaks': {'automatic': true},\n",
       "                // Disable to prevent OTF font loading, which aren't part of our\n",
       "                // distribution.\n",
       "                'imageFont': null,\n",
       "            },\n",
       "            'messageStyle': 'none'\n",
       "        });\n",
       "        window.Mathjax.Hub.Configured();\n",
       "    </script>\n",
       "    "
      ],
      "text/plain": [
       "<IPython.core.display.HTML object>"
      ]
     },
     "metadata": {},
     "output_type": "display_data"
    },
    {
     "data": {
      "image/png": "[encoded data removed]",
      "text/latex": [
       "$$\\left ( \\frac{\\sqrt{2} {\\left|00\\right\\rangle }}{2} + \\frac{\\sqrt{2} {\\left|01\\right\\rangle }}{2}, \\quad \\frac{1}{2}\\right )$$"
      ],
      "text/plain": [
       "⎛√2⋅❘00⟩   √2⋅❘01⟩     ⎞\n",
       "⎜─────── + ───────, 1/2⎟\n",
       "⎝   2         2        ⎠"
      ]
     },
     "execution_count": 28,
     "metadata": {},
     "output_type": "execute_result"
    }
   ],
   "source": [
    "measured_state_and_probability[0]"
   ]
  },
  {
   "cell_type": "markdown",
   "metadata": {},
   "source": [
    "上で手計算した結果と合っていることが分かる。測定結果が1だった場合も同様に計算できる。"
   ]
  },
  {
   "cell_type": "code",
   "execution_count": 29,
   "metadata": {},
   "outputs": [
    {
     "data": {
      "text/html": [
       "\n",
       "    <script>\n",
       "        if (!window.MathJax) {\n",
       "            var script = document.createElement(\"script\");\n",
       "            script.src = \"https://colab.research.google.com/static/mathjax/MathJax.js?config=TeX-AMS_HTML-full,Safe\";\n",
       "            document.head.appendChild(script);\n",
       "        }\n",
       "    </script>\n",
       "    <script>\n",
       "        window.Mathjax.Hub.Config({\n",
       "            'tex2jax': {\n",
       "                'inlineMath': [['$', '$'], ['\\(', '\\)']],\n",
       "                'displayMath': [['$$', '$$'], ['\\[', '\\]']],\n",
       "                'processEscapes': true,\n",
       "                'processEnvironments': true,\n",
       "                'skipTags': ['script', 'noscript', 'style', 'textarea', 'code'],\n",
       "                'displayAlign': 'center',\n",
       "            },\n",
       "            'HTML-CSS': {\n",
       "                'styles': {'.MathJax_Display': {'margin': 0}},\n",
       "                'linebreaks': {'automatic': true},\n",
       "                // Disable to prevent OTF font loading, which aren't part of our\n",
       "                // distribution.\n",
       "                'imageFont': null,\n",
       "            },\n",
       "            'messageStyle': 'none'\n",
       "        });\n",
       "        window.Mathjax.Hub.Configured();\n",
       "    </script>\n",
       "    "
      ],
      "text/plain": [
       "<IPython.core.display.HTML object>"
      ]
     },
     "metadata": {},
     "output_type": "display_data"
    },
    {
     "data": {
      "image/png": "[encoded data removed]",
      "text/latex": [
       "$$\\left ( \\frac{\\sqrt{2} {\\left|10\\right\\rangle }}{2} + \\frac{\\sqrt{2} {\\left|11\\right\\rangle }}{2}, \\quad \\frac{1}{2}\\right )$$"
      ],
      "text/plain": [
       "⎛√2⋅❘10⟩   √2⋅❘11⟩     ⎞\n",
       "⎜─────── + ───────, 1/2⎟\n",
       "⎝   2         2        ⎠"
      ]
     },
     "execution_count": 29,
     "metadata": {},
     "output_type": "execute_result"
    }
   ],
   "source": [
    "measured_state_and_probability[1]"
   ]
  },
  {
   "cell_type": "markdown",
   "metadata": {},
   "source": [
    "---\n",
    "## コラム：ユニバーサルゲートセットとは\n",
    "\n",
    "古典計算機では、NANDゲート（論理積ANDの出力を反転したもの）さえあれば、これをいくつか組み合わせることで、任意の論理演算が実行できることが知られている。  \n",
    "それでは、量子計算における対応物、すなわち任意の量子計算を実行するために最低限必要な量子ゲートは何であろうか？  \n",
    "実は、本節で学んだ\n",
    "$$\\{H, T, {\\rm CNOT} \\}$$  \n",
    "\n",
    "の3種類のゲートがその役割を果たしている、いわゆる**ユニバーサルゲートセット**であることが知られている。  \n",
    "これらをうまく組み合わせることで、任意の量子計算を実行できる、すなわち「**万能量子計算**」が可能である。  \n",
    "\n",
    "### 【より詳しく知りたい人のための注】\n",
    "\n",
    "以下では$\\{H, T, {\\rm CNOT} \\}$の3種のゲートの組が如何にしてユニバーサルゲートセットを構成するかを、順を追って説明する。  \n",
    "流れとしては、一般の$n$量子ビットユニタリ演算からスタートし、これをより細かい部品にブレイクダウンしていくことで、最終的に上記3種のゲートに行き着くことを見る。\n",
    "\n",
    "#### ◆ $n$量子ビットユニタリ演算の分解\n",
    "まず、任意の$n$量子ビットユニタリ演算は、以下の手順を経て、いくつかの**1量子ビットユニタリ演算**と**CNOTゲート**に分解できる。  \n",
    "1. 任意の$n$量子ビットユニタリ演算は、いくつかの**2準位ユニタリ演算**の積に分解できる。ここで2準位ユニタリ演算とは、例として3量子ビットの場合、$2^3=8$次元空間のうち2つの基底(e.g., $\\{|000\\rangle, |111\\rangle \\}$)の張る2次元部分空間にのみ作用するユニタリ演算である\n",
    "2. 任意の2準位ユニタリ演算は、**制御$U$ゲート**（CNOTゲートのNOT部分を任意の1量子ビットユニタリ演算$U$に置き換えたもの）と**Toffoliゲート**（CNOTゲートの制御量子ビットが2つになったもの）から構成できる\n",
    "3. 制御$U$ゲートとToffoliゲートは、どちらも**1量子ビットユニタリ演算**と**CNOTゲート**から構成できる\n",
    "\n",
    "#### ◆ 1量子ビットユニタリ演算の構成\n",
    "さらに、任意の1量子ビットユニタリ演算は、$\\{H, T\\}$の2つで構成できる。\n",
    "1. 任意の1量子ビットユニタリ演算は、オイラーの回転角の法則から、回転ゲート$\\{R_X(\\theta), R_Z(\\theta)\\}$で（厳密に）実現可能である\n",
    "2. 実は、ブロッホ球上の任意の回転は、$\\{H, T\\}$のみを用いることで実現可能である(注1)。これはある軸に関する$\\pi$の無理数倍の回転が$\\{H, T\\}$のみから実現できること（**Solovay-Kitaevアルゴリズム**）に起因する\n",
    " \n",
    "(注1) ブロッホ球上の連続的な回転を、離散的な演算である$\\{H, T\\}$で実現できるか疑問に思われる読者もいるかもしれない。実際、厳密な意味で1量子ビットユニタリ演算を離散的なゲート操作で実現しようとすると、無限個のゲートが必要となる。しかし実際には厳密なユニタリ演算を実現する必要はなく、必要な計算精度$\\epsilon$で任意のユニタリ演算を近似できれば十分である。ここでは、多項式個の$\\{H, T\\}$を用いることで、任意の1量子ビットユニタリ演算を**十分良い精度で近似的に構成できる**ことが、**Solovay-Kitaevの定理**により保証されている。\n",
    "\n",
    "\n",
    "<br>\n",
    "  \n",
    "以上の議論により、3種のゲート$\\{H, T, {\\rm CNOT} \\}$があれば、任意の$n$量子ビットユニタリ演算が実現できることがわかる。\n",
    "\n",
    "ユニバーサルゲートセットや万能量子計算について、より詳しくは以下を参照されたい:  \n",
    "[1] Nielsen-Chuang の 4.5 Universal quantum gates   \n",
    "[2] 藤井 啓祐 「量子コンピュータの基礎と物理との接点」（第62回物性若手夏の学校　講義）DOI: 10.14989/229039 http://mercury.yukawa.kyoto-u.ac.jp/~bussei.kenkyu/archives/1274.html  "
   ]
  },
  {
   "cell_type": "markdown",
   "metadata": {},
   "source": [
    "---\n",
    "## 1-4. 回路図\n",
    "この章では、量子ビットと演算をどのように表現するかを学んできた。最後に量子操作を記述する量子回路図についてまとめておこう。論理回路や電気回路の図にも一定のルールや記号があるように、量子回路についてもある程度標準化されている記法が存在する。\n",
    "\n",
    "量子回路図は一般に以下のような形をしている。\n",
    "![図1-4_回路図](./figs/1-4_example.pdf)\n",
    "主な構成要素は\n",
    "- 量子ビット: 回路図の１つ１つの横線が、それぞれ１つの量子ビットに対応している。左端の$|0\\rangle$は、それぞれの量子ビットが$|0\\rangle$に初期化されていることを表す。\n",
    "- 量子ゲート：回路図にある箱や縦線が、量子ゲートを表す。一般に、$n$量子ビットゲートは作用する$n$個の量子ビット(横線)にまたがる箱で表される。それ以外に、特殊な書き方で表すゲートがいくつかあり、例えば制御NOTゲート、SWAPゲート、制御$U$演算 $ \\Lambda(U) = |0\\rangle \\langle 0| \\otimes I + |1\\rangle \\langle 1| \\otimes U$は以下のように表される。\n",
    "![図1-4_特殊回路](./figs/1-4_specialcircuit.pdf)\n",
    "- 測定：右端にあるメーターのような記号で、量子ビットに対する測定を行うことを表す。\n",
    "\n",
    "回路図の読み方において最も重要なのは、回路図は**左から右に読む**ということである。つまり、楽譜のように左から順に量子ゲートや測定操作を行うことで計算が進んでいく。よって冒頭の回路は、\n",
    "$$\n",
    " \\Lambda(X)_{1,2} H(1) |00>\n",
    "$$\n",
    "という状態を作った後、１番目の量子ビットを測定する操作を表す。\n",
    "\n",
    "(詳細はNielsen-Chuang冒頭`Nomenclature and notation`の`Frequently used quantum gates and circuit symbols`参照)"
   ]
  }
 ],
 "metadata": {
  "colab": {
   "name": "1_basics_of_quantum_information.ipynb",
   "provenance": [],
   "version": "0.3.2"
  },
  "kernelspec": {
   "display_name": "Python 3",
   "language": "python",
   "name": "python3"
  },
  "language_info": {
   "codemirror_mode": {
    "name": "ipython",
    "version": 3
   },
   "file_extension": ".py",
   "mimetype": "text/x-python",
   "name": "python",
   "nbconvert_exporter": "python",
   "pygments_lexer": "ipython3",
   "version": "3.7.0"
  },
  "varInspector": {
   "cols": {
    "lenName": 16,
    "lenType": 16,
    "lenVar": 40
   },
   "kernels_config": {
    "python": {
     "delete_cmd_postfix": "",
     "delete_cmd_prefix": "del ",
     "library": "var_list.py",
     "varRefreshCmd": "print(var_dic_list())"
    },
    "r": {
     "delete_cmd_postfix": ") ",
     "delete_cmd_prefix": "rm(",
     "library": "var_list.r",
     "varRefreshCmd": "cat(var_dic_list()) "
    }
   },
   "types_to_exclude": [
    "module",
    "function",
    "builtin_function_or_method",
    "instance",
    "_Feature"
   ],
   "window_display": false
  }
 },
 "nbformat": 4,
 "nbformat_minor": 2
}
