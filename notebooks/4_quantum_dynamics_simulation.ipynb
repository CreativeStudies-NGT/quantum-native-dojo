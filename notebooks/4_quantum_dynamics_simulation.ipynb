{
 "cells": [
  {
   "cell_type": "markdown",
   "metadata": {},
   "source": [
    "# 第４章 量子ダイナミクスシミュレーション\n",
    "\n",
    "本章ではNISQデバイスの重要な応用先の一つと考えられている、量子ダイナミクスシミュレーションについて学ぶ。まず4-1節で量子ダイナミクスを理解するのに最低限必要な知識を学び、4-2節で具体的な物理系のダイナミクスのシミュレーションをQulacsを用いて実装してみる。\n",
    "\n",
    "※この章は量子力学の背景知識を必要とする箇所が多いので、量子力学に馴染みのない読者は読み飛ばしてもよいし、READMEに挙げた量子論の参考文献やNielsen-Chuangの`2.2 The postulates of quantum mechanics`を参照するのもよい。"
   ]
  },
  {
   "cell_type": "markdown",
   "metadata": {
    "nbsphinx-toctree": {}
   },
   "source": [
    "- [4-1. シュレディンガー方程式とは、量子ダイナミクスとは](4.1_quantum_simulation.ipynb)\n",
    "- [4-2. トロッター分解を用いた量子シミュレーション](4.2_trotter_decomposition.ipynb)"
   ]
  }
 ],
 "metadata": {
  "celltoolbar": "Edit Metadata",
  "kernelspec": {
   "display_name": "Python 3",
   "language": "python",
   "name": "python3"
  },
  "language_info": {
   "codemirror_mode": {
    "name": "ipython",
    "version": 3
   },
   "file_extension": ".py",
   "mimetype": "text/x-python",
   "name": "python",
   "nbconvert_exporter": "python",
   "pygments_lexer": "ipython3",
   "version": "3.7.3"
  }
 },
 "nbformat": 4,
 "nbformat_minor": 2
}
